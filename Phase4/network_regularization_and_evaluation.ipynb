{
 "cells": [
  {
   "cell_type": "markdown",
   "metadata": {
    "slideshow": {
     "slide_type": "slide"
    }
   },
   "source": [
    "# Regularization and Evaluation of Neural Networks"
   ]
  },
  {
   "cell_type": "code",
   "execution_count": 1,
   "metadata": {},
   "outputs": [],
   "source": [
    "from sklearn.datasets import load_sample_images\n",
    "from sklearn.datasets import load_digits\n",
    "from sklearn.model_selection import train_test_split, cross_val_score\n",
    "from sklearn.preprocessing import OneHotEncoder\n",
    "from sklearn.metrics import accuracy_score, confusion_matrix\n",
    "import matplotlib.pyplot as plt\n",
    "import matplotlib.image as mpimg\n",
    "import numpy as np\n",
    "import seaborn as sns\n",
    "\n",
    "from tensorflow.keras.models import Sequential\n",
    "from tensorflow.keras.layers import Dense, Dropout\n",
    "from tensorflow.keras.regularizers import l2\n",
    "from tensorflow.keras.optimizers import SGD\n",
    "from tensorflow.keras.wrappers import scikit_learn\n",
    "from tensorflow.keras.callbacks import EarlyStopping\n",
    "\n",
    "import os\n",
    "import sys\n",
    "module_path = os.path.abspath(os.path.join(os.pardir, os.pardir))\n",
    "if module_path not in sys.path:\n",
    "    sys.path.append(module_path)\n",
    "    \n",
    "%load_ext autoreload\n",
    "%autoreload 2"
   ]
  },
  {
   "cell_type": "markdown",
   "metadata": {},
   "source": [
    "## Learning Objectives\n",
    "\n",
    "- use `keras` to code up a neural network model;\n",
    "- explain dropout and early stopping as distinctive forms of regularization in neural networks;\n",
    "- use wrappers inside `keras` to make models that can jibe with `sklearn`."
   ]
  },
  {
   "cell_type": "markdown",
   "metadata": {},
   "source": [
    "### From last time"
   ]
  },
  {
   "cell_type": "code",
   "execution_count": 2,
   "metadata": {},
   "outputs": [],
   "source": [
    "digits = load_digits()\n",
    "X = digits.data\n",
    "y = digits.target\n",
    "\n",
    "y_binary = y % 2"
   ]
  },
  {
   "cell_type": "code",
   "execution_count": 3,
   "metadata": {},
   "outputs": [
    {
     "name": "stderr",
     "output_type": "stream",
     "text": [
      "2022-07-28 12:02:35.672074: I tensorflow/core/platform/cpu_feature_guard.cc:145] This TensorFlow binary is optimized with Intel(R) MKL-DNN to use the following CPU instructions in performance critical operations:  SSE4.1 SSE4.2 AVX AVX2 FMA\n",
      "To enable them in non-MKL-DNN operations, rebuild TensorFlow with the appropriate compiler flags.\n",
      "2022-07-28 12:02:35.672339: I tensorflow/core/common_runtime/process_util.cc:115] Creating new thread pool with default inter op setting: 8. Tune using inter_op_parallelism_threads for best performance.\n"
     ]
    },
    {
     "name": "stdout",
     "output_type": "stream",
     "text": [
      "Train on 1797 samples\n",
      "Epoch 1/50\n",
      "1797/1797 [==============================] - 1s 669us/sample - loss: 0.7142 - accuracy: 0.6528\n",
      "Epoch 2/50\n",
      "1797/1797 [==============================] - 0s 174us/sample - loss: 0.3404 - accuracy: 0.8548\n",
      "Epoch 3/50\n",
      "1797/1797 [==============================] - 0s 163us/sample - loss: 0.2386 - accuracy: 0.9060\n",
      "Epoch 4/50\n",
      "1797/1797 [==============================] - 0s 163us/sample - loss: 0.1759 - accuracy: 0.9310\n",
      "Epoch 5/50\n",
      "1797/1797 [==============================] - 0s 165us/sample - loss: 0.1424 - accuracy: 0.9410\n",
      "Epoch 6/50\n",
      "1797/1797 [==============================] - 0s 173us/sample - loss: 0.1141 - accuracy: 0.9572\n",
      "Epoch 7/50\n",
      "1797/1797 [==============================] - 0s 169us/sample - loss: 0.1003 - accuracy: 0.9638\n",
      "Epoch 8/50\n",
      "1797/1797 [==============================] - 0s 170us/sample - loss: 0.0860 - accuracy: 0.9644\n",
      "Epoch 9/50\n",
      "1797/1797 [==============================] - 0s 166us/sample - loss: 0.0777 - accuracy: 0.9722\n",
      "Epoch 10/50\n",
      "1797/1797 [==============================] - 0s 167us/sample - loss: 0.0693 - accuracy: 0.9738\n",
      "Epoch 11/50\n",
      "1797/1797 [==============================] - 0s 175us/sample - loss: 0.0575 - accuracy: 0.9816\n",
      "Epoch 12/50\n",
      "1797/1797 [==============================] - 0s 183us/sample - loss: 0.0531 - accuracy: 0.9816\n",
      "Epoch 13/50\n",
      "1797/1797 [==============================] - 0s 185us/sample - loss: 0.0483 - accuracy: 0.9855\n",
      "Epoch 14/50\n",
      "1797/1797 [==============================] - 0s 168us/sample - loss: 0.0427 - accuracy: 0.9861\n",
      "Epoch 15/50\n",
      "1797/1797 [==============================] - 0s 168us/sample - loss: 0.0432 - accuracy: 0.9822\n",
      "Epoch 16/50\n",
      "1797/1797 [==============================] - 0s 171us/sample - loss: 0.0427 - accuracy: 0.9816\n",
      "Epoch 17/50\n",
      "1797/1797 [==============================] - 0s 169us/sample - loss: 0.0349 - accuracy: 0.9866\n",
      "Epoch 18/50\n",
      "1797/1797 [==============================] - 0s 168us/sample - loss: 0.0316 - accuracy: 0.9911\n",
      "Epoch 19/50\n",
      "1797/1797 [==============================] - 0s 163us/sample - loss: 0.0319 - accuracy: 0.9883\n",
      "Epoch 20/50\n",
      "1797/1797 [==============================] - 0s 162us/sample - loss: 0.0285 - accuracy: 0.9911\n",
      "Epoch 21/50\n",
      "1797/1797 [==============================] - 0s 170us/sample - loss: 0.0255 - accuracy: 0.9911\n",
      "Epoch 22/50\n",
      "1797/1797 [==============================] - 0s 169us/sample - loss: 0.0218 - accuracy: 0.9939\n",
      "Epoch 23/50\n",
      "1797/1797 [==============================] - 0s 163us/sample - loss: 0.0213 - accuracy: 0.9939\n",
      "Epoch 24/50\n",
      "1797/1797 [==============================] - 0s 165us/sample - loss: 0.0185 - accuracy: 0.9928\n",
      "Epoch 25/50\n",
      "1797/1797 [==============================] - 0s 176us/sample - loss: 0.0183 - accuracy: 0.9950\n",
      "Epoch 26/50\n",
      "1797/1797 [==============================] - 0s 186us/sample - loss: 0.0188 - accuracy: 0.9950\n",
      "Epoch 27/50\n",
      "1797/1797 [==============================] - 0s 179us/sample - loss: 0.0148 - accuracy: 0.9950\n",
      "Epoch 28/50\n",
      "1797/1797 [==============================] - 0s 172us/sample - loss: 0.0122 - accuracy: 0.9967\n",
      "Epoch 29/50\n",
      "1797/1797 [==============================] - 0s 168us/sample - loss: 0.0103 - accuracy: 0.9978\n",
      "Epoch 30/50\n",
      "1797/1797 [==============================] - 0s 178us/sample - loss: 0.0094 - accuracy: 0.9989\n",
      "Epoch 31/50\n",
      "1797/1797 [==============================] - 0s 184us/sample - loss: 0.0114 - accuracy: 0.9967\n",
      "Epoch 32/50\n",
      "1797/1797 [==============================] - 0s 179us/sample - loss: 0.0084 - accuracy: 0.9983\n",
      "Epoch 33/50\n",
      "1797/1797 [==============================] - 0s 182us/sample - loss: 0.0072 - accuracy: 0.9989\n",
      "Epoch 34/50\n",
      "1797/1797 [==============================] - 0s 188us/sample - loss: 0.0078 - accuracy: 0.9989\n",
      "Epoch 35/50\n",
      "1797/1797 [==============================] - 0s 187us/sample - loss: 0.0056 - accuracy: 0.9994\n",
      "Epoch 36/50\n",
      "1797/1797 [==============================] - 0s 221us/sample - loss: 0.0061 - accuracy: 0.9989\n",
      "Epoch 37/50\n",
      "1797/1797 [==============================] - 0s 204us/sample - loss: 0.0077 - accuracy: 0.9978\n",
      "Epoch 38/50\n",
      "1797/1797 [==============================] - 0s 192us/sample - loss: 0.0035 - accuracy: 1.0000\n",
      "Epoch 39/50\n",
      "1797/1797 [==============================] - 0s 203us/sample - loss: 0.0033 - accuracy: 1.0000\n",
      "Epoch 40/50\n",
      "1797/1797 [==============================] - 0s 185us/sample - loss: 0.0054 - accuracy: 0.9989\n",
      "Epoch 41/50\n",
      "1797/1797 [==============================] - 0s 180us/sample - loss: 0.0035 - accuracy: 1.0000\n",
      "Epoch 42/50\n",
      "1797/1797 [==============================] - 0s 177us/sample - loss: 0.0072 - accuracy: 0.9989\n",
      "Epoch 43/50\n",
      "1797/1797 [==============================] - 0s 181us/sample - loss: 0.0053 - accuracy: 0.9989\n",
      "Epoch 44/50\n",
      "1797/1797 [==============================] - 0s 172us/sample - loss: 0.0061 - accuracy: 0.9983\n",
      "Epoch 45/50\n",
      "1797/1797 [==============================] - 0s 169us/sample - loss: 0.0024 - accuracy: 1.0000\n",
      "Epoch 46/50\n",
      "1797/1797 [==============================] - 0s 176us/sample - loss: 0.0024 - accuracy: 1.0000\n",
      "Epoch 47/50\n",
      "1797/1797 [==============================] - 0s 171us/sample - loss: 0.0029 - accuracy: 1.0000\n",
      "Epoch 48/50\n",
      "1797/1797 [==============================] - 0s 176us/sample - loss: 0.0057 - accuracy: 0.9972\n",
      "Epoch 49/50\n",
      "1797/1797 [==============================] - 0s 174us/sample - loss: 0.0064 - accuracy: 0.9972\n",
      "Epoch 50/50\n",
      "1797/1797 [==============================] - 0s 173us/sample - loss: 0.0026 - accuracy: 0.9989\n"
     ]
    },
    {
     "data": {
      "text/plain": [
       "<tensorflow.python.keras.callbacks.History at 0x7fa31bae42d0>"
      ]
     },
     "execution_count": 3,
     "metadata": {},
     "output_type": "execute_result"
    }
   ],
   "source": [
    "model = Sequential()\n",
    "model.add(Dense(12, activation='relu', input_dim=64))\n",
    "model.add(Dense(8, activation='relu'))\n",
    "model.add(Dense(1, activation='sigmoid'))\n",
    "\n",
    "model.compile(optimizer='Adam',\n",
    "              loss='binary_crossentropy',\n",
    "              metrics=['accuracy'])\n",
    "\n",
    "model.fit(X, y_binary, epochs=50, batch_size=10)"
   ]
  },
  {
   "cell_type": "markdown",
   "metadata": {},
   "source": [
    "### Things to know:\n",
    "\n",
    "- The data and labels in `fit()` need to be numpy arrays, not `pandas` dfs.\n",
    "- Scaling your data will have a large impact on your model.\n",
    "   > For our traditional input features, we would use a scaler object. For images, as long as the minimum value is 0, we can simply divide through by the maximum pixel intensity."
   ]
  },
  {
   "cell_type": "markdown",
   "metadata": {},
   "source": [
    "#### Getting data ready for modeling\n",
    "**Preprocessing**:\n",
    "\n",
    "- use train_test_split to create X_train, y_train, X_test, and y_test\n",
    "- Split training data into pure_train and validation sets.\n",
    "- Scale the pixel intensity to a value between 0 and 1."
   ]
  },
  {
   "cell_type": "markdown",
   "metadata": {},
   "source": [
    "Scaling our input variables will help speed up our neural network.\n",
    "\n",
    "Since our minimum intensity is 0, we can normalize the inputs by dividing each value by the max value (16)."
   ]
  },
  {
   "cell_type": "code",
   "execution_count": 4,
   "metadata": {},
   "outputs": [],
   "source": [
    "X_train, X_test, y_train, y_test =\\\n",
    "    train_test_split(X, y_binary, random_state=42, test_size=0.2)\n",
    "\n",
    "X_pure_train, X_val, y_pure_train, y_val =\\\n",
    "    train_test_split(X_train, y_train, random_state=42, test_size=0.2)\n",
    "\n",
    "#Normalize our inputs\n",
    "X_pure_train, X_val, X_test = X_pure_train/16, X_val/16, X_test/16\n"
   ]
  },
  {
   "cell_type": "markdown",
   "metadata": {},
   "source": [
    "For activation, let's start with the familiar sigmoid function, and see how it performs."
   ]
  },
  {
   "cell_type": "code",
   "execution_count": 5,
   "metadata": {},
   "outputs": [
    {
     "name": "stdout",
     "output_type": "stream",
     "text": [
      "Train on 1149 samples\n",
      "Epoch 1/10\n",
      "1149/1149 [==============================] - 1s 558us/sample - loss: 1.1691 - accuracy: 0.4961\n",
      "Epoch 2/10\n",
      "1149/1149 [==============================] - 0s 30us/sample - loss: 1.0935 - accuracy: 0.4961\n",
      "Epoch 3/10\n",
      "1149/1149 [==============================] - 0s 31us/sample - loss: 1.0274 - accuracy: 0.4961\n",
      "Epoch 4/10\n",
      "1149/1149 [==============================] - 0s 31us/sample - loss: 0.9712 - accuracy: 0.4961\n",
      "Epoch 5/10\n",
      "1149/1149 [==============================] - 0s 34us/sample - loss: 0.9219 - accuracy: 0.4961\n",
      "Epoch 6/10\n",
      "1149/1149 [==============================] - 0s 33us/sample - loss: 0.8806 - accuracy: 0.4961\n",
      "Epoch 7/10\n",
      "1149/1149 [==============================] - 0s 38us/sample - loss: 0.8467 - accuracy: 0.4961\n",
      "Epoch 8/10\n",
      "1149/1149 [==============================] - 0s 32us/sample - loss: 0.8175 - accuracy: 0.4961\n",
      "Epoch 9/10\n",
      "1149/1149 [==============================] - 0s 29us/sample - loss: 0.7935 - accuracy: 0.4961\n",
      "Epoch 10/10\n",
      "1149/1149 [==============================] - 0s 28us/sample - loss: 0.7737 - accuracy: 0.4961\n"
     ]
    }
   ],
   "source": [
    "model = Sequential()\n",
    "# We will start with our trusty sigmoid function.\n",
    "# What does input dimension correspond to?\n",
    "model.add(Dense(12, activation='sigmoid', input_dim=64))\n",
    "model.add(Dense(8, activation='sigmoid'))\n",
    "model.add(Dense(1, activation='sigmoid'))\n",
    "\n",
    "model.compile(optimizer='SGD' ,\n",
    "              # We use binary_crossentropy for a binary loss function\n",
    "              loss='binary_crossentropy',\n",
    "              metrics=['accuracy'])\n",
    "\n",
    "# Assign the variable history to store the results,\n",
    "# and set verbose=1 so we can see the output. To see\n",
    "# only the metrics at the end of each epoch, set verbose=2.\n",
    "results = model.fit(X_pure_train, y_pure_train, epochs=10, batch_size=100, verbose=1)"
   ]
  },
  {
   "cell_type": "markdown",
   "metadata": {},
   "source": [
    "We can access the history of our model via `results.history`.\n",
    "Use __dict__ to take a tour."
   ]
  },
  {
   "cell_type": "code",
   "execution_count": 6,
   "metadata": {},
   "outputs": [
    {
     "data": {
      "text/plain": [
       "{'validation_data': None,\n",
       " 'model': <tensorflow.python.keras.engine.sequential.Sequential at 0x7fa31c404050>,\n",
       " '_chief_worker_only': None,\n",
       " 'params': {'batch_size': 100,\n",
       "  'epochs': 10,\n",
       "  'steps': 12,\n",
       "  'samples': 1149,\n",
       "  'verbose': 1,\n",
       "  'do_validation': False,\n",
       "  'metrics': ['loss', 'accuracy']},\n",
       " 'epoch': [0, 1, 2, 3, 4, 5, 6, 7, 8, 9],\n",
       " 'history': {'loss': [1.169056909306346,\n",
       "   1.093505835304891,\n",
       "   1.0274013182305584,\n",
       "   0.9712272747585937,\n",
       "   0.9219060972838738,\n",
       "   0.8806454666393336,\n",
       "   0.8466788191604449,\n",
       "   0.8174565648181839,\n",
       "   0.7935156211633076,\n",
       "   0.7737239501702464],\n",
       "  'accuracy': [0.49608356,\n",
       "   0.49608356,\n",
       "   0.49608356,\n",
       "   0.49608356,\n",
       "   0.49608356,\n",
       "   0.49608356,\n",
       "   0.49608356,\n",
       "   0.49608356,\n",
       "   0.49608356,\n",
       "   0.49608356]}}"
      ]
     },
     "execution_count": 6,
     "metadata": {},
     "output_type": "execute_result"
    }
   ],
   "source": [
    "results.__dict__"
   ]
  },
  {
   "cell_type": "code",
   "execution_count": 12,
   "metadata": {},
   "outputs": [
    {
     "name": "stderr",
     "output_type": "stream",
     "text": [
      "/Users/zacharypollatsek/opt/anaconda3/envs/tensor_lecture/lib/python3.7/site-packages/seaborn/_decorators.py:43: FutureWarning: Pass the following variables as keyword args: x, y. From version 0.12, the only valid positional argument will be `data`, and passing other arguments without an explicit keyword will result in an error or misinterpretation.\n",
      "  FutureWarning\n",
      "/Users/zacharypollatsek/opt/anaconda3/envs/tensor_lecture/lib/python3.7/site-packages/seaborn/_decorators.py:43: FutureWarning: Pass the following variables as keyword args: x, y. From version 0.12, the only valid positional argument will be `data`, and passing other arguments without an explicit keyword will result in an error or misinterpretation.\n",
      "  FutureWarning\n"
     ]
    },
    {
     "data": {
      "text/plain": [
       "<AxesSubplot:>"
      ]
     },
     "execution_count": 12,
     "metadata": {},
     "output_type": "execute_result"
    },
    {
     "data": {
      "image/png": "[encoded data removed]",
      "text/plain": [
       "<Figure size 720x360 with 2 Axes>"
      ]
     },
     "metadata": {
      "needs_background": "light"
     },
     "output_type": "display_data"
    }
   ],
   "source": [
    "#Let's plot our loss and accuracy on two graphs\n",
    "sigmoid_loss = results.history['loss']\n",
    "sigmoid_accuracy = results.history['accuracy']\n",
    "\n",
    "fig, (ax1, ax2) = plt.subplots(1, 2, figsize=(10, 5))\n",
    "sns.lineplot(results.epoch, sigmoid_loss, ax=ax1, label='Loss')\n",
    "sns.lineplot(results.epoch, sigmoid_accuracy, ax=ax2, label='Accuracy')\n"
   ]
  },
  {
   "cell_type": "markdown",
   "metadata": {},
   "source": [
    "We have two plots above both relating to the quality of our model.  The left-hand plot is our loss. It uses the probabilities associated with our predictions to judge how well our prediction fits reality. We want it to decrease as far as possible.\n",
    "\n",
    "The accuracy judges how well the predictions are after applying the threshold at the output layer.  We want accuracy to increase."
   ]
  },
  {
   "cell_type": "markdown",
   "metadata": {},
   "source": [
    "If we look at our loss, it is still decreasing. That is a signal that our model is **still learning**. If our model is still learning, we can allow it to get better by turning a few dials.\n",
    "\n",
    "Let's:\n",
    "- increase the number of epochs;\n",
    "- change sigmoid activation in the hidden layers to ReLU; and\n",
    "- decrease the batch size."
   ]
  },
  {
   "cell_type": "code",
   "execution_count": 13,
   "metadata": {},
   "outputs": [
    {
     "data": {
      "text/plain": [
       "1149"
      ]
     },
     "execution_count": 13,
     "metadata": {},
     "output_type": "execute_result"
    }
   ],
   "source": [
    "X_pure_train.shape[0]"
   ]
  },
  {
   "cell_type": "markdown",
   "metadata": {},
   "source": [
    "This below code is currently what we already ran above.\n",
    "\n",
    "How can we change it to accomplish the above bullet points?"
   ]
  },
  {
   "cell_type": "code",
   "execution_count": 14,
   "metadata": {},
   "outputs": [
    {
     "name": "stdout",
     "output_type": "stream",
     "text": [
      "Train on 1149 samples\n",
      "Epoch 1/100\n",
      "1149/1149 [==============================] - 1s 542us/sample - loss: 0.6769 - accuracy: 0.5413\n",
      "Epoch 2/100\n",
      "1149/1149 [==============================] - 0s 66us/sample - loss: 0.6514 - accuracy: 0.6771\n",
      "Epoch 3/100\n",
      "1149/1149 [==============================] - 0s 69us/sample - loss: 0.6337 - accuracy: 0.7215\n",
      "Epoch 4/100\n",
      "1149/1149 [==============================] - 0s 57us/sample - loss: 0.6157 - accuracy: 0.7502\n",
      "Epoch 5/100\n",
      "1149/1149 [==============================] - 0s 62us/sample - loss: 0.5958 - accuracy: 0.7763\n",
      "Epoch 6/100\n",
      "1149/1149 [==============================] - 0s 52us/sample - loss: 0.5734 - accuracy: 0.7998\n",
      "Epoch 7/100\n",
      "1149/1149 [==============================] - 0s 57us/sample - loss: 0.5485 - accuracy: 0.8094\n",
      "Epoch 8/100\n",
      "1149/1149 [==============================] - 0s 59us/sample - loss: 0.5227 - accuracy: 0.8312\n",
      "Epoch 9/100\n",
      "1149/1149 [==============================] - 0s 51us/sample - loss: 0.4968 - accuracy: 0.8399\n",
      "Epoch 10/100\n",
      "1149/1149 [==============================] - 0s 51us/sample - loss: 0.4709 - accuracy: 0.8468\n",
      "Epoch 11/100\n",
      "1149/1149 [==============================] - 0s 60us/sample - loss: 0.4468 - accuracy: 0.8512\n",
      "Epoch 12/100\n",
      "1149/1149 [==============================] - 0s 61us/sample - loss: 0.4228 - accuracy: 0.8590\n",
      "Epoch 13/100\n",
      "1149/1149 [==============================] - 0s 67us/sample - loss: 0.4015 - accuracy: 0.8668\n",
      "Epoch 14/100\n",
      "1149/1149 [==============================] - 0s 56us/sample - loss: 0.3825 - accuracy: 0.8747\n",
      "Epoch 15/100\n",
      "1149/1149 [==============================] - 0s 54us/sample - loss: 0.3656 - accuracy: 0.8721\n",
      "Epoch 16/100\n",
      "1149/1149 [==============================] - 0s 57us/sample - loss: 0.3504 - accuracy: 0.8773\n",
      "Epoch 17/100\n",
      "1149/1149 [==============================] - 0s 59us/sample - loss: 0.3367 - accuracy: 0.8816\n",
      "Epoch 18/100\n",
      "1149/1149 [==============================] - 0s 61us/sample - loss: 0.3242 - accuracy: 0.8869\n",
      "Epoch 19/100\n",
      "1149/1149 [==============================] - 0s 58us/sample - loss: 0.3129 - accuracy: 0.8860\n",
      "Epoch 20/100\n",
      "1149/1149 [==============================] - 0s 58us/sample - loss: 0.3042 - accuracy: 0.8930\n",
      "Epoch 21/100\n",
      "1149/1149 [==============================] - 0s 56us/sample - loss: 0.2940 - accuracy: 0.8947\n",
      "Epoch 22/100\n",
      "1149/1149 [==============================] - 0s 58us/sample - loss: 0.2868 - accuracy: 0.8990\n",
      "Epoch 23/100\n",
      "1149/1149 [==============================] - 0s 66us/sample - loss: 0.2798 - accuracy: 0.9008\n",
      "Epoch 24/100\n",
      "1149/1149 [==============================] - 0s 55us/sample - loss: 0.2729 - accuracy: 0.9051\n",
      "Epoch 25/100\n",
      "1149/1149 [==============================] - 0s 61us/sample - loss: 0.2672 - accuracy: 0.9034\n",
      "Epoch 26/100\n",
      "1149/1149 [==============================] - 0s 73us/sample - loss: 0.2617 - accuracy: 0.9095\n",
      "Epoch 27/100\n",
      "1149/1149 [==============================] - 0s 75us/sample - loss: 0.2565 - accuracy: 0.9077\n",
      "Epoch 28/100\n",
      "1149/1149 [==============================] - 0s 75us/sample - loss: 0.2522 - accuracy: 0.9086\n",
      "Epoch 29/100\n",
      "1149/1149 [==============================] - 0s 66us/sample - loss: 0.2478 - accuracy: 0.9086\n",
      "Epoch 30/100\n",
      "1149/1149 [==============================] - 0s 54us/sample - loss: 0.2434 - accuracy: 0.9112\n",
      "Epoch 31/100\n",
      "1149/1149 [==============================] - 0s 61us/sample - loss: 0.2392 - accuracy: 0.9095\n",
      "Epoch 32/100\n",
      "1149/1149 [==============================] - 0s 59us/sample - loss: 0.2369 - accuracy: 0.9069\n",
      "Epoch 33/100\n",
      "1149/1149 [==============================] - 0s 59us/sample - loss: 0.2321 - accuracy: 0.9121\n",
      "Epoch 34/100\n",
      "1149/1149 [==============================] - 0s 58us/sample - loss: 0.2296 - accuracy: 0.9112\n",
      "Epoch 35/100\n",
      "1149/1149 [==============================] - 0s 58us/sample - loss: 0.2271 - accuracy: 0.9095\n",
      "Epoch 36/100\n",
      "1149/1149 [==============================] - 0s 66us/sample - loss: 0.2248 - accuracy: 0.9121\n",
      "Epoch 37/100\n",
      "1149/1149 [==============================] - 0s 77us/sample - loss: 0.2214 - accuracy: 0.9121\n",
      "Epoch 38/100\n",
      "1149/1149 [==============================] - 0s 68us/sample - loss: 0.2192 - accuracy: 0.9173\n",
      "Epoch 39/100\n",
      "1149/1149 [==============================] - 0s 56us/sample - loss: 0.2165 - accuracy: 0.9191\n",
      "Epoch 40/100\n",
      "1149/1149 [==============================] - 0s 56us/sample - loss: 0.2139 - accuracy: 0.9156\n",
      "Epoch 41/100\n",
      "1149/1149 [==============================] - 0s 52us/sample - loss: 0.2128 - accuracy: 0.9173\n",
      "Epoch 42/100\n",
      "1149/1149 [==============================] - 0s 57us/sample - loss: 0.2097 - accuracy: 0.9173\n",
      "Epoch 43/100\n",
      "1149/1149 [==============================] - 0s 58us/sample - loss: 0.2054 - accuracy: 0.9225\n",
      "Epoch 44/100\n",
      "1149/1149 [==============================] - 0s 55us/sample - loss: 0.2064 - accuracy: 0.9191\n",
      "Epoch 45/100\n",
      "1149/1149 [==============================] - 0s 56us/sample - loss: 0.2037 - accuracy: 0.9182\n",
      "Epoch 46/100\n",
      "1149/1149 [==============================] - 0s 55us/sample - loss: 0.2006 - accuracy: 0.9182\n",
      "Epoch 47/100\n",
      "1149/1149 [==============================] - 0s 62us/sample - loss: 0.1996 - accuracy: 0.9182\n",
      "Epoch 48/100\n",
      "1149/1149 [==============================] - 0s 61us/sample - loss: 0.1978 - accuracy: 0.9208\n",
      "Epoch 49/100\n",
      "1149/1149 [==============================] - 0s 72us/sample - loss: 0.1957 - accuracy: 0.9225\n",
      "Epoch 50/100\n",
      "1149/1149 [==============================] - 0s 69us/sample - loss: 0.1929 - accuracy: 0.9191\n",
      "Epoch 51/100\n",
      "1149/1149 [==============================] - 0s 64us/sample - loss: 0.1907 - accuracy: 0.9191\n",
      "Epoch 52/100\n",
      "1149/1149 [==============================] - 0s 51us/sample - loss: 0.1915 - accuracy: 0.9208\n",
      "Epoch 53/100\n",
      "1149/1149 [==============================] - 0s 52us/sample - loss: 0.1880 - accuracy: 0.9243\n",
      "Epoch 54/100\n",
      "1149/1149 [==============================] - 0s 57us/sample - loss: 0.1872 - accuracy: 0.9208\n",
      "Epoch 55/100\n",
      "1149/1149 [==============================] - 0s 60us/sample - loss: 0.1861 - accuracy: 0.9225\n",
      "Epoch 56/100\n",
      "1149/1149 [==============================] - 0s 56us/sample - loss: 0.1833 - accuracy: 0.9252\n",
      "Epoch 57/100\n",
      "1149/1149 [==============================] - 0s 59us/sample - loss: 0.1825 - accuracy: 0.9217\n",
      "Epoch 58/100\n",
      "1149/1149 [==============================] - 0s 57us/sample - loss: 0.1803 - accuracy: 0.9252\n",
      "Epoch 59/100\n",
      "1149/1149 [==============================] - 0s 59us/sample - loss: 0.1802 - accuracy: 0.9225\n",
      "Epoch 60/100\n",
      "1149/1149 [==============================] - 0s 56us/sample - loss: 0.1774 - accuracy: 0.9252\n",
      "Epoch 61/100\n",
      "1149/1149 [==============================] - 0s 58us/sample - loss: 0.1744 - accuracy: 0.9252\n",
      "Epoch 62/100\n",
      "1149/1149 [==============================] - 0s 69us/sample - loss: 0.1764 - accuracy: 0.9278\n",
      "Epoch 63/100\n",
      "1149/1149 [==============================] - 0s 71us/sample - loss: 0.1731 - accuracy: 0.9252\n",
      "Epoch 64/100\n",
      "1149/1149 [==============================] - 0s 71us/sample - loss: 0.1717 - accuracy: 0.9225\n",
      "Epoch 65/100\n",
      "1149/1149 [==============================] - 0s 70us/sample - loss: 0.1707 - accuracy: 0.9260\n",
      "Epoch 66/100\n",
      "1149/1149 [==============================] - 0s 67us/sample - loss: 0.1692 - accuracy: 0.9295\n",
      "Epoch 67/100\n",
      "1149/1149 [==============================] - 0s 51us/sample - loss: 0.1684 - accuracy: 0.9321\n",
      "Epoch 68/100\n",
      "1149/1149 [==============================] - 0s 51us/sample - loss: 0.1668 - accuracy: 0.9269\n",
      "Epoch 69/100\n",
      "1149/1149 [==============================] - 0s 53us/sample - loss: 0.1661 - accuracy: 0.9295\n",
      "Epoch 70/100\n",
      "1149/1149 [==============================] - 0s 65us/sample - loss: 0.1643 - accuracy: 0.9304\n",
      "Epoch 71/100\n",
      "1149/1149 [==============================] - 0s 71us/sample - loss: 0.1633 - accuracy: 0.9312\n",
      "Epoch 72/100\n",
      "1149/1149 [==============================] - 0s 61us/sample - loss: 0.1624 - accuracy: 0.9321\n",
      "Epoch 73/100\n",
      "1149/1149 [==============================] - 0s 54us/sample - loss: 0.1613 - accuracy: 0.9304\n",
      "Epoch 74/100\n",
      "1149/1149 [==============================] - 0s 60us/sample - loss: 0.1591 - accuracy: 0.9304\n",
      "Epoch 75/100\n",
      "1149/1149 [==============================] - 0s 59us/sample - loss: 0.1582 - accuracy: 0.9356\n",
      "Epoch 76/100\n",
      "1149/1149 [==============================] - 0s 56us/sample - loss: 0.1569 - accuracy: 0.9321\n",
      "Epoch 77/100\n"
     ]
    },
    {
     "name": "stdout",
     "output_type": "stream",
     "text": [
      "1149/1149 [==============================] - 0s 55us/sample - loss: 0.1571 - accuracy: 0.9321\n",
      "Epoch 78/100\n",
      "1149/1149 [==============================] - 0s 59us/sample - loss: 0.1538 - accuracy: 0.9339\n",
      "Epoch 79/100\n",
      "1149/1149 [==============================] - 0s 61us/sample - loss: 0.1541 - accuracy: 0.9339\n",
      "Epoch 80/100\n",
      "1149/1149 [==============================] - 0s 55us/sample - loss: 0.1522 - accuracy: 0.9347\n",
      "Epoch 81/100\n",
      "1149/1149 [==============================] - 0s 54us/sample - loss: 0.1502 - accuracy: 0.9356\n",
      "Epoch 82/100\n",
      "1149/1149 [==============================] - 0s 63us/sample - loss: 0.1517 - accuracy: 0.9330\n",
      "Epoch 83/100\n",
      "1149/1149 [==============================] - 0s 67us/sample - loss: 0.1500 - accuracy: 0.9356\n",
      "Epoch 84/100\n",
      "1149/1149 [==============================] - 0s 55us/sample - loss: 0.1497 - accuracy: 0.9356\n",
      "Epoch 85/100\n",
      "1149/1149 [==============================] - 0s 62us/sample - loss: 0.1474 - accuracy: 0.9356\n",
      "Epoch 86/100\n",
      "1149/1149 [==============================] - 0s 65us/sample - loss: 0.1460 - accuracy: 0.9365\n",
      "Epoch 87/100\n",
      "1149/1149 [==============================] - 0s 57us/sample - loss: 0.1449 - accuracy: 0.9391\n",
      "Epoch 88/100\n",
      "1149/1149 [==============================] - 0s 59us/sample - loss: 0.1446 - accuracy: 0.9356\n",
      "Epoch 89/100\n",
      "1149/1149 [==============================] - 0s 60us/sample - loss: 0.1438 - accuracy: 0.9391\n",
      "Epoch 90/100\n",
      "1149/1149 [==============================] - 0s 59us/sample - loss: 0.1419 - accuracy: 0.9373\n",
      "Epoch 91/100\n",
      "1149/1149 [==============================] - 0s 55us/sample - loss: 0.1408 - accuracy: 0.9399\n",
      "Epoch 92/100\n",
      "1149/1149 [==============================] - 0s 57us/sample - loss: 0.1398 - accuracy: 0.9373\n",
      "Epoch 93/100\n",
      "1149/1149 [==============================] - 0s 56us/sample - loss: 0.1391 - accuracy: 0.9391\n",
      "Epoch 94/100\n",
      "1149/1149 [==============================] - 0s 55us/sample - loss: 0.1381 - accuracy: 0.9382\n",
      "Epoch 95/100\n",
      "1149/1149 [==============================] - 0s 55us/sample - loss: 0.1367 - accuracy: 0.9434\n",
      "Epoch 96/100\n",
      "1149/1149 [==============================] - 0s 54us/sample - loss: 0.1363 - accuracy: 0.9399\n",
      "Epoch 97/100\n",
      "1149/1149 [==============================] - 0s 55us/sample - loss: 0.1352 - accuracy: 0.9434\n",
      "Epoch 98/100\n",
      "1149/1149 [==============================] - 0s 55us/sample - loss: 0.1341 - accuracy: 0.9417\n",
      "Epoch 99/100\n",
      "1149/1149 [==============================] - 0s 55us/sample - loss: 0.1297 - accuracy: 0.9460\n",
      "Epoch 100/100\n",
      "1149/1149 [==============================] - 0s 55us/sample - loss: 0.1337 - accuracy: 0.9417\n"
     ]
    }
   ],
   "source": [
    "#Modify the code below\n",
    "\n",
    "model = Sequential()\n",
    "# We will start with our trusty sigmoid function.\n",
    "# What does input dimension correspond to?\n",
    "model.add(Dense(12, activation='relu', input_dim=64))\n",
    "model.add(Dense(8, activation='relu'))\n",
    "model.add(Dense(1, activation='sigmoid'))\n",
    "\n",
    "model.compile(optimizer='SGD' ,\n",
    "              # We use binary_crossentropy for a binary loss function\n",
    "              loss='binary_crossentropy',\n",
    "              metrics=['accuracy'])\n",
    "\n",
    "# Assign the variable history to store the results,\n",
    "# and set verbose=1 so we can see the output. To see\n",
    "# only the metrics at the end of each epoch, set verbose=2.\n",
    "results = model.fit(X_pure_train, y_pure_train, epochs=100, batch_size=32, verbose=1)"
   ]
  },
  {
   "cell_type": "code",
   "execution_count": 15,
   "metadata": {},
   "outputs": [
    {
     "data": {
      "image/png": "[encoded data removed]",
      "text/plain": [
       "<Figure size 720x360 with 2 Axes>"
      ]
     },
     "metadata": {
      "needs_background": "light"
     },
     "output_type": "display_data"
    }
   ],
   "source": [
    "sigmoid_loss = results.history['loss']\n",
    "sigmoid_accuracy = results.history['accuracy']\n",
    "\n",
    "fig, (ax1, ax2) = plt.subplots(1, 2, figsize=(10, 5))\n",
    "sns.lineplot(x=results.epoch, y=sigmoid_loss, ax=ax1, label='loss')\n",
    "sns.lineplot(x=results.epoch, y=sigmoid_accuracy, ax=ax2, label='accuracy');"
   ]
  },
  {
   "cell_type": "markdown",
   "metadata": {},
   "source": [
    "If we increase the learning rate to a very high number, we see that our model overshoots the minimum, and starts bouncing all around."
   ]
  },
  {
   "cell_type": "code",
   "execution_count": 16,
   "metadata": {},
   "outputs": [
    {
     "name": "stdout",
     "output_type": "stream",
     "text": [
      "Train on 1149 samples\n",
      "Epoch 1/30\n",
      "1149/1149 [==============================] - 1s 640us/sample - loss: 35.9239 - accuracy: 0.4856\n",
      "Epoch 2/30\n",
      "1149/1149 [==============================] - 0s 169us/sample - loss: 1.0326 - accuracy: 0.5065\n",
      "Epoch 3/30\n",
      "1149/1149 [==============================] - 0s 155us/sample - loss: 0.9372 - accuracy: 0.5126\n",
      "Epoch 4/30\n",
      "1149/1149 [==============================] - 0s 154us/sample - loss: 1.0592 - accuracy: 0.4830\n",
      "Epoch 5/30\n",
      "1149/1149 [==============================] - 0s 176us/sample - loss: 0.9414 - accuracy: 0.5178\n",
      "Epoch 6/30\n",
      "1149/1149 [==============================] - 0s 190us/sample - loss: 0.9541 - accuracy: 0.5265\n",
      "Epoch 7/30\n",
      "1149/1149 [==============================] - 0s 178us/sample - loss: 1.0897 - accuracy: 0.4822\n",
      "Epoch 8/30\n",
      "1149/1149 [==============================] - 0s 158us/sample - loss: 1.1075 - accuracy: 0.4900\n",
      "Epoch 9/30\n",
      "1149/1149 [==============================] - 0s 166us/sample - loss: 0.9985 - accuracy: 0.5013\n",
      "Epoch 10/30\n",
      "1149/1149 [==============================] - 0s 167us/sample - loss: 0.9499 - accuracy: 0.5170\n",
      "Epoch 11/30\n",
      "1149/1149 [==============================] - 0s 170us/sample - loss: 1.0812 - accuracy: 0.4726\n",
      "Epoch 12/30\n",
      "1149/1149 [==============================] - 0s 169us/sample - loss: 0.9652 - accuracy: 0.5065\n",
      "Epoch 13/30\n",
      "1149/1149 [==============================] - 0s 158us/sample - loss: 0.9737 - accuracy: 0.5030\n",
      "Epoch 14/30\n",
      "1149/1149 [==============================] - 0s 163us/sample - loss: 1.0188 - accuracy: 0.4961\n",
      "Epoch 15/30\n",
      "1149/1149 [==============================] - 0s 165us/sample - loss: 0.9580 - accuracy: 0.4978\n",
      "Epoch 16/30\n",
      "1149/1149 [==============================] - 0s 172us/sample - loss: 1.0057 - accuracy: 0.4935\n",
      "Epoch 17/30\n",
      "1149/1149 [==============================] - 0s 169us/sample - loss: 0.9908 - accuracy: 0.4856\n",
      "Epoch 18/30\n",
      "1149/1149 [==============================] - 0s 188us/sample - loss: 0.9850 - accuracy: 0.5091\n",
      "Epoch 19/30\n",
      "1149/1149 [==============================] - 0s 157us/sample - loss: 0.9933 - accuracy: 0.5109\n",
      "Epoch 20/30\n",
      "1149/1149 [==============================] - 0s 174us/sample - loss: 0.9223 - accuracy: 0.5039\n",
      "Epoch 21/30\n",
      "1149/1149 [==============================] - 0s 174us/sample - loss: 0.9489 - accuracy: 0.5144\n",
      "Epoch 22/30\n",
      "1149/1149 [==============================] - 0s 168us/sample - loss: 0.9350 - accuracy: 0.5248\n",
      "Epoch 23/30\n",
      "1149/1149 [==============================] - 0s 166us/sample - loss: 0.9672 - accuracy: 0.5109\n",
      "Epoch 24/30\n",
      "1149/1149 [==============================] - 0s 183us/sample - loss: 0.9952 - accuracy: 0.5030\n",
      "Epoch 25/30\n",
      "1149/1149 [==============================] - 0s 178us/sample - loss: 0.9700 - accuracy: 0.5057\n",
      "Epoch 26/30\n",
      "1149/1149 [==============================] - 0s 164us/sample - loss: 1.0057 - accuracy: 0.5091\n",
      "Epoch 27/30\n",
      "1149/1149 [==============================] - 0s 168us/sample - loss: 1.0128 - accuracy: 0.4865\n",
      "Epoch 28/30\n",
      "1149/1149 [==============================] - 0s 167us/sample - loss: 0.9340 - accuracy: 0.5100\n",
      "Epoch 29/30\n",
      "1149/1149 [==============================] - 0s 165us/sample - loss: 1.0256 - accuracy: 0.4917\n",
      "Epoch 30/30\n",
      "1149/1149 [==============================] - 0s 162us/sample - loss: 1.0292 - accuracy: 0.4900\n"
     ]
    },
    {
     "data": {
      "image/png": "[encoded data removed]",
      "text/plain": [
       "<Figure size 720x360 with 2 Axes>"
      ]
     },
     "metadata": {
      "needs_background": "light"
     },
     "output_type": "display_data"
    }
   ],
   "source": [
    "#Modify the code below\n",
    "\n",
    "model = Sequential()\n",
    "\n",
    "sgd = SGD(lr=9) #Stochastic Gradient Descent optimizer. \n",
    "#its default learning rate is 0.01\n",
    "model.add(Dense(12, activation='relu', input_dim=64))\n",
    "model.add(Dense(8, activation='relu'))\n",
    "model.add(Dense(1, activation='sigmoid'))\n",
    "\n",
    "model.compile(optimizer=sgd, \n",
    "              loss='binary_crossentropy',\n",
    "              metrics=['accuracy'])\n",
    "\n",
    "results = model.fit(X_pure_train, y_pure_train,\n",
    "                    epochs=30, batch_size=10, verbose=1)\n",
    "\n",
    "relu_loss = results.history['loss']\n",
    "relu_accuracy = results.history['accuracy']\n",
    "\n",
    "fig, (ax1, ax2) = plt.subplots(1, 2, figsize=(10, 5))\n",
    "sns.lineplot(x=results.epoch, y=relu_loss, ax=ax1, label='loss')\n",
    "sns.lineplot(x=results.epoch, y=relu_accuracy, ax=ax2, label='accuracy');"
   ]
  },
  {
   "cell_type": "markdown",
   "metadata": {},
   "source": [
    "### Exercise\n",
    "\n",
    "We have been looking only at our training set. Let's add in our validation set to the picture. Check the docstring for the `.fit()` method and add in our validation data."
   ]
  },
  {
   "cell_type": "code",
   "execution_count": 23,
   "metadata": {},
   "outputs": [
    {
     "name": "stdout",
     "output_type": "stream",
     "text": [
      "Train on 1149 samples, validate on 288 samples\n",
      "Epoch 1/100\n",
      "1149/1149 [==============================] - 1s 879us/sample - loss: 0.6818 - accuracy: 0.5622 - val_loss: 0.6611 - val_accuracy: 0.6042\n",
      "Epoch 2/100\n",
      "1149/1149 [==============================] - 0s 108us/sample - loss: 0.6125 - accuracy: 0.7276 - val_loss: 0.5819 - val_accuracy: 0.7500\n",
      "Epoch 3/100\n",
      "1149/1149 [==============================] - 0s 105us/sample - loss: 0.5096 - accuracy: 0.8164 - val_loss: 0.4618 - val_accuracy: 0.8229\n",
      "Epoch 4/100\n",
      "1149/1149 [==============================] - 0s 103us/sample - loss: 0.3951 - accuracy: 0.8451 - val_loss: 0.3707 - val_accuracy: 0.8472\n",
      "Epoch 5/100\n",
      "1149/1149 [==============================] - 0s 104us/sample - loss: 0.3158 - accuracy: 0.8808 - val_loss: 0.3161 - val_accuracy: 0.8646\n",
      "Epoch 6/100\n",
      "1149/1149 [==============================] - 0s 109us/sample - loss: 0.2707 - accuracy: 0.9077 - val_loss: 0.2823 - val_accuracy: 0.8889\n",
      "Epoch 7/100\n",
      "1149/1149 [==============================] - 0s 112us/sample - loss: 0.2424 - accuracy: 0.9121 - val_loss: 0.2464 - val_accuracy: 0.8993\n",
      "Epoch 8/100\n",
      "1149/1149 [==============================] - 0s 109us/sample - loss: 0.2163 - accuracy: 0.9156 - val_loss: 0.2251 - val_accuracy: 0.9097\n",
      "Epoch 9/100\n",
      "1149/1149 [==============================] - 0s 123us/sample - loss: 0.1936 - accuracy: 0.9269 - val_loss: 0.2037 - val_accuracy: 0.9201\n",
      "Epoch 10/100\n",
      "1149/1149 [==============================] - 0s 109us/sample - loss: 0.1802 - accuracy: 0.9260 - val_loss: 0.2174 - val_accuracy: 0.9167\n",
      "Epoch 11/100\n",
      "1149/1149 [==============================] - 0s 105us/sample - loss: 0.1713 - accuracy: 0.9260 - val_loss: 0.1768 - val_accuracy: 0.9340\n",
      "Epoch 12/100\n",
      "1149/1149 [==============================] - 0s 108us/sample - loss: 0.1581 - accuracy: 0.9365 - val_loss: 0.1686 - val_accuracy: 0.9410\n",
      "Epoch 13/100\n",
      "1149/1149 [==============================] - 0s 113us/sample - loss: 0.1420 - accuracy: 0.9426 - val_loss: 0.1573 - val_accuracy: 0.9444\n",
      "Epoch 14/100\n",
      "1149/1149 [==============================] - 0s 114us/sample - loss: 0.1387 - accuracy: 0.9443 - val_loss: 0.1488 - val_accuracy: 0.9479\n",
      "Epoch 15/100\n",
      "1149/1149 [==============================] - 0s 116us/sample - loss: 0.1335 - accuracy: 0.9513 - val_loss: 0.1533 - val_accuracy: 0.9479\n",
      "Epoch 16/100\n",
      "1149/1149 [==============================] - 0s 112us/sample - loss: 0.1202 - accuracy: 0.9495 - val_loss: 0.1534 - val_accuracy: 0.9444\n",
      "Epoch 17/100\n",
      "1149/1149 [==============================] - 0s 112us/sample - loss: 0.1149 - accuracy: 0.9556 - val_loss: 0.1371 - val_accuracy: 0.9479\n",
      "Epoch 18/100\n",
      "1149/1149 [==============================] - 0s 106us/sample - loss: 0.1097 - accuracy: 0.9574 - val_loss: 0.1370 - val_accuracy: 0.9444\n",
      "Epoch 19/100\n",
      "1149/1149 [==============================] - 0s 112us/sample - loss: 0.1031 - accuracy: 0.9617 - val_loss: 0.1193 - val_accuracy: 0.9618\n",
      "Epoch 20/100\n",
      "1149/1149 [==============================] - 0s 107us/sample - loss: 0.0975 - accuracy: 0.9669 - val_loss: 0.1173 - val_accuracy: 0.9583\n",
      "Epoch 21/100\n",
      "1149/1149 [==============================] - 0s 106us/sample - loss: 0.0937 - accuracy: 0.9704 - val_loss: 0.1112 - val_accuracy: 0.9618\n",
      "Epoch 22/100\n",
      "1149/1149 [==============================] - 0s 108us/sample - loss: 0.0934 - accuracy: 0.9626 - val_loss: 0.1081 - val_accuracy: 0.9653\n",
      "Epoch 23/100\n",
      "1149/1149 [==============================] - 0s 110us/sample - loss: 0.0880 - accuracy: 0.9713 - val_loss: 0.1065 - val_accuracy: 0.9583\n",
      "Epoch 24/100\n",
      "1149/1149 [==============================] - 0s 108us/sample - loss: 0.0810 - accuracy: 0.9730 - val_loss: 0.1060 - val_accuracy: 0.9618\n",
      "Epoch 25/100\n",
      "1149/1149 [==============================] - 0s 106us/sample - loss: 0.0765 - accuracy: 0.9704 - val_loss: 0.1072 - val_accuracy: 0.9653\n",
      "Epoch 26/100\n",
      "1149/1149 [==============================] - 0s 105us/sample - loss: 0.0740 - accuracy: 0.9765 - val_loss: 0.1049 - val_accuracy: 0.9653\n",
      "Epoch 27/100\n",
      "1149/1149 [==============================] - 0s 109us/sample - loss: 0.0698 - accuracy: 0.9800 - val_loss: 0.0972 - val_accuracy: 0.9618\n",
      "Epoch 28/100\n",
      "1149/1149 [==============================] - 0s 115us/sample - loss: 0.0682 - accuracy: 0.9782 - val_loss: 0.0946 - val_accuracy: 0.9653\n",
      "Epoch 29/100\n",
      "1149/1149 [==============================] - 0s 101us/sample - loss: 0.0649 - accuracy: 0.9782 - val_loss: 0.1007 - val_accuracy: 0.9653\n",
      "Epoch 30/100\n",
      "1149/1149 [==============================] - 0s 102us/sample - loss: 0.0646 - accuracy: 0.9791 - val_loss: 0.1027 - val_accuracy: 0.9653\n",
      "Epoch 31/100\n",
      "1149/1149 [==============================] - 0s 103us/sample - loss: 0.0605 - accuracy: 0.9791 - val_loss: 0.1036 - val_accuracy: 0.9618\n",
      "Epoch 32/100\n",
      "1149/1149 [==============================] - 0s 105us/sample - loss: 0.0561 - accuracy: 0.9800 - val_loss: 0.0877 - val_accuracy: 0.9688\n",
      "Epoch 33/100\n",
      "1149/1149 [==============================] - 0s 103us/sample - loss: 0.0549 - accuracy: 0.9835 - val_loss: 0.0817 - val_accuracy: 0.9653\n",
      "Epoch 34/100\n",
      "1149/1149 [==============================] - 0s 106us/sample - loss: 0.0554 - accuracy: 0.9835 - val_loss: 0.0846 - val_accuracy: 0.9653\n",
      "Epoch 35/100\n",
      "1149/1149 [==============================] - 0s 100us/sample - loss: 0.0508 - accuracy: 0.9843 - val_loss: 0.0819 - val_accuracy: 0.9653\n",
      "Epoch 36/100\n",
      "1149/1149 [==============================] - 0s 105us/sample - loss: 0.0474 - accuracy: 0.9852 - val_loss: 0.0867 - val_accuracy: 0.9653\n",
      "Epoch 37/100\n",
      "1149/1149 [==============================] - 0s 110us/sample - loss: 0.0476 - accuracy: 0.9861 - val_loss: 0.0762 - val_accuracy: 0.9688\n",
      "Epoch 38/100\n",
      "1149/1149 [==============================] - 0s 105us/sample - loss: 0.0449 - accuracy: 0.9852 - val_loss: 0.0903 - val_accuracy: 0.9653\n",
      "Epoch 39/100\n",
      "1149/1149 [==============================] - 0s 114us/sample - loss: 0.0448 - accuracy: 0.9852 - val_loss: 0.0917 - val_accuracy: 0.9618\n",
      "Epoch 40/100\n",
      "1149/1149 [==============================] - 0s 110us/sample - loss: 0.0414 - accuracy: 0.9869 - val_loss: 0.0972 - val_accuracy: 0.9688\n",
      "Epoch 41/100\n",
      "1149/1149 [==============================] - 0s 103us/sample - loss: 0.0426 - accuracy: 0.9887 - val_loss: 0.0777 - val_accuracy: 0.9653\n",
      "Epoch 42/100\n",
      "1149/1149 [==============================] - 0s 108us/sample - loss: 0.0378 - accuracy: 0.9878 - val_loss: 0.0963 - val_accuracy: 0.9688\n",
      "Epoch 43/100\n",
      "1149/1149 [==============================] - 0s 119us/sample - loss: 0.0400 - accuracy: 0.9852 - val_loss: 0.0751 - val_accuracy: 0.9688\n",
      "Epoch 44/100\n",
      "1149/1149 [==============================] - 0s 101us/sample - loss: 0.0385 - accuracy: 0.9852 - val_loss: 0.0777 - val_accuracy: 0.9653\n",
      "Epoch 45/100\n",
      "1149/1149 [==============================] - 0s 102us/sample - loss: 0.0342 - accuracy: 0.9878 - val_loss: 0.0743 - val_accuracy: 0.9653\n",
      "Epoch 46/100\n",
      "1149/1149 [==============================] - 0s 106us/sample - loss: 0.0347 - accuracy: 0.9896 - val_loss: 0.0848 - val_accuracy: 0.9688\n",
      "Epoch 47/100\n",
      "1149/1149 [==============================] - 0s 105us/sample - loss: 0.0343 - accuracy: 0.9869 - val_loss: 0.0875 - val_accuracy: 0.9722\n",
      "Epoch 48/100\n",
      "1149/1149 [==============================] - 0s 103us/sample - loss: 0.0318 - accuracy: 0.9896 - val_loss: 0.0693 - val_accuracy: 0.9722\n",
      "Epoch 49/100\n",
      "1149/1149 [==============================] - 0s 99us/sample - loss: 0.0310 - accuracy: 0.9878 - val_loss: 0.0699 - val_accuracy: 0.9688\n",
      "Epoch 50/100\n",
      "1149/1149 [==============================] - 0s 102us/sample - loss: 0.0307 - accuracy: 0.9913 - val_loss: 0.0680 - val_accuracy: 0.9688\n",
      "Epoch 51/100\n",
      "1149/1149 [==============================] - 0s 109us/sample - loss: 0.0293 - accuracy: 0.9887 - val_loss: 0.0826 - val_accuracy: 0.9688\n",
      "Epoch 52/100\n",
      "1149/1149 [==============================] - 0s 100us/sample - loss: 0.0289 - accuracy: 0.9904 - val_loss: 0.0962 - val_accuracy: 0.9688\n",
      "Epoch 53/100\n",
      "1149/1149 [==============================] - 0s 118us/sample - loss: 0.0281 - accuracy: 0.9904 - val_loss: 0.0746 - val_accuracy: 0.9722\n",
      "Epoch 54/100\n",
      "1149/1149 [==============================] - 0s 103us/sample - loss: 0.0241 - accuracy: 0.9922 - val_loss: 0.0757 - val_accuracy: 0.9722\n",
      "Epoch 55/100\n"
     ]
    },
    {
     "name": "stdout",
     "output_type": "stream",
     "text": [
      "1149/1149 [==============================] - 0s 112us/sample - loss: 0.0234 - accuracy: 0.9930 - val_loss: 0.0741 - val_accuracy: 0.9722\n",
      "Epoch 56/100\n",
      "1149/1149 [==============================] - 0s 105us/sample - loss: 0.0206 - accuracy: 0.9948 - val_loss: 0.0815 - val_accuracy: 0.9722\n",
      "Epoch 57/100\n",
      "1149/1149 [==============================] - 0s 107us/sample - loss: 0.0201 - accuracy: 0.9948 - val_loss: 0.0691 - val_accuracy: 0.9722\n",
      "Epoch 58/100\n",
      "1149/1149 [==============================] - 0s 108us/sample - loss: 0.0197 - accuracy: 0.9930 - val_loss: 0.0747 - val_accuracy: 0.9722\n",
      "Epoch 59/100\n",
      "1149/1149 [==============================] - 0s 106us/sample - loss: 0.0182 - accuracy: 0.9956 - val_loss: 0.0718 - val_accuracy: 0.9722\n",
      "Epoch 60/100\n",
      "1149/1149 [==============================] - 0s 103us/sample - loss: 0.0172 - accuracy: 0.9974 - val_loss: 0.0678 - val_accuracy: 0.9722\n",
      "Epoch 61/100\n",
      "1149/1149 [==============================] - 0s 107us/sample - loss: 0.0166 - accuracy: 0.9983 - val_loss: 0.0756 - val_accuracy: 0.9722\n",
      "Epoch 62/100\n",
      "1149/1149 [==============================] - 0s 110us/sample - loss: 0.0174 - accuracy: 0.9965 - val_loss: 0.0792 - val_accuracy: 0.9757\n",
      "Epoch 63/100\n",
      "1149/1149 [==============================] - 0s 120us/sample - loss: 0.0146 - accuracy: 0.9965 - val_loss: 0.0663 - val_accuracy: 0.9722\n",
      "Epoch 64/100\n",
      "1149/1149 [==============================] - 0s 111us/sample - loss: 0.0147 - accuracy: 0.9991 - val_loss: 0.0665 - val_accuracy: 0.9688\n",
      "Epoch 65/100\n",
      "1149/1149 [==============================] - 0s 113us/sample - loss: 0.0149 - accuracy: 0.9991 - val_loss: 0.0701 - val_accuracy: 0.9722\n",
      "Epoch 66/100\n",
      "1149/1149 [==============================] - 0s 108us/sample - loss: 0.0134 - accuracy: 0.9991 - val_loss: 0.0853 - val_accuracy: 0.9757\n",
      "Epoch 67/100\n",
      "1149/1149 [==============================] - 0s 110us/sample - loss: 0.0126 - accuracy: 0.9983 - val_loss: 0.0800 - val_accuracy: 0.9722\n",
      "Epoch 68/100\n",
      "1149/1149 [==============================] - 0s 114us/sample - loss: 0.0122 - accuracy: 1.0000 - val_loss: 0.0791 - val_accuracy: 0.9722\n",
      "Epoch 69/100\n",
      "1149/1149 [==============================] - 0s 109us/sample - loss: 0.0119 - accuracy: 0.9991 - val_loss: 0.0803 - val_accuracy: 0.9757\n",
      "Epoch 70/100\n",
      "1149/1149 [==============================] - 0s 113us/sample - loss: 0.0122 - accuracy: 1.0000 - val_loss: 0.0769 - val_accuracy: 0.9722\n",
      "Epoch 71/100\n",
      "1149/1149 [==============================] - 0s 109us/sample - loss: 0.0117 - accuracy: 0.9991 - val_loss: 0.0773 - val_accuracy: 0.9757\n",
      "Epoch 72/100\n",
      "1149/1149 [==============================] - 0s 122us/sample - loss: 0.0106 - accuracy: 0.9991 - val_loss: 0.0814 - val_accuracy: 0.9757\n",
      "Epoch 73/100\n",
      "1149/1149 [==============================] - 0s 123us/sample - loss: 0.0098 - accuracy: 1.0000 - val_loss: 0.0824 - val_accuracy: 0.9722\n",
      "Epoch 74/100\n",
      "1149/1149 [==============================] - 0s 125us/sample - loss: 0.0101 - accuracy: 1.0000 - val_loss: 0.0773 - val_accuracy: 0.9722\n",
      "Epoch 75/100\n",
      "1149/1149 [==============================] - 0s 117us/sample - loss: 0.0086 - accuracy: 1.0000 - val_loss: 0.0869 - val_accuracy: 0.9757\n",
      "Epoch 76/100\n",
      "1149/1149 [==============================] - 0s 108us/sample - loss: 0.0098 - accuracy: 0.9991 - val_loss: 0.0766 - val_accuracy: 0.9757\n",
      "Epoch 77/100\n",
      "1149/1149 [==============================] - 0s 115us/sample - loss: 0.0079 - accuracy: 1.0000 - val_loss: 0.0783 - val_accuracy: 0.9722\n",
      "Epoch 78/100\n",
      "1149/1149 [==============================] - 0s 113us/sample - loss: 0.0076 - accuracy: 1.0000 - val_loss: 0.0751 - val_accuracy: 0.9722\n",
      "Epoch 79/100\n",
      "1149/1149 [==============================] - 0s 116us/sample - loss: 0.0074 - accuracy: 1.0000 - val_loss: 0.0800 - val_accuracy: 0.9757\n",
      "Epoch 80/100\n",
      "1149/1149 [==============================] - 0s 111us/sample - loss: 0.0071 - accuracy: 1.0000 - val_loss: 0.0855 - val_accuracy: 0.9757\n",
      "Epoch 81/100\n",
      "1149/1149 [==============================] - 0s 116us/sample - loss: 0.0070 - accuracy: 1.0000 - val_loss: 0.0806 - val_accuracy: 0.9757\n",
      "Epoch 82/100\n",
      "1149/1149 [==============================] - 0s 112us/sample - loss: 0.0064 - accuracy: 1.0000 - val_loss: 0.0815 - val_accuracy: 0.9757\n",
      "Epoch 83/100\n",
      "1149/1149 [==============================] - 0s 112us/sample - loss: 0.0063 - accuracy: 1.0000 - val_loss: 0.0766 - val_accuracy: 0.9722\n",
      "Epoch 84/100\n",
      "1149/1149 [==============================] - 0s 116us/sample - loss: 0.0061 - accuracy: 1.0000 - val_loss: 0.0832 - val_accuracy: 0.9722\n",
      "Epoch 85/100\n",
      "1149/1149 [==============================] - 0s 118us/sample - loss: 0.0058 - accuracy: 1.0000 - val_loss: 0.0850 - val_accuracy: 0.9757\n",
      "Epoch 86/100\n",
      "1149/1149 [==============================] - 0s 113us/sample - loss: 0.0055 - accuracy: 1.0000 - val_loss: 0.0778 - val_accuracy: 0.9688\n",
      "Epoch 87/100\n",
      "1149/1149 [==============================] - 0s 106us/sample - loss: 0.0052 - accuracy: 1.0000 - val_loss: 0.0806 - val_accuracy: 0.9757\n",
      "Epoch 88/100\n",
      "1149/1149 [==============================] - 0s 114us/sample - loss: 0.0051 - accuracy: 1.0000 - val_loss: 0.0878 - val_accuracy: 0.9757\n",
      "Epoch 89/100\n",
      "1149/1149 [==============================] - 0s 118us/sample - loss: 0.0045 - accuracy: 1.0000 - val_loss: 0.0940 - val_accuracy: 0.9757\n",
      "Epoch 90/100\n",
      "1149/1149 [==============================] - 0s 112us/sample - loss: 0.0045 - accuracy: 1.0000 - val_loss: 0.0863 - val_accuracy: 0.9757\n",
      "Epoch 91/100\n",
      "1149/1149 [==============================] - 0s 110us/sample - loss: 0.0043 - accuracy: 1.0000 - val_loss: 0.0874 - val_accuracy: 0.9757\n",
      "Epoch 92/100\n",
      "1149/1149 [==============================] - 0s 106us/sample - loss: 0.0049 - accuracy: 1.0000 - val_loss: 0.0814 - val_accuracy: 0.9722\n",
      "Epoch 93/100\n",
      "1149/1149 [==============================] - 0s 125us/sample - loss: 0.0042 - accuracy: 1.0000 - val_loss: 0.0808 - val_accuracy: 0.9757\n",
      "Epoch 94/100\n",
      "1149/1149 [==============================] - 0s 108us/sample - loss: 0.0036 - accuracy: 1.0000 - val_loss: 0.0925 - val_accuracy: 0.9757\n",
      "Epoch 95/100\n",
      "1149/1149 [==============================] - 0s 103us/sample - loss: 0.0035 - accuracy: 1.0000 - val_loss: 0.0949 - val_accuracy: 0.9757\n",
      "Epoch 96/100\n",
      "1149/1149 [==============================] - 0s 111us/sample - loss: 0.0034 - accuracy: 1.0000 - val_loss: 0.0920 - val_accuracy: 0.9757\n",
      "Epoch 97/100\n",
      "1149/1149 [==============================] - 0s 105us/sample - loss: 0.0032 - accuracy: 1.0000 - val_loss: 0.0937 - val_accuracy: 0.9757\n",
      "Epoch 98/100\n",
      "1149/1149 [==============================] - 0s 106us/sample - loss: 0.0031 - accuracy: 1.0000 - val_loss: 0.0971 - val_accuracy: 0.9757\n",
      "Epoch 99/100\n",
      "1149/1149 [==============================] - 0s 100us/sample - loss: 0.0029 - accuracy: 1.0000 - val_loss: 0.0909 - val_accuracy: 0.9757\n",
      "Epoch 100/100\n",
      "1149/1149 [==============================] - 0s 102us/sample - loss: 0.0028 - accuracy: 1.0000 - val_loss: 0.1043 - val_accuracy: 0.9757\n"
     ]
    },
    {
     "data": {
      "text/plain": [
       "<AxesSubplot:>"
      ]
     },
     "execution_count": 23,
     "metadata": {},
     "output_type": "execute_result"
    },
    {
     "data": {
      "image/png": "[encoded data removed]",
      "text/plain": [
       "<Figure size 720x360 with 2 Axes>"
      ]
     },
     "metadata": {
      "needs_background": "light"
     },
     "output_type": "display_data"
    }
   ],
   "source": [
    "model = Sequential()\n",
    "model.add(Dense(12, activation='relu', input_dim=64))\n",
    "model.add(Dense(8, activation='relu'))\n",
    "model.add(Dense(4, activation='relu'))\n",
    "model.add(Dense(1, activation='sigmoid'))\n",
    "\n",
    "model.compile(optimizer='adam',\n",
    "              loss='binary_crossentropy',\n",
    "              metrics=['accuracy'])\n",
    "\n",
    "## Insert your code here for our new fit call\n",
    "results = model.fit(X_pure_train, y_pure_train,\n",
    "                    epochs=100, batch_size=32, verbose=1,\n",
    "                    validation_data=(X_val, y_val))\n",
    "\n",
    "train_loss = results.history['loss']\n",
    "train_acc = results.history['accuracy']\n",
    "#Insert code here to see the validation results\n",
    "val_loss = results.history['val_loss']\n",
    "val_acc = results.history['val_accuracy']\n",
    "\n",
    "\n",
    "fig, (ax1, ax2) = plt.subplots(1, 2, figsize=(10, 5))\n",
    "sns.lineplot(x=results.epoch, y=train_loss, ax=ax1, label='train_loss')\n",
    "sns.lineplot(x=results.epoch, y=train_acc, ax=ax2, label='train_accuracy')\n",
    "\n",
    "#Insert code here to plot the validation results\n",
    "sns.lineplot(x=results.epoch, y=val_loss, ax=ax1, label='val_loss')\n",
    "sns.lineplot(x=results.epoch, y=val_acc, ax=ax2, label='val_accuracy')\n",
    "\n"
   ]
  },
  {
   "cell_type": "markdown",
   "metadata": {},
   "source": [
    "<details>\n",
    "    <summary>One answer here</summary>\n",
    "<code>model = Sequential()\n",
    "model.add(Dense(12, activation='relu', input_dim=64))\n",
    "model.add(Dense(8, activation='relu'))\n",
    "model.add(Dense(4, activation='relu'))\n",
    "model.add(Dense(1, activation='sigmoid'))\n",
    "model.compile(optimizer='adam',\n",
    "              loss='binary_crossentropy',\n",
    "              metrics=['accuracy'])\n",
    "results = model.fit(X_pure_train, y_pure_train,\n",
    "                   validation_data=(X_val, y_val),\n",
    "                   epochs=30, batch_size=10)\n",
    "train_loss = results.history['loss']\n",
    "train_acc = results.history['accuracy']\n",
    "val_loss = results.history['val_loss']\n",
    "val_acc = results.history['val_accuracy']\n",
    "fig, (ax1, ax2) = plt.subplots(1, 2, figsize=(10, 5))\n",
    "sns.lineplot(x=results.epoch, y=train_loss, ax=ax1, label='train_loss')\n",
    "sns.lineplot(x=results.epoch, y=train_acc, ax=ax2, label='train_accuracy')\n",
    "sns.lineplot(x=results.epoch, y=val_loss, ax=ax1, label='val_loss')\n",
    "sns.lineplot(x=results.epoch, y=val_acc, ax=ax2, label='val_accuracy');</code>\n",
    "</details>"
   ]
  },
  {
   "cell_type": "code",
   "execution_count": 24,
   "metadata": {},
   "outputs": [
    {
     "data": {
      "text/plain": [
       "0.9756944"
      ]
     },
     "execution_count": 24,
     "metadata": {},
     "output_type": "execute_result"
    }
   ],
   "source": [
    "results.history['val_accuracy'][-1]"
   ]
  },
  {
   "cell_type": "markdown",
   "metadata": {},
   "source": [
    "## Connecting with `sklearn`\n",
    "\n",
    "The `keras.wrappers` submodule means that we can turn `keras` models into estimators that `sklearn` tools will recognize."
   ]
  },
  {
   "cell_type": "code",
   "execution_count": 22,
   "metadata": {},
   "outputs": [
    {
     "ename": "TypeError",
     "evalue": "If no scoring is specified, the estimator passed should have a 'score' method. The estimator <tensorflow.python.keras.engine.sequential.Sequential object at 0x7fa32781f810> does not.",
     "output_type": "error",
     "traceback": [
      "\u001b[0;31m---------------------------------------------------------------------------\u001b[0m",
      "\u001b[0;31mTypeError\u001b[0m                                 Traceback (most recent call last)",
      "\u001b[0;32m/var/folders/53/3881tjz11mj9y83j1fbk80xr0000gn/T/ipykernel_12697/1197616762.py\u001b[0m in \u001b[0;36m<module>\u001b[0;34m\u001b[0m\n\u001b[1;32m      1\u001b[0m \u001b[0;31m# This will throw an error.\u001b[0m\u001b[0;34m\u001b[0m\u001b[0;34m\u001b[0m\u001b[0;34m\u001b[0m\u001b[0m\n\u001b[1;32m      2\u001b[0m \u001b[0;34m\u001b[0m\u001b[0m\n\u001b[0;32m----> 3\u001b[0;31m \u001b[0mcross_val_score\u001b[0m\u001b[0;34m(\u001b[0m\u001b[0mmodel\u001b[0m\u001b[0;34m,\u001b[0m \u001b[0mX_pure_train\u001b[0m\u001b[0;34m,\u001b[0m \u001b[0my_pure_train\u001b[0m\u001b[0;34m)\u001b[0m\u001b[0;34m\u001b[0m\u001b[0;34m\u001b[0m\u001b[0m\n\u001b[0m",
      "\u001b[0;32m~/opt/anaconda3/envs/tensor_lecture/lib/python3.7/site-packages/sklearn/model_selection/_validation.py\u001b[0m in \u001b[0;36mcross_val_score\u001b[0;34m(estimator, X, y, groups, scoring, cv, n_jobs, verbose, fit_params, pre_dispatch, error_score)\u001b[0m\n\u001b[1;32m    505\u001b[0m     \"\"\"\n\u001b[1;32m    506\u001b[0m     \u001b[0;31m# To ensure multimetric format is not supported\u001b[0m\u001b[0;34m\u001b[0m\u001b[0;34m\u001b[0m\u001b[0;34m\u001b[0m\u001b[0m\n\u001b[0;32m--> 507\u001b[0;31m     \u001b[0mscorer\u001b[0m \u001b[0;34m=\u001b[0m \u001b[0mcheck_scoring\u001b[0m\u001b[0;34m(\u001b[0m\u001b[0mestimator\u001b[0m\u001b[0;34m,\u001b[0m \u001b[0mscoring\u001b[0m\u001b[0;34m=\u001b[0m\u001b[0mscoring\u001b[0m\u001b[0;34m)\u001b[0m\u001b[0;34m\u001b[0m\u001b[0;34m\u001b[0m\u001b[0m\n\u001b[0m\u001b[1;32m    508\u001b[0m \u001b[0;34m\u001b[0m\u001b[0m\n\u001b[1;32m    509\u001b[0m     cv_results = cross_validate(\n",
      "\u001b[0;32m~/opt/anaconda3/envs/tensor_lecture/lib/python3.7/site-packages/sklearn/metrics/_scorer.py\u001b[0m in \u001b[0;36mcheck_scoring\u001b[0;34m(estimator, scoring, allow_none)\u001b[0m\n\u001b[1;32m    477\u001b[0m             raise TypeError(\n\u001b[1;32m    478\u001b[0m                 \u001b[0;34m\"If no scoring is specified, the estimator passed should \"\u001b[0m\u001b[0;34m\u001b[0m\u001b[0;34m\u001b[0m\u001b[0m\n\u001b[0;32m--> 479\u001b[0;31m                 \u001b[0;34m\"have a 'score' method. The estimator %r does not.\"\u001b[0m \u001b[0;34m%\u001b[0m \u001b[0mestimator\u001b[0m\u001b[0;34m\u001b[0m\u001b[0;34m\u001b[0m\u001b[0m\n\u001b[0m\u001b[1;32m    480\u001b[0m             )\n\u001b[1;32m    481\u001b[0m     \u001b[0;32melif\u001b[0m \u001b[0misinstance\u001b[0m\u001b[0;34m(\u001b[0m\u001b[0mscoring\u001b[0m\u001b[0;34m,\u001b[0m \u001b[0mIterable\u001b[0m\u001b[0;34m)\u001b[0m\u001b[0;34m:\u001b[0m\u001b[0;34m\u001b[0m\u001b[0;34m\u001b[0m\u001b[0m\n",
      "\u001b[0;31mTypeError\u001b[0m: If no scoring is specified, the estimator passed should have a 'score' method. The estimator <tensorflow.python.keras.engine.sequential.Sequential object at 0x7fa32781f810> does not."
     ]
    }
   ],
   "source": [
    "# This will throw an error.\n",
    "\n",
    "cross_val_score(model, X_pure_train, y_pure_train)"
   ]
  },
  {
   "cell_type": "code",
   "execution_count": 28,
   "metadata": {},
   "outputs": [],
   "source": [
    "#Set up our build function\n",
    "def build_model():\n",
    "    model=Sequential()\n",
    "    model.add(Dense(12, activation='relu', input_dim=64))\n",
    "    model.add(Dense(8, activation='relu'))\n",
    "    model.add(Dense(4, activation='relu'))\n",
    "    model.add(Dense(1, activation='sigmoid'))\n",
    "    \n",
    "    model.compile(optimizer='adam', \n",
    "                  loss='binary_crossentropy',\n",
    "                  metrics=['accuracy'])\n",
    "    \n",
    "    return model"
   ]
  },
  {
   "cell_type": "code",
   "execution_count": 29,
   "metadata": {},
   "outputs": [],
   "source": [
    "#Set up an estimator our sklearn tools can recognize\n",
    "keras_model = scikit_learn.KerasClassifier(build_model, epochs=30, batch_size=32, verbose=2)\n"
   ]
  },
  {
   "cell_type": "code",
   "execution_count": 30,
   "metadata": {},
   "outputs": [
    {
     "data": {
      "text/plain": [
       "tensorflow.python.keras.wrappers.scikit_learn.KerasClassifier"
      ]
     },
     "execution_count": 30,
     "metadata": {},
     "output_type": "execute_result"
    }
   ],
   "source": [
    "type(keras_model)"
   ]
  },
  {
   "cell_type": "code",
   "execution_count": 31,
   "metadata": {},
   "outputs": [
    {
     "name": "stdout",
     "output_type": "stream",
     "text": [
      "Train on 919 samples\n",
      "Epoch 1/30\n",
      "919/919 - 1s - loss: 0.6668 - accuracy: 0.5930\n",
      "Epoch 2/30\n",
      "919/919 - 0s - loss: 0.6016 - accuracy: 0.7758\n",
      "Epoch 3/30\n",
      "919/919 - 0s - loss: 0.5150 - accuracy: 0.8074\n",
      "Epoch 4/30\n",
      "919/919 - 0s - loss: 0.4102 - accuracy: 0.8487\n",
      "Epoch 5/30\n",
      "919/919 - 0s - loss: 0.3264 - accuracy: 0.8945\n",
      "Epoch 6/30\n",
      "919/919 - 0s - loss: 0.2760 - accuracy: 0.9021\n",
      "Epoch 7/30\n",
      "919/919 - 0s - loss: 0.2378 - accuracy: 0.9129\n",
      "Epoch 8/30\n",
      "919/919 - 0s - loss: 0.2130 - accuracy: 0.9184\n",
      "Epoch 9/30\n",
      "919/919 - 0s - loss: 0.1961 - accuracy: 0.9238\n",
      "Epoch 10/30\n",
      "919/919 - 0s - loss: 0.1792 - accuracy: 0.9314\n",
      "Epoch 11/30\n",
      "919/919 - 0s - loss: 0.1681 - accuracy: 0.9347\n",
      "Epoch 12/30\n",
      "919/919 - 0s - loss: 0.1556 - accuracy: 0.9391\n",
      "Epoch 13/30\n",
      "919/919 - 0s - loss: 0.1471 - accuracy: 0.9391\n",
      "Epoch 14/30\n",
      "919/919 - 0s - loss: 0.1412 - accuracy: 0.9391\n",
      "Epoch 15/30\n",
      "919/919 - 0s - loss: 0.1320 - accuracy: 0.9467\n",
      "Epoch 16/30\n",
      "919/919 - 0s - loss: 0.1263 - accuracy: 0.9456\n",
      "Epoch 17/30\n",
      "919/919 - 0s - loss: 0.1200 - accuracy: 0.9478\n",
      "Epoch 18/30\n",
      "919/919 - 0s - loss: 0.1138 - accuracy: 0.9565\n",
      "Epoch 19/30\n",
      "919/919 - 0s - loss: 0.1078 - accuracy: 0.9554\n",
      "Epoch 20/30\n",
      "919/919 - 0s - loss: 0.1015 - accuracy: 0.9597\n",
      "Epoch 21/30\n",
      "919/919 - 0s - loss: 0.0996 - accuracy: 0.9597\n",
      "Epoch 22/30\n",
      "919/919 - 0s - loss: 0.0926 - accuracy: 0.9663\n",
      "Epoch 23/30\n",
      "919/919 - 0s - loss: 0.0916 - accuracy: 0.9619\n",
      "Epoch 24/30\n",
      "919/919 - 0s - loss: 0.0855 - accuracy: 0.9706\n",
      "Epoch 25/30\n",
      "919/919 - 0s - loss: 0.0825 - accuracy: 0.9684\n",
      "Epoch 26/30\n",
      "919/919 - 0s - loss: 0.0759 - accuracy: 0.9750\n",
      "Epoch 27/30\n",
      "919/919 - 0s - loss: 0.0738 - accuracy: 0.9717\n",
      "Epoch 28/30\n",
      "919/919 - 0s - loss: 0.0674 - accuracy: 0.9771\n",
      "Epoch 29/30\n",
      "919/919 - 0s - loss: 0.0627 - accuracy: 0.9782\n",
      "Epoch 30/30\n",
      "919/919 - 0s - loss: 0.0616 - accuracy: 0.9826\n",
      "230/1 - 0s - loss: 0.0570 - accuracy: 0.9652\n",
      "Train on 919 samples\n",
      "Epoch 1/30\n",
      "919/919 - 1s - loss: 0.6801 - accuracy: 0.5354\n",
      "Epoch 2/30\n",
      "919/919 - 0s - loss: 0.6360 - accuracy: 0.6649\n",
      "Epoch 3/30\n",
      "919/919 - 0s - loss: 0.5849 - accuracy: 0.7584\n",
      "Epoch 4/30\n",
      "919/919 - 0s - loss: 0.5262 - accuracy: 0.7737\n",
      "Epoch 5/30\n",
      "919/919 - 0s - loss: 0.4576 - accuracy: 0.8346\n",
      "Epoch 6/30\n",
      "919/919 - 0s - loss: 0.3822 - accuracy: 0.8607\n",
      "Epoch 7/30\n",
      "919/919 - 0s - loss: 0.3034 - accuracy: 0.8890\n",
      "Epoch 8/30\n",
      "919/919 - 0s - loss: 0.2527 - accuracy: 0.8988\n",
      "Epoch 9/30\n",
      "919/919 - 0s - loss: 0.2206 - accuracy: 0.9086\n",
      "Epoch 10/30\n",
      "919/919 - 0s - loss: 0.1981 - accuracy: 0.9206\n",
      "Epoch 11/30\n",
      "919/919 - 0s - loss: 0.1849 - accuracy: 0.9260\n",
      "Epoch 12/30\n",
      "919/919 - 0s - loss: 0.1674 - accuracy: 0.9293\n",
      "Epoch 13/30\n",
      "919/919 - 0s - loss: 0.1605 - accuracy: 0.9282\n",
      "Epoch 14/30\n",
      "919/919 - 0s - loss: 0.1458 - accuracy: 0.9391\n",
      "Epoch 15/30\n",
      "919/919 - 0s - loss: 0.1379 - accuracy: 0.9423\n",
      "Epoch 16/30\n",
      "919/919 - 0s - loss: 0.1295 - accuracy: 0.9402\n",
      "Epoch 17/30\n",
      "919/919 - 0s - loss: 0.1229 - accuracy: 0.9532\n",
      "Epoch 18/30\n",
      "919/919 - 0s - loss: 0.1158 - accuracy: 0.9532\n",
      "Epoch 19/30\n",
      "919/919 - 0s - loss: 0.1109 - accuracy: 0.9554\n",
      "Epoch 20/30\n",
      "919/919 - 0s - loss: 0.1064 - accuracy: 0.9554\n",
      "Epoch 21/30\n",
      "919/919 - 0s - loss: 0.1085 - accuracy: 0.9543\n",
      "Epoch 22/30\n",
      "919/919 - 0s - loss: 0.1007 - accuracy: 0.9608\n",
      "Epoch 23/30\n",
      "919/919 - 0s - loss: 0.0916 - accuracy: 0.9619\n",
      "Epoch 24/30\n",
      "919/919 - 0s - loss: 0.0876 - accuracy: 0.9663\n",
      "Epoch 25/30\n",
      "919/919 - 0s - loss: 0.0838 - accuracy: 0.9652\n",
      "Epoch 26/30\n",
      "919/919 - 0s - loss: 0.0800 - accuracy: 0.9717\n",
      "Epoch 27/30\n",
      "919/919 - 0s - loss: 0.0782 - accuracy: 0.9706\n",
      "Epoch 28/30\n",
      "919/919 - 0s - loss: 0.0751 - accuracy: 0.9717\n",
      "Epoch 29/30\n",
      "919/919 - 0s - loss: 0.0738 - accuracy: 0.9695\n",
      "Epoch 30/30\n",
      "919/919 - 0s - loss: 0.0689 - accuracy: 0.9782\n",
      "230/1 - 0s - loss: 0.0636 - accuracy: 0.9391\n",
      "Train on 919 samples\n",
      "Epoch 1/30\n",
      "919/919 - 1s - loss: 0.6787 - accuracy: 0.5354\n",
      "Epoch 2/30\n",
      "919/919 - 0s - loss: 0.6489 - accuracy: 0.6616\n",
      "Epoch 3/30\n",
      "919/919 - 0s - loss: 0.6178 - accuracy: 0.6594\n",
      "Epoch 4/30\n",
      "919/919 - 0s - loss: 0.5765 - accuracy: 0.7345\n",
      "Epoch 5/30\n",
      "919/919 - 0s - loss: 0.5362 - accuracy: 0.7693\n",
      "Epoch 6/30\n",
      "919/919 - 0s - loss: 0.5046 - accuracy: 0.8063\n",
      "Epoch 7/30\n",
      "919/919 - 0s - loss: 0.4812 - accuracy: 0.8313\n",
      "Epoch 8/30\n",
      "919/919 - 0s - loss: 0.4636 - accuracy: 0.8553\n",
      "Epoch 9/30\n",
      "919/919 - 0s - loss: 0.4468 - accuracy: 0.8607\n",
      "Epoch 10/30\n",
      "919/919 - 0s - loss: 0.4319 - accuracy: 0.8716\n",
      "Epoch 11/30\n",
      "919/919 - 0s - loss: 0.4190 - accuracy: 0.8814\n",
      "Epoch 12/30\n",
      "919/919 - 0s - loss: 0.4043 - accuracy: 0.8901\n",
      "Epoch 13/30\n",
      "919/919 - 0s - loss: 0.3899 - accuracy: 0.9021\n",
      "Epoch 14/30\n",
      "919/919 - 0s - loss: 0.3775 - accuracy: 0.9108\n",
      "Epoch 15/30\n",
      "919/919 - 0s - loss: 0.3621 - accuracy: 0.9238\n",
      "Epoch 16/30\n",
      "919/919 - 0s - loss: 0.3527 - accuracy: 0.9206\n",
      "Epoch 17/30\n",
      "919/919 - 0s - loss: 0.3396 - accuracy: 0.9336\n",
      "Epoch 18/30\n",
      "919/919 - 0s - loss: 0.3280 - accuracy: 0.9358\n",
      "Epoch 19/30\n",
      "919/919 - 0s - loss: 0.3180 - accuracy: 0.9391\n",
      "Epoch 20/30\n",
      "919/919 - 0s - loss: 0.3060 - accuracy: 0.9456\n",
      "Epoch 21/30\n",
      "919/919 - 0s - loss: 0.2978 - accuracy: 0.9445\n",
      "Epoch 22/30\n",
      "919/919 - 0s - loss: 0.2876 - accuracy: 0.9521\n",
      "Epoch 23/30\n",
      "919/919 - 0s - loss: 0.2768 - accuracy: 0.9543\n",
      "Epoch 24/30\n",
      "919/919 - 0s - loss: 0.2694 - accuracy: 0.9565\n",
      "Epoch 25/30\n",
      "919/919 - 0s - loss: 0.2586 - accuracy: 0.9652\n",
      "Epoch 26/30\n",
      "919/919 - 0s - loss: 0.2513 - accuracy: 0.9663\n",
      "Epoch 27/30\n",
      "919/919 - 0s - loss: 0.2445 - accuracy: 0.9695\n",
      "Epoch 28/30\n",
      "919/919 - 0s - loss: 0.2336 - accuracy: 0.9761\n",
      "Epoch 29/30\n",
      "919/919 - 0s - loss: 0.2289 - accuracy: 0.9728\n",
      "Epoch 30/30\n",
      "919/919 - 0s - loss: 0.2218 - accuracy: 0.9804\n",
      "230/1 - 0s - loss: 0.2812 - accuracy: 0.9435\n",
      "Train on 919 samples\n",
      "Epoch 1/30\n",
      "919/919 - 1s - loss: 0.6860 - accuracy: 0.4984\n",
      "Epoch 2/30\n",
      "919/919 - 0s - loss: 0.6467 - accuracy: 0.5386\n",
      "Epoch 3/30\n",
      "919/919 - 0s - loss: 0.6090 - accuracy: 0.6289\n",
      "Epoch 4/30\n",
      "919/919 - 0s - loss: 0.5679 - accuracy: 0.7595\n",
      "Epoch 5/30\n",
      "919/919 - 0s - loss: 0.5284 - accuracy: 0.8150\n",
      "Epoch 6/30\n",
      "919/919 - 0s - loss: 0.4988 - accuracy: 0.8455\n",
      "Epoch 7/30\n",
      "919/919 - 0s - loss: 0.4724 - accuracy: 0.8509\n",
      "Epoch 8/30\n",
      "919/919 - 0s - loss: 0.4515 - accuracy: 0.8672\n",
      "Epoch 9/30\n",
      "919/919 - 0s - loss: 0.4306 - accuracy: 0.8814\n",
      "Epoch 10/30\n",
      "919/919 - 0s - loss: 0.4165 - accuracy: 0.8999\n",
      "Epoch 11/30\n",
      "919/919 - 0s - loss: 0.3993 - accuracy: 0.9075\n",
      "Epoch 12/30\n",
      "919/919 - 0s - loss: 0.3874 - accuracy: 0.9075\n",
      "Epoch 13/30\n",
      "919/919 - 0s - loss: 0.3669 - accuracy: 0.9227\n",
      "Epoch 14/30\n",
      "919/919 - 0s - loss: 0.3431 - accuracy: 0.9293\n",
      "Epoch 15/30\n",
      "919/919 - 0s - loss: 0.3203 - accuracy: 0.9293\n",
      "Epoch 16/30\n",
      "919/919 - 0s - loss: 0.2993 - accuracy: 0.9380\n",
      "Epoch 17/30\n",
      "919/919 - 0s - loss: 0.2783 - accuracy: 0.9412\n",
      "Epoch 18/30\n",
      "919/919 - 0s - loss: 0.2585 - accuracy: 0.9532\n",
      "Epoch 19/30\n",
      "919/919 - 0s - loss: 0.2437 - accuracy: 0.9510\n",
      "Epoch 20/30\n",
      "919/919 - 0s - loss: 0.2280 - accuracy: 0.9510\n",
      "Epoch 21/30\n",
      "919/919 - 0s - loss: 0.2093 - accuracy: 0.9597\n",
      "Epoch 22/30\n",
      "919/919 - 0s - loss: 0.1898 - accuracy: 0.9663\n",
      "Epoch 23/30\n",
      "919/919 - 0s - loss: 0.1739 - accuracy: 0.9717\n",
      "Epoch 24/30\n",
      "919/919 - 0s - loss: 0.1532 - accuracy: 0.9739\n",
      "Epoch 25/30\n",
      "919/919 - 0s - loss: 0.1319 - accuracy: 0.9826\n",
      "Epoch 26/30\n",
      "919/919 - 0s - loss: 0.1091 - accuracy: 0.9859\n",
      "Epoch 27/30\n",
      "919/919 - 0s - loss: 0.0897 - accuracy: 0.9880\n",
      "Epoch 28/30\n",
      "919/919 - 0s - loss: 0.0753 - accuracy: 0.9891\n",
      "Epoch 29/30\n",
      "919/919 - 0s - loss: 0.0599 - accuracy: 0.9891\n",
      "Epoch 30/30\n",
      "919/919 - 0s - loss: 0.0515 - accuracy: 0.9913\n",
      "230/1 - 0s - loss: 0.0561 - accuracy: 0.9783\n",
      "Train on 920 samples\n",
      "Epoch 1/30\n",
      "920/920 - 1s - loss: 0.6802 - accuracy: 0.5772\n",
      "Epoch 2/30\n",
      "920/920 - 0s - loss: 0.6242 - accuracy: 0.7620\n",
      "Epoch 3/30\n",
      "920/920 - 0s - loss: 0.5436 - accuracy: 0.8076\n",
      "Epoch 4/30\n",
      "920/920 - 0s - loss: 0.4502 - accuracy: 0.8304\n",
      "Epoch 5/30\n",
      "920/920 - 0s - loss: 0.3723 - accuracy: 0.8576\n",
      "Epoch 6/30\n",
      "920/920 - 0s - loss: 0.3211 - accuracy: 0.8739\n",
      "Epoch 7/30\n",
      "920/920 - 0s - loss: 0.2828 - accuracy: 0.8848\n",
      "Epoch 8/30\n",
      "920/920 - 0s - loss: 0.2528 - accuracy: 0.8978\n",
      "Epoch 9/30\n",
      "920/920 - 0s - loss: 0.2268 - accuracy: 0.9130\n",
      "Epoch 10/30\n",
      "920/920 - 0s - loss: 0.2087 - accuracy: 0.9185\n",
      "Epoch 11/30\n",
      "920/920 - 0s - loss: 0.1910 - accuracy: 0.9239\n",
      "Epoch 12/30\n",
      "920/920 - 0s - loss: 0.1828 - accuracy: 0.9207\n",
      "Epoch 13/30\n",
      "920/920 - 0s - loss: 0.1721 - accuracy: 0.9304\n",
      "Epoch 14/30\n",
      "920/920 - 0s - loss: 0.1584 - accuracy: 0.9304\n",
      "Epoch 15/30\n",
      "920/920 - 0s - loss: 0.1485 - accuracy: 0.9348\n"
     ]
    },
    {
     "name": "stdout",
     "output_type": "stream",
     "text": [
      "Epoch 16/30\n",
      "920/920 - 0s - loss: 0.1421 - accuracy: 0.9402\n",
      "Epoch 17/30\n",
      "920/920 - 0s - loss: 0.1346 - accuracy: 0.9446\n",
      "Epoch 18/30\n",
      "920/920 - 0s - loss: 0.1267 - accuracy: 0.9478\n",
      "Epoch 19/30\n",
      "920/920 - 0s - loss: 0.1244 - accuracy: 0.9533\n",
      "Epoch 20/30\n",
      "920/920 - 0s - loss: 0.1169 - accuracy: 0.9522\n",
      "Epoch 21/30\n",
      "920/920 - 0s - loss: 0.1119 - accuracy: 0.9533\n",
      "Epoch 22/30\n",
      "920/920 - 0s - loss: 0.1060 - accuracy: 0.9609\n",
      "Epoch 23/30\n",
      "920/920 - 0s - loss: 0.1011 - accuracy: 0.9576\n",
      "Epoch 24/30\n",
      "920/920 - 0s - loss: 0.1027 - accuracy: 0.9576\n",
      "Epoch 25/30\n",
      "920/920 - 0s - loss: 0.0943 - accuracy: 0.9641\n",
      "Epoch 26/30\n",
      "920/920 - 0s - loss: 0.0945 - accuracy: 0.9609\n",
      "Epoch 27/30\n",
      "920/920 - 0s - loss: 0.0859 - accuracy: 0.9707\n",
      "Epoch 28/30\n",
      "920/920 - 0s - loss: 0.0830 - accuracy: 0.9717\n",
      "Epoch 29/30\n",
      "920/920 - 0s - loss: 0.0870 - accuracy: 0.9641\n",
      "Epoch 30/30\n",
      "920/920 - 0s - loss: 0.0792 - accuracy: 0.9728\n",
      "229/1 - 0s - loss: 0.2745 - accuracy: 0.9258\n"
     ]
    },
    {
     "data": {
      "text/plain": [
       "array([0.96521741, 0.93913043, 0.94347829, 0.97826087, 0.9257642 ])"
      ]
     },
     "execution_count": 31,
     "metadata": {},
     "output_type": "execute_result"
    }
   ],
   "source": [
    "cross_val_score(keras_model, X_pure_train, y_pure_train)"
   ]
  },
  {
   "cell_type": "markdown",
   "metadata": {},
   "source": [
    "## Regularization"
   ]
  },
  {
   "cell_type": "markdown",
   "metadata": {},
   "source": [
    "Does regularization make sense in the context of neural networks? <br/>\n",
    "\n",
    "Yes! We still have all of the salient ingredients: a loss function, overfitting vs. underfitting, and coefficients (weights) that could get too large.\n",
    "\n",
    "But there are now a few different flavors besides L1 and L2 regularization. (Note that L1 regularization is not common in the context of  neural networks.)\n",
    "\n",
    "We'll add a few more layers to give regularization a better chance of making a difference!"
   ]
  },
  {
   "cell_type": "markdown",
   "metadata": {},
   "source": [
    "Modify the below cell to add regularization to one layer"
   ]
  },
  {
   "cell_type": "code",
   "execution_count": 32,
   "metadata": {},
   "outputs": [
    {
     "data": {
      "image/png": "[encoded data removed]",
      "text/plain": [
       "<Figure size 720x360 with 2 Axes>"
      ]
     },
     "metadata": {
      "needs_background": "light"
     },
     "output_type": "display_data"
    }
   ],
   "source": [
    "model = Sequential()\n",
    "model.add(Dense(30, activation='relu', input_dim=64))\n",
    "\n",
    "# We can add L2 (or L1) regularization right into\n",
    "# the layer with the kernel_regularizer parameter.\n",
    "\n",
    "#Modify code here to add in regularization to this layer\n",
    "model.add(Dense(20, \n",
    "          activation='relu', \n",
    "          kernel_regularizer=l2(l=0.05)))\n",
    "\n",
    "# Note that there is also a bias_regularizer,\n",
    "# but this tends to have less effect.\n",
    "\n",
    "model.add(Dense(12, activation='relu'))\n",
    "model.add(Dense(12, activation='relu'))\n",
    "model.add(Dense(12, activation='relu'))\n",
    "model.add(Dense(8, activation='relu'))\n",
    "model.add(Dense(4, activation='relu'))\n",
    "model.add(Dense(1, activation ='sigmoid'))\n",
    "\n",
    "model.compile(optimizer='adam',\n",
    "              loss='binary_crossentropy',\n",
    "              metrics=['accuracy'])\n",
    "\n",
    "results = model.fit(X_pure_train, y_pure_train, epochs=20, batch_size=32,\n",
    "                    verbose=0, validation_data=(X_val, y_val))\n",
    "\n",
    "train_loss = results.history['loss']\n",
    "train_acc = results.history['accuracy']\n",
    "val_loss = results.history['val_loss']\n",
    "val_acc = results.history['val_accuracy']\n",
    "\n",
    "\n",
    "fig, (ax1, ax2) = plt.subplots(1, 2, figsize=(10, 5))\n",
    "sns.lineplot(x=results.epoch, y=train_loss, ax=ax1, label='train_loss')\n",
    "sns.lineplot(x=results.epoch, y=train_acc, ax=ax2, label='train_accuracy')\n",
    "\n",
    "sns.lineplot(x=results.epoch, y=val_loss, ax=ax1, label='val_loss')\n",
    "sns.lineplot(x=results.epoch, y=val_acc, ax=ax2, label='val_accuracy');"
   ]
  },
  {
   "cell_type": "markdown",
   "metadata": {},
   "source": [
    "Adding L2 to multiple layers:"
   ]
  },
  {
   "cell_type": "code",
   "execution_count": 33,
   "metadata": {},
   "outputs": [
    {
     "data": {
      "image/png": "[encoded data removed]",
      "text/plain": [
       "<Figure size 720x360 with 2 Axes>"
      ]
     },
     "metadata": {
      "needs_background": "light"
     },
     "output_type": "display_data"
    }
   ],
   "source": [
    "model = Sequential()\n",
    "model.add(Dense(30, activation='relu',\n",
    "                input_dim=64))\n",
    "model.add(Dense(20, activation='relu',\n",
    "                kernel_regularizer=l2(l=0.01)))\n",
    "\n",
    "model.add(Dense(12, activation='relu',\n",
    "                kernel_regularizer=l2(l=0.01)))\n",
    "model.add(Dense(12, activation='relu',\n",
    "                kernel_regularizer=l2(l=0.01)))\n",
    "model.add(Dense(12, activation='relu',\n",
    "                kernel_regularizer=l2(l=0.01)))\n",
    "model.add(Dense(8, activation='relu',\n",
    "                kernel_regularizer=l2(l=0.01)))\n",
    "model.add(Dense(4, activation='relu',\n",
    "                kernel_regularizer=l2(l=0.01)))\n",
    "model.add(Dense(1, activation='sigmoid'))\n",
    "\n",
    "model.compile(optimizer='adam',\n",
    "              loss='binary_crossentropy',\n",
    "              metrics=['accuracy'])\n",
    "\n",
    "results = model.fit(X_pure_train, y_pure_train, epochs=20, batch_size=32,\n",
    "                    verbose=0, validation_data=(X_val, y_val))\n",
    "\n",
    "train_loss = results.history['loss']\n",
    "train_acc = results.history['accuracy']\n",
    "val_loss = results.history['val_loss']\n",
    "val_acc = results.history['val_accuracy']\n",
    "\n",
    "\n",
    "fig, (ax1, ax2) = plt.subplots(1, 2, figsize=(10, 5))\n",
    "sns.lineplot(x=results.epoch, y=train_loss, ax=ax1, label='train_loss')\n",
    "sns.lineplot(x=results.epoch, y=train_acc, ax=ax2, label='train_accuracy')\n",
    "\n",
    "sns.lineplot(x=results.epoch, y=val_loss, ax=ax1, label='val_loss')\n",
    "sns.lineplot(x=results.epoch, y=val_acc, ax=ax2, label='val_accuracy');"
   ]
  },
  {
   "cell_type": "markdown",
   "metadata": {},
   "source": [
    "### Dropout\n",
    "\n",
    "We can also specify a dropout layer in keras, which randomly shuts off different nodes during training. This can help to prevent overfitting.\n",
    "\n",
    "![drop_out](images/drop_out.png)"
   ]
  },
  {
   "cell_type": "markdown",
   "metadata": {},
   "source": [
    "### Exercise\n",
    "\n",
    "To add dropout to a `keras` network, simply add it as though it were a layer. It will apply to the immediately preceding layer.\n",
    "\n",
    "Add Dropout to one or more layers below."
   ]
  },
  {
   "cell_type": "code",
   "execution_count": 34,
   "metadata": {},
   "outputs": [
    {
     "data": {
      "image/png": "[encoded data removed]",
      "text/plain": [
       "<Figure size 720x360 with 2 Axes>"
      ]
     },
     "metadata": {
      "needs_background": "light"
     },
     "output_type": "display_data"
    }
   ],
   "source": [
    "#Adjust the code to add dropout\n",
    "\n",
    "model = Sequential()\n",
    "model.add(Dense(30, activation='relu', input_dim=64))\n",
    "model.add(Dense(20, activation='relu'))\n",
    "model.add(Dropout(0.5))\n",
    "model.add(Dense(12, activation='relu'))\n",
    "model.add(Dense(12, activation='relu'))\n",
    "model.add(Dense(12, activation='relu'))\n",
    "model.add(Dropout(0.2))\n",
    "model.add(Dense(8, activation='relu'))\n",
    "model.add(Dense(4, activation='relu'))\n",
    "model.add(Dense(1, activation ='sigmoid'))\n",
    "\n",
    "model.compile(optimizer='adam',\n",
    "              loss='binary_crossentropy',\n",
    "              metrics=['accuracy'])\n",
    "\n",
    "results = model.fit(X_pure_train, y_pure_train, epochs=50,\n",
    "                    batch_size= 32, verbose=0,\n",
    "                    validation_data=(X_val, y_val))\n",
    "\n",
    "train_loss = results.history['loss']\n",
    "train_acc = results.history['accuracy']\n",
    "val_loss = results.history['val_loss']\n",
    "val_acc = results.history['val_accuracy']\n",
    "\n",
    "\n",
    "fig, (ax1, ax2) = plt.subplots(1, 2, figsize=(10, 5))\n",
    "sns.lineplot(x=results.epoch, y=train_loss, ax=ax1, label='train_loss')\n",
    "sns.lineplot(x=results.epoch, y=train_acc, ax=ax2, label='train_accuracy')\n",
    "\n",
    "sns.lineplot(x=results.epoch, y=val_loss, ax=ax1, label='val_loss')\n",
    "sns.lineplot(x=results.epoch, y=val_acc, ax=ax2, label='val_accuracy');"
   ]
  },
  {
   "cell_type": "markdown",
   "metadata": {},
   "source": [
    "<details>\n",
    "    <summary>One answer here</summary>\n",
    "<code>model = Sequential()\n",
    "model.add(Dense(30, activation='relu', input_dim=64))\n",
    "model.add(Dense(20, activation='relu'))\n",
    "model.add(Dropout(0.5))\n",
    "model.add(Dense(12, activation='relu'))\n",
    "model.add(Dropout(0.2))\n",
    "model.add(Dense(12, activation='relu'))\n",
    "model.add(Dense(12, activation='relu'))\n",
    "model.add(Dense(8, activation='relu'))\n",
    "model.add(Dense(4, activation='relu'))\n",
    "model.add(Dense(1, activation ='sigmoid'))\n",
    "\n",
    "model.compile(optimizer='adam',\n",
    "              loss='binary_crossentropy',\n",
    "              metrics=['accuracy'])\n",
    "\n",
    "results = model.fit(X_pure_train, y_pure_train, epochs=50,\n",
    "                    batch_size= 32, verbose=0,\n",
    "                    validation_data=(X_val, y_val))\n",
    "\n",
    "train_loss = results.history['loss']\n",
    "train_acc = results.history['accuracy']\n",
    "val_loss = results.history['val_loss']\n",
    "val_acc = results.history['val_accuracy']\n",
    "\n",
    "\n",
    "fig, (ax1, ax2) = plt.subplots(1, 2, figsize=(10, 5))\n",
    "sns.lineplot(x=results.epoch, y=train_loss, ax=ax1, label='train_loss')\n",
    "sns.lineplot(x=results.epoch, y=train_acc, ax=ax2, label='train_accuracy')\n",
    "\n",
    "sns.lineplot(x=results.epoch, y=val_loss, ax=ax1, label='val_loss')\n",
    "sns.lineplot(x=results.epoch, y=val_acc, ax=ax2, label='val_accuracy');</code>\n",
    "</details>"
   ]
  },
  {
   "cell_type": "code",
   "execution_count": 35,
   "metadata": {},
   "outputs": [
    {
     "data": {
      "text/plain": [
       "0.9791667"
      ]
     },
     "execution_count": 35,
     "metadata": {},
     "output_type": "execute_result"
    }
   ],
   "source": [
    "results.history['val_accuracy'][-1]"
   ]
  },
  {
   "cell_type": "markdown",
   "metadata": {},
   "source": [
    "### Early Stopping"
   ]
  },
  {
   "cell_type": "markdown",
   "metadata": {},
   "source": [
    "We can also tell our neural network to stop once it stops realizing any gain.\n",
    "\n",
    "Here we tell it to stop once a very small positive change in the validation loss occurs:"
   ]
  },
  {
   "cell_type": "code",
   "execution_count": 36,
   "metadata": {},
   "outputs": [
    {
     "name": "stdout",
     "output_type": "stream",
     "text": [
      "Epoch 00013: early stopping\n"
     ]
    },
    {
     "data": {
      "image/png": "[encoded data removed]",
      "text/plain": [
       "<Figure size 720x360 with 2 Axes>"
      ]
     },
     "metadata": {
      "needs_background": "light"
     },
     "output_type": "display_data"
    }
   ],
   "source": [
    "model = Sequential()\n",
    "model.add(Dense(30, activation='relu', input_dim=64))\n",
    "model.add(Dense(20, activation='relu'))\n",
    "model.add(Dropout(0.5))\n",
    "model.add(Dense(12, activation='relu'))\n",
    "model.add(Dense(12, activation='relu'))\n",
    "model.add(Dense(12, activation='relu'))\n",
    "model.add(Dense(8, activation='relu'))\n",
    "model.add(Dense(4, activation='relu'))\n",
    "model.add(Dense(1, activation ='sigmoid'))\n",
    "\n",
    "model.compile(optimizer='adam',\n",
    "              loss='binary_crossentropy',\n",
    "              metrics=['accuracy'])\n",
    "\n",
    "# Define the EarlyStopping object\n",
    "early_stop = EarlyStopping(monitor='val_loss', min_delta=1e-8,\n",
    "                           verbose=1,\n",
    "                           mode='min')\n",
    "\n",
    "# Place this in a list as the value of the `callbacks` parameter\n",
    "# in the `.fit()` method.\n",
    "results = model.fit(X_pure_train, y_pure_train,\n",
    "                    epochs=20, batch_size=32,\n",
    "                    verbose=0, validation_data=(X_val, y_val),\n",
    "                    callbacks=[early_stop])\n",
    "\n",
    "train_loss = results.history['loss']\n",
    "train_acc = results.history['accuracy']\n",
    "val_loss = results.history['val_loss']\n",
    "val_acc = results.history['val_accuracy']\n",
    "\n",
    "\n",
    "fig, (ax1, ax2) = plt.subplots(1, 2, figsize=(10, 5))\n",
    "sns.lineplot(x=results.epoch, y=train_loss, ax=ax1, label='train_loss')\n",
    "sns.lineplot(x=results.epoch, y=train_acc, ax=ax2, label='train_accuracy')\n",
    "\n",
    "sns.lineplot(x=results.epoch, y=val_loss, ax=ax1, label='val_loss')\n",
    "sns.lineplot(x=results.epoch, y=val_acc, ax=ax2, label='val_accuracy');"
   ]
  },
  {
   "cell_type": "markdown",
   "metadata": {},
   "source": [
    "### Exercise\n",
    "\n",
    "That probably stopped too early. We can specify the number of epochs in which it doesn't see decrease in the loss with the `patience` parameter. Modify the code below to include an Early Stop with a patience of 5 epochs."
   ]
  },
  {
   "cell_type": "code",
   "execution_count": 39,
   "metadata": {},
   "outputs": [
    {
     "data": {
      "image/png": "[encoded data removed]",
      "text/plain": [
       "<Figure size 720x360 with 2 Axes>"
      ]
     },
     "metadata": {
      "needs_background": "light"
     },
     "output_type": "display_data"
    }
   ],
   "source": [
    "#Modify the code to include an Early stop with a patience of 5 epochs\n",
    "\n",
    "model = Sequential()\n",
    "model.add(Dense(30, activation='relu', input_dim=64))\n",
    "model.add(Dense(20, activation='relu'))\n",
    "model.add(Dropout(0.5))\n",
    "model.add(Dense(12, activation='relu'))\n",
    "model.add(Dense(12, activation='relu'))\n",
    "model.add(Dense(12, activation='relu'))\n",
    "model.add(Dense(8, activation='relu'))\n",
    "model.add(Dense(4, activation='relu'))\n",
    "model.add(Dense(1, activation ='sigmoid'))\n",
    "\n",
    "model.compile(optimizer='adam',\n",
    "              loss='binary_crossentropy',\n",
    "              metrics=['accuracy'])\n",
    "\n",
    "# Define the EarlyStopping object\n",
    "early_stop = EarlyStopping(monitor='val_loss',\n",
    "                           min_delta=1e-8,\n",
    "                           verbose=1,\n",
    "                           mode='min',\n",
    "                           patience=5)\n",
    "\n",
    "# Place this in a list as the value of the `callbacks` parameter\n",
    "# in the `.fit()` method.\n",
    "results = model.fit(X_pure_train, y_pure_train,\n",
    "                    epochs=50, batch_size= 32,\n",
    "                    verbose=0, validation_data=(X_val, y_val),\n",
    "                    callbacks=[early_stop])\n",
    "\n",
    "train_loss = results.history['loss']\n",
    "train_acc = results.history['accuracy']\n",
    "val_loss = results.history['val_loss']\n",
    "val_acc = results.history['val_accuracy']\n",
    "\n",
    "\n",
    "fig, (ax1, ax2) = plt.subplots(1, 2, figsize=(10, 5))\n",
    "sns.lineplot(x=results.epoch, y=train_loss, ax=ax1, label='train_loss')\n",
    "sns.lineplot(x=results.epoch, y=train_acc, ax=ax2, label='train_accuracy')\n",
    "\n",
    "sns.lineplot(x=results.epoch, y=val_loss, ax=ax1, label='val_loss')\n",
    "sns.lineplot(x=results.epoch, y=val_acc, ax=ax2, label='val_accuracy');"
   ]
  },
  {
   "cell_type": "markdown",
   "metadata": {},
   "source": [
    "<details>\n",
    "    <summary>One answer here</summary>\n",
    "<code>model = Sequential()\n",
    "model.add(Dense(30, activation='relu', input_dim=64))\n",
    "model.add(Dense(20, activation='relu'))\n",
    "model.add(Dropout(0.5))\n",
    "model.add(Dense(12, activation='relu'))\n",
    "model.add(Dense(12, activation='relu'))\n",
    "model.add(Dense(12, activation='relu'))\n",
    "model.add(Dense(8, activation='relu'))\n",
    "model.add(Dense(4, activation='relu'))\n",
    "model.add(Dense(1, activation ='sigmoid'))\n",
    "model.compile(optimizer='adam',\n",
    "              loss='binary_crossentropy',\n",
    "              metrics=['accuracy'])\n",
    "early_stop = EarlyStopping(monitor='val_loss', min_delta=1e-8,\n",
    "                           verbose=1, patience=5,\n",
    "                           mode='min')   \n",
    "results = model.fit(X_pure_train, y_pure_train,\n",
    "                    epochs=50, batch_size= 32,\n",
    "                    verbose=0, validation_data=(X_val, y_val),\n",
    "                    callbacks=[early_stop])\n",
    "train_loss = results.history['loss']\n",
    "train_acc = results.history['accuracy']\n",
    "val_loss = results.history['val_loss']\n",
    "val_acc = results.history['val_accuracy']\n",
    "\n",
    "\n",
    "fig, (ax1, ax2) = plt.subplots(1, 2, figsize=(10, 5))\n",
    "sns.lineplot(x=results.epoch, y=train_loss, ax=ax1, label='train_loss')\n",
    "sns.lineplot(x=results.epoch, y=train_acc, ax=ax2, label='train_accuracy')\n",
    "\n",
    "sns.lineplot(x=results.epoch, y=val_loss, ax=ax1, label='val_loss')\n",
    "sns.lineplot(x=results.epoch, y=val_acc, ax=ax2, label='val_accuracy');</code>\n",
    "</details>"
   ]
  },
  {
   "cell_type": "code",
   "execution_count": 40,
   "metadata": {},
   "outputs": [
    {
     "data": {
      "text/plain": [
       "0.96875"
      ]
     },
     "execution_count": 40,
     "metadata": {},
     "output_type": "execute_result"
    }
   ],
   "source": [
    "results.history['val_accuracy'][-1]"
   ]
  },
  {
   "cell_type": "markdown",
   "metadata": {},
   "source": [
    "## Multiclass Classification and Softmax"
   ]
  },
  {
   "cell_type": "markdown",
   "metadata": {},
   "source": [
    "Now let's return to the problem of predicting digits 0 through 9."
   ]
  },
  {
   "cell_type": "code",
   "execution_count": 41,
   "metadata": {},
   "outputs": [],
   "source": [
    "digits = load_digits()\n",
    "X = digits.data\n",
    "y = digits.target"
   ]
  },
  {
   "cell_type": "code",
   "execution_count": 42,
   "metadata": {},
   "outputs": [],
   "source": [
    "X_train, X_test, y_train, y_test = train_test_split(X, y,\n",
    "                                                    random_state=42,\n",
    "                                                    test_size=0.2)\n",
    "X_pure_train, X_val, y_pure_train, y_val =\\\n",
    "    train_test_split(X_train, y_train,\n",
    "                     random_state=42, test_size=0.2)\n",
    "X_pure_train, X_val, X_test = X_pure_train/16, X_val/16, X_test/16"
   ]
  },
  {
   "cell_type": "markdown",
   "metadata": {},
   "source": [
    "For a multiclass output, our neural net expects our target to be in a certain form."
   ]
  },
  {
   "cell_type": "code",
   "execution_count": 43,
   "metadata": {},
   "outputs": [
    {
     "data": {
      "text/plain": [
       "array([8, 7, 4, ..., 1, 2, 8])"
      ]
     },
     "execution_count": 43,
     "metadata": {},
     "output_type": "execute_result"
    }
   ],
   "source": [
    "y_pure_train"
   ]
  },
  {
   "cell_type": "code",
   "execution_count": 44,
   "metadata": {},
   "outputs": [
    {
     "data": {
      "text/plain": [
       "array([[8],\n",
       "       [7],\n",
       "       [4],\n",
       "       ...,\n",
       "       [1],\n",
       "       [2],\n",
       "       [8]])"
      ]
     },
     "execution_count": 44,
     "metadata": {},
     "output_type": "execute_result"
    }
   ],
   "source": [
    "y_pure_train.reshape(-1,1)"
   ]
  },
  {
   "cell_type": "code",
   "execution_count": 45,
   "metadata": {},
   "outputs": [],
   "source": [
    "ohe = OneHotEncoder(sparse=False)\n",
    "y_pure_train = ohe.fit_transform(y_pure_train.reshape(-1,1))\n",
    "y_val = ohe.transform(y_val.reshape(-1,1))\n",
    "y_test = ohe.transform(y_test.reshape(-1,1))"
   ]
  },
  {
   "cell_type": "code",
   "execution_count": 50,
   "metadata": {},
   "outputs": [
    {
     "data": {
      "text/plain": [
       "(1149, 10)"
      ]
     },
     "execution_count": 50,
     "metadata": {},
     "output_type": "execute_result"
    }
   ],
   "source": [
    "y_pure_train.shape"
   ]
  },
  {
   "cell_type": "code",
   "execution_count": 51,
   "metadata": {},
   "outputs": [
    {
     "name": "stdout",
     "output_type": "stream",
     "text": [
      "Train on 1149 samples, validate on 288 samples\n",
      "Epoch 1/50\n",
      "1149/1149 [==============================] - 1s 788us/sample - loss: 2.1966 - accuracy: 0.1767 - val_loss: 2.0710 - val_accuracy: 0.2396\n",
      "Epoch 2/50\n",
      "1149/1149 [==============================] - 0s 224us/sample - loss: 1.8973 - accuracy: 0.3316 - val_loss: 1.7397 - val_accuracy: 0.3958\n",
      "Epoch 3/50\n",
      "1149/1149 [==============================] - 0s 227us/sample - loss: 1.5461 - accuracy: 0.4804 - val_loss: 1.4011 - val_accuracy: 0.5417\n",
      "Epoch 4/50\n",
      "1149/1149 [==============================] - 0s 226us/sample - loss: 1.2380 - accuracy: 0.6014 - val_loss: 1.1471 - val_accuracy: 0.6528\n",
      "Epoch 5/50\n",
      "1149/1149 [==============================] - 0s 219us/sample - loss: 1.0085 - accuracy: 0.7041 - val_loss: 0.9686 - val_accuracy: 0.6979\n",
      "Epoch 6/50\n",
      "1149/1149 [==============================] - 0s 219us/sample - loss: 0.8421 - accuracy: 0.7746 - val_loss: 0.8137 - val_accuracy: 0.7396\n",
      "Epoch 7/50\n",
      "1149/1149 [==============================] - 0s 227us/sample - loss: 0.7081 - accuracy: 0.8155 - val_loss: 0.6908 - val_accuracy: 0.8125\n",
      "Epoch 8/50\n",
      "1149/1149 [==============================] - 0s 222us/sample - loss: 0.5914 - accuracy: 0.8538 - val_loss: 0.5809 - val_accuracy: 0.8542\n",
      "Epoch 9/50\n",
      "1149/1149 [==============================] - 0s 219us/sample - loss: 0.4917 - accuracy: 0.8799 - val_loss: 0.5114 - val_accuracy: 0.8646\n",
      "Epoch 10/50\n",
      "1149/1149 [==============================] - 0s 233us/sample - loss: 0.4288 - accuracy: 0.8956 - val_loss: 0.4376 - val_accuracy: 0.8819\n",
      "Epoch 11/50\n",
      "1149/1149 [==============================] - 0s 221us/sample - loss: 0.3804 - accuracy: 0.9025 - val_loss: 0.3989 - val_accuracy: 0.8924\n",
      "Epoch 12/50\n",
      "1149/1149 [==============================] - 0s 272us/sample - loss: 0.3416 - accuracy: 0.9156 - val_loss: 0.3835 - val_accuracy: 0.8924\n",
      "Epoch 13/50\n",
      "1149/1149 [==============================] - 0s 229us/sample - loss: 0.3106 - accuracy: 0.9225 - val_loss: 0.3516 - val_accuracy: 0.8924\n",
      "Epoch 14/50\n",
      "1149/1149 [==============================] - 0s 241us/sample - loss: 0.2876 - accuracy: 0.9321 - val_loss: 0.3267 - val_accuracy: 0.9062\n",
      "Epoch 15/50\n",
      "1149/1149 [==============================] - 0s 222us/sample - loss: 0.2669 - accuracy: 0.9391 - val_loss: 0.3042 - val_accuracy: 0.9062\n",
      "Epoch 16/50\n",
      "1149/1149 [==============================] - 0s 230us/sample - loss: 0.2499 - accuracy: 0.9339 - val_loss: 0.2985 - val_accuracy: 0.9132\n",
      "Epoch 17/50\n",
      "1149/1149 [==============================] - 0s 226us/sample - loss: 0.2353 - accuracy: 0.9382 - val_loss: 0.2858 - val_accuracy: 0.9167\n",
      "Epoch 18/50\n",
      "1149/1149 [==============================] - 0s 241us/sample - loss: 0.2227 - accuracy: 0.9426 - val_loss: 0.2717 - val_accuracy: 0.9132\n",
      "Epoch 19/50\n",
      "1149/1149 [==============================] - 0s 248us/sample - loss: 0.2078 - accuracy: 0.9487 - val_loss: 0.2564 - val_accuracy: 0.9236\n",
      "Epoch 20/50\n",
      "1149/1149 [==============================] - 0s 247us/sample - loss: 0.1987 - accuracy: 0.9452 - val_loss: 0.2559 - val_accuracy: 0.9271\n",
      "Epoch 21/50\n",
      "1149/1149 [==============================] - 0s 255us/sample - loss: 0.1916 - accuracy: 0.9478 - val_loss: 0.2474 - val_accuracy: 0.9236\n",
      "Epoch 22/50\n",
      "1149/1149 [==============================] - 0s 241us/sample - loss: 0.1805 - accuracy: 0.9521 - val_loss: 0.2327 - val_accuracy: 0.9271\n",
      "Epoch 23/50\n",
      "1149/1149 [==============================] - 0s 244us/sample - loss: 0.1719 - accuracy: 0.9539 - val_loss: 0.2495 - val_accuracy: 0.9236\n",
      "Epoch 24/50\n",
      "1149/1149 [==============================] - 0s 217us/sample - loss: 0.1638 - accuracy: 0.9591 - val_loss: 0.2244 - val_accuracy: 0.9271\n",
      "Epoch 25/50\n",
      "1149/1149 [==============================] - 0s 232us/sample - loss: 0.1573 - accuracy: 0.9574 - val_loss: 0.2136 - val_accuracy: 0.9375\n",
      "Epoch 26/50\n",
      "1149/1149 [==============================] - 0s 251us/sample - loss: 0.1523 - accuracy: 0.9574 - val_loss: 0.2057 - val_accuracy: 0.9375\n",
      "Epoch 27/50\n",
      "1149/1149 [==============================] - 0s 219us/sample - loss: 0.1453 - accuracy: 0.9582 - val_loss: 0.2100 - val_accuracy: 0.9271\n",
      "Epoch 28/50\n",
      "1149/1149 [==============================] - 0s 213us/sample - loss: 0.1384 - accuracy: 0.9617 - val_loss: 0.2097 - val_accuracy: 0.9306\n",
      "Epoch 29/50\n",
      "1149/1149 [==============================] - 0s 209us/sample - loss: 0.1354 - accuracy: 0.9643 - val_loss: 0.1934 - val_accuracy: 0.9410\n",
      "Epoch 30/50\n",
      "1149/1149 [==============================] - 0s 244us/sample - loss: 0.1294 - accuracy: 0.9617 - val_loss: 0.1978 - val_accuracy: 0.9306\n",
      "Epoch 31/50\n",
      "1149/1149 [==============================] - 0s 231us/sample - loss: 0.1248 - accuracy: 0.9634 - val_loss: 0.2045 - val_accuracy: 0.9271\n",
      "Epoch 32/50\n",
      "1149/1149 [==============================] - 0s 258us/sample - loss: 0.1215 - accuracy: 0.9678 - val_loss: 0.1918 - val_accuracy: 0.9306\n",
      "Epoch 33/50\n",
      "1149/1149 [==============================] - 0s 237us/sample - loss: 0.1189 - accuracy: 0.9626 - val_loss: 0.1787 - val_accuracy: 0.9410\n",
      "Epoch 34/50\n",
      "1149/1149 [==============================] - 0s 238us/sample - loss: 0.1147 - accuracy: 0.9678 - val_loss: 0.1829 - val_accuracy: 0.9410\n",
      "Epoch 35/50\n",
      "1149/1149 [==============================] - 0s 257us/sample - loss: 0.1083 - accuracy: 0.9713 - val_loss: 0.1916 - val_accuracy: 0.9340\n",
      "Epoch 36/50\n",
      "1149/1149 [==============================] - 0s 235us/sample - loss: 0.1074 - accuracy: 0.9695 - val_loss: 0.1834 - val_accuracy: 0.9271\n",
      "Epoch 37/50\n",
      "1149/1149 [==============================] - 0s 243us/sample - loss: 0.1020 - accuracy: 0.9739 - val_loss: 0.1858 - val_accuracy: 0.9340\n",
      "Epoch 38/50\n",
      "1149/1149 [==============================] - 0s 245us/sample - loss: 0.0984 - accuracy: 0.9739 - val_loss: 0.1797 - val_accuracy: 0.9340\n",
      "Epoch 39/50\n",
      "1149/1149 [==============================] - 0s 251us/sample - loss: 0.0979 - accuracy: 0.9774 - val_loss: 0.1726 - val_accuracy: 0.9306\n",
      "Epoch 40/50\n",
      "1149/1149 [==============================] - 0s 263us/sample - loss: 0.0949 - accuracy: 0.9678 - val_loss: 0.1687 - val_accuracy: 0.9410\n",
      "Epoch 41/50\n",
      "1149/1149 [==============================] - 0s 261us/sample - loss: 0.0899 - accuracy: 0.9765 - val_loss: 0.1661 - val_accuracy: 0.9410\n",
      "Epoch 42/50\n",
      "1149/1149 [==============================] - 0s 239us/sample - loss: 0.0873 - accuracy: 0.9774 - val_loss: 0.1688 - val_accuracy: 0.9306\n",
      "Epoch 43/50\n",
      "1149/1149 [==============================] - 0s 246us/sample - loss: 0.0847 - accuracy: 0.9800 - val_loss: 0.1725 - val_accuracy: 0.9271\n",
      "Epoch 44/50\n",
      "1149/1149 [==============================] - 0s 271us/sample - loss: 0.0820 - accuracy: 0.9782 - val_loss: 0.1573 - val_accuracy: 0.9375\n",
      "Epoch 45/50\n",
      "1149/1149 [==============================] - 0s 244us/sample - loss: 0.0804 - accuracy: 0.9817 - val_loss: 0.1676 - val_accuracy: 0.9444\n",
      "Epoch 46/50\n",
      "1149/1149 [==============================] - 0s 235us/sample - loss: 0.0774 - accuracy: 0.9817 - val_loss: 0.1627 - val_accuracy: 0.9375\n",
      "Epoch 47/50\n",
      "1149/1149 [==============================] - 0s 259us/sample - loss: 0.0751 - accuracy: 0.9852 - val_loss: 0.1737 - val_accuracy: 0.9375\n",
      "Epoch 48/50\n",
      "1149/1149 [==============================] - 0s 277us/sample - loss: 0.0751 - accuracy: 0.9817 - val_loss: 0.1655 - val_accuracy: 0.9444\n",
      "Epoch 49/50\n",
      "1149/1149 [==============================] - 0s 248us/sample - loss: 0.0720 - accuracy: 0.9852 - val_loss: 0.1600 - val_accuracy: 0.9410\n",
      "Epoch 50/50\n",
      "1149/1149 [==============================] - 0s 253us/sample - loss: 0.0700 - accuracy: 0.9843 - val_loss: 0.1552 - val_accuracy: 0.9410\n"
     ]
    }
   ],
   "source": [
    "# Model from above, but now with ten output neurons:\n",
    "\n",
    "model = Sequential()\n",
    "model.add(Dense(12, activation='relu', input_dim=64))\n",
    "model.add(Dense(8, activation='relu'))\n",
    "model.add(Dense(10, activation='softmax'))\n",
    "\n",
    "model.compile(optimizer='adam',\n",
    "              loss='categorical_crossentropy',\n",
    "              metrics=['accuracy'])\n",
    "\n",
    "results = model.fit(X_pure_train, y_pure_train,\n",
    "                   epochs=50, batch_size=10,\n",
    "                   validation_data=(X_val, y_val))"
   ]
  },
  {
   "cell_type": "markdown",
   "metadata": {},
   "source": [
    "$$\\large \\text{Softmax}(x_{i}) = \\frac{\\exp(x_i)}{\\sum_j \\exp(x_j)}$$\n",
    "\n",
    "The sofmax function outputs a number between 0 and 1 for each of our classes.  All of the probabilities of the classes sum up to 1.\n",
    "\n",
    "The number of nodes in our output layer equals the number of categories in our dataset.\n",
    "\n",
    "We also need a new loss function: **categorical crossentropy**, which calculates a separate loss for each label and then sums the results."
   ]
  },
  {
   "cell_type": "code",
   "execution_count": 52,
   "metadata": {},
   "outputs": [],
   "source": [
    "history = results.history\n",
    "training_loss = history['loss']\n",
    "val_loss = history['val_loss']\n",
    "training_accuracy = history['accuracy']\n",
    "val_accuracy = history['val_accuracy']"
   ]
  },
  {
   "cell_type": "code",
   "execution_count": 53,
   "metadata": {},
   "outputs": [
    {
     "data": {
      "image/png": "[encoded data removed]",
      "text/plain": [
       "<Figure size 1080x360 with 2 Axes>"
      ]
     },
     "metadata": {
      "needs_background": "light"
     },
     "output_type": "display_data"
    }
   ],
   "source": [
    "fig, (ax1,ax2) = plt.subplots(1,2,figsize=(15,5))\n",
    "\n",
    "\n",
    "sns.lineplot(x=list(range(len(training_loss))),\n",
    "             y=training_loss, color='r', label='training', ax=ax1)\n",
    "sns.lineplot(x=list(range(len(val_loss))),\n",
    "             y=val_loss, color='b', label='validation', ax=ax1)\n",
    "sns.lineplot(x=list(range(len(training_loss))),\n",
    "             y=training_accuracy, color='r', label='training',ax=ax2)\n",
    "sns.lineplot(x=list(range(len(val_loss))),\n",
    "             y=val_accuracy, color='b', label='validation',ax=ax2)\n",
    "ax1.legend();"
   ]
  },
  {
   "cell_type": "code",
   "execution_count": 59,
   "metadata": {},
   "outputs": [
    {
     "data": {
      "text/plain": [
       "array([[5.9966359e-04, 3.8222846e-05, 8.1789404e-13, ..., 2.7540312e-09,\n",
       "        3.5889092e-04, 5.3577384e-08],\n",
       "       [5.5420223e-05, 8.1327132e-09, 1.1535560e-10, ..., 5.0462323e-09,\n",
       "        2.9422636e-06, 9.3284744e-01],\n",
       "       [2.3338563e-13, 3.3531578e-06, 1.3132709e-04, ..., 2.4317595e-07,\n",
       "        1.5707873e-06, 1.0182767e-03],\n",
       "       ...,\n",
       "       [3.4438590e-06, 1.0469766e-02, 1.1191013e-05, ..., 2.0778290e-04,\n",
       "        9.8744202e-01, 2.3906342e-04],\n",
       "       [1.1088914e-06, 1.7113542e-05, 5.9023174e-04, ..., 1.7426810e-07,\n",
       "        1.2212505e-02, 3.6618221e-01],\n",
       "       [2.9990097e-05, 1.1857925e-05, 4.2495424e-10, ..., 1.0251505e-09,\n",
       "        2.1871704e-08, 1.9637687e-02]], dtype=float32)"
      ]
     },
     "execution_count": 59,
     "metadata": {},
     "output_type": "execute_result"
    }
   ],
   "source": [
    "model.predict(X_test)"
   ]
  },
  {
   "cell_type": "code",
   "execution_count": 56,
   "metadata": {},
   "outputs": [],
   "source": [
    "#Get the predictions on our test set\n",
    "y_hat_test = np.argmax(model.predict(X_test), axis=-1)"
   ]
  },
  {
   "cell_type": "code",
   "execution_count": 58,
   "metadata": {},
   "outputs": [
    {
     "data": {
      "text/plain": [
       "array([6, 9, 3, 7, 2, 1, 5, 2, 5, 2, 2, 9, 4, 0, 4, 2, 3, 7, 8, 8, 4, 3,\n",
       "       9, 7, 5, 6, 3, 5, 6, 3, 4, 9, 1, 4, 4, 6, 9, 4, 7, 6, 6, 9, 1, 3,\n",
       "       6, 1, 3, 0, 6, 5, 5, 1, 9, 5, 6, 0, 9, 0, 0, 1, 5, 4, 5, 2, 4, 5,\n",
       "       7, 0, 7, 5, 9, 9, 5, 4, 7, 0, 4, 5, 5, 9, 9, 0, 2, 3, 8, 0, 6, 4,\n",
       "       4, 9, 1, 2, 8, 3, 5, 2, 9, 0, 4, 4, 4, 3, 5, 3, 1, 8, 5, 9, 4, 2,\n",
       "       7, 7, 4, 4, 1, 9, 2, 7, 8, 7, 2, 6, 9, 4, 0, 7, 2, 7, 5, 8, 7, 5,\n",
       "       7, 9, 0, 6, 6, 4, 2, 8, 0, 9, 4, 6, 9, 9, 6, 9, 0, 5, 9, 6, 6, 0,\n",
       "       6, 4, 2, 9, 3, 8, 7, 2, 9, 0, 4, 5, 8, 6, 5, 8, 9, 8, 4, 2, 1, 3,\n",
       "       7, 7, 2, 2, 3, 9, 8, 0, 3, 2, 2, 5, 6, 9, 9, 4, 1, 1, 4, 2, 3, 6,\n",
       "       4, 8, 5, 9, 5, 7, 1, 9, 4, 8, 1, 5, 4, 4, 9, 6, 1, 8, 6, 0, 4, 5,\n",
       "       2, 7, 4, 6, 4, 5, 6, 0, 3, 2, 3, 6, 7, 1, 9, 1, 4, 7, 6, 5, 2, 5,\n",
       "       5, 1, 0, 2, 8, 8, 9, 5, 7, 6, 2, 2, 2, 3, 4, 8, 8, 3, 6, 0, 9, 7,\n",
       "       7, 0, 1, 0, 4, 5, 1, 5, 3, 6, 0, 4, 1, 0, 0, 3, 6, 5, 9, 7, 3, 5,\n",
       "       5, 9, 9, 8, 5, 3, 3, 2, 0, 5, 8, 3, 4, 0, 2, 4, 6, 4, 3, 4, 5, 0,\n",
       "       5, 2, 1, 3, 1, 4, 1, 1, 7, 0, 1, 5, 8, 1, 2, 8, 7, 0, 6, 4, 8, 8,\n",
       "       5, 1, 8, 4, 5, 8, 7, 9, 8, 8, 0, 6, 2, 0, 7, 9, 1, 9, 5, 2, 7, 7,\n",
       "       1, 8, 7, 4, 3, 8, 3, 5])"
      ]
     },
     "execution_count": 58,
     "metadata": {},
     "output_type": "execute_result"
    }
   ],
   "source": [
    "y_hat_test"
   ]
  },
  {
   "cell_type": "code",
   "execution_count": 57,
   "metadata": {
    "scrolled": false
   },
   "outputs": [
    {
     "data": {
      "text/plain": [
       "array([[32,  0,  0,  0,  0,  1,  0,  0,  0,  0],\n",
       "       [ 0, 27,  1,  0,  0,  0,  0,  0,  0,  0],\n",
       "       [ 0,  0, 32,  0,  0,  0,  0,  0,  1,  0],\n",
       "       [ 0,  0,  1, 30,  0,  1,  0,  0,  2,  0],\n",
       "       [ 0,  0,  0,  0, 46,  0,  0,  0,  0,  0],\n",
       "       [ 0,  1,  0,  0,  0, 42,  0,  0,  1,  3],\n",
       "       [ 1,  0,  0,  0,  0,  0, 34,  0,  0,  0],\n",
       "       [ 0,  0,  0,  0,  0,  0,  0, 33,  0,  1],\n",
       "       [ 0,  2,  1,  0,  0,  1,  0,  0, 26,  0],\n",
       "       [ 0,  0,  0,  0,  0,  1,  0,  0,  2, 37]])"
      ]
     },
     "execution_count": 57,
     "metadata": {},
     "output_type": "execute_result"
    }
   ],
   "source": [
    "y_test_restore = ohe.inverse_transform(y_test)\n",
    "confusion_matrix(y_test_restore, y_hat_test)"
   ]
  },
  {
   "cell_type": "markdown",
   "metadata": {},
   "source": [
    "Wow, look at that performance!  \n",
    "\n",
    "That is great, but remember, we were dealing with simple black and white images.  With color, our basic neural net will have less success.\n",
    "\n",
    "We will explore more advanced tools in the coming days.\n"
   ]
  }
 ],
 "metadata": {
  "celltoolbar": "Raw Cell Format",
  "colab": {
   "collapsed_sections": [],
   "name": "intro-to-keras.ipynb",
   "provenance": []
  },
  "kernelspec": {
   "display_name": "Python (tensor_lecture)",
   "language": "python",
   "name": "tensor_lecture"
  },
  "language_info": {
   "codemirror_mode": {
    "name": "ipython",
    "version": 3
   },
   "file_extension": ".py",
   "mimetype": "text/x-python",
   "name": "python",
   "nbconvert_exporter": "python",
   "pygments_lexer": "ipython3",
   "version": "3.7.13"
  }
 },
 "nbformat": 4,
 "nbformat_minor": 4
}
