{
 "cells": [
  {
   "cell_type": "markdown",
   "metadata": {
    "slideshow": {
     "slide_type": "slide"
    }
   },
   "source": [
    "# Regularization and Evaluation of Neural Networks"
   ]
  },
  {
   "cell_type": "code",
   "execution_count": 1,
   "metadata": {},
   "outputs": [],
   "source": [
    "from sklearn.datasets import load_sample_images\n",
    "from sklearn.datasets import load_digits\n",
    "from sklearn.model_selection import train_test_split, cross_val_score\n",
    "from sklearn.preprocessing import OneHotEncoder\n",
    "from sklearn.metrics import accuracy_score, confusion_matrix\n",
    "import matplotlib.pyplot as plt\n",
    "import matplotlib.image as mpimg\n",
    "import numpy as np\n",
    "import seaborn as sns\n",
    "\n",
    "from tensorflow.keras.models import Sequential\n",
    "from tensorflow.keras.layers import Dense, Dropout\n",
    "from tensorflow.keras.regularizers import l2\n",
    "from tensorflow.keras.optimizers import SGD\n",
    "from tensorflow.keras.wrappers import scikit_learn\n",
    "from tensorflow.keras.callbacks import EarlyStopping\n",
    "\n",
    "import os\n",
    "import sys\n",
    "module_path = os.path.abspath(os.path.join(os.pardir, os.pardir))\n",
    "if module_path not in sys.path:\n",
    "    sys.path.append(module_path)\n",
    "    \n",
    "%load_ext autoreload\n",
    "%autoreload 2"
   ]
  },
  {
   "cell_type": "markdown",
   "metadata": {},
   "source": [
    "## Learning Objectives\n",
    "\n",
    "- use `keras` to code up a neural network model;\n",
    "- explain dropout and early stopping as distinctive forms of regularization in neural networks;\n",
    "- use wrappers inside `keras` to make models that can jibe with `sklearn`."
   ]
  },
  {
   "cell_type": "markdown",
   "metadata": {},
   "source": [
    "### From last time"
   ]
  },
  {
   "cell_type": "code",
   "execution_count": 2,
   "metadata": {},
   "outputs": [],
   "source": [
    "digits = load_digits()\n",
    "X = digits.data\n",
    "y = digits.target\n",
    "\n",
    "y_binary = y % 2"
   ]
  },
  {
   "cell_type": "code",
   "execution_count": 3,
   "metadata": {},
   "outputs": [
    {
     "name": "stderr",
     "output_type": "stream",
     "text": [
      "2022-07-28 14:03:15.061039: I tensorflow/core/platform/cpu_feature_guard.cc:145] This TensorFlow binary is optimized with Intel(R) MKL-DNN to use the following CPU instructions in performance critical operations:  SSE4.1 SSE4.2\n",
      "To enable them in non-MKL-DNN operations, rebuild TensorFlow with the appropriate compiler flags.\n",
      "2022-07-28 14:03:15.062793: I tensorflow/core/common_runtime/process_util.cc:115] Creating new thread pool with default inter op setting: 10. Tune using inter_op_parallelism_threads for best performance.\n"
     ]
    },
    {
     "name": "stdout",
     "output_type": "stream",
     "text": [
      "Train on 1797 samples\n",
      "Epoch 1/50\n",
      "1797/1797 [==============================] - 1s 574us/sample - loss: 0.8493 - accuracy: 0.6934\n",
      "Epoch 2/50\n",
      "1797/1797 [==============================] - 0s 157us/sample - loss: 0.2612 - accuracy: 0.9054\n",
      "Epoch 3/50\n",
      "1797/1797 [==============================] - 0s 170us/sample - loss: 0.2203 - accuracy: 0.9160\n",
      "Epoch 4/50\n",
      "1797/1797 [==============================] - 0s 147us/sample - loss: 0.1921 - accuracy: 0.9226\n",
      "Epoch 5/50\n",
      "1797/1797 [==============================] - 0s 148us/sample - loss: 0.1711 - accuracy: 0.9366\n",
      "Epoch 6/50\n",
      "1797/1797 [==============================] - 0s 163us/sample - loss: 0.1485 - accuracy: 0.9421 - loss: 0.1506 - accuracy: 0.94\n",
      "Epoch 7/50\n",
      "1797/1797 [==============================] - 0s 159us/sample - loss: 0.1310 - accuracy: 0.9499\n",
      "Epoch 8/50\n",
      "1797/1797 [==============================] - 0s 186us/sample - loss: 0.1086 - accuracy: 0.9622\n",
      "Epoch 9/50\n",
      "1797/1797 [==============================] - ETA: 0s - loss: 0.0981 - accuracy: 0.96 - 0s 170us/sample - loss: 0.0986 - accuracy: 0.9683\n",
      "Epoch 10/50\n",
      "1797/1797 [==============================] - 0s 166us/sample - loss: 0.0830 - accuracy: 0.9705\n",
      "Epoch 11/50\n",
      "1797/1797 [==============================] - 0s 154us/sample - loss: 0.0714 - accuracy: 0.9722\n",
      "Epoch 12/50\n",
      "1797/1797 [==============================] - 0s 150us/sample - loss: 0.0685 - accuracy: 0.9744\n",
      "Epoch 13/50\n",
      "1797/1797 [==============================] - 0s 165us/sample - loss: 0.0629 - accuracy: 0.9761\n",
      "Epoch 14/50\n",
      "1797/1797 [==============================] - 0s 166us/sample - loss: 0.0568 - accuracy: 0.9783\n",
      "Epoch 15/50\n",
      "1797/1797 [==============================] - 0s 164us/sample - loss: 0.0484 - accuracy: 0.9789\n",
      "Epoch 16/50\n",
      "1797/1797 [==============================] - 0s 153us/sample - loss: 0.0437 - accuracy: 0.9850\n",
      "Epoch 17/50\n",
      "1797/1797 [==============================] - 0s 142us/sample - loss: 0.0386 - accuracy: 0.9878\n",
      "Epoch 18/50\n",
      "1797/1797 [==============================] - 0s 140us/sample - loss: 0.0372 - accuracy: 0.9827\n",
      "Epoch 19/50\n",
      "1797/1797 [==============================] - 0s 137us/sample - loss: 0.0406 - accuracy: 0.9844\n",
      "Epoch 20/50\n",
      "1797/1797 [==============================] - 0s 136us/sample - loss: 0.0311 - accuracy: 0.9861\n",
      "Epoch 21/50\n",
      "1797/1797 [==============================] - 0s 149us/sample - loss: 0.0262 - accuracy: 0.9939\n",
      "Epoch 22/50\n",
      "1797/1797 [==============================] - 0s 145us/sample - loss: 0.0245 - accuracy: 0.9905\n",
      "Epoch 23/50\n",
      "1797/1797 [==============================] - 0s 139us/sample - loss: 0.0232 - accuracy: 0.9922\n",
      "Epoch 24/50\n",
      "1797/1797 [==============================] - 0s 148us/sample - loss: 0.0194 - accuracy: 0.9944\n",
      "Epoch 25/50\n",
      "1797/1797 [==============================] - 0s 148us/sample - loss: 0.0218 - accuracy: 0.9917\n",
      "Epoch 26/50\n",
      "1797/1797 [==============================] - 0s 141us/sample - loss: 0.0244 - accuracy: 0.9922\n",
      "Epoch 27/50\n",
      "1797/1797 [==============================] - 0s 147us/sample - loss: 0.0172 - accuracy: 0.9955\n",
      "Epoch 28/50\n",
      "1797/1797 [==============================] - 0s 149us/sample - loss: 0.0169 - accuracy: 0.9944\n",
      "Epoch 29/50\n",
      "1797/1797 [==============================] - 0s 146us/sample - loss: 0.0156 - accuracy: 0.9955\n",
      "Epoch 30/50\n",
      "1797/1797 [==============================] - 0s 141us/sample - loss: 0.0144 - accuracy: 0.9950\n",
      "Epoch 31/50\n",
      "1797/1797 [==============================] - 0s 137us/sample - loss: 0.0140 - accuracy: 0.9944\n",
      "Epoch 32/50\n",
      "1797/1797 [==============================] - 0s 137us/sample - loss: 0.0139 - accuracy: 0.9961\n",
      "Epoch 33/50\n",
      "1797/1797 [==============================] - 0s 134us/sample - loss: 0.0099 - accuracy: 0.9967\n",
      "Epoch 34/50\n",
      "1797/1797 [==============================] - 0s 149us/sample - loss: 0.0100 - accuracy: 0.9967\n",
      "Epoch 35/50\n",
      "1797/1797 [==============================] - 0s 144us/sample - loss: 0.0082 - accuracy: 0.9972\n",
      "Epoch 36/50\n",
      "1797/1797 [==============================] - 0s 143us/sample - loss: 0.0087 - accuracy: 0.9972\n",
      "Epoch 37/50\n",
      "1797/1797 [==============================] - 0s 149us/sample - loss: 0.0063 - accuracy: 0.9989\n",
      "Epoch 38/50\n",
      "1797/1797 [==============================] - 0s 141us/sample - loss: 0.0089 - accuracy: 0.9967\n",
      "Epoch 39/50\n",
      "1797/1797 [==============================] - 0s 137us/sample - loss: 0.0109 - accuracy: 0.9961\n",
      "Epoch 40/50\n",
      "1797/1797 [==============================] - 0s 158us/sample - loss: 0.0110 - accuracy: 0.9967\n",
      "Epoch 41/50\n",
      "1797/1797 [==============================] - 0s 145us/sample - loss: 0.0065 - accuracy: 0.9972\n",
      "Epoch 42/50\n",
      "1797/1797 [==============================] - 0s 140us/sample - loss: 0.0046 - accuracy: 0.9989\n",
      "Epoch 43/50\n",
      "1797/1797 [==============================] - 0s 138us/sample - loss: 0.0040 - accuracy: 0.9989\n",
      "Epoch 44/50\n",
      "1797/1797 [==============================] - 0s 151us/sample - loss: 0.0035 - accuracy: 1.0000\n",
      "Epoch 45/50\n",
      "1797/1797 [==============================] - 0s 141us/sample - loss: 0.0061 - accuracy: 0.9967\n",
      "Epoch 46/50\n",
      "1797/1797 [==============================] - 0s 138us/sample - loss: 0.0031 - accuracy: 0.9994\n",
      "Epoch 47/50\n",
      "1797/1797 [==============================] - 0s 148us/sample - loss: 0.0027 - accuracy: 0.9994\n",
      "Epoch 48/50\n",
      "1797/1797 [==============================] - 0s 158us/sample - loss: 0.0031 - accuracy: 0.9994\n",
      "Epoch 49/50\n",
      "1797/1797 [==============================] - 0s 141us/sample - loss: 0.0051 - accuracy: 0.9983\n",
      "Epoch 50/50\n",
      "1797/1797 [==============================] - 0s 151us/sample - loss: 0.0053 - accuracy: 0.9983\n"
     ]
    },
    {
     "data": {
      "text/plain": [
       "<tensorflow.python.keras.callbacks.History at 0x7f9b83e1cf10>"
      ]
     },
     "execution_count": 3,
     "metadata": {},
     "output_type": "execute_result"
    }
   ],
   "source": [
    "model = Sequential()\n",
    "model.add(Dense(12, activation='relu', input_dim=64))\n",
    "model.add(Dense(8, activation='relu'))\n",
    "model.add(Dense(1, activation='sigmoid'))\n",
    "\n",
    "model.compile(optimizer='Adam',\n",
    "              loss='binary_crossentropy',\n",
    "              metrics=['accuracy'])\n",
    "\n",
    "model.fit(X, y_binary, epochs=50, batch_size=10)"
   ]
  },
  {
   "cell_type": "markdown",
   "metadata": {},
   "source": [
    "### Things to know:\n",
    "\n",
    "- The data and labels in `fit()` need to be numpy arrays, not `pandas` dfs.\n",
    "- Scaling your data will have a large impact on your model.\n",
    "   > For our traditional input features, we would use a scaler object. For images, as long as the minimum value is 0, we can simply divide through by the maximum pixel intensity."
   ]
  },
  {
   "cell_type": "markdown",
   "metadata": {},
   "source": [
    "#### Getting data ready for modeling\n",
    "**Preprocessing**:\n",
    "\n",
    "- use train_test_split to create X_train, y_train, X_test, and y_test\n",
    "- Split training data into pure_train and validation sets.\n",
    "- Scale the pixel intensity to a value between 0 and 1."
   ]
  },
  {
   "cell_type": "markdown",
   "metadata": {},
   "source": [
    "Scaling our input variables will help speed up our neural network.\n",
    "\n",
    "Since our minimum intensity is 0, we can normalize the inputs by dividing each value by the max value (16)."
   ]
  },
  {
   "cell_type": "code",
   "execution_count": 4,
   "metadata": {},
   "outputs": [],
   "source": [
    "X_train, X_test, y_train, y_test =\\\n",
    "    train_test_split(X, y_binary, random_state=42, test_size=0.2)\n",
    "\n",
    "X_pure_train, X_val, y_pure_train, y_val =\\\n",
    "    train_test_split(X_train, y_train, random_state=42, test_size=0.2)\n",
    "\n",
    "#Normalize our inputs\n",
    "X_pure_train, X_val, X_test = X_pure_train/16, X_val/16, X_test/16"
   ]
  },
  {
   "cell_type": "markdown",
   "metadata": {},
   "source": [
    "For activation, let's start with the familiar sigmoid function, and see how it performs."
   ]
  },
  {
   "cell_type": "code",
   "execution_count": 5,
   "metadata": {},
   "outputs": [
    {
     "name": "stdout",
     "output_type": "stream",
     "text": [
      "Train on 1149 samples\n",
      "Epoch 1/10\n",
      "1149/1149 [==============================] - 0s 342us/sample - loss: 0.6961 - accuracy: 0.4961\n",
      "Epoch 2/10\n",
      "1149/1149 [==============================] - 0s 19us/sample - loss: 0.6958 - accuracy: 0.4961\n",
      "Epoch 3/10\n",
      "1149/1149 [==============================] - 0s 19us/sample - loss: 0.6955 - accuracy: 0.4970\n",
      "Epoch 4/10\n",
      "1149/1149 [==============================] - 0s 17us/sample - loss: 0.6953 - accuracy: 0.4961\n",
      "Epoch 5/10\n",
      "1149/1149 [==============================] - 0s 18us/sample - loss: 0.6951 - accuracy: 0.4961\n",
      "Epoch 6/10\n",
      "1149/1149 [==============================] - 0s 17us/sample - loss: 0.6949 - accuracy: 0.4891\n",
      "Epoch 7/10\n",
      "1149/1149 [==============================] - 0s 28us/sample - loss: 0.6947 - accuracy: 0.4795\n",
      "Epoch 8/10\n",
      "1149/1149 [==============================] - 0s 27us/sample - loss: 0.6945 - accuracy: 0.4761\n",
      "Epoch 9/10\n",
      "1149/1149 [==============================] - 0s 24us/sample - loss: 0.6944 - accuracy: 0.4691\n",
      "Epoch 10/10\n",
      "1149/1149 [==============================] - 0s 22us/sample - loss: 0.6943 - accuracy: 0.4578\n"
     ]
    }
   ],
   "source": [
    "model = Sequential()\n",
    "# We will start with our trusty sigmoid function.\n",
    "# What does input dimension correspond to?\n",
    "model.add(Dense(12, activation='sigmoid', input_dim=64))\n",
    "model.add(Dense(8, activation='sigmoid'))\n",
    "model.add(Dense(1, activation='sigmoid'))\n",
    "\n",
    "model.compile(optimizer='SGD' ,\n",
    "              # We use binary_crossentropy for a binary loss function\n",
    "              loss='binary_crossentropy',\n",
    "              metrics=['accuracy'])\n",
    "\n",
    "# Assign the variable history to store the results,\n",
    "# and set verbose=1 so we can see the output. To see\n",
    "# only the metrics at the end of each epoch, set verbose=2.\n",
    "results = model.fit(X_pure_train, y_pure_train, epochs=10, batch_size=100, verbose=1)"
   ]
  },
  {
   "cell_type": "markdown",
   "metadata": {},
   "source": [
    "We can access the history of our model via `results.history`.\n",
    "Use __dict__ to take a tour."
   ]
  },
  {
   "cell_type": "code",
   "execution_count": 6,
   "metadata": {},
   "outputs": [
    {
     "data": {
      "text/plain": [
       "{'validation_data': None,\n",
       " 'model': <tensorflow.python.keras.engine.sequential.Sequential at 0x7f9b7085ce50>,\n",
       " '_chief_worker_only': None,\n",
       " 'params': {'batch_size': 100,\n",
       "  'epochs': 10,\n",
       "  'steps': 12,\n",
       "  'samples': 1149,\n",
       "  'verbose': 1,\n",
       "  'do_validation': False,\n",
       "  'metrics': ['loss', 'accuracy']},\n",
       " 'epoch': [0, 1, 2, 3, 4, 5, 6, 7, 8, 9],\n",
       " 'history': {'loss': [0.6961276982534025,\n",
       "   0.6957932904142209,\n",
       "   0.6955352861845981,\n",
       "   0.6952731135723589,\n",
       "   0.6950878978709328,\n",
       "   0.6948570340897748,\n",
       "   0.6946513171918087,\n",
       "   0.6945195922756112,\n",
       "   0.694393779372422,\n",
       "   0.6942653699581056],\n",
       "  'accuracy': [0.49608356,\n",
       "   0.49608356,\n",
       "   0.49695387,\n",
       "   0.49608356,\n",
       "   0.49608356,\n",
       "   0.48912096,\n",
       "   0.47954744,\n",
       "   0.47606614,\n",
       "   0.46910357,\n",
       "   0.4577894]}}"
      ]
     },
     "execution_count": 6,
     "metadata": {},
     "output_type": "execute_result"
    }
   ],
   "source": [
    "results.__dict__"
   ]
  },
  {
   "cell_type": "code",
   "execution_count": 11,
   "metadata": {},
   "outputs": [
    {
     "data": {
      "image/png": "[encoded data removed]",
      "text/plain": [
       "<Figure size 720x360 with 2 Axes>"
      ]
     },
     "metadata": {
      "needs_background": "light"
     },
     "output_type": "display_data"
    }
   ],
   "source": [
    "#Let's plot our loss and accuracy on two graphs\n",
    "sigmoid_loss = results.history['loss']\n",
    "sigmoid_accuracy = results.history['accuracy']\n",
    "\n",
    "fig, (ax1, ax2) = plt.subplots(1, 2, figsize=(10,5))\n",
    "sns.lineplot(x=results.epoch, y=sigmoid_loss, ax=ax1, label='loss')\n",
    "sns.lineplot(x=results.epoch, y=sigmoid_accuracy, ax=ax2, label='accuracy');"
   ]
  },
  {
   "cell_type": "markdown",
   "metadata": {},
   "source": [
    "We have two plots above both relating to the quality of our model.  The left-hand plot is our loss. It uses the probabilities associated with our predictions to judge how well our prediction fits reality. We want it to decrease as far as possible.\n",
    "\n",
    "The accuracy judges how well the predictions are after applying the threshold at the output layer.  We want accuracy to increase."
   ]
  },
  {
   "cell_type": "markdown",
   "metadata": {},
   "source": [
    "If we look at our loss, it is still decreasing. That is a signal that our model is **still learning**. If our model is still learning, we can allow it to get better by turning a few dials.\n",
    "\n",
    "Let's:\n",
    "- increase the number of epochs;\n",
    "- change sigmoid activation in the hidden layers to ReLU; and\n",
    "- decrease the batch size."
   ]
  },
  {
   "cell_type": "code",
   "execution_count": 12,
   "metadata": {},
   "outputs": [
    {
     "data": {
      "text/plain": [
       "1149"
      ]
     },
     "execution_count": 12,
     "metadata": {},
     "output_type": "execute_result"
    }
   ],
   "source": [
    "X_pure_train.shape[0]"
   ]
  },
  {
   "cell_type": "markdown",
   "metadata": {},
   "source": [
    "This below code is currently what we already ran above.\n",
    "\n",
    "How can we change it to accomplish the above bullet points?"
   ]
  },
  {
   "cell_type": "code",
   "execution_count": 13,
   "metadata": {},
   "outputs": [
    {
     "name": "stdout",
     "output_type": "stream",
     "text": [
      "Train on 1149 samples\n",
      "Epoch 1/100\n",
      "1149/1149 [==============================] - 0s 386us/sample - loss: 0.7410 - accuracy: 0.4578\n",
      "Epoch 2/100\n",
      "1149/1149 [==============================] - 0s 41us/sample - loss: 0.7023 - accuracy: 0.4813\n",
      "Epoch 3/100\n",
      "1149/1149 [==============================] - 0s 46us/sample - loss: 0.6821 - accuracy: 0.5692\n",
      "Epoch 4/100\n",
      "1149/1149 [==============================] - 0s 47us/sample - loss: 0.6663 - accuracy: 0.6266\n",
      "Epoch 5/100\n",
      "1149/1149 [==============================] - 0s 48us/sample - loss: 0.6526 - accuracy: 0.6675\n",
      "Epoch 6/100\n",
      "1149/1149 [==============================] - 0s 62us/sample - loss: 0.6395 - accuracy: 0.6902\n",
      "Epoch 7/100\n",
      "1149/1149 [==============================] - 0s 45us/sample - loss: 0.6259 - accuracy: 0.7241\n",
      "Epoch 8/100\n",
      "1149/1149 [==============================] - 0s 50us/sample - loss: 0.6114 - accuracy: 0.7415\n",
      "Epoch 9/100\n",
      "1149/1149 [==============================] - 0s 58us/sample - loss: 0.5957 - accuracy: 0.7668\n",
      "Epoch 10/100\n",
      "1149/1149 [==============================] - 0s 55us/sample - loss: 0.5786 - accuracy: 0.7755\n",
      "Epoch 11/100\n",
      "1149/1149 [==============================] - 0s 61us/sample - loss: 0.5605 - accuracy: 0.7946\n",
      "Epoch 12/100\n",
      "1149/1149 [==============================] - 0s 55us/sample - loss: 0.5408 - accuracy: 0.8085\n",
      "Epoch 13/100\n",
      "1149/1149 [==============================] - 0s 52us/sample - loss: 0.5198 - accuracy: 0.8225\n",
      "Epoch 14/100\n",
      "1149/1149 [==============================] - 0s 48us/sample - loss: 0.4980 - accuracy: 0.8259\n",
      "Epoch 15/100\n",
      "1149/1149 [==============================] - 0s 59us/sample - loss: 0.4766 - accuracy: 0.8407\n",
      "Epoch 16/100\n",
      "1149/1149 [==============================] - 0s 59us/sample - loss: 0.4549 - accuracy: 0.8512\n",
      "Epoch 17/100\n",
      "1149/1149 [==============================] - 0s 50us/sample - loss: 0.4344 - accuracy: 0.8538\n",
      "Epoch 18/100\n",
      "1149/1149 [==============================] - 0s 44us/sample - loss: 0.4146 - accuracy: 0.8625\n",
      "Epoch 19/100\n",
      "1149/1149 [==============================] - 0s 43us/sample - loss: 0.3963 - accuracy: 0.8677\n",
      "Epoch 20/100\n",
      "1149/1149 [==============================] - 0s 45us/sample - loss: 0.3791 - accuracy: 0.8738\n",
      "Epoch 21/100\n",
      "1149/1149 [==============================] - 0s 45us/sample - loss: 0.3640 - accuracy: 0.8721\n",
      "Epoch 22/100\n",
      "1149/1149 [==============================] - 0s 44us/sample - loss: 0.3502 - accuracy: 0.8712\n",
      "Epoch 23/100\n",
      "1149/1149 [==============================] - 0s 43us/sample - loss: 0.3376 - accuracy: 0.8755\n",
      "Epoch 24/100\n",
      "1149/1149 [==============================] - 0s 40us/sample - loss: 0.3262 - accuracy: 0.8816\n",
      "Epoch 25/100\n",
      "1149/1149 [==============================] - 0s 44us/sample - loss: 0.3161 - accuracy: 0.8808\n",
      "Epoch 26/100\n",
      "1149/1149 [==============================] - 0s 42us/sample - loss: 0.3069 - accuracy: 0.8834\n",
      "Epoch 27/100\n",
      "1149/1149 [==============================] - 0s 42us/sample - loss: 0.2981 - accuracy: 0.8834\n",
      "Epoch 28/100\n",
      "1149/1149 [==============================] - 0s 49us/sample - loss: 0.2899 - accuracy: 0.8877\n",
      "Epoch 29/100\n",
      "1149/1149 [==============================] - 0s 43us/sample - loss: 0.2845 - accuracy: 0.8869\n",
      "Epoch 30/100\n",
      "1149/1149 [==============================] - 0s 45us/sample - loss: 0.2770 - accuracy: 0.8869\n",
      "Epoch 31/100\n",
      "1149/1149 [==============================] - 0s 46us/sample - loss: 0.2710 - accuracy: 0.8938\n",
      "Epoch 32/100\n",
      "1149/1149 [==============================] - 0s 48us/sample - loss: 0.2658 - accuracy: 0.8912\n",
      "Epoch 33/100\n",
      "1149/1149 [==============================] - 0s 43us/sample - loss: 0.2609 - accuracy: 0.8912\n",
      "Epoch 34/100\n",
      "1149/1149 [==============================] - 0s 51us/sample - loss: 0.2567 - accuracy: 0.8930\n",
      "Epoch 35/100\n",
      "1149/1149 [==============================] - 0s 43us/sample - loss: 0.2525 - accuracy: 0.8947\n",
      "Epoch 36/100\n",
      "1149/1149 [==============================] - 0s 40us/sample - loss: 0.2482 - accuracy: 0.8956\n",
      "Epoch 37/100\n",
      "1149/1149 [==============================] - 0s 40us/sample - loss: 0.2449 - accuracy: 0.8990\n",
      "Epoch 38/100\n",
      "1149/1149 [==============================] - 0s 42us/sample - loss: 0.2411 - accuracy: 0.8990\n",
      "Epoch 39/100\n",
      "1149/1149 [==============================] - 0s 41us/sample - loss: 0.2388 - accuracy: 0.8947\n",
      "Epoch 40/100\n",
      "1149/1149 [==============================] - 0s 39us/sample - loss: 0.2358 - accuracy: 0.8982\n",
      "Epoch 41/100\n",
      "1149/1149 [==============================] - 0s 40us/sample - loss: 0.2326 - accuracy: 0.9043\n",
      "Epoch 42/100\n",
      "1149/1149 [==============================] - 0s 42us/sample - loss: 0.2304 - accuracy: 0.9025\n",
      "Epoch 43/100\n",
      "1149/1149 [==============================] - 0s 41us/sample - loss: 0.2284 - accuracy: 0.9008\n",
      "Epoch 44/100\n",
      "1149/1149 [==============================] - 0s 43us/sample - loss: 0.2262 - accuracy: 0.9069\n",
      "Epoch 45/100\n",
      "1149/1149 [==============================] - 0s 44us/sample - loss: 0.2234 - accuracy: 0.9095\n",
      "Epoch 46/100\n",
      "1149/1149 [==============================] - 0s 44us/sample - loss: 0.2213 - accuracy: 0.9086\n",
      "Epoch 47/100\n",
      "1149/1149 [==============================] - 0s 44us/sample - loss: 0.2194 - accuracy: 0.9043\n",
      "Epoch 48/100\n",
      "1149/1149 [==============================] - 0s 41us/sample - loss: 0.2178 - accuracy: 0.9060\n",
      "Epoch 49/100\n",
      "1149/1149 [==============================] - 0s 42us/sample - loss: 0.2160 - accuracy: 0.9138\n",
      "Epoch 50/100\n",
      "1149/1149 [==============================] - 0s 40us/sample - loss: 0.2147 - accuracy: 0.9086\n",
      "Epoch 51/100\n",
      "1149/1149 [==============================] - 0s 39us/sample - loss: 0.2136 - accuracy: 0.9086\n",
      "Epoch 52/100\n",
      "1149/1149 [==============================] - 0s 43us/sample - loss: 0.2117 - accuracy: 0.9069\n",
      "Epoch 53/100\n",
      "1149/1149 [==============================] - 0s 40us/sample - loss: 0.2104 - accuracy: 0.9112\n",
      "Epoch 54/100\n",
      "1149/1149 [==============================] - 0s 44us/sample - loss: 0.2087 - accuracy: 0.9095\n",
      "Epoch 55/100\n",
      "1149/1149 [==============================] - 0s 47us/sample - loss: 0.2084 - accuracy: 0.9130\n",
      "Epoch 56/100\n",
      "1149/1149 [==============================] - 0s 45us/sample - loss: 0.2060 - accuracy: 0.9104\n",
      "Epoch 57/100\n",
      "1149/1149 [==============================] - 0s 43us/sample - loss: 0.2053 - accuracy: 0.9156\n",
      "Epoch 58/100\n",
      "1149/1149 [==============================] - 0s 41us/sample - loss: 0.2037 - accuracy: 0.9086\n",
      "Epoch 59/100\n",
      "1149/1149 [==============================] - 0s 39us/sample - loss: 0.2022 - accuracy: 0.9121\n",
      "Epoch 60/100\n",
      "1149/1149 [==============================] - 0s 41us/sample - loss: 0.2014 - accuracy: 0.9147\n",
      "Epoch 61/100\n",
      "1149/1149 [==============================] - 0s 39us/sample - loss: 0.1994 - accuracy: 0.9095\n",
      "Epoch 62/100\n",
      "1149/1149 [==============================] - 0s 41us/sample - loss: 0.1997 - accuracy: 0.9104\n",
      "Epoch 63/100\n",
      "1149/1149 [==============================] - 0s 41us/sample - loss: 0.1999 - accuracy: 0.9121\n",
      "Epoch 64/100\n",
      "1149/1149 [==============================] - 0s 44us/sample - loss: 0.1965 - accuracy: 0.9156\n",
      "Epoch 65/100\n",
      "1149/1149 [==============================] - 0s 43us/sample - loss: 0.1955 - accuracy: 0.9147\n",
      "Epoch 66/100\n",
      "1149/1149 [==============================] - 0s 46us/sample - loss: 0.1945 - accuracy: 0.9130\n",
      "Epoch 67/100\n",
      "1149/1149 [==============================] - 0s 45us/sample - loss: 0.1939 - accuracy: 0.9130\n",
      "Epoch 68/100\n",
      "1149/1149 [==============================] - 0s 40us/sample - loss: 0.1926 - accuracy: 0.9121\n",
      "Epoch 69/100\n",
      "1149/1149 [==============================] - 0s 38us/sample - loss: 0.1925 - accuracy: 0.9138\n",
      "Epoch 70/100\n",
      "1149/1149 [==============================] - 0s 40us/sample - loss: 0.1900 - accuracy: 0.9173\n",
      "Epoch 71/100\n",
      "1149/1149 [==============================] - 0s 41us/sample - loss: 0.1902 - accuracy: 0.9138\n",
      "Epoch 72/100\n",
      "1149/1149 [==============================] - 0s 40us/sample - loss: 0.1895 - accuracy: 0.9138\n",
      "Epoch 73/100\n",
      "1149/1149 [==============================] - 0s 41us/sample - loss: 0.1885 - accuracy: 0.9147\n",
      "Epoch 74/100\n",
      "1149/1149 [==============================] - 0s 44us/sample - loss: 0.1872 - accuracy: 0.9182\n",
      "Epoch 75/100\n",
      "1149/1149 [==============================] - 0s 38us/sample - loss: 0.1876 - accuracy: 0.9173\n",
      "Epoch 76/100\n",
      "1149/1149 [==============================] - 0s 40us/sample - loss: 0.1862 - accuracy: 0.9182\n",
      "Epoch 77/100\n"
     ]
    },
    {
     "name": "stdout",
     "output_type": "stream",
     "text": [
      "1149/1149 [==============================] - 0s 42us/sample - loss: 0.1847 - accuracy: 0.9182\n",
      "Epoch 78/100\n",
      "1149/1149 [==============================] - 0s 46us/sample - loss: 0.1849 - accuracy: 0.9182\n",
      "Epoch 79/100\n",
      "1149/1149 [==============================] - 0s 46us/sample - loss: 0.1836 - accuracy: 0.9173\n",
      "Epoch 80/100\n",
      "1149/1149 [==============================] - 0s 45us/sample - loss: 0.1841 - accuracy: 0.9217\n",
      "Epoch 81/100\n",
      "1149/1149 [==============================] - 0s 45us/sample - loss: 0.1819 - accuracy: 0.9173\n",
      "Epoch 82/100\n",
      "1149/1149 [==============================] - 0s 45us/sample - loss: 0.1814 - accuracy: 0.9182\n",
      "Epoch 83/100\n",
      "1149/1149 [==============================] - 0s 46us/sample - loss: 0.1807 - accuracy: 0.9225\n",
      "Epoch 84/100\n",
      "1149/1149 [==============================] - 0s 44us/sample - loss: 0.1791 - accuracy: 0.9217\n",
      "Epoch 85/100\n",
      "1149/1149 [==============================] - 0s 44us/sample - loss: 0.1793 - accuracy: 0.9199\n",
      "Epoch 86/100\n",
      "1149/1149 [==============================] - 0s 40us/sample - loss: 0.1786 - accuracy: 0.9217\n",
      "Epoch 87/100\n",
      "1149/1149 [==============================] - 0s 40us/sample - loss: 0.1782 - accuracy: 0.9217\n",
      "Epoch 88/100\n",
      "1149/1149 [==============================] - 0s 40us/sample - loss: 0.1770 - accuracy: 0.9217\n",
      "Epoch 89/100\n",
      "1149/1149 [==============================] - 0s 42us/sample - loss: 0.1765 - accuracy: 0.9208\n",
      "Epoch 90/100\n",
      "1149/1149 [==============================] - 0s 45us/sample - loss: 0.1758 - accuracy: 0.9269\n",
      "Epoch 91/100\n",
      "1149/1149 [==============================] - 0s 45us/sample - loss: 0.1749 - accuracy: 0.9243\n",
      "Epoch 92/100\n",
      "1149/1149 [==============================] - 0s 42us/sample - loss: 0.1733 - accuracy: 0.9234\n",
      "Epoch 93/100\n",
      "1149/1149 [==============================] - 0s 37us/sample - loss: 0.1741 - accuracy: 0.9252\n",
      "Epoch 94/100\n",
      "1149/1149 [==============================] - 0s 41us/sample - loss: 0.1722 - accuracy: 0.9269\n",
      "Epoch 95/100\n",
      "1149/1149 [==============================] - 0s 39us/sample - loss: 0.1718 - accuracy: 0.9243\n",
      "Epoch 96/100\n",
      "1149/1149 [==============================] - 0s 38us/sample - loss: 0.1708 - accuracy: 0.9260\n",
      "Epoch 97/100\n",
      "1149/1149 [==============================] - 0s 39us/sample - loss: 0.1695 - accuracy: 0.9269\n",
      "Epoch 98/100\n",
      "1149/1149 [==============================] - 0s 43us/sample - loss: 0.1694 - accuracy: 0.9252\n",
      "Epoch 99/100\n",
      "1149/1149 [==============================] - 0s 41us/sample - loss: 0.1658 - accuracy: 0.9295\n",
      "Epoch 100/100\n",
      "1149/1149 [==============================] - 0s 42us/sample - loss: 0.1673 - accuracy: 0.9278\n"
     ]
    }
   ],
   "source": [
    "#Modify the code below\n",
    "\n",
    "model = Sequential()\n",
    "# We will start with our trusty sigmoid function.\n",
    "# What does input dimension correspond to?\n",
    "model.add(Dense(12, activation='relu', input_dim=64))\n",
    "model.add(Dense(8, activation='relu'))\n",
    "model.add(Dense(1, activation='sigmoid'))\n",
    "\n",
    "model.compile(optimizer='SGD' ,\n",
    "              # We use binary_crossentropy for a binary loss function\n",
    "              loss='binary_crossentropy',\n",
    "              metrics=['accuracy'])\n",
    "\n",
    "# Assign the variable history to store the results,\n",
    "# and set verbose=1 so we can see the output. To see\n",
    "# only the metrics at the end of each epoch, set verbose=2.\n",
    "results = model.fit(X_pure_train, y_pure_train, epochs=100, batch_size=32, verbose=1)"
   ]
  },
  {
   "cell_type": "code",
   "execution_count": 14,
   "metadata": {},
   "outputs": [
    {
     "data": {
      "image/png": "[encoded data removed]",
      "text/plain": [
       "<Figure size 720x360 with 2 Axes>"
      ]
     },
     "metadata": {
      "needs_background": "light"
     },
     "output_type": "display_data"
    }
   ],
   "source": [
    "sigmoid_loss = results.history['loss']\n",
    "sigmoid_accuracy = results.history['accuracy']\n",
    "\n",
    "fig, (ax1, ax2) = plt.subplots(1, 2, figsize=(10, 5))\n",
    "sns.lineplot(x=results.epoch, y=sigmoid_loss, ax=ax1, label='loss')\n",
    "sns.lineplot(x=results.epoch, y=sigmoid_accuracy, ax=ax2, label='accuracy');"
   ]
  },
  {
   "cell_type": "markdown",
   "metadata": {},
   "source": [
    "If we increase the learning rate to a very high number, we see that our model overshoots the minimum, and starts bouncing all around."
   ]
  },
  {
   "cell_type": "code",
   "execution_count": 16,
   "metadata": {},
   "outputs": [
    {
     "name": "stdout",
     "output_type": "stream",
     "text": [
      "Train on 1149 samples\n",
      "Epoch 1/30\n",
      "1149/1149 [==============================] - 1s 475us/sample - loss: 1.6292 - accuracy: 0.4917\n",
      "Epoch 2/30\n",
      "1149/1149 [==============================] - 0s 125us/sample - loss: 0.9885 - accuracy: 0.4978\n",
      "Epoch 3/30\n",
      "1149/1149 [==============================] - 0s 133us/sample - loss: 1.0134 - accuracy: 0.4874\n",
      "Epoch 4/30\n",
      "1149/1149 [==============================] - 0s 139us/sample - loss: 0.9972 - accuracy: 0.5039\n",
      "Epoch 5/30\n",
      "1149/1149 [==============================] - 0s 133us/sample - loss: 0.9536 - accuracy: 0.5065\n",
      "Epoch 6/30\n",
      "1149/1149 [==============================] - 0s 161us/sample - loss: 0.9361 - accuracy: 0.5152\n",
      "Epoch 7/30\n",
      "1149/1149 [==============================] - 0s 146us/sample - loss: 0.9836 - accuracy: 0.5022\n",
      "Epoch 8/30\n",
      "1149/1149 [==============================] - 0s 147us/sample - loss: 1.0511 - accuracy: 0.4813\n",
      "Epoch 9/30\n",
      "1149/1149 [==============================] - 0s 144us/sample - loss: 0.9880 - accuracy: 0.4970\n",
      "Epoch 10/30\n",
      "1149/1149 [==============================] - 0s 160us/sample - loss: 0.9591 - accuracy: 0.4943\n",
      "Epoch 11/30\n",
      "1149/1149 [==============================] - 0s 149us/sample - loss: 0.9409 - accuracy: 0.5187\n",
      "Epoch 12/30\n",
      "1149/1149 [==============================] - 0s 153us/sample - loss: 0.9488 - accuracy: 0.5091\n",
      "Epoch 13/30\n",
      "1149/1149 [==============================] - 0s 149us/sample - loss: 0.9593 - accuracy: 0.5144\n",
      "Epoch 14/30\n",
      "1149/1149 [==============================] - 0s 131us/sample - loss: 0.9506 - accuracy: 0.5178\n",
      "Epoch 15/30\n",
      "1149/1149 [==============================] - 0s 131us/sample - loss: 0.9811 - accuracy: 0.5248\n",
      "Epoch 16/30\n",
      "1149/1149 [==============================] - 0s 162us/sample - loss: 0.9264 - accuracy: 0.5283\n",
      "Epoch 17/30\n",
      "1149/1149 [==============================] - 0s 126us/sample - loss: 1.0179 - accuracy: 0.5231\n",
      "Epoch 18/30\n",
      "1149/1149 [==============================] - 0s 131us/sample - loss: 0.9881 - accuracy: 0.5091\n",
      "Epoch 19/30\n",
      "1149/1149 [==============================] - 0s 117us/sample - loss: 0.9031 - accuracy: 0.5239\n",
      "Epoch 20/30\n",
      "1149/1149 [==============================] - 0s 122us/sample - loss: 1.0576 - accuracy: 0.4804\n",
      "Epoch 21/30\n",
      "1149/1149 [==============================] - 0s 126us/sample - loss: 0.9608 - accuracy: 0.5013\n",
      "Epoch 22/30\n",
      "1149/1149 [==============================] - 0s 122us/sample - loss: 1.0328 - accuracy: 0.5039\n",
      "Epoch 23/30\n",
      "1149/1149 [==============================] - 0s 126us/sample - loss: 1.0306 - accuracy: 0.4839\n",
      "Epoch 24/30\n",
      "1149/1149 [==============================] - 0s 180us/sample - loss: 1.0419 - accuracy: 0.4935\n",
      "Epoch 25/30\n",
      "1149/1149 [==============================] - 0s 148us/sample - loss: 0.9416 - accuracy: 0.5022\n",
      "Epoch 26/30\n",
      "1149/1149 [==============================] - 0s 139us/sample - loss: 0.9953 - accuracy: 0.4952\n",
      "Epoch 27/30\n",
      "1149/1149 [==============================] - 0s 129us/sample - loss: 1.0585 - accuracy: 0.4761\n",
      "Epoch 28/30\n",
      "1149/1149 [==============================] - 0s 127us/sample - loss: 0.9280 - accuracy: 0.5222\n",
      "Epoch 29/30\n",
      "1149/1149 [==============================] - 0s 122us/sample - loss: 1.0535 - accuracy: 0.4961\n",
      "Epoch 30/30\n",
      "1149/1149 [==============================] - 0s 123us/sample - loss: 0.9861 - accuracy: 0.5057\n"
     ]
    },
    {
     "data": {
      "image/png": "[encoded data removed]",
      "text/plain": [
       "<Figure size 720x360 with 2 Axes>"
      ]
     },
     "metadata": {
      "needs_background": "light"
     },
     "output_type": "display_data"
    }
   ],
   "source": [
    "#Modify the code below\n",
    "\n",
    "model = Sequential()\n",
    "\n",
    "sgd = SGD(lr=9) #Stochastic Gradient Descent optimizer. \n",
    "#its default learning rate is 0.01\n",
    "model.add(Dense(12, activation='relu', input_dim=64))\n",
    "model.add(Dense(8, activation='relu'))\n",
    "model.add(Dense(1, activation='sigmoid'))\n",
    "\n",
    "model.compile(optimizer=sgd,#Note what we do differently here, \n",
    "              loss='binary_crossentropy',\n",
    "              metrics=['accuracy'])\n",
    "\n",
    "results = model.fit(X_pure_train, y_pure_train,\n",
    "                    epochs=30, batch_size=10, verbose=1)\n",
    "\n",
    "relu_loss = results.history['loss']\n",
    "relu_accuracy = results.history['accuracy']\n",
    "\n",
    "fig, (ax1, ax2) = plt.subplots(1, 2, figsize=(10, 5))\n",
    "sns.lineplot(x=results.epoch, y=relu_loss, ax=ax1, label='loss')\n",
    "sns.lineplot(x=results.epoch, y=relu_accuracy, ax=ax2, label='accuracy');"
   ]
  },
  {
   "cell_type": "markdown",
   "metadata": {},
   "source": [
    "### Exercise\n",
    "\n",
    "We have been looking only at our training set. Let's add in our validation set to the picture. Check the docstring for the `.fit()` method and add in our validation data."
   ]
  },
  {
   "cell_type": "code",
   "execution_count": 29,
   "metadata": {},
   "outputs": [
    {
     "name": "stdout",
     "output_type": "stream",
     "text": [
      "Train on 1149 samples, validate on 288 samples\n",
      "Epoch 1/100\n",
      "1149/1149 [==============================] - 1s 624us/sample - loss: 0.6682 - accuracy: 0.5213 - val_loss: 0.6266 - val_accuracy: 0.6215\n",
      "Epoch 2/100\n",
      "1149/1149 [==============================] - 0s 84us/sample - loss: 0.5944 - accuracy: 0.6719 - val_loss: 0.5512 - val_accuracy: 0.7222\n",
      "Epoch 3/100\n",
      "1149/1149 [==============================] - 0s 81us/sample - loss: 0.5310 - accuracy: 0.7781 - val_loss: 0.4956 - val_accuracy: 0.8333\n",
      "Epoch 4/100\n",
      "1149/1149 [==============================] - 0s 79us/sample - loss: 0.4874 - accuracy: 0.8433 - val_loss: 0.4581 - val_accuracy: 0.8611\n",
      "Epoch 5/100\n",
      "1149/1149 [==============================] - 0s 90us/sample - loss: 0.4533 - accuracy: 0.8782 - val_loss: 0.4323 - val_accuracy: 0.8785\n",
      "Epoch 6/100\n",
      "1149/1149 [==============================] - 0s 79us/sample - loss: 0.4306 - accuracy: 0.8982 - val_loss: 0.4093 - val_accuracy: 0.8889\n",
      "Epoch 7/100\n",
      "1149/1149 [==============================] - 0s 78us/sample - loss: 0.4117 - accuracy: 0.9008 - val_loss: 0.3942 - val_accuracy: 0.9097\n",
      "Epoch 8/100\n",
      "1149/1149 [==============================] - 0s 73us/sample - loss: 0.3926 - accuracy: 0.9095 - val_loss: 0.3792 - val_accuracy: 0.9062\n",
      "Epoch 9/100\n",
      "1149/1149 [==============================] - 0s 75us/sample - loss: 0.3796 - accuracy: 0.9191 - val_loss: 0.3675 - val_accuracy: 0.9062\n",
      "Epoch 10/100\n",
      "1149/1149 [==============================] - 0s 75us/sample - loss: 0.3674 - accuracy: 0.9243 - val_loss: 0.3620 - val_accuracy: 0.9062\n",
      "Epoch 11/100\n",
      "1149/1149 [==============================] - 0s 78us/sample - loss: 0.3607 - accuracy: 0.9225 - val_loss: 0.3496 - val_accuracy: 0.9340\n",
      "Epoch 12/100\n",
      "1149/1149 [==============================] - 0s 87us/sample - loss: 0.3428 - accuracy: 0.9269 - val_loss: 0.3394 - val_accuracy: 0.9340\n",
      "Epoch 13/100\n",
      "1149/1149 [==============================] - 0s 80us/sample - loss: 0.3325 - accuracy: 0.9373 - val_loss: 0.3336 - val_accuracy: 0.9271\n",
      "Epoch 14/100\n",
      "1149/1149 [==============================] - 0s 74us/sample - loss: 0.3234 - accuracy: 0.9408 - val_loss: 0.3216 - val_accuracy: 0.9375\n",
      "Epoch 15/100\n",
      "1149/1149 [==============================] - 0s 74us/sample - loss: 0.3118 - accuracy: 0.9426 - val_loss: 0.3135 - val_accuracy: 0.9410\n",
      "Epoch 16/100\n",
      "1149/1149 [==============================] - 0s 78us/sample - loss: 0.3051 - accuracy: 0.9408 - val_loss: 0.3064 - val_accuracy: 0.9410\n",
      "Epoch 17/100\n",
      "1149/1149 [==============================] - 0s 76us/sample - loss: 0.2978 - accuracy: 0.9460 - val_loss: 0.3001 - val_accuracy: 0.9410\n",
      "Epoch 18/100\n",
      "1149/1149 [==============================] - 0s 77us/sample - loss: 0.2896 - accuracy: 0.9495 - val_loss: 0.2929 - val_accuracy: 0.9410\n",
      "Epoch 19/100\n",
      "1149/1149 [==============================] - 0s 77us/sample - loss: 0.2813 - accuracy: 0.9495 - val_loss: 0.2856 - val_accuracy: 0.9410\n",
      "Epoch 20/100\n",
      "1149/1149 [==============================] - 0s 90us/sample - loss: 0.2744 - accuracy: 0.9513 - val_loss: 0.2788 - val_accuracy: 0.9479\n",
      "Epoch 21/100\n",
      "1149/1149 [==============================] - 0s 89us/sample - loss: 0.2674 - accuracy: 0.9539 - val_loss: 0.2720 - val_accuracy: 0.9444\n",
      "Epoch 22/100\n",
      "1149/1149 [==============================] - 0s 85us/sample - loss: 0.2594 - accuracy: 0.9574 - val_loss: 0.2667 - val_accuracy: 0.9444\n",
      "Epoch 23/100\n",
      "1149/1149 [==============================] - 0s 85us/sample - loss: 0.2543 - accuracy: 0.9556 - val_loss: 0.2588 - val_accuracy: 0.9479\n",
      "Epoch 24/100\n",
      "1149/1149 [==============================] - 0s 80us/sample - loss: 0.2461 - accuracy: 0.9591 - val_loss: 0.2548 - val_accuracy: 0.9479\n",
      "Epoch 25/100\n",
      "1149/1149 [==============================] - 0s 76us/sample - loss: 0.2400 - accuracy: 0.9634 - val_loss: 0.2501 - val_accuracy: 0.9444\n",
      "Epoch 26/100\n",
      "1149/1149 [==============================] - 0s 82us/sample - loss: 0.2346 - accuracy: 0.9626 - val_loss: 0.2445 - val_accuracy: 0.9479\n",
      "Epoch 27/100\n",
      "1149/1149 [==============================] - 0s 73us/sample - loss: 0.2274 - accuracy: 0.9669 - val_loss: 0.2401 - val_accuracy: 0.9514\n",
      "Epoch 28/100\n",
      "1149/1149 [==============================] - 0s 86us/sample - loss: 0.2249 - accuracy: 0.9687 - val_loss: 0.2348 - val_accuracy: 0.9514\n",
      "Epoch 29/100\n",
      "1149/1149 [==============================] - 0s 80us/sample - loss: 0.2184 - accuracy: 0.9661 - val_loss: 0.2302 - val_accuracy: 0.9514\n",
      "Epoch 30/100\n",
      "1149/1149 [==============================] - 0s 72us/sample - loss: 0.2140 - accuracy: 0.9669 - val_loss: 0.2287 - val_accuracy: 0.9479\n",
      "Epoch 31/100\n",
      "1149/1149 [==============================] - 0s 83us/sample - loss: 0.2082 - accuracy: 0.9687 - val_loss: 0.2234 - val_accuracy: 0.9479\n",
      "Epoch 32/100\n",
      "1149/1149 [==============================] - 0s 89us/sample - loss: 0.2048 - accuracy: 0.9678 - val_loss: 0.2232 - val_accuracy: 0.9549\n",
      "Epoch 33/100\n",
      "1149/1149 [==============================] - 0s 85us/sample - loss: 0.1983 - accuracy: 0.9695 - val_loss: 0.2178 - val_accuracy: 0.9549\n",
      "Epoch 34/100\n",
      "1149/1149 [==============================] - 0s 82us/sample - loss: 0.1951 - accuracy: 0.9721 - val_loss: 0.2130 - val_accuracy: 0.9549\n",
      "Epoch 35/100\n",
      "1149/1149 [==============================] - 0s 86us/sample - loss: 0.1899 - accuracy: 0.9730 - val_loss: 0.2091 - val_accuracy: 0.9514\n",
      "Epoch 36/100\n",
      "1149/1149 [==============================] - 0s 81us/sample - loss: 0.1844 - accuracy: 0.9704 - val_loss: 0.2059 - val_accuracy: 0.9549\n",
      "Epoch 37/100\n",
      "1149/1149 [==============================] - 0s 72us/sample - loss: 0.1823 - accuracy: 0.9730 - val_loss: 0.2024 - val_accuracy: 0.9549\n",
      "Epoch 38/100\n",
      "1149/1149 [==============================] - 0s 74us/sample - loss: 0.1782 - accuracy: 0.9739 - val_loss: 0.1974 - val_accuracy: 0.9549\n",
      "Epoch 39/100\n",
      "1149/1149 [==============================] - 0s 78us/sample - loss: 0.1728 - accuracy: 0.9748 - val_loss: 0.1944 - val_accuracy: 0.9549\n",
      "Epoch 40/100\n",
      "1149/1149 [==============================] - 0s 87us/sample - loss: 0.1706 - accuracy: 0.9756 - val_loss: 0.1859 - val_accuracy: 0.9653\n",
      "Epoch 41/100\n",
      "1149/1149 [==============================] - 0s 86us/sample - loss: 0.1672 - accuracy: 0.9765 - val_loss: 0.1890 - val_accuracy: 0.9653\n",
      "Epoch 42/100\n",
      "1149/1149 [==============================] - 0s 87us/sample - loss: 0.1600 - accuracy: 0.9774 - val_loss: 0.1676 - val_accuracy: 0.9722\n",
      "Epoch 43/100\n",
      "1149/1149 [==============================] - 0s 94us/sample - loss: 0.1484 - accuracy: 0.9843 - val_loss: 0.1644 - val_accuracy: 0.9722\n",
      "Epoch 44/100\n",
      "1149/1149 [==============================] - 0s 88us/sample - loss: 0.1412 - accuracy: 0.9878 - val_loss: 0.1601 - val_accuracy: 0.9757\n",
      "Epoch 45/100\n",
      "1149/1149 [==============================] - 0s 87us/sample - loss: 0.1357 - accuracy: 0.9896 - val_loss: 0.1563 - val_accuracy: 0.9757\n",
      "Epoch 46/100\n",
      "1149/1149 [==============================] - 0s 84us/sample - loss: 0.1318 - accuracy: 0.9913 - val_loss: 0.1566 - val_accuracy: 0.9757\n",
      "Epoch 47/100\n",
      "1149/1149 [==============================] - 0s 80us/sample - loss: 0.1279 - accuracy: 0.9922 - val_loss: 0.1496 - val_accuracy: 0.9757\n",
      "Epoch 48/100\n",
      "1149/1149 [==============================] - 0s 75us/sample - loss: 0.1254 - accuracy: 0.9913 - val_loss: 0.1547 - val_accuracy: 0.9757\n",
      "Epoch 49/100\n",
      "1149/1149 [==============================] - 0s 72us/sample - loss: 0.1195 - accuracy: 0.9939 - val_loss: 0.1483 - val_accuracy: 0.9757\n",
      "Epoch 50/100\n",
      "1149/1149 [==============================] - 0s 71us/sample - loss: 0.1155 - accuracy: 0.9956 - val_loss: 0.1447 - val_accuracy: 0.9757\n",
      "Epoch 51/100\n",
      "1149/1149 [==============================] - 0s 77us/sample - loss: 0.1124 - accuracy: 0.9956 - val_loss: 0.1476 - val_accuracy: 0.9757\n",
      "Epoch 52/100\n",
      "1149/1149 [==============================] - 0s 73us/sample - loss: 0.1112 - accuracy: 0.9956 - val_loss: 0.1409 - val_accuracy: 0.9757\n",
      "Epoch 53/100\n",
      "1149/1149 [==============================] - 0s 75us/sample - loss: 0.1085 - accuracy: 0.9956 - val_loss: 0.1427 - val_accuracy: 0.9757\n",
      "Epoch 54/100\n",
      "1149/1149 [==============================] - 0s 81us/sample - loss: 0.1047 - accuracy: 0.9965 - val_loss: 0.1423 - val_accuracy: 0.9757\n",
      "Epoch 55/100\n",
      "1149/1149 [==============================] - 0s 72us/sample - loss: 0.1016 - accuracy: 0.9965 - val_loss: 0.1432 - val_accuracy: 0.9757\n"
     ]
    },
    {
     "name": "stdout",
     "output_type": "stream",
     "text": [
      "Epoch 56/100\n",
      "1149/1149 [==============================] - 0s 70us/sample - loss: 0.0992 - accuracy: 0.9965 - val_loss: 0.1386 - val_accuracy: 0.9792\n",
      "Epoch 57/100\n",
      "1149/1149 [==============================] - 0s 66us/sample - loss: 0.0969 - accuracy: 0.9974 - val_loss: 0.1334 - val_accuracy: 0.9792\n",
      "Epoch 58/100\n",
      "1149/1149 [==============================] - 0s 72us/sample - loss: 0.0952 - accuracy: 0.9974 - val_loss: 0.1379 - val_accuracy: 0.9757\n",
      "Epoch 59/100\n",
      "1149/1149 [==============================] - 0s 66us/sample - loss: 0.0927 - accuracy: 0.9974 - val_loss: 0.1345 - val_accuracy: 0.9792\n",
      "Epoch 60/100\n",
      "1149/1149 [==============================] - 0s 69us/sample - loss: 0.0908 - accuracy: 0.9965 - val_loss: 0.1339 - val_accuracy: 0.9792\n",
      "Epoch 61/100\n",
      "1149/1149 [==============================] - 0s 67us/sample - loss: 0.0879 - accuracy: 0.9965 - val_loss: 0.1346 - val_accuracy: 0.9757\n",
      "Epoch 62/100\n",
      "1149/1149 [==============================] - 0s 72us/sample - loss: 0.0863 - accuracy: 0.9965 - val_loss: 0.1328 - val_accuracy: 0.9757\n",
      "Epoch 63/100\n",
      "1149/1149 [==============================] - 0s 72us/sample - loss: 0.0842 - accuracy: 0.9974 - val_loss: 0.1315 - val_accuracy: 0.9792\n",
      "Epoch 64/100\n",
      "1149/1149 [==============================] - 0s 67us/sample - loss: 0.0825 - accuracy: 0.9974 - val_loss: 0.1309 - val_accuracy: 0.9792\n",
      "Epoch 65/100\n",
      "1149/1149 [==============================] - 0s 72us/sample - loss: 0.0808 - accuracy: 0.9974 - val_loss: 0.1305 - val_accuracy: 0.9792\n",
      "Epoch 66/100\n",
      "1149/1149 [==============================] - 0s 67us/sample - loss: 0.0789 - accuracy: 0.9974 - val_loss: 0.1300 - val_accuracy: 0.9792\n",
      "Epoch 67/100\n",
      "1149/1149 [==============================] - 0s 69us/sample - loss: 0.0775 - accuracy: 0.9974 - val_loss: 0.1309 - val_accuracy: 0.9792\n",
      "Epoch 68/100\n",
      "1149/1149 [==============================] - 0s 73us/sample - loss: 0.0761 - accuracy: 0.9974 - val_loss: 0.1279 - val_accuracy: 0.9792\n",
      "Epoch 69/100\n",
      "1149/1149 [==============================] - 0s 71us/sample - loss: 0.0748 - accuracy: 0.9974 - val_loss: 0.1230 - val_accuracy: 0.9792\n",
      "Epoch 70/100\n",
      "1149/1149 [==============================] - 0s 68us/sample - loss: 0.0733 - accuracy: 0.9974 - val_loss: 0.1295 - val_accuracy: 0.9757\n",
      "Epoch 71/100\n",
      "1149/1149 [==============================] - 0s 67us/sample - loss: 0.0721 - accuracy: 0.9974 - val_loss: 0.1287 - val_accuracy: 0.9757\n",
      "Epoch 72/100\n",
      "1149/1149 [==============================] - 0s 70us/sample - loss: 0.0705 - accuracy: 0.9974 - val_loss: 0.1265 - val_accuracy: 0.9826\n",
      "Epoch 73/100\n",
      "1149/1149 [==============================] - 0s 73us/sample - loss: 0.0690 - accuracy: 0.9974 - val_loss: 0.1236 - val_accuracy: 0.9792\n",
      "Epoch 74/100\n",
      "1149/1149 [==============================] - 0s 72us/sample - loss: 0.0681 - accuracy: 0.9974 - val_loss: 0.1259 - val_accuracy: 0.9792\n",
      "Epoch 75/100\n",
      "1149/1149 [==============================] - 0s 72us/sample - loss: 0.0666 - accuracy: 0.9974 - val_loss: 0.1244 - val_accuracy: 0.9792\n",
      "Epoch 76/100\n",
      "1149/1149 [==============================] - 0s 69us/sample - loss: 0.0654 - accuracy: 0.9974 - val_loss: 0.1212 - val_accuracy: 0.9792\n",
      "Epoch 77/100\n",
      "1149/1149 [==============================] - 0s 72us/sample - loss: 0.0643 - accuracy: 0.9974 - val_loss: 0.1237 - val_accuracy: 0.9792\n",
      "Epoch 78/100\n",
      "1149/1149 [==============================] - 0s 71us/sample - loss: 0.0630 - accuracy: 0.9974 - val_loss: 0.1223 - val_accuracy: 0.9792\n",
      "Epoch 79/100\n",
      "1149/1149 [==============================] - 0s 73us/sample - loss: 0.0620 - accuracy: 0.9974 - val_loss: 0.1226 - val_accuracy: 0.9792\n",
      "Epoch 80/100\n",
      "1149/1149 [==============================] - 0s 72us/sample - loss: 0.0609 - accuracy: 0.9974 - val_loss: 0.1244 - val_accuracy: 0.9792\n",
      "Epoch 81/100\n",
      "1149/1149 [==============================] - 0s 74us/sample - loss: 0.0601 - accuracy: 0.9974 - val_loss: 0.1220 - val_accuracy: 0.9792\n",
      "Epoch 82/100\n",
      "1149/1149 [==============================] - 0s 71us/sample - loss: 0.0589 - accuracy: 0.9974 - val_loss: 0.1208 - val_accuracy: 0.9792\n",
      "Epoch 83/100\n",
      "1149/1149 [==============================] - 0s 75us/sample - loss: 0.0579 - accuracy: 0.9974 - val_loss: 0.1234 - val_accuracy: 0.9757\n",
      "Epoch 84/100\n",
      "1149/1149 [==============================] - 0s 70us/sample - loss: 0.0572 - accuracy: 0.9974 - val_loss: 0.1206 - val_accuracy: 0.9792\n",
      "Epoch 85/100\n",
      "1149/1149 [==============================] - 0s 74us/sample - loss: 0.0560 - accuracy: 0.9974 - val_loss: 0.1176 - val_accuracy: 0.9792\n",
      "Epoch 86/100\n",
      "1149/1149 [==============================] - 0s 73us/sample - loss: 0.0554 - accuracy: 0.9974 - val_loss: 0.1190 - val_accuracy: 0.9792\n",
      "Epoch 87/100\n",
      "1149/1149 [==============================] - 0s 72us/sample - loss: 0.0543 - accuracy: 0.9974 - val_loss: 0.1171 - val_accuracy: 0.9792\n",
      "Epoch 88/100\n",
      "1149/1149 [==============================] - 0s 71us/sample - loss: 0.0535 - accuracy: 0.9974 - val_loss: 0.1172 - val_accuracy: 0.9792\n",
      "Epoch 89/100\n",
      "1149/1149 [==============================] - 0s 73us/sample - loss: 0.0526 - accuracy: 0.9974 - val_loss: 0.1167 - val_accuracy: 0.9792\n",
      "Epoch 90/100\n",
      "1149/1149 [==============================] - 0s 67us/sample - loss: 0.0518 - accuracy: 0.9974 - val_loss: 0.1173 - val_accuracy: 0.9792\n",
      "Epoch 91/100\n",
      "1149/1149 [==============================] - 0s 81us/sample - loss: 0.0510 - accuracy: 0.9974 - val_loss: 0.1193 - val_accuracy: 0.9792\n",
      "Epoch 92/100\n",
      "1149/1149 [==============================] - 0s 86us/sample - loss: 0.0502 - accuracy: 0.9974 - val_loss: 0.1186 - val_accuracy: 0.9792\n",
      "Epoch 93/100\n",
      "1149/1149 [==============================] - 0s 88us/sample - loss: 0.0494 - accuracy: 0.9974 - val_loss: 0.1179 - val_accuracy: 0.9792\n",
      "Epoch 94/100\n",
      "1149/1149 [==============================] - 0s 96us/sample - loss: 0.0488 - accuracy: 0.9974 - val_loss: 0.1156 - val_accuracy: 0.9792\n",
      "Epoch 95/100\n",
      "1149/1149 [==============================] - 0s 82us/sample - loss: 0.0480 - accuracy: 0.9974 - val_loss: 0.1165 - val_accuracy: 0.9792\n",
      "Epoch 96/100\n",
      "1149/1149 [==============================] - 0s 86us/sample - loss: 0.0473 - accuracy: 0.9974 - val_loss: 0.1177 - val_accuracy: 0.9792\n",
      "Epoch 97/100\n",
      "1149/1149 [==============================] - 0s 79us/sample - loss: 0.0466 - accuracy: 0.9974 - val_loss: 0.1170 - val_accuracy: 0.9792\n",
      "Epoch 98/100\n",
      "1149/1149 [==============================] - 0s 77us/sample - loss: 0.0460 - accuracy: 0.9974 - val_loss: 0.1183 - val_accuracy: 0.9792\n",
      "Epoch 99/100\n",
      "1149/1149 [==============================] - 0s 69us/sample - loss: 0.0454 - accuracy: 0.9974 - val_loss: 0.1171 - val_accuracy: 0.9792\n",
      "Epoch 100/100\n",
      "1149/1149 [==============================] - 0s 73us/sample - loss: 0.0449 - accuracy: 0.9974 - val_loss: 0.1186 - val_accuracy: 0.9792\n"
     ]
    },
    {
     "data": {
      "text/plain": [
       "<AxesSubplot:>"
      ]
     },
     "execution_count": 29,
     "metadata": {},
     "output_type": "execute_result"
    },
    {
     "data": {
      "image/png": "[encoded data removed]",
      "text/plain": [
       "<Figure size 720x360 with 2 Axes>"
      ]
     },
     "metadata": {
      "needs_background": "light"
     },
     "output_type": "display_data"
    }
   ],
   "source": [
    "model = Sequential()\n",
    "model.add(Dense(12, activation='relu', input_dim=64))\n",
    "model.add(Dense(8, activation='relu'))\n",
    "model.add(Dense(4, activation='relu'))\n",
    "model.add(Dense(1, activation='sigmoid'))\n",
    "\n",
    "model.compile(optimizer='adam',\n",
    "              loss='binary_crossentropy',\n",
    "              metrics=['accuracy'])\n",
    "\n",
    "## Insert your code here for our new fit call\n",
    "results = model.fit(X_pure_train, y_pure_train, validation_data=(X_val, y_val), epochs=100, batch_size=32)\n",
    "\n",
    "train_loss = results.history['loss']\n",
    "train_acc = results.history['accuracy']\n",
    "#Insert code here to see the validation results\n",
    "\n",
    "\n",
    "fig, (ax1, ax2) = plt.subplots(1, 2, figsize=(10, 5))\n",
    "sns.lineplot(x=results.epoch, y=train_loss, ax=ax1, label='train_loss')\n",
    "sns.lineplot(x=results.epoch, y=train_acc, ax=ax2, label='train_accuracy')\n",
    "\n",
    "#Insert code here to plot the validation results\n"
   ]
  },
  {
   "cell_type": "code",
   "execution_count": 31,
   "metadata": {},
   "outputs": [
    {
     "data": {
      "text/plain": [
       "<AxesSubplot:>"
      ]
     },
     "execution_count": 31,
     "metadata": {},
     "output_type": "execute_result"
    },
    {
     "data": {
      "image/png": "[encoded data removed]",
      "text/plain": [
       "<Figure size 720x360 with 2 Axes>"
      ]
     },
     "metadata": {
      "needs_background": "light"
     },
     "output_type": "display_data"
    }
   ],
   "source": [
    "val_loss = results.history['val_loss']\n",
    "val_accuracy = results.history['val_accuracy']\n",
    "\n",
    "fig, (ax1, ax2) = plt.subplots(1, 2, figsize=(10, 5))\n",
    "sns.lineplot(x=results.epoch, y=val_loss, ax=ax1, label='val_loss')\n",
    "sns.lineplot(x=results.epoch, y=val_accuracy, ax=ax2, label='val_accuracy')"
   ]
  },
  {
   "cell_type": "code",
   "execution_count": 32,
   "metadata": {},
   "outputs": [
    {
     "data": {
      "image/png": "[encoded data removed]",
      "text/plain": [
       "<Figure size 720x360 with 2 Axes>"
      ]
     },
     "metadata": {
      "needs_background": "light"
     },
     "output_type": "display_data"
    }
   ],
   "source": [
    "fig, (ax1, ax2) = plt.subplots(1, 2, figsize=(10, 5))\n",
    "sns.lineplot(x=results.epoch, y=val_loss, ax=ax1, label='val_loss')\n",
    "sns.lineplot(x=results.epoch, y=train_loss, ax=ax1, label='train_loss', color='red')\n",
    "sns.lineplot(x=results.epoch, y=val_accuracy, ax=ax2, label='val_accuracy')\n",
    "sns.lineplot(x=results.epoch, y=train_acc, ax=ax2, label='train_accuracy', color='red');"
   ]
  },
  {
   "cell_type": "markdown",
   "metadata": {},
   "source": [
    "<details>\n",
    "    <summary>One answer here</summary>\n",
    "<code>model = Sequential()\n",
    "model.add(Dense(12, activation='relu', input_dim=64))\n",
    "model.add(Dense(8, activation='relu'))\n",
    "model.add(Dense(4, activation='relu'))\n",
    "model.add(Dense(1, activation='sigmoid'))\n",
    "model.compile(optimizer='adam',\n",
    "              loss='binary_crossentropy',\n",
    "              metrics=['accuracy'])\n",
    "results = model.fit(X_pure_train, y_pure_train,\n",
    "                   validation_data=(X_val, y_val),\n",
    "                   epochs=30, batch_size=10)\n",
    "train_loss = results.history['loss']\n",
    "train_acc = results.history['accuracy']\n",
    "val_loss = results.history['val_loss']\n",
    "val_acc = results.history['val_accuracy']\n",
    "fig, (ax1, ax2) = plt.subplots(1, 2, figsize=(10, 5))\n",
    "sns.lineplot(x=results.epoch, y=train_loss, ax=ax1, label='train_loss')\n",
    "sns.lineplot(x=results.epoch, y=train_acc, ax=ax2, label='train_accuracy')\n",
    "sns.lineplot(x=results.epoch, y=val_loss, ax=ax1, label='val_loss')\n",
    "sns.lineplot(x=results.epoch, y=val_acc, ax=ax2, label='val_accuracy');</code>\n",
    "</details>"
   ]
  },
  {
   "cell_type": "code",
   "execution_count": 21,
   "metadata": {},
   "outputs": [
    {
     "data": {
      "text/plain": [
       "0.9826389"
      ]
     },
     "execution_count": 21,
     "metadata": {},
     "output_type": "execute_result"
    }
   ],
   "source": [
    "results.history['val_accuracy'][-1]"
   ]
  },
  {
   "cell_type": "markdown",
   "metadata": {},
   "source": [
    "## Connecting with `sklearn`\n",
    "\n",
    "The `keras.wrappers` submodule means that we can turn `keras` models into estimators that `sklearn` tools will recognize."
   ]
  },
  {
   "cell_type": "code",
   "execution_count": 22,
   "metadata": {},
   "outputs": [
    {
     "ename": "TypeError",
     "evalue": "If no scoring is specified, the estimator passed should have a 'score' method. The estimator <tensorflow.python.keras.engine.sequential.Sequential object at 0x7f9b70992a10> does not.",
     "output_type": "error",
     "traceback": [
      "\u001b[0;31m---------------------------------------------------------------------------\u001b[0m",
      "\u001b[0;31mTypeError\u001b[0m                                 Traceback (most recent call last)",
      "\u001b[0;32m/var/folders/9y/6072zsmd2bb9h8dwyhg56wn40000gp/T/ipykernel_12925/1197616762.py\u001b[0m in \u001b[0;36m<module>\u001b[0;34m\u001b[0m\n\u001b[1;32m      1\u001b[0m \u001b[0;31m# This will throw an error.\u001b[0m\u001b[0;34m\u001b[0m\u001b[0;34m\u001b[0m\u001b[0;34m\u001b[0m\u001b[0m\n\u001b[1;32m      2\u001b[0m \u001b[0;34m\u001b[0m\u001b[0m\n\u001b[0;32m----> 3\u001b[0;31m \u001b[0mcross_val_score\u001b[0m\u001b[0;34m(\u001b[0m\u001b[0mmodel\u001b[0m\u001b[0;34m,\u001b[0m \u001b[0mX_pure_train\u001b[0m\u001b[0;34m,\u001b[0m \u001b[0my_pure_train\u001b[0m\u001b[0;34m)\u001b[0m\u001b[0;34m\u001b[0m\u001b[0;34m\u001b[0m\u001b[0m\n\u001b[0m",
      "\u001b[0;32m~/opt/anaconda3/envs/tf/lib/python3.7/site-packages/sklearn/model_selection/_validation.py\u001b[0m in \u001b[0;36mcross_val_score\u001b[0;34m(estimator, X, y, groups, scoring, cv, n_jobs, verbose, fit_params, pre_dispatch, error_score)\u001b[0m\n\u001b[1;32m    505\u001b[0m     \"\"\"\n\u001b[1;32m    506\u001b[0m     \u001b[0;31m# To ensure multimetric format is not supported\u001b[0m\u001b[0;34m\u001b[0m\u001b[0;34m\u001b[0m\u001b[0;34m\u001b[0m\u001b[0m\n\u001b[0;32m--> 507\u001b[0;31m     \u001b[0mscorer\u001b[0m \u001b[0;34m=\u001b[0m \u001b[0mcheck_scoring\u001b[0m\u001b[0;34m(\u001b[0m\u001b[0mestimator\u001b[0m\u001b[0;34m,\u001b[0m \u001b[0mscoring\u001b[0m\u001b[0;34m=\u001b[0m\u001b[0mscoring\u001b[0m\u001b[0;34m)\u001b[0m\u001b[0;34m\u001b[0m\u001b[0;34m\u001b[0m\u001b[0m\n\u001b[0m\u001b[1;32m    508\u001b[0m \u001b[0;34m\u001b[0m\u001b[0m\n\u001b[1;32m    509\u001b[0m     cv_results = cross_validate(\n",
      "\u001b[0;32m~/opt/anaconda3/envs/tf/lib/python3.7/site-packages/sklearn/metrics/_scorer.py\u001b[0m in \u001b[0;36mcheck_scoring\u001b[0;34m(estimator, scoring, allow_none)\u001b[0m\n\u001b[1;32m    477\u001b[0m             raise TypeError(\n\u001b[1;32m    478\u001b[0m                 \u001b[0;34m\"If no scoring is specified, the estimator passed should \"\u001b[0m\u001b[0;34m\u001b[0m\u001b[0;34m\u001b[0m\u001b[0m\n\u001b[0;32m--> 479\u001b[0;31m                 \u001b[0;34m\"have a 'score' method. The estimator %r does not.\"\u001b[0m \u001b[0;34m%\u001b[0m \u001b[0mestimator\u001b[0m\u001b[0;34m\u001b[0m\u001b[0;34m\u001b[0m\u001b[0m\n\u001b[0m\u001b[1;32m    480\u001b[0m             )\n\u001b[1;32m    481\u001b[0m     \u001b[0;32melif\u001b[0m \u001b[0misinstance\u001b[0m\u001b[0;34m(\u001b[0m\u001b[0mscoring\u001b[0m\u001b[0;34m,\u001b[0m \u001b[0mIterable\u001b[0m\u001b[0;34m)\u001b[0m\u001b[0;34m:\u001b[0m\u001b[0;34m\u001b[0m\u001b[0;34m\u001b[0m\u001b[0m\n",
      "\u001b[0;31mTypeError\u001b[0m: If no scoring is specified, the estimator passed should have a 'score' method. The estimator <tensorflow.python.keras.engine.sequential.Sequential object at 0x7f9b70992a10> does not."
     ]
    }
   ],
   "source": [
    "# This will throw an error.\n",
    "\n",
    "cross_val_score(model, X_pure_train, y_pure_train)"
   ]
  },
  {
   "cell_type": "code",
   "execution_count": 23,
   "metadata": {},
   "outputs": [],
   "source": [
    "#Set up our build function\n",
    "def build_model():\n",
    "    model=Sequential()\n",
    "    model.add(Dense(12, activation='relu', input_dim=64))\n",
    "    model.add(Dense(8, activation='relu'))\n",
    "    model.add(Dense(4, activation='relu'))\n",
    "    model.add(Dense(1, activation='sigmoid'))\n",
    "    \n",
    "    model.compile(optimizer='adam', loss='binary_crossentropy', metrics=['accuracy'])\n",
    "    \n",
    "    return model"
   ]
  },
  {
   "cell_type": "code",
   "execution_count": 24,
   "metadata": {},
   "outputs": [],
   "source": [
    "#Set up an estimator our sklearn tools can recognize\n",
    "keras_model = scikit_learn.KerasClassifier(build_model, epochs=30, batch_size=32, verbose=2)"
   ]
  },
  {
   "cell_type": "code",
   "execution_count": 25,
   "metadata": {},
   "outputs": [
    {
     "data": {
      "text/plain": [
       "tensorflow.python.keras.wrappers.scikit_learn.KerasClassifier"
      ]
     },
     "execution_count": 25,
     "metadata": {},
     "output_type": "execute_result"
    }
   ],
   "source": [
    "type(keras_model)"
   ]
  },
  {
   "cell_type": "code",
   "execution_count": 26,
   "metadata": {},
   "outputs": [
    {
     "name": "stdout",
     "output_type": "stream",
     "text": [
      "Train on 919 samples\n",
      "Epoch 1/30\n",
      "919/919 - 1s - loss: 0.6809 - accuracy: 0.5277\n",
      "Epoch 2/30\n",
      "919/919 - 0s - loss: 0.6433 - accuracy: 0.7062\n",
      "Epoch 3/30\n",
      "919/919 - 0s - loss: 0.6084 - accuracy: 0.7367\n",
      "Epoch 4/30\n",
      "919/919 - 0s - loss: 0.5703 - accuracy: 0.7726\n",
      "Epoch 5/30\n",
      "919/919 - 0s - loss: 0.5252 - accuracy: 0.8139\n",
      "Epoch 6/30\n",
      "919/919 - 0s - loss: 0.4840 - accuracy: 0.8520\n",
      "Epoch 7/30\n",
      "919/919 - 0s - loss: 0.4188 - accuracy: 0.8945\n",
      "Epoch 8/30\n",
      "919/919 - 0s - loss: 0.3384 - accuracy: 0.9086\n",
      "Epoch 9/30\n",
      "919/919 - 0s - loss: 0.2796 - accuracy: 0.9195\n",
      "Epoch 10/30\n",
      "919/919 - 0s - loss: 0.2387 - accuracy: 0.9271\n",
      "Epoch 11/30\n",
      "919/919 - 0s - loss: 0.2150 - accuracy: 0.9314\n",
      "Epoch 12/30\n",
      "919/919 - 0s - loss: 0.1956 - accuracy: 0.9336\n",
      "Epoch 13/30\n",
      "919/919 - 0s - loss: 0.1789 - accuracy: 0.9391\n",
      "Epoch 14/30\n",
      "919/919 - 0s - loss: 0.1717 - accuracy: 0.9434\n",
      "Epoch 15/30\n",
      "919/919 - 0s - loss: 0.1617 - accuracy: 0.9423\n",
      "Epoch 16/30\n",
      "919/919 - 0s - loss: 0.1519 - accuracy: 0.9423\n",
      "Epoch 17/30\n",
      "919/919 - 0s - loss: 0.1470 - accuracy: 0.9467\n",
      "Epoch 18/30\n",
      "919/919 - 0s - loss: 0.1373 - accuracy: 0.9499\n",
      "Epoch 19/30\n",
      "919/919 - 0s - loss: 0.1283 - accuracy: 0.9521\n",
      "Epoch 20/30\n",
      "919/919 - 0s - loss: 0.1202 - accuracy: 0.9532\n",
      "Epoch 21/30\n",
      "919/919 - 0s - loss: 0.1163 - accuracy: 0.9532\n",
      "Epoch 22/30\n",
      "919/919 - 0s - loss: 0.1134 - accuracy: 0.9510\n",
      "Epoch 23/30\n",
      "919/919 - 0s - loss: 0.1025 - accuracy: 0.9663\n",
      "Epoch 24/30\n",
      "919/919 - 0s - loss: 0.0964 - accuracy: 0.9619\n",
      "Epoch 25/30\n",
      "919/919 - 0s - loss: 0.0889 - accuracy: 0.9674\n",
      "Epoch 26/30\n",
      "919/919 - 0s - loss: 0.0834 - accuracy: 0.9706\n",
      "Epoch 27/30\n",
      "919/919 - 0s - loss: 0.0809 - accuracy: 0.9663\n",
      "Epoch 28/30\n",
      "919/919 - 0s - loss: 0.0762 - accuracy: 0.9717\n",
      "Epoch 29/30\n",
      "919/919 - 0s - loss: 0.0693 - accuracy: 0.9750\n",
      "Epoch 30/30\n",
      "919/919 - 0s - loss: 0.0659 - accuracy: 0.9782\n",
      "230/1 - 0s - loss: 0.0708 - accuracy: 0.9609\n",
      "Train on 919 samples\n",
      "Epoch 1/30\n",
      "919/919 - 1s - loss: 0.6718 - accuracy: 0.5212\n",
      "Epoch 2/30\n",
      "919/919 - 0s - loss: 0.6332 - accuracy: 0.5321\n",
      "Epoch 3/30\n",
      "919/919 - 0s - loss: 0.5869 - accuracy: 0.6192\n",
      "Epoch 4/30\n",
      "919/919 - 0s - loss: 0.5427 - accuracy: 0.7595\n",
      "Epoch 5/30\n",
      "919/919 - 0s - loss: 0.5092 - accuracy: 0.8096\n",
      "Epoch 6/30\n",
      "919/919 - 0s - loss: 0.4839 - accuracy: 0.8487\n",
      "Epoch 7/30\n",
      "919/919 - 0s - loss: 0.4639 - accuracy: 0.8651\n",
      "Epoch 8/30\n",
      "919/919 - 0s - loss: 0.4459 - accuracy: 0.8847\n",
      "Epoch 9/30\n",
      "919/919 - 0s - loss: 0.4266 - accuracy: 0.8901\n",
      "Epoch 10/30\n",
      "919/919 - 0s - loss: 0.4099 - accuracy: 0.9032\n",
      "Epoch 11/30\n",
      "919/919 - 0s - loss: 0.3921 - accuracy: 0.9108\n",
      "Epoch 12/30\n",
      "919/919 - 0s - loss: 0.3754 - accuracy: 0.9227\n",
      "Epoch 13/30\n",
      "919/919 - 0s - loss: 0.3581 - accuracy: 0.9314\n",
      "Epoch 14/30\n",
      "919/919 - 0s - loss: 0.3437 - accuracy: 0.9304\n",
      "Epoch 15/30\n",
      "919/919 - 0s - loss: 0.3315 - accuracy: 0.9369\n",
      "Epoch 16/30\n",
      "919/919 - 0s - loss: 0.3200 - accuracy: 0.9434\n",
      "Epoch 17/30\n",
      "919/919 - 0s - loss: 0.3111 - accuracy: 0.9467\n",
      "Epoch 18/30\n",
      "919/919 - 0s - loss: 0.2998 - accuracy: 0.9565\n",
      "Epoch 19/30\n",
      "919/919 - 0s - loss: 0.2906 - accuracy: 0.9554\n",
      "Epoch 20/30\n",
      "919/919 - 0s - loss: 0.2808 - accuracy: 0.9641\n",
      "Epoch 21/30\n",
      "919/919 - 0s - loss: 0.2725 - accuracy: 0.9684\n",
      "Epoch 22/30\n",
      "919/919 - 0s - loss: 0.2657 - accuracy: 0.9674\n",
      "Epoch 23/30\n",
      "919/919 - 0s - loss: 0.2622 - accuracy: 0.9619\n",
      "Epoch 24/30\n",
      "919/919 - 0s - loss: 0.2536 - accuracy: 0.9652\n",
      "Epoch 25/30\n",
      "919/919 - 0s - loss: 0.2458 - accuracy: 0.9717\n",
      "Epoch 26/30\n",
      "919/919 - 0s - loss: 0.2382 - accuracy: 0.9761\n",
      "Epoch 27/30\n",
      "919/919 - 0s - loss: 0.2321 - accuracy: 0.9782\n",
      "Epoch 28/30\n",
      "919/919 - 0s - loss: 0.2260 - accuracy: 0.9782\n",
      "Epoch 29/30\n",
      "919/919 - 0s - loss: 0.2211 - accuracy: 0.9782\n",
      "Epoch 30/30\n",
      "919/919 - 0s - loss: 0.2164 - accuracy: 0.9815\n",
      "230/1 - 0s - loss: 0.2506 - accuracy: 0.9174\n",
      "Train on 919 samples\n",
      "Epoch 1/30\n",
      "919/919 - 1s - loss: 0.6898 - accuracy: 0.5582\n",
      "Epoch 2/30\n",
      "919/919 - 0s - loss: 0.6720 - accuracy: 0.6561\n",
      "Epoch 3/30\n",
      "919/919 - 0s - loss: 0.6404 - accuracy: 0.6855\n",
      "Epoch 4/30\n",
      "919/919 - 0s - loss: 0.5975 - accuracy: 0.7247\n",
      "Epoch 5/30\n",
      "919/919 - 0s - loss: 0.5535 - accuracy: 0.7922\n",
      "Epoch 6/30\n",
      "919/919 - 0s - loss: 0.5179 - accuracy: 0.8194\n",
      "Epoch 7/30\n",
      "919/919 - 0s - loss: 0.4861 - accuracy: 0.8498\n",
      "Epoch 8/30\n",
      "919/919 - 0s - loss: 0.4598 - accuracy: 0.8651\n",
      "Epoch 9/30\n",
      "919/919 - 0s - loss: 0.4389 - accuracy: 0.8868\n",
      "Epoch 10/30\n",
      "919/919 - 0s - loss: 0.4195 - accuracy: 0.8966\n",
      "Epoch 11/30\n",
      "919/919 - 0s - loss: 0.4035 - accuracy: 0.9086\n",
      "Epoch 12/30\n",
      "919/919 - 0s - loss: 0.3898 - accuracy: 0.9108\n",
      "Epoch 13/30\n",
      "919/919 - 0s - loss: 0.3773 - accuracy: 0.9206\n",
      "Epoch 14/30\n",
      "919/919 - 0s - loss: 0.3645 - accuracy: 0.9217\n",
      "Epoch 15/30\n",
      "919/919 - 0s - loss: 0.3525 - accuracy: 0.9325\n",
      "Epoch 16/30\n",
      "919/919 - 0s - loss: 0.3419 - accuracy: 0.9358\n",
      "Epoch 17/30\n",
      "919/919 - 0s - loss: 0.3309 - accuracy: 0.9391\n",
      "Epoch 18/30\n",
      "919/919 - 0s - loss: 0.3199 - accuracy: 0.9456\n",
      "Epoch 19/30\n",
      "919/919 - 0s - loss: 0.3126 - accuracy: 0.9445\n",
      "Epoch 20/30\n",
      "919/919 - 0s - loss: 0.3043 - accuracy: 0.9434\n",
      "Epoch 21/30\n",
      "919/919 - 0s - loss: 0.2955 - accuracy: 0.9467\n",
      "Epoch 22/30\n",
      "919/919 - 0s - loss: 0.2882 - accuracy: 0.9510\n",
      "Epoch 23/30\n",
      "919/919 - 0s - loss: 0.2826 - accuracy: 0.9499\n",
      "Epoch 24/30\n",
      "919/919 - 0s - loss: 0.2751 - accuracy: 0.9521\n",
      "Epoch 25/30\n",
      "919/919 - 0s - loss: 0.2696 - accuracy: 0.9489\n",
      "Epoch 26/30\n",
      "919/919 - 0s - loss: 0.2610 - accuracy: 0.9587\n",
      "Epoch 27/30\n",
      "919/919 - 0s - loss: 0.2538 - accuracy: 0.9619\n",
      "Epoch 28/30\n",
      "919/919 - 0s - loss: 0.2503 - accuracy: 0.9587\n",
      "Epoch 29/30\n",
      "919/919 - 0s - loss: 0.2446 - accuracy: 0.9587\n",
      "Epoch 30/30\n",
      "919/919 - 0s - loss: 0.2381 - accuracy: 0.9663\n",
      "230/1 - 0s - loss: 0.1690 - accuracy: 0.9565\n",
      "Train on 919 samples\n",
      "Epoch 1/30\n",
      "919/919 - 1s - loss: 0.6756 - accuracy: 0.6083\n",
      "Epoch 2/30\n",
      "919/919 - 0s - loss: 0.6357 - accuracy: 0.7410\n",
      "Epoch 3/30\n",
      "919/919 - 0s - loss: 0.5744 - accuracy: 0.7780\n",
      "Epoch 4/30\n",
      "919/919 - 0s - loss: 0.4933 - accuracy: 0.8139\n",
      "Epoch 5/30\n",
      "919/919 - 0s - loss: 0.4216 - accuracy: 0.8324\n",
      "Epoch 6/30\n",
      "919/919 - 0s - loss: 0.3684 - accuracy: 0.8466\n",
      "Epoch 7/30\n",
      "919/919 - 0s - loss: 0.3302 - accuracy: 0.8629\n",
      "Epoch 8/30\n",
      "919/919 - 0s - loss: 0.2978 - accuracy: 0.8770\n",
      "Epoch 9/30\n",
      "919/919 - 0s - loss: 0.2712 - accuracy: 0.8836\n",
      "Epoch 10/30\n",
      "919/919 - 0s - loss: 0.2550 - accuracy: 0.8890\n",
      "Epoch 11/30\n",
      "919/919 - 0s - loss: 0.2327 - accuracy: 0.8945\n",
      "Epoch 12/30\n",
      "919/919 - 0s - loss: 0.2149 - accuracy: 0.9032\n",
      "Epoch 13/30\n",
      "919/919 - 0s - loss: 0.2040 - accuracy: 0.9075\n",
      "Epoch 14/30\n",
      "919/919 - 0s - loss: 0.1923 - accuracy: 0.9119\n",
      "Epoch 15/30\n",
      "919/919 - 0s - loss: 0.1789 - accuracy: 0.9206\n",
      "Epoch 16/30\n",
      "919/919 - 0s - loss: 0.1693 - accuracy: 0.9227\n",
      "Epoch 17/30\n",
      "919/919 - 0s - loss: 0.1597 - accuracy: 0.9325\n",
      "Epoch 18/30\n",
      "919/919 - 0s - loss: 0.1493 - accuracy: 0.9336\n",
      "Epoch 19/30\n",
      "919/919 - 0s - loss: 0.1419 - accuracy: 0.9369\n",
      "Epoch 20/30\n",
      "919/919 - 0s - loss: 0.1352 - accuracy: 0.9402\n",
      "Epoch 21/30\n",
      "919/919 - 0s - loss: 0.1301 - accuracy: 0.9434\n",
      "Epoch 22/30\n",
      "919/919 - 0s - loss: 0.1245 - accuracy: 0.9499\n",
      "Epoch 23/30\n",
      "919/919 - 0s - loss: 0.1162 - accuracy: 0.9532\n",
      "Epoch 24/30\n",
      "919/919 - 0s - loss: 0.1072 - accuracy: 0.9499\n",
      "Epoch 25/30\n",
      "919/919 - 0s - loss: 0.1104 - accuracy: 0.9554\n",
      "Epoch 26/30\n",
      "919/919 - 0s - loss: 0.1024 - accuracy: 0.9608\n",
      "Epoch 27/30\n",
      "919/919 - 0s - loss: 0.0961 - accuracy: 0.9576\n",
      "Epoch 28/30\n",
      "919/919 - 0s - loss: 0.0970 - accuracy: 0.9652\n",
      "Epoch 29/30\n",
      "919/919 - 0s - loss: 0.0909 - accuracy: 0.9619\n",
      "Epoch 30/30\n",
      "919/919 - 0s - loss: 0.0884 - accuracy: 0.9663\n",
      "230/1 - 0s - loss: 0.0752 - accuracy: 0.9565\n",
      "Train on 920 samples\n",
      "Epoch 1/30\n",
      "920/920 - 1s - loss: 0.6940 - accuracy: 0.4913\n",
      "Epoch 2/30\n",
      "920/920 - 0s - loss: 0.6506 - accuracy: 0.6065\n",
      "Epoch 3/30\n",
      "920/920 - 0s - loss: 0.5869 - accuracy: 0.7935\n",
      "Epoch 4/30\n",
      "920/920 - 0s - loss: 0.4810 - accuracy: 0.8489\n",
      "Epoch 5/30\n",
      "920/920 - 0s - loss: 0.3496 - accuracy: 0.8924\n",
      "Epoch 6/30\n",
      "920/920 - 0s - loss: 0.2762 - accuracy: 0.9011\n",
      "Epoch 7/30\n",
      "920/920 - 0s - loss: 0.2396 - accuracy: 0.9130\n",
      "Epoch 8/30\n",
      "920/920 - 0s - loss: 0.2219 - accuracy: 0.9152\n",
      "Epoch 9/30\n",
      "920/920 - 0s - loss: 0.2026 - accuracy: 0.9185\n",
      "Epoch 10/30\n",
      "920/920 - 0s - loss: 0.1908 - accuracy: 0.9196\n",
      "Epoch 11/30\n",
      "920/920 - 0s - loss: 0.1787 - accuracy: 0.9250\n",
      "Epoch 12/30\n",
      "920/920 - 0s - loss: 0.1715 - accuracy: 0.9272\n",
      "Epoch 13/30\n",
      "920/920 - 0s - loss: 0.1609 - accuracy: 0.9304\n",
      "Epoch 14/30\n",
      "920/920 - 0s - loss: 0.1513 - accuracy: 0.9380\n",
      "Epoch 15/30\n",
      "920/920 - 0s - loss: 0.1538 - accuracy: 0.9359\n"
     ]
    },
    {
     "name": "stdout",
     "output_type": "stream",
     "text": [
      "Epoch 16/30\n",
      "920/920 - 0s - loss: 0.1410 - accuracy: 0.9413\n",
      "Epoch 17/30\n",
      "920/920 - 0s - loss: 0.1339 - accuracy: 0.9467\n",
      "Epoch 18/30\n",
      "920/920 - 0s - loss: 0.1388 - accuracy: 0.9424\n",
      "Epoch 19/30\n",
      "920/920 - 0s - loss: 0.1271 - accuracy: 0.9446\n",
      "Epoch 20/30\n",
      "920/920 - 0s - loss: 0.1252 - accuracy: 0.9489\n",
      "Epoch 21/30\n",
      "920/920 - 0s - loss: 0.1159 - accuracy: 0.9467\n",
      "Epoch 22/30\n",
      "920/920 - 0s - loss: 0.1125 - accuracy: 0.9511\n",
      "Epoch 23/30\n",
      "920/920 - 0s - loss: 0.1086 - accuracy: 0.9554\n",
      "Epoch 24/30\n",
      "920/920 - 0s - loss: 0.1031 - accuracy: 0.9565\n",
      "Epoch 25/30\n",
      "920/920 - 0s - loss: 0.1007 - accuracy: 0.9554\n",
      "Epoch 26/30\n",
      "920/920 - 0s - loss: 0.0978 - accuracy: 0.9587\n",
      "Epoch 27/30\n",
      "920/920 - 0s - loss: 0.0938 - accuracy: 0.9576\n",
      "Epoch 28/30\n",
      "920/920 - 0s - loss: 0.0897 - accuracy: 0.9630\n",
      "Epoch 29/30\n",
      "920/920 - 0s - loss: 0.0857 - accuracy: 0.9630\n",
      "Epoch 30/30\n",
      "920/920 - 0s - loss: 0.0830 - accuracy: 0.9641\n",
      "229/1 - 0s - loss: 0.1386 - accuracy: 0.9345\n"
     ]
    },
    {
     "data": {
      "text/plain": [
       "array([0.96086955, 0.9173913 , 0.95652175, 0.95652175, 0.93449783])"
      ]
     },
     "execution_count": 26,
     "metadata": {},
     "output_type": "execute_result"
    }
   ],
   "source": [
    "cross_val_score(keras_model, X_pure_train, y_pure_train)"
   ]
  },
  {
   "cell_type": "markdown",
   "metadata": {},
   "source": [
    "## Regularization"
   ]
  },
  {
   "cell_type": "markdown",
   "metadata": {},
   "source": [
    "Does regularization make sense in the context of neural networks? <br/>\n",
    "\n",
    "Yes! We still have all of the salient ingredients: a loss function, overfitting vs. underfitting, and coefficients (weights) that could get too large.\n",
    "\n",
    "But there are now a few different flavors besides L1 and L2 regularization. (Note that L1 regularization is not common in the context of  neural networks.)\n",
    "\n",
    "We'll add a few more layers to give regularization a better chance of making a difference!"
   ]
  },
  {
   "cell_type": "markdown",
   "metadata": {},
   "source": [
    "Modify the below cell to add regularization to one layer"
   ]
  },
  {
   "cell_type": "code",
   "execution_count": 28,
   "metadata": {},
   "outputs": [
    {
     "data": {
      "image/png": "[encoded data removed]",
      "text/plain": [
       "<Figure size 720x360 with 2 Axes>"
      ]
     },
     "metadata": {
      "needs_background": "light"
     },
     "output_type": "display_data"
    }
   ],
   "source": [
    "model = Sequential()\n",
    "model.add(Dense(30, activation='relu', input_dim=64))\n",
    "\n",
    "# We can add L2 (or L1) regularization right into\n",
    "# the layer with the kernel_regularizer parameter.\n",
    "\n",
    "#Modify code here to add in regularization to this layer\n",
    "model.add(Dense(20, activation='relu', kernel_regularizer=l2(l=0.05)))\n",
    "\n",
    "# Note that there is also a bias_regularizer,\n",
    "# but this tends to have less effect.\n",
    "\n",
    "model.add(Dense(12, activation='relu'))\n",
    "model.add(Dense(12, activation='relu'))\n",
    "model.add(Dense(12, activation='relu'))\n",
    "model.add(Dense(8, activation='relu'))\n",
    "model.add(Dense(4, activation='relu'))\n",
    "model.add(Dense(1, activation ='sigmoid'))\n",
    "\n",
    "model.compile(optimizer='adam',\n",
    "              loss='binary_crossentropy',\n",
    "              metrics=['accuracy'])\n",
    "\n",
    "results = model.fit(X_pure_train, y_pure_train, epochs=20, batch_size=32,\n",
    "                    verbose=0, validation_data=(X_val, y_val))\n",
    "\n",
    "train_loss = results.history['loss']\n",
    "train_acc = results.history['accuracy']\n",
    "val_loss = results.history['val_loss']\n",
    "val_acc = results.history['val_accuracy']\n",
    "\n",
    "\n",
    "fig, (ax1, ax2) = plt.subplots(1, 2, figsize=(10, 5))\n",
    "sns.lineplot(x=results.epoch, y=train_loss, ax=ax1, label='train_loss')\n",
    "sns.lineplot(x=results.epoch, y=train_acc, ax=ax2, label='train_accuracy')\n",
    "\n",
    "sns.lineplot(x=results.epoch, y=val_loss, ax=ax1, label='val_loss')\n",
    "sns.lineplot(x=results.epoch, y=val_acc, ax=ax2, label='val_accuracy');"
   ]
  },
  {
   "cell_type": "markdown",
   "metadata": {},
   "source": [
    "Adding L2 to multiple layers:"
   ]
  },
  {
   "cell_type": "code",
   "execution_count": 33,
   "metadata": {},
   "outputs": [
    {
     "data": {
      "image/png": "[encoded data removed]",
      "text/plain": [
       "<Figure size 720x360 with 2 Axes>"
      ]
     },
     "metadata": {
      "needs_background": "light"
     },
     "output_type": "display_data"
    }
   ],
   "source": [
    "model = Sequential()\n",
    "model.add(Dense(30, activation='relu',\n",
    "                input_dim=64))\n",
    "model.add(Dense(20, activation='relu',\n",
    "                kernel_regularizer=l2(l=0.01)))\n",
    "\n",
    "model.add(Dense(12, activation='relu',\n",
    "                kernel_regularizer=l2(l=0.01)))\n",
    "model.add(Dense(12, activation='relu',\n",
    "                kernel_regularizer=l2(l=0.01)))\n",
    "model.add(Dense(12, activation='relu',\n",
    "                kernel_regularizer=l2(l=0.01)))\n",
    "model.add(Dense(8, activation='relu',\n",
    "                kernel_regularizer=l2(l=0.01)))\n",
    "model.add(Dense(4, activation='relu',\n",
    "                kernel_regularizer=l2(l=0.01)))\n",
    "model.add(Dense(1, activation='sigmoid'))\n",
    "\n",
    "model.compile(optimizer='adam',\n",
    "              loss='binary_crossentropy',\n",
    "              metrics=['accuracy'])\n",
    "\n",
    "results = model.fit(X_pure_train, y_pure_train, epochs=20, batch_size=32,\n",
    "                    verbose=0, validation_data=(X_val, y_val))\n",
    "\n",
    "train_loss = results.history['loss']\n",
    "train_acc = results.history['accuracy']\n",
    "val_loss = results.history['val_loss']\n",
    "val_acc = results.history['val_accuracy']\n",
    "\n",
    "\n",
    "fig, (ax1, ax2) = plt.subplots(1, 2, figsize=(10, 5))\n",
    "sns.lineplot(x=results.epoch, y=train_loss, ax=ax1, label='train_loss')\n",
    "sns.lineplot(x=results.epoch, y=train_acc, ax=ax2, label='train_accuracy')\n",
    "\n",
    "sns.lineplot(x=results.epoch, y=val_loss, ax=ax1, label='val_loss')\n",
    "sns.lineplot(x=results.epoch, y=val_acc, ax=ax2, label='val_accuracy');"
   ]
  },
  {
   "cell_type": "markdown",
   "metadata": {},
   "source": [
    "### Dropout\n",
    "\n",
    "We can also specify a dropout layer in keras, which randomly shuts off different nodes during training. This can help to prevent overfitting.\n",
    "\n",
    "![drop_out](images/drop_out.png)"
   ]
  },
  {
   "cell_type": "markdown",
   "metadata": {},
   "source": [
    "### Exercise\n",
    "\n",
    "To add dropout to a `keras` network, simply add it as though it were a layer. It will apply to the immediately preceding layer.\n",
    "\n",
    "Add Dropout to one or more layers below."
   ]
  },
  {
   "cell_type": "code",
   "execution_count": 34,
   "metadata": {},
   "outputs": [
    {
     "data": {
      "image/png": "[encoded data removed]",
      "text/plain": [
       "<Figure size 720x360 with 2 Axes>"
      ]
     },
     "metadata": {
      "needs_background": "light"
     },
     "output_type": "display_data"
    }
   ],
   "source": [
    "#Adjust the code to add dropout\n",
    "\n",
    "model = Sequential()\n",
    "model.add(Dense(30, activation='relu', input_dim=64))\n",
    "model.add(Dense(20, activation='relu'))\n",
    "model.add(Dropout(0.5))\n",
    "model.add(Dense(12, activation='relu'))\n",
    "model.add(Dense(12, activation='relu'))\n",
    "model.add(Dense(12, activation='relu'))\n",
    "model.add(Dropout(0.2))\n",
    "model.add(Dense(8, activation='relu'))\n",
    "model.add(Dense(4, activation='relu'))\n",
    "model.add(Dense(1, activation ='sigmoid'))\n",
    "\n",
    "model.compile(optimizer='adam',\n",
    "              loss='binary_crossentropy',\n",
    "              metrics=['accuracy'])\n",
    "\n",
    "results = model.fit(X_pure_train, y_pure_train, epochs=50,\n",
    "                    batch_size= 32, verbose=0,\n",
    "                    validation_data=(X_val, y_val))\n",
    "\n",
    "train_loss = results.history['loss']\n",
    "train_acc = results.history['accuracy']\n",
    "val_loss = results.history['val_loss']\n",
    "val_acc = results.history['val_accuracy']\n",
    "\n",
    "\n",
    "fig, (ax1, ax2) = plt.subplots(1, 2, figsize=(10, 5))\n",
    "sns.lineplot(x=results.epoch, y=train_loss, ax=ax1, label='train_loss')\n",
    "sns.lineplot(x=results.epoch, y=train_acc, ax=ax2, label='train_accuracy')\n",
    "\n",
    "sns.lineplot(x=results.epoch, y=val_loss, ax=ax1, label='val_loss')\n",
    "sns.lineplot(x=results.epoch, y=val_acc, ax=ax2, label='val_accuracy');"
   ]
  },
  {
   "cell_type": "markdown",
   "metadata": {},
   "source": [
    "<details>\n",
    "    <summary>One answer here</summary>\n",
    "<code>model = Sequential()\n",
    "model.add(Dense(30, activation='relu', input_dim=64))\n",
    "model.add(Dense(20, activation='relu'))\n",
    "model.add(Dropout(0.5))\n",
    "model.add(Dense(12, activation='relu'))\n",
    "model.add(Dropout(0.2))\n",
    "model.add(Dense(12, activation='relu'))\n",
    "model.add(Dense(12, activation='relu'))\n",
    "model.add(Dense(8, activation='relu'))\n",
    "model.add(Dense(4, activation='relu'))\n",
    "model.add(Dense(1, activation ='sigmoid'))\n",
    "\n",
    "model.compile(optimizer='adam',\n",
    "              loss='binary_crossentropy',\n",
    "              metrics=['accuracy'])\n",
    "\n",
    "results = model.fit(X_pure_train, y_pure_train, epochs=50,\n",
    "                    batch_size= 32, verbose=0,\n",
    "                    validation_data=(X_val, y_val))\n",
    "\n",
    "train_loss = results.history['loss']\n",
    "train_acc = results.history['accuracy']\n",
    "val_loss = results.history['val_loss']\n",
    "val_acc = results.history['val_accuracy']\n",
    "\n",
    "\n",
    "fig, (ax1, ax2) = plt.subplots(1, 2, figsize=(10, 5))\n",
    "sns.lineplot(x=results.epoch, y=train_loss, ax=ax1, label='train_loss')\n",
    "sns.lineplot(x=results.epoch, y=train_acc, ax=ax2, label='train_accuracy')\n",
    "\n",
    "sns.lineplot(x=results.epoch, y=val_loss, ax=ax1, label='val_loss')\n",
    "sns.lineplot(x=results.epoch, y=val_acc, ax=ax2, label='val_accuracy');</code>\n",
    "</details>"
   ]
  },
  {
   "cell_type": "code",
   "execution_count": 35,
   "metadata": {},
   "outputs": [
    {
     "data": {
      "text/plain": [
       "0.9722222"
      ]
     },
     "execution_count": 35,
     "metadata": {},
     "output_type": "execute_result"
    }
   ],
   "source": [
    "results.history['val_accuracy'][-1]"
   ]
  },
  {
   "cell_type": "markdown",
   "metadata": {},
   "source": [
    "### Early Stopping"
   ]
  },
  {
   "cell_type": "markdown",
   "metadata": {},
   "source": [
    "We can also tell our neural network to stop once it stops realizing any gain.\n",
    "\n",
    "Here we tell it to stop once a very small positive change in the validation loss occurs:"
   ]
  },
  {
   "cell_type": "code",
   "execution_count": 36,
   "metadata": {},
   "outputs": [
    {
     "name": "stdout",
     "output_type": "stream",
     "text": [
      "Epoch 00018: early stopping\n"
     ]
    },
    {
     "data": {
      "image/png": "[encoded data removed]",
      "text/plain": [
       "<Figure size 720x360 with 2 Axes>"
      ]
     },
     "metadata": {
      "needs_background": "light"
     },
     "output_type": "display_data"
    }
   ],
   "source": [
    "model = Sequential()\n",
    "model.add(Dense(30, activation='relu', input_dim=64))\n",
    "model.add(Dense(20, activation='relu'))\n",
    "model.add(Dropout(0.5))\n",
    "model.add(Dense(12, activation='relu'))\n",
    "model.add(Dense(12, activation='relu'))\n",
    "model.add(Dense(12, activation='relu'))\n",
    "model.add(Dense(8, activation='relu'))\n",
    "model.add(Dense(4, activation='relu'))\n",
    "model.add(Dense(1, activation ='sigmoid'))\n",
    "\n",
    "model.compile(optimizer='adam',\n",
    "              loss='binary_crossentropy',\n",
    "              metrics=['accuracy'])\n",
    "\n",
    "# Define the EarlyStopping object\n",
    "early_stop = EarlyStopping(monitor='val_loss', min_delta=1e-8,\n",
    "                           verbose=1,\n",
    "                           mode='min')\n",
    "\n",
    "# Place this in a list as the value of the `callbacks` parameter\n",
    "# in the `.fit()` method.\n",
    "results = model.fit(X_pure_train, y_pure_train,\n",
    "                    epochs=20, batch_size=32,\n",
    "                    verbose=0, validation_data=(X_val, y_val),\n",
    "                    callbacks=[early_stop])\n",
    "\n",
    "train_loss = results.history['loss']\n",
    "train_acc = results.history['accuracy']\n",
    "val_loss = results.history['val_loss']\n",
    "val_acc = results.history['val_accuracy']\n",
    "\n",
    "\n",
    "fig, (ax1, ax2) = plt.subplots(1, 2, figsize=(10, 5))\n",
    "sns.lineplot(x=results.epoch, y=train_loss, ax=ax1, label='train_loss')\n",
    "sns.lineplot(x=results.epoch, y=train_acc, ax=ax2, label='train_accuracy')\n",
    "\n",
    "sns.lineplot(x=results.epoch, y=val_loss, ax=ax1, label='val_loss')\n",
    "sns.lineplot(x=results.epoch, y=val_acc, ax=ax2, label='val_accuracy');"
   ]
  },
  {
   "cell_type": "markdown",
   "metadata": {},
   "source": [
    "### Exercise\n",
    "\n",
    "That probably stopped too early. We can specify the number of epochs in which it doesn't see decrease in the loss with the `patience` parameter. Modify the code below to include an Early Stop with a patience of 5 epochs."
   ]
  },
  {
   "cell_type": "code",
   "execution_count": 37,
   "metadata": {},
   "outputs": [
    {
     "name": "stdout",
     "output_type": "stream",
     "text": [
      "Epoch 00034: early stopping\n"
     ]
    },
    {
     "data": {
      "image/png": "[encoded data removed]",
      "text/plain": [
       "<Figure size 720x360 with 2 Axes>"
      ]
     },
     "metadata": {
      "needs_background": "light"
     },
     "output_type": "display_data"
    }
   ],
   "source": [
    "#Modify the code to include an Early stop with a patience of 5 epochs\n",
    "\n",
    "model = Sequential()\n",
    "model.add(Dense(30, activation='relu', input_dim=64))\n",
    "model.add(Dense(20, activation='relu'))\n",
    "model.add(Dropout(0.5))\n",
    "model.add(Dense(12, activation='relu'))\n",
    "model.add(Dense(12, activation='relu'))\n",
    "model.add(Dense(12, activation='relu'))\n",
    "model.add(Dense(8, activation='relu'))\n",
    "model.add(Dense(4, activation='relu'))\n",
    "model.add(Dense(1, activation ='sigmoid'))\n",
    "\n",
    "model.compile(optimizer='adam',\n",
    "              loss='binary_crossentropy',\n",
    "              metrics=['accuracy'])\n",
    "\n",
    "# Define the EarlyStopping object\n",
    "early_stop = EarlyStopping(monitor='val_loss', min_delta=1e-8, verbose=1, patience=5, mode='min')\n",
    "\n",
    "# Place this in a list as the value of the `callbacks` parameter\n",
    "# in the `.fit()` method.\n",
    "results = model.fit(X_pure_train, y_pure_train,\n",
    "                    epochs=50, batch_size= 32,\n",
    "                    verbose=0, validation_data=(X_val, y_val),\n",
    "                   callbacks=[early_stop])\n",
    "\n",
    "train_loss = results.history['loss']\n",
    "train_acc = results.history['accuracy']\n",
    "val_loss = results.history['val_loss']\n",
    "val_acc = results.history['val_accuracy']\n",
    "\n",
    "\n",
    "fig, (ax1, ax2) = plt.subplots(1, 2, figsize=(10, 5))\n",
    "sns.lineplot(x=results.epoch, y=train_loss, ax=ax1, label='train_loss')\n",
    "sns.lineplot(x=results.epoch, y=train_acc, ax=ax2, label='train_accuracy')\n",
    "\n",
    "sns.lineplot(x=results.epoch, y=val_loss, ax=ax1, label='val_loss')\n",
    "sns.lineplot(x=results.epoch, y=val_acc, ax=ax2, label='val_accuracy');"
   ]
  },
  {
   "cell_type": "markdown",
   "metadata": {},
   "source": [
    "<details>\n",
    "    <summary>One answer here</summary>\n",
    "<code>model = Sequential()\n",
    "model.add(Dense(30, activation='relu', input_dim=64))\n",
    "model.add(Dense(20, activation='relu'))\n",
    "model.add(Dropout(0.5))\n",
    "model.add(Dense(12, activation='relu'))\n",
    "model.add(Dense(12, activation='relu'))\n",
    "model.add(Dense(12, activation='relu'))\n",
    "model.add(Dense(8, activation='relu'))\n",
    "model.add(Dense(4, activation='relu'))\n",
    "model.add(Dense(1, activation ='sigmoid'))\n",
    "model.compile(optimizer='adam',\n",
    "              loss='binary_crossentropy',\n",
    "              metrics=['accuracy'])\n",
    "early_stop = EarlyStopping(monitor='val_loss', min_delta=1e-8,\n",
    "                           verbose=1, patience=5,\n",
    "                           mode='min')   \n",
    "results = model.fit(X_pure_train, y_pure_train,\n",
    "                    epochs=50, batch_size= 32,\n",
    "                    verbose=0, validation_data=(X_val, y_val),\n",
    "                    callbacks=[early_stop])\n",
    "train_loss = results.history['loss']\n",
    "train_acc = results.history['accuracy']\n",
    "val_loss = results.history['val_loss']\n",
    "val_acc = results.history['val_accuracy']\n",
    "\n",
    "\n",
    "fig, (ax1, ax2) = plt.subplots(1, 2, figsize=(10, 5))\n",
    "sns.lineplot(x=results.epoch, y=train_loss, ax=ax1, label='train_loss')\n",
    "sns.lineplot(x=results.epoch, y=train_acc, ax=ax2, label='train_accuracy')\n",
    "\n",
    "sns.lineplot(x=results.epoch, y=val_loss, ax=ax1, label='val_loss')\n",
    "sns.lineplot(x=results.epoch, y=val_acc, ax=ax2, label='val_accuracy');</code>\n",
    "</details>"
   ]
  },
  {
   "cell_type": "code",
   "execution_count": 38,
   "metadata": {},
   "outputs": [
    {
     "data": {
      "text/plain": [
       "0.9722222"
      ]
     },
     "execution_count": 38,
     "metadata": {},
     "output_type": "execute_result"
    }
   ],
   "source": [
    "results.history['val_accuracy'][-1]"
   ]
  },
  {
   "cell_type": "markdown",
   "metadata": {},
   "source": [
    "## Multiclass Classification and Softmax"
   ]
  },
  {
   "cell_type": "markdown",
   "metadata": {},
   "source": [
    "Now let's return to the problem of predicting digits 0 through 9."
   ]
  },
  {
   "cell_type": "code",
   "execution_count": 39,
   "metadata": {},
   "outputs": [],
   "source": [
    "digits = load_digits()\n",
    "X = digits.data\n",
    "y = digits.target"
   ]
  },
  {
   "cell_type": "code",
   "execution_count": 40,
   "metadata": {},
   "outputs": [
    {
     "data": {
      "text/plain": [
       "array([0, 1, 2, ..., 8, 9, 8])"
      ]
     },
     "execution_count": 40,
     "metadata": {},
     "output_type": "execute_result"
    }
   ],
   "source": [
    "y"
   ]
  },
  {
   "cell_type": "code",
   "execution_count": 41,
   "metadata": {},
   "outputs": [],
   "source": [
    "X_train, X_test, y_train, y_test = train_test_split(X, y,\n",
    "                                                    random_state=42,\n",
    "                                                    test_size=0.2)\n",
    "X_pure_train, X_val, y_pure_train, y_val =\\\n",
    "    train_test_split(X_train, y_train,\n",
    "                     random_state=42, test_size=0.2)\n",
    "X_pure_train, X_val, X_test = X_pure_train/16, X_val/16, X_test/16"
   ]
  },
  {
   "cell_type": "markdown",
   "metadata": {},
   "source": [
    "For a multiclass output, our neural net expects our target to be in a certain form."
   ]
  },
  {
   "cell_type": "code",
   "execution_count": 42,
   "metadata": {},
   "outputs": [
    {
     "data": {
      "text/plain": [
       "array([8, 7, 4, ..., 1, 2, 8])"
      ]
     },
     "execution_count": 42,
     "metadata": {},
     "output_type": "execute_result"
    }
   ],
   "source": [
    "y_pure_train"
   ]
  },
  {
   "cell_type": "code",
   "execution_count": 43,
   "metadata": {},
   "outputs": [
    {
     "data": {
      "text/plain": [
       "(1149,)"
      ]
     },
     "execution_count": 43,
     "metadata": {},
     "output_type": "execute_result"
    }
   ],
   "source": [
    "y_pure_train.shape"
   ]
  },
  {
   "cell_type": "code",
   "execution_count": 46,
   "metadata": {},
   "outputs": [
    {
     "data": {
      "text/plain": [
       "(1149, 1)"
      ]
     },
     "execution_count": 46,
     "metadata": {},
     "output_type": "execute_result"
    }
   ],
   "source": [
    "y_pure_train.reshape(-1,1).shape"
   ]
  },
  {
   "cell_type": "code",
   "execution_count": 47,
   "metadata": {},
   "outputs": [
    {
     "data": {
      "text/plain": [
       "array([[8],\n",
       "       [7],\n",
       "       [4],\n",
       "       ...,\n",
       "       [1],\n",
       "       [2],\n",
       "       [8]])"
      ]
     },
     "execution_count": 47,
     "metadata": {},
     "output_type": "execute_result"
    }
   ],
   "source": [
    "y_pure_train.reshape(-1,1)"
   ]
  },
  {
   "cell_type": "code",
   "execution_count": 48,
   "metadata": {},
   "outputs": [],
   "source": [
    "ohe = OneHotEncoder(sparse=False)\n",
    "y_pure_train = ohe.fit_transform(y_pure_train.reshape(-1,1))\n",
    "y_val = ohe.transform(y_val.reshape(-1,1))\n",
    "y_test = ohe.transform(y_test.reshape(-1,1))"
   ]
  },
  {
   "cell_type": "code",
   "execution_count": 49,
   "metadata": {},
   "outputs": [
    {
     "data": {
      "text/plain": [
       "array([[0., 0., 0., ..., 0., 1., 0.],\n",
       "       [0., 0., 0., ..., 1., 0., 0.],\n",
       "       [0., 0., 0., ..., 0., 0., 0.],\n",
       "       ...,\n",
       "       [0., 1., 0., ..., 0., 0., 0.],\n",
       "       [0., 0., 1., ..., 0., 0., 0.],\n",
       "       [0., 0., 0., ..., 0., 1., 0.]])"
      ]
     },
     "execution_count": 49,
     "metadata": {},
     "output_type": "execute_result"
    }
   ],
   "source": [
    "y_pure_train"
   ]
  },
  {
   "cell_type": "code",
   "execution_count": 55,
   "metadata": {},
   "outputs": [
    {
     "name": "stdout",
     "output_type": "stream",
     "text": [
      "Train on 1149 samples, validate on 288 samples\n",
      "Epoch 1/50\n",
      "1149/1149 [==============================] - 1s 999us/sample - loss: 2.2741 - accuracy: 0.1549 - val_loss: 2.2040 - val_accuracy: 0.1771\n",
      "Epoch 2/50\n",
      "1149/1149 [==============================] - 0s 187us/sample - loss: 2.1047 - accuracy: 0.2689 - val_loss: 2.0085 - val_accuracy: 0.3542\n",
      "Epoch 3/50\n",
      "1149/1149 [==============================] - 0s 170us/sample - loss: 1.8443 - accuracy: 0.4308 - val_loss: 1.6876 - val_accuracy: 0.4653\n",
      "Epoch 4/50\n",
      "1149/1149 [==============================] - 0s 177us/sample - loss: 1.5305 - accuracy: 0.5248 - val_loss: 1.4028 - val_accuracy: 0.5556\n",
      "Epoch 5/50\n",
      "1149/1149 [==============================] - 0s 156us/sample - loss: 1.2329 - accuracy: 0.6562 - val_loss: 1.1239 - val_accuracy: 0.7083\n",
      "Epoch 6/50\n",
      "1149/1149 [==============================] - 0s 163us/sample - loss: 0.9761 - accuracy: 0.7685 - val_loss: 0.9206 - val_accuracy: 0.7812\n",
      "Epoch 7/50\n",
      "1149/1149 [==============================] - 0s 176us/sample - loss: 0.7957 - accuracy: 0.8120 - val_loss: 0.7929 - val_accuracy: 0.8056\n",
      "Epoch 8/50\n",
      "1149/1149 [==============================] - 0s 162us/sample - loss: 0.6670 - accuracy: 0.8538 - val_loss: 0.6954 - val_accuracy: 0.8160\n",
      "Epoch 9/50\n",
      "1149/1149 [==============================] - 0s 151us/sample - loss: 0.5752 - accuracy: 0.8712 - val_loss: 0.6155 - val_accuracy: 0.8333\n",
      "Epoch 10/50\n",
      "1149/1149 [==============================] - 0s 152us/sample - loss: 0.5060 - accuracy: 0.8825 - val_loss: 0.5420 - val_accuracy: 0.8507\n",
      "Epoch 11/50\n",
      "1149/1149 [==============================] - 0s 156us/sample - loss: 0.4563 - accuracy: 0.8895 - val_loss: 0.4939 - val_accuracy: 0.8542\n",
      "Epoch 12/50\n",
      "1149/1149 [==============================] - 0s 151us/sample - loss: 0.4113 - accuracy: 0.9017 - val_loss: 0.4600 - val_accuracy: 0.8750\n",
      "Epoch 13/50\n",
      "1149/1149 [==============================] - 0s 155us/sample - loss: 0.3743 - accuracy: 0.9086 - val_loss: 0.4112 - val_accuracy: 0.8854\n",
      "Epoch 14/50\n",
      "1149/1149 [==============================] - 0s 147us/sample - loss: 0.3454 - accuracy: 0.9060 - val_loss: 0.3933 - val_accuracy: 0.8924\n",
      "Epoch 15/50\n",
      "1149/1149 [==============================] - 0s 145us/sample - loss: 0.3230 - accuracy: 0.9138 - val_loss: 0.3681 - val_accuracy: 0.8958\n",
      "Epoch 16/50\n",
      "1149/1149 [==============================] - 0s 150us/sample - loss: 0.2989 - accuracy: 0.9269 - val_loss: 0.3562 - val_accuracy: 0.8889\n",
      "Epoch 17/50\n",
      "1149/1149 [==============================] - 0s 159us/sample - loss: 0.2821 - accuracy: 0.9312 - val_loss: 0.3254 - val_accuracy: 0.8993\n",
      "Epoch 18/50\n",
      "1149/1149 [==============================] - 0s 165us/sample - loss: 0.2647 - accuracy: 0.9347 - val_loss: 0.3034 - val_accuracy: 0.9097\n",
      "Epoch 19/50\n",
      "1149/1149 [==============================] - 0s 167us/sample - loss: 0.2524 - accuracy: 0.9382 - val_loss: 0.2935 - val_accuracy: 0.9201\n",
      "Epoch 20/50\n",
      "1149/1149 [==============================] - 0s 162us/sample - loss: 0.2381 - accuracy: 0.9408 - val_loss: 0.2912 - val_accuracy: 0.9132\n",
      "Epoch 21/50\n",
      "1149/1149 [==============================] - 0s 154us/sample - loss: 0.2269 - accuracy: 0.9434 - val_loss: 0.2812 - val_accuracy: 0.9132\n",
      "Epoch 22/50\n",
      "1149/1149 [==============================] - 0s 175us/sample - loss: 0.2183 - accuracy: 0.9478 - val_loss: 0.2552 - val_accuracy: 0.9340\n",
      "Epoch 23/50\n",
      "1149/1149 [==============================] - 0s 179us/sample - loss: 0.2066 - accuracy: 0.9487 - val_loss: 0.2515 - val_accuracy: 0.9236\n",
      "Epoch 24/50\n",
      "1149/1149 [==============================] - 0s 156us/sample - loss: 0.1989 - accuracy: 0.9504 - val_loss: 0.2474 - val_accuracy: 0.9375\n",
      "Epoch 25/50\n",
      "1149/1149 [==============================] - 0s 173us/sample - loss: 0.1905 - accuracy: 0.9539 - val_loss: 0.2321 - val_accuracy: 0.9410\n",
      "Epoch 26/50\n",
      "1149/1149 [==============================] - 0s 190us/sample - loss: 0.1818 - accuracy: 0.9556 - val_loss: 0.2274 - val_accuracy: 0.9340\n",
      "Epoch 27/50\n",
      "1149/1149 [==============================] - 0s 220us/sample - loss: 0.1766 - accuracy: 0.9521 - val_loss: 0.2288 - val_accuracy: 0.9306\n",
      "Epoch 28/50\n",
      "1149/1149 [==============================] - 0s 172us/sample - loss: 0.1714 - accuracy: 0.9582 - val_loss: 0.2217 - val_accuracy: 0.9340\n",
      "Epoch 29/50\n",
      "1149/1149 [==============================] - 0s 172us/sample - loss: 0.1650 - accuracy: 0.9591 - val_loss: 0.2127 - val_accuracy: 0.9375\n",
      "Epoch 30/50\n",
      "1149/1149 [==============================] - 0s 155us/sample - loss: 0.1588 - accuracy: 0.9556 - val_loss: 0.2058 - val_accuracy: 0.9306\n",
      "Epoch 31/50\n",
      "1149/1149 [==============================] - 0s 152us/sample - loss: 0.1506 - accuracy: 0.9643 - val_loss: 0.2052 - val_accuracy: 0.9340\n",
      "Epoch 32/50\n",
      "1149/1149 [==============================] - 0s 149us/sample - loss: 0.1488 - accuracy: 0.9626 - val_loss: 0.1905 - val_accuracy: 0.9410\n",
      "Epoch 33/50\n",
      "1149/1149 [==============================] - 0s 171us/sample - loss: 0.1433 - accuracy: 0.9634 - val_loss: 0.1897 - val_accuracy: 0.9375\n",
      "Epoch 34/50\n",
      "1149/1149 [==============================] - 0s 158us/sample - loss: 0.1387 - accuracy: 0.9643 - val_loss: 0.1824 - val_accuracy: 0.9479\n",
      "Epoch 35/50\n",
      "1149/1149 [==============================] - 0s 150us/sample - loss: 0.1333 - accuracy: 0.9687 - val_loss: 0.1765 - val_accuracy: 0.9410\n",
      "Epoch 36/50\n",
      "1149/1149 [==============================] - 0s 151us/sample - loss: 0.1331 - accuracy: 0.9695 - val_loss: 0.1656 - val_accuracy: 0.9514\n",
      "Epoch 37/50\n",
      "1149/1149 [==============================] - 0s 145us/sample - loss: 0.1257 - accuracy: 0.9661 - val_loss: 0.1697 - val_accuracy: 0.9479\n",
      "Epoch 38/50\n",
      "1149/1149 [==============================] - 0s 153us/sample - loss: 0.1237 - accuracy: 0.9704 - val_loss: 0.1723 - val_accuracy: 0.9410\n",
      "Epoch 39/50\n",
      "1149/1149 [==============================] - 0s 165us/sample - loss: 0.1219 - accuracy: 0.9687 - val_loss: 0.1607 - val_accuracy: 0.9479\n",
      "Epoch 40/50\n",
      "1149/1149 [==============================] - 0s 149us/sample - loss: 0.1181 - accuracy: 0.9713 - val_loss: 0.1688 - val_accuracy: 0.9340\n",
      "Epoch 41/50\n",
      "1149/1149 [==============================] - 0s 167us/sample - loss: 0.1149 - accuracy: 0.9748 - val_loss: 0.1598 - val_accuracy: 0.9479\n",
      "Epoch 42/50\n",
      "1149/1149 [==============================] - 0s 164us/sample - loss: 0.1114 - accuracy: 0.9730 - val_loss: 0.1545 - val_accuracy: 0.9410\n",
      "Epoch 43/50\n",
      "1149/1149 [==============================] - 0s 164us/sample - loss: 0.1109 - accuracy: 0.9748 - val_loss: 0.1620 - val_accuracy: 0.9410\n",
      "Epoch 44/50\n",
      "1149/1149 [==============================] - 0s 166us/sample - loss: 0.1052 - accuracy: 0.9774 - val_loss: 0.1468 - val_accuracy: 0.9479\n",
      "Epoch 45/50\n",
      "1149/1149 [==============================] - 0s 157us/sample - loss: 0.1030 - accuracy: 0.9739 - val_loss: 0.1666 - val_accuracy: 0.9444\n",
      "Epoch 46/50\n",
      "1149/1149 [==============================] - 0s 155us/sample - loss: 0.1012 - accuracy: 0.9756 - val_loss: 0.1418 - val_accuracy: 0.9583\n",
      "Epoch 47/50\n",
      "1149/1149 [==============================] - 0s 190us/sample - loss: 0.0997 - accuracy: 0.9817 - val_loss: 0.1362 - val_accuracy: 0.9549\n",
      "Epoch 48/50\n",
      "1149/1149 [==============================] - 0s 167us/sample - loss: 0.0934 - accuracy: 0.9782 - val_loss: 0.1380 - val_accuracy: 0.9549\n",
      "Epoch 49/50\n",
      "1149/1149 [==============================] - 0s 152us/sample - loss: 0.0931 - accuracy: 0.9756 - val_loss: 0.1429 - val_accuracy: 0.9479\n",
      "Epoch 50/50\n",
      "1149/1149 [==============================] - 0s 164us/sample - loss: 0.0908 - accuracy: 0.9782 - val_loss: 0.1434 - val_accuracy: 0.9549\n"
     ]
    }
   ],
   "source": [
    "# Model from above, but now with ten output neurons:\n",
    "\n",
    "model = Sequential()\n",
    "model.add(Dense(12, activation='relu', input_dim=64))\n",
    "model.add(Dense(8, activation='relu'))\n",
    "model.add(Dense(10, activation='softmax'))\n",
    "\n",
    "model.compile(optimizer='adam',\n",
    "              loss='categorical_crossentropy',\n",
    "              metrics=['accuracy'])\n",
    "\n",
    "results = model.fit(X_pure_train, y_pure_train,\n",
    "                   epochs=50, batch_size=10,\n",
    "                   validation_data=(X_val, y_val))"
   ]
  },
  {
   "cell_type": "code",
   "execution_count": null,
   "metadata": {},
   "outputs": [],
   "source": [
    "1.2 2.3 5.6 7.2 3.4 \n",
    "\n",
    "e^(1.2)/(e^1.2 + e^2.3 + e^5.6 + e^7.2 + e^3.4) = probability of first class\n",
    "e^(2.3) / that sum = probability of second class\n",
    "e^(5.6) / that sum = probability of 3rd class"
   ]
  },
  {
   "cell_type": "markdown",
   "metadata": {},
   "source": [
    "$$\\large \\text{Softmax}(x_{i}) = \\frac{\\exp(x_i)}{\\sum_j \\exp(x_j)}$$\n",
    "\n",
    "The sofmax function outputs a number between 0 and 1 for each of our classes.  All of the probabilities of the classes sum up to 1.\n",
    "\n",
    "The number of nodes in our output layer equals the number of categories in our dataset.\n",
    "\n",
    "We also need a new loss function: **categorical crossentropy**, which calculates a separate loss for each label and then sums the results."
   ]
  },
  {
   "cell_type": "code",
   "execution_count": 56,
   "metadata": {},
   "outputs": [],
   "source": [
    "history = results.history\n",
    "training_loss = history['loss']\n",
    "val_loss = history['val_loss']\n",
    "training_accuracy = history['accuracy']\n",
    "val_accuracy = history['val_accuracy']"
   ]
  },
  {
   "cell_type": "code",
   "execution_count": 57,
   "metadata": {},
   "outputs": [
    {
     "data": {
      "image/png": "[encoded data removed]",
      "text/plain": [
       "<Figure size 1080x360 with 2 Axes>"
      ]
     },
     "metadata": {
      "needs_background": "light"
     },
     "output_type": "display_data"
    }
   ],
   "source": [
    "fig, (ax1,ax2) = plt.subplots(1,2,figsize=(15,5))\n",
    "\n",
    "\n",
    "sns.lineplot(x=list(range(len(training_loss))),\n",
    "             y=training_loss, color='r', label='training', ax=ax1)\n",
    "sns.lineplot(x=list(range(len(val_loss))),\n",
    "             y=val_loss, color='b', label='validation', ax=ax1)\n",
    "sns.lineplot(x=list(range(len(training_loss))),\n",
    "             y=training_accuracy, color='r', label='training',ax=ax2)\n",
    "sns.lineplot(x=list(range(len(val_loss))),\n",
    "             y=val_accuracy, color='b', label='validation',ax=ax2)\n",
    "ax1.legend();"
   ]
  },
  {
   "cell_type": "code",
   "execution_count": 58,
   "metadata": {},
   "outputs": [
    {
     "data": {
      "text/plain": [
       "array([[4.1979939e-02, 1.9078469e-05, 7.8508130e-08, ..., 1.6162488e-09,\n",
       "        1.1561469e-02, 1.4400773e-05],\n",
       "       [4.7875827e-05, 1.4625077e-05, 6.5031576e-09, ..., 2.0958109e-05,\n",
       "        4.4944542e-04, 9.9843484e-01],\n",
       "       [1.8663184e-09, 8.6468413e-07, 5.6487072e-04, ..., 2.7996994e-05,\n",
       "        2.3521981e-04, 4.3998287e-05],\n",
       "       ...,\n",
       "       [1.0299425e-03, 1.2273766e-01, 3.0789117e-04, ..., 5.7664007e-04,\n",
       "        7.5127381e-01, 1.2256183e-01],\n",
       "       [4.7958491e-04, 5.2090254e-06, 4.1372380e-03, ..., 8.7986464e-08,\n",
       "        4.3008529e-02, 6.4127515e-03],\n",
       "       [1.3793870e-05, 4.6798002e-07, 1.0273981e-06, ..., 1.4149748e-06,\n",
       "        9.5705800e-03, 2.8749164e-02]], dtype=float32)"
      ]
     },
     "execution_count": 58,
     "metadata": {},
     "output_type": "execute_result"
    }
   ],
   "source": [
    "model.predict(X_test)"
   ]
  },
  {
   "cell_type": "code",
   "execution_count": 59,
   "metadata": {},
   "outputs": [],
   "source": [
    "#Get the predictions on our test set\n",
    "y_hat_test = np.argmax(model.predict(X_test), axis=-1)"
   ]
  },
  {
   "cell_type": "code",
   "execution_count": 60,
   "metadata": {},
   "outputs": [
    {
     "data": {
      "text/plain": [
       "array([6, 9, 3, 7, 2, 1, 5, 2, 5, 3, 1, 9, 4, 0, 4, 2, 3, 7, 8, 8, 4, 3,\n",
       "       9, 7, 5, 6, 3, 5, 6, 3, 4, 9, 1, 4, 4, 6, 9, 4, 7, 6, 6, 9, 1, 3,\n",
       "       6, 1, 3, 0, 6, 5, 5, 1, 9, 5, 6, 0, 9, 0, 0, 1, 7, 4, 5, 2, 4, 5,\n",
       "       7, 0, 7, 5, 9, 5, 5, 4, 7, 0, 4, 5, 5, 9, 9, 0, 2, 3, 8, 0, 6, 4,\n",
       "       4, 9, 1, 2, 8, 3, 5, 2, 9, 4, 4, 4, 4, 3, 5, 3, 1, 3, 5, 9, 4, 2,\n",
       "       7, 7, 4, 4, 1, 9, 2, 7, 8, 7, 2, 6, 9, 4, 0, 7, 2, 7, 5, 8, 7, 5,\n",
       "       7, 9, 0, 6, 6, 4, 2, 8, 0, 9, 4, 6, 9, 9, 6, 9, 0, 5, 5, 6, 6, 0,\n",
       "       6, 4, 2, 9, 3, 9, 7, 2, 9, 0, 4, 5, 3, 6, 5, 9, 9, 8, 4, 2, 1, 3,\n",
       "       7, 7, 2, 2, 3, 9, 8, 0, 3, 2, 2, 5, 6, 9, 9, 4, 1, 5, 4, 2, 3, 6,\n",
       "       4, 8, 5, 9, 5, 7, 1, 9, 4, 8, 1, 5, 4, 4, 9, 6, 1, 8, 6, 0, 4, 5,\n",
       "       2, 7, 4, 6, 4, 5, 6, 0, 3, 2, 3, 6, 7, 1, 9, 1, 4, 7, 6, 5, 2, 5,\n",
       "       5, 1, 0, 2, 8, 8, 9, 7, 7, 6, 2, 2, 2, 3, 4, 8, 8, 3, 6, 0, 3, 7,\n",
       "       7, 0, 1, 0, 4, 5, 1, 5, 3, 6, 0, 4, 1, 0, 0, 3, 6, 5, 9, 7, 3, 5,\n",
       "       5, 9, 9, 8, 5, 3, 3, 2, 0, 5, 8, 3, 4, 0, 2, 4, 6, 4, 3, 4, 5, 0,\n",
       "       5, 2, 1, 3, 1, 4, 1, 1, 7, 0, 1, 5, 2, 1, 2, 8, 7, 0, 6, 4, 8, 8,\n",
       "       5, 1, 8, 4, 5, 8, 7, 9, 8, 6, 0, 6, 2, 0, 7, 9, 8, 9, 5, 2, 7, 7,\n",
       "       1, 8, 7, 4, 3, 8, 3, 5])"
      ]
     },
     "execution_count": 60,
     "metadata": {},
     "output_type": "execute_result"
    }
   ],
   "source": [
    "y_hat_test"
   ]
  },
  {
   "cell_type": "code",
   "execution_count": 61,
   "metadata": {},
   "outputs": [
    {
     "data": {
      "text/plain": [
       "array([[0., 0., 0., ..., 0., 0., 0.],\n",
       "       [0., 0., 0., ..., 0., 0., 1.],\n",
       "       [0., 0., 0., ..., 0., 0., 0.],\n",
       "       ...,\n",
       "       [0., 0., 0., ..., 0., 1., 0.],\n",
       "       [0., 0., 0., ..., 0., 0., 0.],\n",
       "       [0., 0., 0., ..., 0., 0., 0.]])"
      ]
     },
     "execution_count": 61,
     "metadata": {},
     "output_type": "execute_result"
    }
   ],
   "source": [
    "y_test"
   ]
  },
  {
   "cell_type": "code",
   "execution_count": 63,
   "metadata": {},
   "outputs": [
    {
     "data": {
      "text/plain": [
       "array([[6],\n",
       "       [9],\n",
       "       [3],\n",
       "       [7],\n",
       "       [2],\n",
       "       [1],\n",
       "       [5],\n",
       "       [2],\n",
       "       [5],\n",
       "       [2],\n",
       "       [1],\n",
       "       [9],\n",
       "       [4],\n",
       "       [0],\n",
       "       [4],\n",
       "       [2],\n",
       "       [3],\n",
       "       [7],\n",
       "       [8],\n",
       "       [8],\n",
       "       [4],\n",
       "       [3],\n",
       "       [9],\n",
       "       [7],\n",
       "       [5],\n",
       "       [6],\n",
       "       [3],\n",
       "       [5],\n",
       "       [6],\n",
       "       [3],\n",
       "       [4],\n",
       "       [9],\n",
       "       [1],\n",
       "       [4],\n",
       "       [4],\n",
       "       [6],\n",
       "       [9],\n",
       "       [4],\n",
       "       [7],\n",
       "       [6],\n",
       "       [6],\n",
       "       [9],\n",
       "       [1],\n",
       "       [3],\n",
       "       [6],\n",
       "       [1],\n",
       "       [3],\n",
       "       [0],\n",
       "       [6],\n",
       "       [5],\n",
       "       [5],\n",
       "       [1],\n",
       "       [9],\n",
       "       [5],\n",
       "       [6],\n",
       "       [0],\n",
       "       [9],\n",
       "       [0],\n",
       "       [0],\n",
       "       [1],\n",
       "       [0],\n",
       "       [4],\n",
       "       [5],\n",
       "       [2],\n",
       "       [4],\n",
       "       [5],\n",
       "       [7],\n",
       "       [0],\n",
       "       [7],\n",
       "       [5],\n",
       "       [9],\n",
       "       [5],\n",
       "       [5],\n",
       "       [4],\n",
       "       [7],\n",
       "       [0],\n",
       "       [4],\n",
       "       [5],\n",
       "       [5],\n",
       "       [9],\n",
       "       [9],\n",
       "       [0],\n",
       "       [2],\n",
       "       [3],\n",
       "       [8],\n",
       "       [0],\n",
       "       [6],\n",
       "       [4],\n",
       "       [4],\n",
       "       [9],\n",
       "       [1],\n",
       "       [2],\n",
       "       [8],\n",
       "       [3],\n",
       "       [5],\n",
       "       [2],\n",
       "       [9],\n",
       "       [0],\n",
       "       [4],\n",
       "       [4],\n",
       "       [4],\n",
       "       [3],\n",
       "       [5],\n",
       "       [3],\n",
       "       [1],\n",
       "       [3],\n",
       "       [5],\n",
       "       [9],\n",
       "       [4],\n",
       "       [2],\n",
       "       [7],\n",
       "       [7],\n",
       "       [4],\n",
       "       [4],\n",
       "       [1],\n",
       "       [9],\n",
       "       [2],\n",
       "       [7],\n",
       "       [8],\n",
       "       [7],\n",
       "       [2],\n",
       "       [6],\n",
       "       [9],\n",
       "       [4],\n",
       "       [0],\n",
       "       [7],\n",
       "       [2],\n",
       "       [7],\n",
       "       [5],\n",
       "       [8],\n",
       "       [7],\n",
       "       [5],\n",
       "       [7],\n",
       "       [7],\n",
       "       [0],\n",
       "       [6],\n",
       "       [6],\n",
       "       [4],\n",
       "       [2],\n",
       "       [8],\n",
       "       [0],\n",
       "       [9],\n",
       "       [4],\n",
       "       [6],\n",
       "       [9],\n",
       "       [9],\n",
       "       [6],\n",
       "       [9],\n",
       "       [0],\n",
       "       [3],\n",
       "       [5],\n",
       "       [6],\n",
       "       [6],\n",
       "       [0],\n",
       "       [6],\n",
       "       [4],\n",
       "       [3],\n",
       "       [9],\n",
       "       [3],\n",
       "       [9],\n",
       "       [7],\n",
       "       [2],\n",
       "       [9],\n",
       "       [0],\n",
       "       [4],\n",
       "       [5],\n",
       "       [3],\n",
       "       [6],\n",
       "       [5],\n",
       "       [9],\n",
       "       [9],\n",
       "       [8],\n",
       "       [4],\n",
       "       [2],\n",
       "       [1],\n",
       "       [3],\n",
       "       [7],\n",
       "       [7],\n",
       "       [2],\n",
       "       [2],\n",
       "       [3],\n",
       "       [9],\n",
       "       [8],\n",
       "       [0],\n",
       "       [3],\n",
       "       [2],\n",
       "       [2],\n",
       "       [5],\n",
       "       [6],\n",
       "       [9],\n",
       "       [9],\n",
       "       [4],\n",
       "       [1],\n",
       "       [5],\n",
       "       [4],\n",
       "       [2],\n",
       "       [3],\n",
       "       [6],\n",
       "       [4],\n",
       "       [8],\n",
       "       [5],\n",
       "       [9],\n",
       "       [5],\n",
       "       [7],\n",
       "       [8],\n",
       "       [9],\n",
       "       [4],\n",
       "       [8],\n",
       "       [1],\n",
       "       [5],\n",
       "       [4],\n",
       "       [4],\n",
       "       [9],\n",
       "       [6],\n",
       "       [1],\n",
       "       [8],\n",
       "       [6],\n",
       "       [0],\n",
       "       [4],\n",
       "       [5],\n",
       "       [2],\n",
       "       [7],\n",
       "       [4],\n",
       "       [6],\n",
       "       [4],\n",
       "       [5],\n",
       "       [6],\n",
       "       [0],\n",
       "       [3],\n",
       "       [2],\n",
       "       [3],\n",
       "       [6],\n",
       "       [7],\n",
       "       [1],\n",
       "       [5],\n",
       "       [1],\n",
       "       [4],\n",
       "       [7],\n",
       "       [6],\n",
       "       [8],\n",
       "       [8],\n",
       "       [5],\n",
       "       [5],\n",
       "       [1],\n",
       "       [6],\n",
       "       [2],\n",
       "       [8],\n",
       "       [8],\n",
       "       [9],\n",
       "       [9],\n",
       "       [7],\n",
       "       [6],\n",
       "       [2],\n",
       "       [2],\n",
       "       [2],\n",
       "       [3],\n",
       "       [4],\n",
       "       [8],\n",
       "       [8],\n",
       "       [3],\n",
       "       [6],\n",
       "       [0],\n",
       "       [9],\n",
       "       [7],\n",
       "       [7],\n",
       "       [0],\n",
       "       [1],\n",
       "       [0],\n",
       "       [4],\n",
       "       [5],\n",
       "       [1],\n",
       "       [5],\n",
       "       [3],\n",
       "       [6],\n",
       "       [0],\n",
       "       [4],\n",
       "       [1],\n",
       "       [0],\n",
       "       [0],\n",
       "       [3],\n",
       "       [6],\n",
       "       [5],\n",
       "       [9],\n",
       "       [7],\n",
       "       [3],\n",
       "       [5],\n",
       "       [5],\n",
       "       [9],\n",
       "       [9],\n",
       "       [8],\n",
       "       [5],\n",
       "       [3],\n",
       "       [3],\n",
       "       [2],\n",
       "       [0],\n",
       "       [5],\n",
       "       [8],\n",
       "       [3],\n",
       "       [4],\n",
       "       [0],\n",
       "       [2],\n",
       "       [4],\n",
       "       [6],\n",
       "       [4],\n",
       "       [3],\n",
       "       [4],\n",
       "       [5],\n",
       "       [0],\n",
       "       [5],\n",
       "       [2],\n",
       "       [1],\n",
       "       [3],\n",
       "       [1],\n",
       "       [4],\n",
       "       [1],\n",
       "       [1],\n",
       "       [7],\n",
       "       [0],\n",
       "       [1],\n",
       "       [5],\n",
       "       [2],\n",
       "       [1],\n",
       "       [2],\n",
       "       [8],\n",
       "       [7],\n",
       "       [0],\n",
       "       [6],\n",
       "       [4],\n",
       "       [8],\n",
       "       [8],\n",
       "       [5],\n",
       "       [1],\n",
       "       [8],\n",
       "       [4],\n",
       "       [5],\n",
       "       [8],\n",
       "       [7],\n",
       "       [9],\n",
       "       [8],\n",
       "       [5],\n",
       "       [0],\n",
       "       [6],\n",
       "       [2],\n",
       "       [0],\n",
       "       [7],\n",
       "       [9],\n",
       "       [8],\n",
       "       [9],\n",
       "       [5],\n",
       "       [2],\n",
       "       [7],\n",
       "       [7],\n",
       "       [1],\n",
       "       [8],\n",
       "       [7],\n",
       "       [4],\n",
       "       [3],\n",
       "       [8],\n",
       "       [3],\n",
       "       [5]])"
      ]
     },
     "execution_count": 63,
     "metadata": {},
     "output_type": "execute_result"
    }
   ],
   "source": [
    "y_test_restore"
   ]
  },
  {
   "cell_type": "code",
   "execution_count": 62,
   "metadata": {
    "scrolled": true
   },
   "outputs": [
    {
     "data": {
      "text/plain": [
       "array([[31,  0,  0,  0,  1,  0,  0,  1,  0,  0],\n",
       "       [ 0, 28,  0,  0,  0,  0,  0,  0,  0,  0],\n",
       "       [ 0,  0, 32,  1,  0,  0,  0,  0,  0,  0],\n",
       "       [ 0,  0,  1, 32,  0,  1,  0,  0,  0,  0],\n",
       "       [ 0,  0,  0,  0, 46,  0,  0,  0,  0,  0],\n",
       "       [ 0,  0,  0,  0,  0, 45,  1,  0,  0,  1],\n",
       "       [ 1,  0,  0,  0,  0,  0, 34,  0,  0,  0],\n",
       "       [ 0,  0,  0,  0,  0,  0,  0, 33,  0,  1],\n",
       "       [ 0,  1,  1,  0,  0,  1,  0,  0, 27,  0],\n",
       "       [ 0,  0,  0,  1,  0,  0,  0,  1,  0, 38]])"
      ]
     },
     "execution_count": 62,
     "metadata": {},
     "output_type": "execute_result"
    }
   ],
   "source": [
    "y_test_restore = ohe.inverse_transform(y_test)\n",
    "confusion_matrix(y_test_restore, y_hat_test)"
   ]
  },
  {
   "cell_type": "markdown",
   "metadata": {},
   "source": [
    "Wow, look at that performance!  \n",
    "\n",
    "That is great, but remember, we were dealing with simple black and white images.  With color, our basic neural net will have less success.\n",
    "\n",
    "We will explore more advanced tools in the coming days.\n"
   ]
  }
 ],
 "metadata": {
  "celltoolbar": "Raw Cell Format",
  "colab": {
   "collapsed_sections": [],
   "name": "intro-to-keras.ipynb",
   "provenance": []
  },
  "kernelspec": {
   "display_name": "Python (tf)",
   "language": "python",
   "name": "tf"
  },
  "language_info": {
   "codemirror_mode": {
    "name": "ipython",
    "version": 3
   },
   "file_extension": ".py",
   "mimetype": "text/x-python",
   "name": "python",
   "nbconvert_exporter": "python",
   "pygments_lexer": "ipython3",
   "version": "3.7.13"
  }
 },
 "nbformat": 4,
 "nbformat_minor": 4
}
