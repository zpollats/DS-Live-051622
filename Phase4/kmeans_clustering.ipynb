{
 "cells": [
  {
   "cell_type": "markdown",
   "metadata": {
    "slideshow": {
     "slide_type": "slide"
    }
   },
   "source": [
    "# $k$-means Clustering"
   ]
  },
  {
   "cell_type": "code",
   "execution_count": null,
   "metadata": {},
   "outputs": [],
   "source": [
    "import os\n",
    "import sys\n",
    "module_path = os.path.abspath(os.pardir)\n",
    "if module_path not in sys.path:\n",
    "    sys.path.append(module_path)\n",
    "\n",
    "from sklearn import metrics\n",
    "from sklearn import datasets\n",
    "\n",
    "# Familiar packages for plotting, data manipulation, and numeric functions\n",
    "import matplotlib.pyplot as plt\n",
    "import pandas as pd\n",
    "import numpy as np\n",
    "\n",
    "# import Alison's code for the demo clusters\n",
    "from src.demo_images import *\n",
    "\n",
    "# Have plots appear in notebook\n",
    "%matplotlib inline\n",
    "\n",
    "# Default plot params\n",
    "plt.style.use('seaborn')\n",
    "cmap = 'tab10'\n",
    "\n",
    "\n",
    "#import package for kmeans\n"
   ]
  },
  {
   "cell_type": "markdown",
   "metadata": {
    "slideshow": {
     "slide_type": "slide"
    }
   },
   "source": [
    "## Learning Goals"
   ]
  },
  {
   "cell_type": "markdown",
   "metadata": {
    "slideshow": {
     "slide_type": "slide"
    }
   },
   "source": [
    "- Assess what scenarios could use $k$-means\n",
    "- Articulate the methodology used by $k$-means\n",
    "- Apply KMeans from sklearn.cluster to a relevant dataset\n",
    "- Select the appropriate number of clusters using the elbow method and Silhouette Scores\n",
    "- Evaluate the weaknesses and remedies to $k$-means"
   ]
  },
  {
   "cell_type": "markdown",
   "metadata": {
    "slideshow": {
     "slide_type": "slide"
    }
   },
   "source": [
    "## A Classic Scenario\n",
    "\n",
    ">You work for the marketing department within a large company that manages a customer base. \n",
    "For each customer you have a record of average purchase cost and time since last purchase.<br> \n",
    "You know that if you want to retain your customers you cannot treat them the same. You can use targeted marketing ads towards groups that demonstrate different behavior, but how will you divide the customers into groups?"
   ]
  },
  {
   "cell_type": "markdown",
   "metadata": {
    "slideshow": {
     "slide_type": "slide"
    }
   },
   "source": [
    "## **Part 1**: Concept introduction\n",
    "#### Import libraries and download dataset\n",
    "\n",
    "We are continuing to use Scikit Learn as our main library.\n",
    "The specific documentation for k-means can be found [here](http://scikit-learn.org/stable/modules/generated/sklearn.cluster.KMeans.html)."
   ]
  },
  {
   "cell_type": "markdown",
   "metadata": {
    "slideshow": {
     "slide_type": "slide"
    }
   },
   "source": [
    "## Clustering!   Finding **GROUPS**\n",
    "\n",
    "How many groups do you see?\n",
    "\n",
    "![img](images/initialscenario.png)\n"
   ]
  },
  {
   "cell_type": "markdown",
   "metadata": {
    "slideshow": {
     "slide_type": "slide"
    }
   },
   "source": [
    "## Wait - How is clustering different from classification?\n",
    "\n",
    ">In _classification_ you **know** what groups are in the dataset and the goal is to _**predict**_ class membership accurately.\n",
    "\n",
    ">In _clustering_ you **do not** know which groups are in the dataset and you are trying to _**identify**_ the groups.\n",
    "\n",
    "Because we do not have target labels, clustering is a form of machine learning called **unsupervised learning**."
   ]
  },
  {
   "cell_type": "markdown",
   "metadata": {
    "slideshow": {
     "slide_type": "slide"
    }
   },
   "source": [
    "### So what do you do with clustering results?\n",
    "\n",
    "Clustering is often an *informing* step in your analysis. Once clusters are identified, one can:\n",
    "- Create strategies on how to approach each group differently\n",
    "- Use cluster membership as an independent variable in a predictive model\n",
    "- Use the clusters as the _**target label**_ in future classification models. How would you assign new data to the existing clusters?"
   ]
  },
  {
   "cell_type": "markdown",
   "metadata": {
    "slideshow": {
     "slide_type": "slide"
    }
   },
   "source": [
    "## Explore the algorithm with an intuitive K means approach\n",
    "\n",
    "### Observe the following four methods with a sample dataset:\n",
    "\n",
    "### Questions about the methods:\n",
    "\n",
    "- What do they have in common?\n",
    "- What are the differences between them?\n",
    "- How many groups are there in the end?\n",
    "- Do you see any problems with this method?"
   ]
  },
  {
   "cell_type": "markdown",
   "metadata": {
    "slideshow": {
     "slide_type": "slide"
    }
   },
   "source": [
    "#### Method 1\n",
    "\n",
    "![left](images/from-left.gif)"
   ]
  },
  {
   "cell_type": "markdown",
   "metadata": {
    "slideshow": {
     "slide_type": "slide"
    }
   },
   "source": [
    "#### Method 2\n",
    "\n",
    "![right](images/from-right.gif)"
   ]
  },
  {
   "cell_type": "markdown",
   "metadata": {
    "slideshow": {
     "slide_type": "slide"
    }
   },
   "source": [
    "#### Method 3\n",
    "\n",
    "![top](images/from-top.gif)"
   ]
  },
  {
   "cell_type": "markdown",
   "metadata": {
    "slideshow": {
     "slide_type": "slide"
    }
   },
   "source": [
    "#### Method 4\n",
    "\n",
    "![bottom](images/from-bottom.gif)"
   ]
  },
  {
   "cell_type": "markdown",
   "metadata": {
    "slideshow": {
     "slide_type": "slide"
    }
   },
   "source": [
    "### Review Method Questions:\n",
    "\n",
    "- What do they have in common?\n",
    "- What are the differences between them?\n",
    "- How many groups are there in the end?\n",
    "- Do you see any problems with this method?"
   ]
  },
  {
   "cell_type": "markdown",
   "metadata": {
    "slideshow": {
     "slide_type": "notes"
    }
   },
   "source": []
  },
  {
   "cell_type": "markdown",
   "metadata": {
    "slideshow": {
     "slide_type": "slide"
    }
   },
   "source": [
    "### K-means algorithm, at its core, is an optimization function\n",
    "\n",
    "![minmax](images/minmaxdata.png)"
   ]
  },
  {
   "cell_type": "markdown",
   "metadata": {
    "slideshow": {
     "slide_type": "slide"
    }
   },
   "source": [
    "### Reassigns groups and adjusts centroids to...\n",
    "![min](images/min.png)"
   ]
  },
  {
   "cell_type": "markdown",
   "metadata": {
    "slideshow": {
     "slide_type": "slide"
    }
   },
   "source": [
    "### And to...\n",
    "![max](images/max.png)"
   ]
  },
  {
   "cell_type": "markdown",
   "metadata": {
    "slideshow": {
     "slide_type": "slide"
    }
   },
   "source": [
    "**Sci-kit Learn** documentation actually has some pretty good [documentation describing the algorithm](https://scikit-learn.org/stable/modules/clustering.html#k-mean) if you wish for more detail."
   ]
  },
  {
   "cell_type": "markdown",
   "metadata": {},
   "source": [
    "## $k$-Means Plotter"
   ]
  },
  {
   "cell_type": "code",
   "execution_count": null,
   "metadata": {},
   "outputs": [],
   "source": [
    "from src.k_means_plotter import k_means\n",
    "from sklearn.datasets import make_blobs"
   ]
  },
  {
   "cell_type": "code",
   "execution_count": null,
   "metadata": {},
   "outputs": [],
   "source": [
    "X, Y = make_blobs(centers=5, random_state=42)"
   ]
  },
  {
   "cell_type": "code",
   "execution_count": null,
   "metadata": {},
   "outputs": [],
   "source": [
    "X[:5, :]"
   ]
  },
  {
   "cell_type": "code",
   "execution_count": null,
   "metadata": {},
   "outputs": [],
   "source": [
    "fig, ax = plt.subplots()\n",
    "ax.scatter(X[:, 0], X[:, 1]);"
   ]
  },
  {
   "cell_type": "markdown",
   "metadata": {},
   "source": [
    "The value of the `random_state` parameter in our `k_means()` function can make a big difference to the final clusters! We might find what are indeed the intuitive clusters in our data:"
   ]
  },
  {
   "cell_type": "code",
   "execution_count": null,
   "metadata": {},
   "outputs": [],
   "source": [
    "df = "
   ]
  },
  {
   "cell_type": "markdown",
   "metadata": {},
   "source": [
    "But we also might get different results:"
   ]
  },
  {
   "cell_type": "code",
   "execution_count": null,
   "metadata": {},
   "outputs": [],
   "source": [
    "df = "
   ]
  },
  {
   "cell_type": "code",
   "execution_count": null,
   "metadata": {
    "scrolled": true
   },
   "outputs": [],
   "source": [
    "df = "
   ]
  },
  {
   "cell_type": "markdown",
   "metadata": {},
   "source": [
    "And of course we could set $k$ to something other than 5:"
   ]
  },
  {
   "cell_type": "code",
   "execution_count": null,
   "metadata": {},
   "outputs": [],
   "source": [
    "df = "
   ]
  },
  {
   "cell_type": "markdown",
   "metadata": {
    "slideshow": {
     "slide_type": "slide"
    }
   },
   "source": [
    "### Data for the exercise\n",
    "\n",
    "- This is a sample dataset. \n",
    "- Let us assume the data is already scaled."
   ]
  },
  {
   "cell_type": "code",
   "execution_count": null,
   "metadata": {},
   "outputs": [],
   "source": [
    "dummy_dat = pd.read_csv(\"data/xclara.txt\",\n",
    "                        header=0,\n",
    "                        index_col=0)\n",
    "dummy_dat.reset_index(inplace=True)\n",
    "dummy_dat.drop('index', axis=1, inplace=True)"
   ]
  },
  {
   "cell_type": "code",
   "execution_count": null,
   "metadata": {},
   "outputs": [],
   "source": [
    "dummy_dat.head()"
   ]
  },
  {
   "cell_type": "code",
   "execution_count": null,
   "metadata": {},
   "outputs": [],
   "source": [
    "dummy_dat.tail()"
   ]
  },
  {
   "cell_type": "code",
   "execution_count": null,
   "metadata": {},
   "outputs": [],
   "source": [
    "dummy_dat.describe()"
   ]
  },
  {
   "cell_type": "code",
   "execution_count": null,
   "metadata": {},
   "outputs": [],
   "source": [
    "fig, ax = plt.subplots()\n",
    "ax.scatter(dummy_dat['V1'], dummy_dat['V2']);"
   ]
  },
  {
   "cell_type": "markdown",
   "metadata": {
    "slideshow": {
     "slide_type": "slide"
    }
   },
   "source": [
    "#### Introduction of `Kmeans`"
   ]
  },
  {
   "cell_type": "code",
   "execution_count": null,
   "metadata": {},
   "outputs": [],
   "source": [
    "#Recall our import from above\n",
    "#from sklearn.cluster import KMeans"
   ]
  },
  {
   "cell_type": "code",
   "execution_count": null,
   "metadata": {},
   "outputs": [],
   "source": [
    "#Perform Kmeans clustering\n",
    "model = "
   ]
  },
  {
   "cell_type": "markdown",
   "metadata": {},
   "source": [
    "Notice the `init` and `n_init` parameters!"
   ]
  },
  {
   "cell_type": "code",
   "execution_count": null,
   "metadata": {},
   "outputs": [],
   "source": [
    "#Access the Kmeans centroids\n"
   ]
  },
  {
   "cell_type": "code",
   "execution_count": null,
   "metadata": {},
   "outputs": [],
   "source": [
    "fig, ax = plt.subplots()\n",
    "ax.scatter(dummy_dat['V1'], dummy_dat['V2'])\n",
    "for i in range(len(model.cluster_centers_)):\n",
    "    ax.scatter(model.cluster_centers_[i][0],\n",
    "                model.cluster_centers_[i][1], s=150);"
   ]
  },
  {
   "cell_type": "code",
   "execution_count": null,
   "metadata": {},
   "outputs": [],
   "source": [
    "#Predict the closest cluster for sample point(s)\n"
   ]
  },
  {
   "cell_type": "code",
   "execution_count": null,
   "metadata": {},
   "outputs": [],
   "source": [
    "fig, ax = plt.subplots()\n",
    "ax.scatter(dummy_dat['V1'], dummy_dat['V2']#fill in\n",
    "          );"
   ]
  },
  {
   "cell_type": "code",
   "execution_count": null,
   "metadata": {},
   "outputs": [],
   "source": [
    "#Store our cluster information in a dataframe\n",
    "labeled_df = "
   ]
  },
  {
   "cell_type": "code",
   "execution_count": null,
   "metadata": {},
   "outputs": [],
   "source": [
    "labeled_df.head()"
   ]
  },
  {
   "cell_type": "code",
   "execution_count": null,
   "metadata": {},
   "outputs": [],
   "source": [
    "cluster0 = \n",
    "cluster1 = \n",
    "cluster2 = "
   ]
  },
  {
   "cell_type": "code",
   "execution_count": null,
   "metadata": {},
   "outputs": [],
   "source": [
    "cluster0['V1'].head()"
   ]
  },
  {
   "cell_type": "code",
   "execution_count": null,
   "metadata": {},
   "outputs": [],
   "source": [
    "#Plot our clusters\n",
    "\n",
    "fig, ax = plt.subplots()"
   ]
  },
  {
   "cell_type": "markdown",
   "metadata": {
    "slideshow": {
     "slide_type": "slide"
    }
   },
   "source": [
    "## Note\n",
    "#### You *may* have different cluster centers.\n",
    "\n",
    "We saw in the demo that the algorithm is sensitive to starting points.\n",
    "\n",
    "Even if we set `n_init` to a significant value, it's still a good idea to use `random_state` to ensure repeatable results."
   ]
  },
  {
   "cell_type": "code",
   "execution_count": null,
   "metadata": {},
   "outputs": [],
   "source": [
    "model_setseed = KMeans(n_clusters=3, random_state=10).fit(dummy_dat)\n",
    "model_setseed.cluster_centers_"
   ]
  },
  {
   "cell_type": "markdown",
   "metadata": {
    "slideshow": {
     "slide_type": "slide"
    }
   },
   "source": [
    "#### **Exercise**: \n",
    "- Try running `Kmeans` with different numbers of `n_clusters`, $k=2$ through $k=4$\n",
    "- Check the `cluster_centers_`."
   ]
  },
  {
   "cell_type": "code",
   "execution_count": null,
   "metadata": {},
   "outputs": [],
   "source": [
    "#Practice code goes here\n",
    "\n"
   ]
  },
  {
   "cell_type": "markdown",
   "metadata": {},
   "source": [
    "<details>\n",
    "    <summary>Answer here</summary>\n",
    "<code>model_two_clusts = KMeans(n_clusters=2).fit(dummy_dat) # good practice to set a random state!\n",
    "print(model_two_clusts.cluster_centers_)\n",
    "model_four_clusts = KMeans(n_clusters=4).fit(dummy_dat)\n",
    "print(model_four_clusts.cluster_centers_)</code>\n",
    "    </details>"
   ]
  },
  {
   "cell_type": "markdown",
   "metadata": {
    "slideshow": {
     "slide_type": "slide"
    }
   },
   "source": [
    "## **Part 2**: Choosing the appropriate number of $k$\n",
    "\n",
    "#### Two metrics we can use: **elbow method** and the **silhouette coefficient**"
   ]
  },
  {
   "cell_type": "markdown",
   "metadata": {
    "slideshow": {
     "slide_type": "slide"
    }
   },
   "source": [
    "### **Part 2A**: Elbow Method\n",
    "\n",
    "Elbow method uses the sum of squared error calculated from each instance of $k$ to find the best value of $k$.\n",
    "\n",
    "This is sometimes called the \"inertia\" of the model, and fitted sklearn $k$-means models have an `inertia_` attribute.\n",
    "\n",
    "Sometimes you will see the SSE divided by the total sum of squares in the dataset (how far is each point from the center of the entire dataset)\n",
    "\n",
    "Fewer clusters seems better, but inertia will always decrease with _more_ clusters. Hence the idea of looking for an elbow in the plot of inertia vs. $k$."
   ]
  },
  {
   "cell_type": "code",
   "execution_count": null,
   "metadata": {},
   "outputs": [],
   "source": [
    "#Get the sum of squared distances between points and their cluster center\n"
   ]
  },
  {
   "cell_type": "markdown",
   "metadata": {},
   "source": [
    "Inertia is the sum of squared distances between points and their cluster center."
   ]
  },
  {
   "cell_type": "code",
   "execution_count": null,
   "metadata": {
    "slideshow": {
     "slide_type": "slide"
    }
   },
   "outputs": [],
   "source": [
    "# Specifying the dataset and initializing variables\n",
    "X = dummy_dat\n",
    "distortions = []\n",
    "\n",
    "# Calculate SSE for different K\n",
    "for k in range(2, 10):\n",
    "    kmeans = KMeans(n_clusters=k, random_state=301)\n",
    "    kmeans.fit(X)\n",
    "    distortions.append(kmeans.inertia_)\n",
    "\n",
    "# Plot values of SSE\n",
    "fig, ax = plt.subplots(figsize=(10, 8))\n",
    "ax.set_title('Elbow curve')\n",
    "ax.set_xlabel('k')\n",
    "ax.plot(range(2, 10), distortions)\n",
    "ax.grid(True)"
   ]
  },
  {
   "cell_type": "markdown",
   "metadata": {
    "slideshow": {
     "slide_type": "slide"
    }
   },
   "source": [
    "### **Part 2B**: Silhouette Coefficient\n",
    "\n",
    "![silo](images/silo2.png)\n",
    "\n",
    "> **a** refers to the average distance between a point and all other points in that cluster.\n",
    "\n",
    "> **b** refers to the average distance between that same point and all other points in clusters to which it does not belong\n",
    "\n",
    "It is calculated for each point in the dataset, then averaged across all points for one cumulative score.\n",
    "\n",
    "The Silhouette Coefficient ranges between -1 and 1. The closer to 1, the more clearly defined are the clusters. The closer to -1, the more incorrect assignment.\n",
    "\n",
    "\n",
    "\n"
   ]
  },
  {
   "cell_type": "markdown",
   "metadata": {},
   "source": [
    "Suppose:\n",
    "- I have four points in a one-dimensional space: 0, 1, 9, and 10; and\n",
    "- I put them into two clusters: {0, 1} and {9, 10}.\n",
    "\n",
    "Then we would calculate the Silhouette Score as follows:\n",
    "\n",
    "For Point 0:\n",
    "- $a=1$\n",
    "- $b=9.5$\n",
    "- $s(0) = \\frac{9.5 - 1}{9.5} = \\frac{17}{19}$\n",
    "\n",
    "For Point 1:\n",
    "- $a=1$\n",
    "- $b=8.5$\n",
    "- $s(1) = \\frac{8.5 - 1}{8.5} = \\frac{15}{17}$\n",
    "\n",
    "For Point 9:\n",
    "- $a=1$\n",
    "- $b=8.5$\n",
    "- $s(9) = \\frac{8.5 - 1}{8.5} = \\frac{15}{17}$\n",
    "\n",
    "For Point 10:\n",
    "- $a=1$\n",
    "- $b=9.5$\n",
    "- $s(10) = \\frac{9.5 - 1}{9.5} = \\frac{17}{19}$\n",
    "\n",
    "The full Silhouette Score would be the average of all of these individual scores:\n",
    "\n",
    "$\\large s = \\frac{2\\left(\\frac{17}{19}\\right) + 2\\left(\\frac{15}{17}\\right)}{4}$"
   ]
  },
  {
   "cell_type": "code",
   "execution_count": null,
   "metadata": {},
   "outputs": [],
   "source": [
    "(2 * 17/19 + 2 * 15/17) / 4"
   ]
  },
  {
   "cell_type": "code",
   "execution_count": null,
   "metadata": {},
   "outputs": [],
   "source": [
    "example_data = np.array([0, 1, 9, 10]).reshape(-1, 1)\n",
    "example_data"
   ]
  },
  {
   "cell_type": "code",
   "execution_count": null,
   "metadata": {},
   "outputs": [],
   "source": [
    "example_clusters = ['red', 'red', 'blue', 'blue']"
   ]
  },
  {
   "cell_type": "code",
   "execution_count": null,
   "metadata": {},
   "outputs": [],
   "source": [
    "#Get silhouette score\n"
   ]
  },
  {
   "cell_type": "code",
   "execution_count": null,
   "metadata": {
    "slideshow": {
     "slide_type": "skip"
    }
   },
   "outputs": [],
   "source": [
    "# Generate silhouette coefficient for each k\n",
    "X = dummy_dat\n",
    "\n"
   ]
  },
  {
   "cell_type": "code",
   "execution_count": null,
   "metadata": {
    "slideshow": {
     "slide_type": "slide"
    }
   },
   "outputs": [],
   "source": [
    "# Plot Silhouette coefficient\n",
    "fig, ax = plt.subplots(figsize=(10, 8))\n",
    "ax.set_title('Silhouette coefficients over k')\n",
    "ax.set_xlabel('k')\n",
    "ax.set_ylabel('silhouette coefficient')\n",
    "ax.plot(range(2, 10), silhouette_plot)\n",
    "ax.axhline(y=np.mean(silhouette_plot), color=\"red\", linestyle=\"--\")\n",
    "ax.grid(True)"
   ]
  },
  {
   "cell_type": "markdown",
   "metadata": {
    "slideshow": {
     "slide_type": "slide"
    }
   },
   "source": [
    "## **Part 3**: **Assumptions** and **challenges** of $k$-means\n",
    "\n",
    "- Demonstrate the ideal $k$-means dataset\n",
    "- Show three scenarios where $k$-means struggles"
   ]
  },
  {
   "cell_type": "markdown",
   "metadata": {},
   "source": [
    "#### Ideal $k$-means scenario"
   ]
  },
  {
   "cell_type": "code",
   "execution_count": null,
   "metadata": {
    "slideshow": {
     "slide_type": "slide"
    }
   },
   "outputs": [],
   "source": [
    "ideal()"
   ]
  },
  {
   "cell_type": "markdown",
   "metadata": {
    "slideshow": {
     "slide_type": "slide"
    }
   },
   "source": [
    "#### Meets all assumptions:\n",
    "\n",
    "- Independent variables\n",
    "- Balanced cluster sizes\n",
    "- Clusters have similar density\n",
    "- Spherical clusters/equal variance of variables\n"
   ]
  },
  {
   "cell_type": "markdown",
   "metadata": {
    "slideshow": {
     "slide_type": "slide"
    }
   },
   "source": [
    "#### Problem Scenario 1 - classes not all round"
   ]
  },
  {
   "cell_type": "code",
   "execution_count": null,
   "metadata": {},
   "outputs": [],
   "source": [
    "messyOne()"
   ]
  },
  {
   "cell_type": "markdown",
   "metadata": {
    "slideshow": {
     "slide_type": "slide"
    }
   },
   "source": [
    "#### Problem Scenario 2 - imbalanced class size"
   ]
  },
  {
   "cell_type": "code",
   "execution_count": null,
   "metadata": {},
   "outputs": [],
   "source": [
    "messyTwo()"
   ]
  },
  {
   "cell_type": "markdown",
   "metadata": {
    "slideshow": {
     "slide_type": "slide"
    }
   },
   "source": [
    "#### Problem Scenario 3 - class size and density"
   ]
  },
  {
   "cell_type": "code",
   "execution_count": null,
   "metadata": {},
   "outputs": [],
   "source": [
    "messyThree()"
   ]
  },
  {
   "cell_type": "markdown",
   "metadata": {
    "slideshow": {
     "slide_type": "slide"
    }
   },
   "source": [
    "#### Solution to challenges:\n",
    "\n",
    "- Preprocessing: PCA or scaling\n",
    "- Try different clustering methods"
   ]
  },
  {
   "cell_type": "markdown",
   "metadata": {
    "slideshow": {
     "slide_type": "slide"
    }
   },
   "source": [
    "## Exercise:\n",
    "### $k$-means on larger dataset - Wine subscription\n",
    "\n",
    "You want to run a wine subscription service, but you have no idea about wine tasting notes. You are a person of science.\n",
    "You have a wine dataset of scientific measurements.\n",
    "If you know a customer likes a certain wine in the dataset, can you recommend other wines to the customer in the same cluster?"
   ]
  },
  {
   "cell_type": "markdown",
   "metadata": {
    "slideshow": {
     "slide_type": "slide"
    }
   },
   "source": [
    "#### Questions:\n",
    "- How many clusters are in the wine dataset?\n",
    "- What are the characteristics of each clusters?\n",
    "- What problems do you see potentially in the data?\n",
    "\n",
    "the dataset is `Wine.csv`\n",
    "\n",
    "Instructions:\n",
    "- First, remove customer_segment from the dataset"
   ]
  },
  {
   "cell_type": "code",
   "execution_count": null,
   "metadata": {
    "slideshow": {
     "slide_type": "skip"
    }
   },
   "outputs": [],
   "source": [
    "# Work on problem here: Would scaling make a difference?\n",
    "wine = pd.read_csv('data/Wine.csv')\n",
    "wine.drop(columns=['Customer_Segment'], inplace=True)\n",
    "wine.head()"
   ]
  },
  {
   "cell_type": "markdown",
   "metadata": {
    "slideshow": {
     "slide_type": "slide"
    }
   },
   "source": [
    "### Review $k$-means steps\n",
    "1. Look at and clean data (if needed)\n",
    "2. Scale data\n",
    "3. Try various values of $k$\n",
    "4. Plot SSE and Silhouette coefficient to find best $k$\n",
    "5. Describe the characteristics of each cluster using their centroids"
   ]
  },
  {
   "cell_type": "markdown",
   "metadata": {
    "slideshow": {
     "slide_type": "slide"
    }
   },
   "source": [
    "### How many clusters fit the data?\n",
    "\n",
    "What can you tell me about them?"
   ]
  },
  {
   "cell_type": "markdown",
   "metadata": {},
   "source": [
    "<details>\n",
    "    <summary>One answer here</summary>\n",
    "    <code>from sklearn.preprocessing import StandardScaler\n",
    "ss = StandardScaler().fit(wine)\n",
    "wine_scaled = ss.transform(wine)\n",
    "silhouette_scores = []\n",
    "for j in range(2, 20):\n",
    "    clusters = KMeans(n_clusters=j, random_state=42)\n",
    "    cluster_labels = clusters.fit_predict(wine)\n",
    "    silhouette = metrics.silhouette_score(wine, cluster_labels)\n",
    "    silhouette_scores.append(silhouette)\n",
    "print(np.argmax(silhouette_scores)) # The best number of clusters is 2.\n",
    "best = KMeans(n_clusters=2, random_state=42)\n",
    "wine['cluster'] = best.fit_predict(wine)\n",
    "print(wine.groupby('cluster').mean())\n",
    "print(best.cluster_centers_)</code>\n",
    "</details>"
   ]
  },
  {
   "cell_type": "markdown",
   "metadata": {
    "slideshow": {
     "slide_type": "slide"
    }
   },
   "source": [
    "## One last example\n",
    "\n",
    "Using online retail data data from [UCI database](https://archive.ics.uci.edu/ml/datasets/online+retail)."
   ]
  },
  {
   "cell_type": "markdown",
   "metadata": {
    "slideshow": {
     "slide_type": "slide"
    }
   },
   "source": [
    "You are looking for patterns so you can get people to buy more, more frequently. \n",
    "You might have to create some new variables."
   ]
  },
  {
   "cell_type": "code",
   "execution_count": null,
   "metadata": {},
   "outputs": [],
   "source": [
    "shopping = pd.read_excel('data/Online Retail.xlsx')"
   ]
  },
  {
   "cell_type": "code",
   "execution_count": null,
   "metadata": {},
   "outputs": [],
   "source": [
    "shopping.tail(20)"
   ]
  }
 ],
 "metadata": {
  "kernelspec": {
   "display_name": "Python 3",
   "language": "python",
   "name": "python3"
  },
  "language_info": {
   "codemirror_mode": {
    "name": "ipython",
    "version": 3
   },
   "file_extension": ".py",
   "mimetype": "text/x-python",
   "name": "python",
   "nbconvert_exporter": "python",
   "pygments_lexer": "ipython3",
   "version": "3.8.5"
  }
 },
 "nbformat": 4,
 "nbformat_minor": 2
}
