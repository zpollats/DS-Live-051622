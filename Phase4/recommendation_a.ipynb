{
 "cells": [
  {
   "cell_type": "markdown",
   "metadata": {},
   "source": [
    "# Recommender Systems"
   ]
  },
  {
   "cell_type": "code",
   "execution_count": 1,
   "metadata": {},
   "outputs": [],
   "source": [
    "from random import gauss as gs, uniform as uni, seed\n",
    "import numpy as np\n",
    "import pandas as pd\n",
    "from sklearn.linear_model import LinearRegression"
   ]
  },
  {
   "cell_type": "markdown",
   "metadata": {},
   "source": [
    "![Netflix](https://miro.medium.com/max/1400/1*jlQxemlP9Yim_rWTqlCFDQ.png)"
   ]
  },
  {
   "cell_type": "markdown",
   "metadata": {},
   "source": [
    "![Amazon](images/amazon_recommender.png)"
   ]
  },
  {
   "cell_type": "markdown",
   "metadata": {},
   "source": [
    "## Agenda"
   ]
  },
  {
   "cell_type": "markdown",
   "metadata": {},
   "source": [
    "- describe the difference between content-based and collaborative-filtering algorithms\n",
    "- explain and use the cosine similarity metric\n",
    "- describe the algorithm of alternating least-squares"
   ]
  },
  {
   "cell_type": "markdown",
   "metadata": {},
   "source": [
    "## Intro"
   ]
  },
  {
   "cell_type": "markdown",
   "metadata": {},
   "source": [
    "Recommender systems can be classified along various lines. One fundamental distinction is **content-based** vs. **collaborative-filtering** systems.\n",
    "\n",
    "To illustrate this, consider two different strategies: (a) I recommend items to you that are *similar to other items* you've used/bought/read/watched; and (b) I recommend items to you that people *similar to you* have used/bought/read/watched. The first is the **content-based strategy**; the second is the **collaborative-filtering strategy**. \n",
    "\n",
    "Another distinction drawn is in whether (a) the system uses existing ratings to compute user-user or item-item similarity, or (b) the system uses machine learning techniques to make predictions. Recommenders of the first sort are called **memory-based**; recommenders of the second sort are called **model-based**."
   ]
  },
  {
   "cell_type": "markdown",
   "metadata": {},
   "source": [
    "## Content-Based Systems"
   ]
  },
  {
   "cell_type": "markdown",
   "metadata": {},
   "source": [
    "The basic idea here is to recommend items to a user that are *similar to* items that the user has already enjoyed. Suppose we represent TV shows as rows, where the columns represent various features of these TV shows. These features might be things like the presence of a certain actor or the show fitting into a particular genre etc. We'll just use binary features here, perhaps the result of some one-hot encoding:"
   ]
  },
  {
   "cell_type": "code",
   "execution_count": 2,
   "metadata": {},
   "outputs": [
    {
     "data": {
      "text/plain": [
       "array([[0, 1, 1, 0, 1, 1, 1],\n",
       "       [0, 0, 0, 1, 1, 1, 0],\n",
       "       [1, 1, 1, 0, 0, 1, 1],\n",
       "       [0, 1, 1, 1, 0, 0, 1]])"
      ]
     },
     "execution_count": 2,
     "metadata": {},
     "output_type": "execute_result"
    }
   ],
   "source": [
    "tv_shows = np.array([[0, 1, 1, 0, 1, 1, 1],\n",
    "                   [0, 0, 0, 1, 1, 1, 0],\n",
    "                   [1, 1, 1, 0, 0, 1, 1],\n",
    "                   [0, 1, 1, 1, 0, 0, 1]])\n",
    "\n",
    "tv_shows"
   ]
  },
  {
   "cell_type": "markdown",
   "metadata": {},
   "source": [
    "Bob likes the TV Show represented by Row \\#1. Which show (row) should we recommend to Bob?\n",
    "\n",
    "One natural way of measuring the similarity between two vectors is by the **cosine of the angle between them**. Two points near one another in feature space will correspond to vectors that nearly overlap, i.e. vectors that describe a small angle $\\theta$. And as $\\theta$ decreases, $\\cos(\\theta)$ *increases*. So we'll be looking for large values of the cosine (which ranges between -1 and 1). We can also think of the cosine between two vectors as the *projection of one vector onto the other*:\n",
    "\n",
    "![image.png](https://www.oreilly.com/library/view/statistics-for-machine/9781788295758/assets/2b4a7a82-ad4c-4b2a-b808-e423a334de6f.png)\n",
    "\n",
    "We can use this metric easily if we treat our rows (the items we're comparing for similarity) as vectors: We can calculate the cosine of the angle $\\theta$ between two vectors $\\vec{a}$ and $\\vec{b}$ as follows: $\\cos(\\theta) = \\frac{\\vec{a}\\cdot\\vec{b}}{|\\vec{a}||\\vec{b}|}$"
   ]
  },
  {
   "cell_type": "code",
   "execution_count": 3,
   "metadata": {},
   "outputs": [],
   "source": [
    "numerators = np.array([tv_shows[0].dot(tv_show) for tv_show in tv_shows[1:]])"
   ]
  },
  {
   "cell_type": "code",
   "execution_count": 4,
   "metadata": {},
   "outputs": [
    {
     "data": {
      "text/plain": [
       "array([2, 4, 3])"
      ]
     },
     "execution_count": 4,
     "metadata": {},
     "output_type": "execute_result"
    }
   ],
   "source": [
    "numerators"
   ]
  },
  {
   "cell_type": "code",
   "execution_count": 5,
   "metadata": {},
   "outputs": [],
   "source": [
    "denominators = np.array(\n",
    "    [(np.linalg.norm(tv_shows[0]) * np.linalg.norm(tv_show)) for tv_show in tv_shows[1:]]\n",
    ")"
   ]
  },
  {
   "cell_type": "code",
   "execution_count": 6,
   "metadata": {},
   "outputs": [
    {
     "data": {
      "text/plain": [
       "array([3.87298335, 5.        , 4.47213595])"
      ]
     },
     "execution_count": 6,
     "metadata": {},
     "output_type": "execute_result"
    }
   ],
   "source": [
    "denominators"
   ]
  },
  {
   "cell_type": "code",
   "execution_count": 7,
   "metadata": {},
   "outputs": [
    {
     "data": {
      "text/plain": [
       "array([0.51639778, 0.8       , 0.67082039])"
      ]
     },
     "execution_count": 7,
     "metadata": {},
     "output_type": "execute_result"
    }
   ],
   "source": [
    "numerators / denominators"
   ]
  },
  {
   "cell_type": "markdown",
   "metadata": {},
   "source": [
    "Since the cosine similarity to Row \\#1 is highest for Row \\#3, we would recommend this TV show."
   ]
  },
  {
   "cell_type": "markdown",
   "metadata": {},
   "source": [
    "***"
   ]
  },
  {
   "cell_type": "markdown",
   "metadata": {},
   "source": [
    "## Collaborative Filtering\n",
    "\n",
    "Now the idea is to recommend items to a user based on what *similar* users have enjoyed. Suppose we have the following recording of explicit ratings of five items by three users:"
   ]
  },
  {
   "cell_type": "code",
   "execution_count": 8,
   "metadata": {
    "scrolled": true
   },
   "outputs": [
    {
     "data": {
      "text/plain": [
       "array([[5, 4, 3, 4, 5],\n",
       "       [3, 1, 1, 2, 5],\n",
       "       [4, 2, 3, 1, 4]])"
      ]
     },
     "execution_count": 8,
     "metadata": {},
     "output_type": "execute_result"
    }
   ],
   "source": [
    "users = np.array([[5, 4, 3, 4, 5], [3, 1, 1, 2, 5], [4, 2, 3, 1, 4]])\n",
    "\n",
    "new_user = np.array([5, 0, 0, 0, 0])\n",
    "users"
   ]
  },
  {
   "cell_type": "markdown",
   "metadata": {},
   "source": [
    "To which user is `new_user` most similar?\n",
    "\n",
    "One metric is cosine similarity:"
   ]
  },
  {
   "cell_type": "code",
   "execution_count": 9,
   "metadata": {},
   "outputs": [],
   "source": [
    "new_user_mag = 5\n",
    "\n",
    "numerators = np.array([new_user.dot(user) for user in users])"
   ]
  },
  {
   "cell_type": "code",
   "execution_count": 10,
   "metadata": {},
   "outputs": [
    {
     "data": {
      "text/plain": [
       "array([25, 15, 20])"
      ]
     },
     "execution_count": 10,
     "metadata": {},
     "output_type": "execute_result"
    }
   ],
   "source": [
    "numerators"
   ]
  },
  {
   "cell_type": "code",
   "execution_count": 11,
   "metadata": {},
   "outputs": [],
   "source": [
    "denominators = np.array(\n",
    "    [(np.linalg.norm(new_user) * np.linalg.norm(user)) for user in users]\n",
    ")"
   ]
  },
  {
   "cell_type": "code",
   "execution_count": 12,
   "metadata": {},
   "outputs": [
    {
     "data": {
      "text/plain": [
       "array([47.69696007, 31.6227766 , 33.91164992])"
      ]
     },
     "execution_count": 12,
     "metadata": {},
     "output_type": "execute_result"
    }
   ],
   "source": [
    "denominators"
   ]
  },
  {
   "cell_type": "code",
   "execution_count": 13,
   "metadata": {},
   "outputs": [
    {
     "data": {
      "text/plain": [
       "array([0.52414242, 0.47434165, 0.58976782])"
      ]
     },
     "execution_count": 13,
     "metadata": {},
     "output_type": "execute_result"
    }
   ],
   "source": [
    "numerators / denominators"
   ]
  },
  {
   "cell_type": "markdown",
   "metadata": {},
   "source": [
    "But we could also use another metric, such as Pearson Correlation:"
   ]
  },
  {
   "cell_type": "code",
   "execution_count": 14,
   "metadata": {},
   "outputs": [
    {
     "data": {
      "text/plain": [
       "[0.5345224838248488, 0.20044593143431824, 0.5144957554275266]"
      ]
     },
     "execution_count": 14,
     "metadata": {},
     "output_type": "execute_result"
    }
   ],
   "source": [
    "[np.corrcoef(new_user, user)[0, 1] for user in users]"
   ]
  },
  {
   "cell_type": "markdown",
   "metadata": {},
   "source": [
    "For more on content-based vs. collaborative systems, see [this Wikipedia article](https://en.wikipedia.org/wiki/Collaborative_filtering) and [this blog post](https://towardsdatascience.com/recommendation-systems-models-and-evaluation-84944a84fb8e). [This post](https://dataconomy.com/2015/03/an-introduction-to-recommendation-engines/) on dataconomy is also useful."
   ]
  },
  {
   "cell_type": "markdown",
   "metadata": {},
   "source": [
    "***"
   ]
  },
  {
   "cell_type": "markdown",
   "metadata": {},
   "source": [
    "## Matrix Factorization\n",
    "\n",
    "Suppose we start with a matrix $R$ of users and products, where each cell records the ranking the relevant user gave to the relevant product. Very often we'll be able to record this data as a sparse matrix, because many users will not have ranked many items.\n",
    "\n",
    "Imagine factoring this matrix into a user matrix $P$ and an item matrix $Q^T$: $R = PQ^T$. What would the shapes of $P$ and $Q^T$ be? Clearly $P$ must have as many rows as $R$, which is just the number of users who have given ratings. Similarly, $Q^T$ must have as many columns as $R$, which is just the number of items that have received ratings. We also know that the number of columns of $P$ must match the number of rows of $Q^T$ for the factorization to be possible, but this number could really be anything. In practice this will be a small number, and for reasons that will emerge shortly let's refer to these dimensions as **latent features** of the items in $R$. If $p$ is a row of $P$, i.e. a user-vector, and $q$ is a column of $Q^T$, i.e. an item-vector, then $p$ will record the user's particular weights or *preferences* with respect to the latent features, while $q$ will record how the item ranks with respect to those same latent features. This in turn means that we could predict a user's ranking of a particular item simply by calculating the dot-product of $p$ and $q$! \n",
    "\n",
    "If we could effect such a factorization, $R = PQ^T$, then we could calculate *all* predictions, i.e. fill in the gaps in $R$, by solving for $P$ and $Q$.\n",
    "\n",
    "The isolation of these latent features can be achieved in various ways. But this is at heart a matter of **dimensionality reduction**, and so one way is with the [SVD](https://hackernoon.com/introduction-to-recommender-system-part-1-collaborative-filtering-singular-value-decomposition-44c9659c5e75).\n",
    "\n",
    "An alternative is to use the method of Alternating Least Squares."
   ]
  },
  {
   "cell_type": "markdown",
   "metadata": {},
   "source": [
    "### Alternating Least-Squares (ALS)\n",
    "\n",
    "ALS recommendation systems are often implemented in Spark architectures because of the appropriateness for distributed computing. ALS systems often involve very large datasets (consider how much data the recommendation engine for NETFLIX must have, for example!), and it is often useful to store them as sparse matrices, which Spark's ML library can handle. In fact, Spark's mllib even includes a \"Rating\" datatype! ALS is **collaborative** and **model-based**, and is especially useful for working with *implicit* ratings.\n",
    "\n",
    "We're looking for two matrices (a user matrix and an item matrix) into which we can factor our ratings matrix. We can't of course solve for two matrices at once. But here's what we can do:\n",
    "\n",
    "Make guesses of the values for $P$ and $Q$. Then hold the values of one *constant* so that we can optimize for the values of the other!\n",
    "\n",
    "Basically this converts our problem into a familiar *least-squares* problem. See [this page](https://textbooks.math.gatech.edu/ila/least-squares.html) and [this page](https://datasciencemadesimpler.wordpress.com/tag/alternating-least-squares/) for more details, but here's the basic idea:"
   ]
  },
  {
   "cell_type": "markdown",
   "metadata": {},
   "source": [
    "If we have an equation $Ax = b$ for *non-square* $A$, then we have:\n",
    "\n",
    "$A^TAx = A^Tb$ <br/>\n",
    "Thus: <br/>\n",
    "$x = (A^TA)^{-1}A^Tb$\n",
    "\n",
    "This $(A^TA)^{-1}A^T$ **is the pseudo-inverse of** $A$. We encountered this before in our whirlwind tour of linear algebra."
   ]
  },
  {
   "cell_type": "code",
   "execution_count": 20,
   "metadata": {},
   "outputs": [],
   "source": [
    "np.random.seed(42)\n",
    "\n",
    "A = np.random.rand(5, 5)\n",
    "b = np.random.rand(5, 1)"
   ]
  },
  {
   "cell_type": "code",
   "execution_count": 16,
   "metadata": {},
   "outputs": [
    {
     "data": {
      "text/plain": [
       "array([[-226.17808987],\n",
       "       [ 218.4875674 ],\n",
       "       [-362.56506539],\n",
       "       [ 147.90541497],\n",
       "       [ 350.145907  ]])"
      ]
     },
     "execution_count": 16,
     "metadata": {},
     "output_type": "execute_result"
    }
   ],
   "source": [
    "np.linalg.inv(A.T.dot(A)).dot(A.T).dot(b)"
   ]
  },
  {
   "cell_type": "markdown",
   "metadata": {},
   "source": [
    "The `numpy` library has a shortcut for this: `numpy.linalg.pinv()`:"
   ]
  },
  {
   "cell_type": "code",
   "execution_count": 21,
   "metadata": {},
   "outputs": [
    {
     "data": {
      "text/plain": [
       "array([[-226.17808981],\n",
       "       [ 218.48756735],\n",
       "       [-362.56506531],\n",
       "       [ 147.90541493],\n",
       "       [ 350.14590691]])"
      ]
     },
     "execution_count": 21,
     "metadata": {},
     "output_type": "execute_result"
    }
   ],
   "source": [
    "np.linalg.pinv(A).dot(b)"
   ]
  },
  {
   "cell_type": "markdown",
   "metadata": {},
   "source": [
    "\"When we talk about collaborative filtering for recommender systems we want to solve the problem of our original matrix having millions of different dimensions, but our 'tastes' not being nearly as complex. Even if i’ve \\[sic\\] viewed hundreds of items they might just express a couple of different tastes. Here we can actually use matrix factorization to mathematically reduce the dimensionality of our original 'all users by all items' matrix into something much smaller that represents 'all items by some taste dimensions' and 'all users by some taste dimensions'. These dimensions are called ***latent or hidden features*** and we learn them from our data\" ([Medium article: \"ALS Implicit Collaborative Filtering\"](https://medium.com/radon-dev/als-implicit-collaborative-filtering-5ed653ba39fe))."
   ]
  },
  {
   "cell_type": "markdown",
   "metadata": {},
   "source": [
    "#### Simple Example\n",
    "\n",
    "Suppose Max and Erin have rated five films:"
   ]
  },
  {
   "cell_type": "code",
   "execution_count": 22,
   "metadata": {},
   "outputs": [
    {
     "data": {
      "text/html": [
       "<div>\n",
       "<style scoped>\n",
       "    .dataframe tbody tr th:only-of-type {\n",
       "        vertical-align: middle;\n",
       "    }\n",
       "\n",
       "    .dataframe tbody tr th {\n",
       "        vertical-align: top;\n",
       "    }\n",
       "\n",
       "    .dataframe thead th {\n",
       "        text-align: right;\n",
       "    }\n",
       "</style>\n",
       "<table border=\"1\" class=\"dataframe\">\n",
       "  <thead>\n",
       "    <tr style=\"text-align: right;\">\n",
       "      <th></th>\n",
       "      <th>film1</th>\n",
       "      <th>film2</th>\n",
       "      <th>film3</th>\n",
       "      <th>film4</th>\n",
       "      <th>film5</th>\n",
       "    </tr>\n",
       "  </thead>\n",
       "  <tbody>\n",
       "    <tr>\n",
       "      <th>max</th>\n",
       "      <td>0</td>\n",
       "      <td>1</td>\n",
       "      <td>0</td>\n",
       "      <td>0</td>\n",
       "      <td>4</td>\n",
       "    </tr>\n",
       "    <tr>\n",
       "      <th>erin</th>\n",
       "      <td>0</td>\n",
       "      <td>0</td>\n",
       "      <td>0</td>\n",
       "      <td>5</td>\n",
       "      <td>0</td>\n",
       "    </tr>\n",
       "  </tbody>\n",
       "</table>\n",
       "</div>"
      ],
      "text/plain": [
       "      film1  film2  film3  film4  film5\n",
       "max       0      1      0      0      4\n",
       "erin      0      0      0      5      0"
      ]
     },
     "execution_count": 22,
     "metadata": {},
     "output_type": "execute_result"
    }
   ],
   "source": [
    "ratings_arr = pd.DataFrame([[0, 1, 0, 0, 4], [0, 0, 0, 5, 0]],\\\n",
    "                           index=['max', 'erin'],\n",
    "             columns=['film' + str(i) for i in range(1, 6)])\n",
    "ratings_arr"
   ]
  },
  {
   "cell_type": "markdown",
   "metadata": {},
   "source": [
    "Suppose now that we isolate ten latent features of these films, and that we can capture our users, i.e. the tastes of Max and Erin, according to these features. (We'll just fill out a matrix randomly.)"
   ]
  },
  {
   "cell_type": "code",
   "execution_count": 23,
   "metadata": {},
   "outputs": [],
   "source": [
    "seed(100)\n",
    "users = []\n",
    "\n",
    "for _ in range(2):\n",
    "    user = []\n",
    "    for _ in range(10):\n",
    "        user.append(gs(0, 1))\n",
    "    users.append(user)\n",
    "users_arr = np.array(users)"
   ]
  },
  {
   "cell_type": "code",
   "execution_count": 24,
   "metadata": {},
   "outputs": [
    {
     "data": {
      "text/plain": [
       "array([[ 0.67155333,  0.87331967,  0.20361655, -1.55034921, -0.12059128,\n",
       "        -1.05927574,  0.38143697, -1.17342904,  0.96637182,  0.53248343],\n",
       "       [ 2.22041991,  0.68901284,  0.85436449, -0.29504752, -0.62335055,\n",
       "         1.5917369 ,  0.17920475,  0.60086339,  0.3474319 ,  0.85537186]])"
      ]
     },
     "execution_count": 24,
     "metadata": {},
     "output_type": "execute_result"
    }
   ],
   "source": [
    "users_arr"
   ]
  },
  {
   "cell_type": "markdown",
   "metadata": {},
   "source": [
    "Now we'll make another random matrix that expresses *our items* in terms of these latent features."
   ]
  },
  {
   "cell_type": "code",
   "execution_count": 25,
   "metadata": {},
   "outputs": [],
   "source": [
    "seed(100)\n",
    "items = []\n",
    "\n",
    "for _ in range(5):\n",
    "    item = []\n",
    "    for _ in range(10):\n",
    "        item.append(gs(0, 1))\n",
    "    items.append(item)\n",
    "items_arr = np.array(items)"
   ]
  },
  {
   "cell_type": "code",
   "execution_count": 26,
   "metadata": {},
   "outputs": [
    {
     "data": {
      "text/plain": [
       "array([[ 0.67155333,  0.87331967,  0.20361655, -1.55034921, -0.12059128,\n",
       "        -1.05927574,  0.38143697, -1.17342904,  0.96637182,  0.53248343],\n",
       "       [ 2.22041991,  0.68901284,  0.85436449, -0.29504752, -0.62335055,\n",
       "         1.5917369 ,  0.17920475,  0.60086339,  0.3474319 ,  0.85537186],\n",
       "       [-1.80291827, -1.83311295,  0.60911087,  2.4250145 , -2.02233576,\n",
       "        -0.73382756,  0.24510831, -0.53817586, -0.30637608, -0.41367264],\n",
       "       [ 1.0027436 ,  0.03558136,  0.19013362, -1.27827915,  0.67648704,\n",
       "         1.79506722,  0.63054322, -0.37947302, -1.35033057,  0.45576721],\n",
       "       [ 0.42542416, -0.29962041, -2.48035968, -0.87457154, -1.23050164,\n",
       "        -1.00629648,  0.1857537 , -1.174924  , -0.33108494,  1.29437514]])"
      ]
     },
     "execution_count": 26,
     "metadata": {},
     "output_type": "execute_result"
    }
   ],
   "source": [
    "items_arr"
   ]
  },
  {
   "cell_type": "code",
   "execution_count": 27,
   "metadata": {},
   "outputs": [
    {
     "data": {
      "text/plain": [
       "(2, 10)"
      ]
     },
     "execution_count": 27,
     "metadata": {},
     "output_type": "execute_result"
    }
   ],
   "source": [
    "users_arr.shape"
   ]
  },
  {
   "cell_type": "code",
   "execution_count": 29,
   "metadata": {},
   "outputs": [
    {
     "data": {
      "text/plain": [
       "(5, 10)"
      ]
     },
     "execution_count": 29,
     "metadata": {},
     "output_type": "execute_result"
    }
   ],
   "source": [
    "items_arr.shape"
   ]
  },
  {
   "cell_type": "markdown",
   "metadata": {},
   "source": [
    "To construct our large users-by-items matrix, we'll simply take the product of our two random matrices."
   ]
  },
  {
   "cell_type": "code",
   "execution_count": 30,
   "metadata": {},
   "outputs": [
    {
     "data": {
      "text/plain": [
       "array([[ 7.53516384,  1.26783511, -5.21738432,  0.36547776,  3.90803828],\n",
       "       [ 1.26783511, 10.38970834, -6.10853643,  5.03189793, -1.63817674]])"
      ]
     },
     "execution_count": 30,
     "metadata": {},
     "output_type": "execute_result"
    }
   ],
   "source": [
    "users_arr.dot(items_arr.T)"
   ]
  },
  {
   "cell_type": "markdown",
   "metadata": {},
   "source": [
    "Now here's where the ALS really kicks in: We'll solve for Max's and Erin's preference vectors by multiplying the pseudo-inverse of the items array by their respective ratings vectors:"
   ]
  },
  {
   "cell_type": "code",
   "execution_count": 31,
   "metadata": {},
   "outputs": [
    {
     "name": "stdout",
     "output_type": "stream",
     "text": [
      "[ 0.47099573 -0.11214938 -0.98527859  0.09266666 -0.64747458  0.00854642\n",
      " -0.11601818  0.09586291 -0.08579953  0.55693307]\n",
      "[-0.23238655 -0.55138144  0.5415508  -0.71191248  0.27767197  0.81157767\n",
      "  0.78557579 -1.03623954 -1.25490079  0.02606555]\n"
     ]
    }
   ],
   "source": [
    "max_pref = np.linalg.pinv(items_arr).dot(ratings_arr.loc['max', :])\n",
    "print(max_pref)\n",
    "erin_pref = np.linalg.pinv(items_arr).dot(ratings_arr.loc['erin', :])\n",
    "print(erin_pref)"
   ]
  },
  {
   "cell_type": "code",
   "execution_count": 32,
   "metadata": {},
   "outputs": [
    {
     "data": {
      "text/plain": [
       "(10, 5)"
      ]
     },
     "execution_count": 32,
     "metadata": {},
     "output_type": "execute_result"
    }
   ],
   "source": [
    "items_arr.T.shape"
   ]
  },
  {
   "cell_type": "markdown",
   "metadata": {},
   "source": [
    "We'll predict (or, in this case, reproduce) Max's and Erin's ratings for films by simply multiplying their preference vectors by the transpose of the items array:"
   ]
  },
  {
   "cell_type": "code",
   "execution_count": 33,
   "metadata": {},
   "outputs": [
    {
     "data": {
      "text/plain": [
       "array([1.47104551e-15, 1.00000000e+00, 9.71445147e-16, 8.88178420e-16,\n",
       "       4.00000000e+00])"
      ]
     },
     "execution_count": 33,
     "metadata": {},
     "output_type": "execute_result"
    }
   ],
   "source": [
    "newmax = max_pref.dot(items_arr.T)\n",
    "newmax"
   ]
  },
  {
   "cell_type": "markdown",
   "metadata": {},
   "source": [
    "This lines up with the ratings with which we began."
   ]
  },
  {
   "cell_type": "code",
   "execution_count": 34,
   "metadata": {},
   "outputs": [
    {
     "data": {
      "text/plain": [
       "array([ 1.99840144e-15, -3.83026943e-15,  3.10862447e-15,  5.00000000e+00,\n",
       "        3.88578059e-16])"
      ]
     },
     "execution_count": 34,
     "metadata": {},
     "output_type": "execute_result"
    }
   ],
   "source": [
    "newerin = erin_pref.dot(items_arr.T)\n",
    "newerin"
   ]
  },
  {
   "cell_type": "markdown",
   "metadata": {},
   "source": [
    "Ditto!"
   ]
  },
  {
   "cell_type": "markdown",
   "metadata": {},
   "source": [
    "We'll make a quick error calculation:"
   ]
  },
  {
   "cell_type": "code",
   "execution_count": 35,
   "metadata": {},
   "outputs": [
    {
     "name": "stdout",
     "output_type": "stream",
     "text": [
      "1.232595164407831e-30\n"
     ]
    }
   ],
   "source": [
    "guess = np.vstack([newmax, newerin])\n",
    "\n",
    "err = 0\n",
    "for i in range(2):\n",
    "    for j in range(len(ratings_arr.values[i, :])):\n",
    "        if ratings_arr.values[i, j] != 0:\n",
    "            err += (ratings_arr.values[i, j] - guess[i, j])**2\n",
    "print(err)"
   ]
  },
  {
   "cell_type": "markdown",
   "metadata": {},
   "source": [
    "#### Second Example"
   ]
  },
  {
   "cell_type": "code",
   "execution_count": 36,
   "metadata": {},
   "outputs": [],
   "source": [
    "# Users: m x n (m users)\n",
    "# Items: r x n (r items)\n",
    "# Ratings: m x r"
   ]
  },
  {
   "cell_type": "code",
   "execution_count": 37,
   "metadata": {},
   "outputs": [],
   "source": [
    "# If P = users and Q = items, then we want to approximate R = PQ^T\n",
    "# Let's generate R.\n",
    "\n",
    "seed(42)\n",
    "ratings2 = []\n",
    "for _ in range(100):\n",
    "    user = []\n",
    "    for _ in range(100):\n",
    "        chance = gs(0, 0.4)\n",
    "        \n",
    "        # We'll fill our ratings matrix mostly with 0's to represent\n",
    "        # unrated films. This is NOT standard; we're doing this only\n",
    "        # to illustrate the general algorithm.\n",
    "        if chance > 0.5:\n",
    "            user.append(int(uni(1, 6)))\n",
    "        else:\n",
    "            user.append(0)\n",
    "        \n",
    "        # This 'if' will simply ensure that everyone has given at least\n",
    "        # one rating.\n",
    "        if user.count(0) == 10:\n",
    "            user[int(uni(0, 10))] = int(uni(1, 6))\n",
    "    ratings2.append(user)\n",
    "ratings_arr2 = np.array(ratings2)"
   ]
  },
  {
   "cell_type": "code",
   "execution_count": 39,
   "metadata": {},
   "outputs": [
    {
     "data": {
      "text/plain": [
       "100"
      ]
     },
     "execution_count": 39,
     "metadata": {},
     "output_type": "execute_result"
    }
   ],
   "source": [
    "len(ratings_arr2)"
   ]
  },
  {
   "cell_type": "code",
   "execution_count": 40,
   "metadata": {},
   "outputs": [],
   "source": [
    "users2 = []\n",
    "\n",
    "# Random generation of values for the user matrix\n",
    "for _ in range(100):\n",
    "    user = []\n",
    "    for _ in range(10):\n",
    "        user.append(gs(0, 1))\n",
    "    users2.append(user)\n",
    "users_arr2 = np.array(users2)"
   ]
  },
  {
   "cell_type": "code",
   "execution_count": 43,
   "metadata": {},
   "outputs": [
    {
     "data": {
      "text/plain": [
       "array([[-5.96830264e-01, -6.60644169e-01,  5.20090935e-01,\n",
       "        -1.02332900e+00,  4.84720799e-01,  6.34063499e-01,\n",
       "        -1.23738203e+00,  2.62804166e+00, -9.80718366e-01,\n",
       "        -7.58465765e-01],\n",
       "       [ 6.47152634e-01, -1.28732877e+00,  1.30196059e+00,\n",
       "        -3.54192410e-01,  1.18282908e+00,  1.11582998e+00,\n",
       "        -5.99358644e-02, -6.55814218e-01,  2.46163440e-01,\n",
       "        -7.76689319e-01],\n",
       "       [ 2.65328306e-01, -1.01459196e+00,  6.18856542e-02,\n",
       "        -1.34603809e-01, -3.84773388e-02,  5.56442772e-01,\n",
       "         1.43395593e+00,  2.29737204e-01,  3.14491196e-02,\n",
       "        -4.03696762e-01],\n",
       "       [-2.14052609e+00,  4.79318950e-01,  8.41153067e-01,\n",
       "         1.12199449e+00, -1.26228248e+00, -4.56819541e-01,\n",
       "         2.53746183e-02, -4.76825406e-01, -1.18486123e-01,\n",
       "         7.94826506e-01],\n",
       "       [-2.98006369e-01, -1.05783971e+00,  2.72952589e-01,\n",
       "         4.47948214e-01,  4.94938380e-01, -1.40072089e-01,\n",
       "         8.54957479e-01, -9.36771563e-01, -5.91063195e-01,\n",
       "         6.38828578e-01],\n",
       "       [-2.32930026e-01, -1.24230594e+00, -9.94280420e-01,\n",
       "        -1.04411634e+00, -7.04525919e-01,  5.42683938e-01,\n",
       "         1.36493078e-01, -2.27284851e-01, -2.65123172e-01,\n",
       "         1.26386965e+00],\n",
       "       [-1.88340289e+00, -8.65100581e-01,  1.49260665e+00,\n",
       "         5.46491382e-01,  2.45602257e-01,  2.67765309e-01,\n",
       "         5.21970368e-01,  2.37238598e-01, -2.34868915e+00,\n",
       "        -3.38493541e-01],\n",
       "       [ 1.57617785e-01,  1.66894387e+00,  8.94839971e-01,\n",
       "        -1.57220928e-01, -1.42225881e+00,  8.69819384e-01,\n",
       "        -1.25374165e+00,  5.94746968e-02, -1.41578653e+00,\n",
       "        -2.21315483e-01],\n",
       "       [-4.60765971e-01,  3.52837320e-01,  8.10954110e-01,\n",
       "        -1.64629587e+00, -4.69187345e-01,  1.57358281e-01,\n",
       "         6.60027651e-01, -4.10626877e-01,  9.69647082e-02,\n",
       "         1.43544877e+00],\n",
       "       [-3.07028620e-01, -1.16423541e-01,  3.93988507e-01,\n",
       "        -5.96573218e-01,  6.78311662e-01,  1.85083393e-01,\n",
       "         6.25602056e-02,  5.72122075e-01,  8.09275622e-01,\n",
       "        -8.56565346e-01],\n",
       "       [-7.43161645e-01,  1.50618135e+00, -9.47152000e-02,\n",
       "        -1.72962731e-01,  1.13471954e-01, -1.15869181e+00,\n",
       "        -7.47640873e-01, -1.35273857e+00, -2.72182481e-01,\n",
       "        -8.84962190e-02],\n",
       "       [-5.78680877e-01, -3.65554350e-01, -1.03987618e-01,\n",
       "        -5.95207895e-02, -3.93504246e-01, -1.26004322e+00,\n",
       "        -1.44596566e+00,  1.57674758e+00,  3.55185382e-01,\n",
       "         5.93577424e-01],\n",
       "       [-2.16416137e+00, -5.01338869e-01, -2.93456017e-02,\n",
       "        -8.12457612e-01, -1.12199563e+00, -4.14027916e-01,\n",
       "         3.60032110e-01,  5.66244391e-01, -7.03868014e-01,\n",
       "        -5.64765659e-01],\n",
       "       [-3.61495213e-01,  6.87354002e-01,  6.00509044e-01,\n",
       "         5.58034428e-01,  1.33772818e+00,  2.44898676e-01,\n",
       "        -6.95289097e-01, -9.75014995e-01, -5.30318846e-01,\n",
       "         3.57049180e-01],\n",
       "       [ 1.74558914e+00,  4.67651869e-01, -9.19189356e-02,\n",
       "        -2.03426166e+00,  4.00483853e-01,  1.23633156e+00,\n",
       "        -3.24115109e-02, -1.89146257e+00, -9.56631611e-01,\n",
       "        -1.85457374e+00],\n",
       "       [ 3.91372911e-01, -8.61589146e-01,  1.32167159e+00,\n",
       "         4.69906728e-01, -1.89669109e+00, -8.47031859e-01,\n",
       "        -1.75327208e-02,  1.19619593e+00, -2.56699351e-01,\n",
       "         6.49521939e-01],\n",
       "       [ 3.79128628e-01,  8.17917201e-01, -1.59546268e+00,\n",
       "         4.08288699e-03, -2.07565007e-01, -1.08695380e+00,\n",
       "        -1.29521107e+00,  1.06119124e+00,  1.00523768e+00,\n",
       "        -5.45917154e-01],\n",
       "       [-1.46143356e+00, -1.01672687e+00, -1.17392711e+00,\n",
       "        -2.04389465e+00,  4.20750646e-01,  2.23365717e-01,\n",
       "         2.51781372e-01,  4.28305114e-04,  1.42810217e-01,\n",
       "         4.64296705e-02],\n",
       "       [-6.60365358e-04,  4.30381298e-03, -1.52007753e+00,\n",
       "         5.46607721e-01,  4.38937519e-01, -1.09154472e-01,\n",
       "        -9.73287253e-01,  1.06223424e+00,  1.61836548e+00,\n",
       "        -2.98822472e-01],\n",
       "       [-5.65226605e-01,  5.80919787e-01, -4.78311249e-01,\n",
       "        -6.90907005e-01,  4.93630487e-01,  1.10315889e-01,\n",
       "         6.94473852e-01,  8.59494921e-01,  2.60521719e+00,\n",
       "        -1.18131674e+00],\n",
       "       [ 4.35145275e-01, -2.58948167e-01, -1.61211883e+00,\n",
       "        -1.86868091e+00,  5.46969677e-01, -1.98650444e+00,\n",
       "         5.63842607e-01, -2.56535576e-01,  1.22096116e+00,\n",
       "         1.04395106e+00],\n",
       "       [-2.00393840e+00,  5.78859981e-01, -2.70956928e-01,\n",
       "        -7.51405445e-01,  1.27422052e+00,  1.81829964e-01,\n",
       "         1.41458325e+00,  5.94118516e-01,  2.16670221e-01,\n",
       "         9.83116724e-01],\n",
       "       [-1.97542602e-01,  1.91612637e-01, -1.02041062e+00,\n",
       "         4.60829361e-01,  7.41836126e-02,  1.45645323e-01,\n",
       "         1.16872302e+00, -8.78557657e-01,  1.97867665e+00,\n",
       "        -5.15613269e-01],\n",
       "       [-3.97133706e-01, -1.54277897e+00,  2.30958902e-01,\n",
       "         7.54091098e-01, -1.22039890e+00, -2.26154299e+00,\n",
       "         5.80363181e-01,  1.41543285e+00,  1.22573327e+00,\n",
       "        -3.07584706e+00],\n",
       "       [ 1.23794926e+00,  3.52272821e-01,  7.96857523e-01,\n",
       "        -1.00109277e+00, -5.16289694e-01, -1.69514927e+00,\n",
       "        -3.53599243e-01, -1.60892522e+00, -9.78616959e-02,\n",
       "         4.19006151e-01],\n",
       "       [-1.24605855e+00,  1.37291161e+00, -9.28987425e-01,\n",
       "        -2.67307258e-01,  1.31290535e+00, -9.31119793e-01,\n",
       "        -8.50748640e-01, -2.22810872e-01, -6.55036155e-01,\n",
       "        -7.84891678e-01],\n",
       "       [-8.44814767e-01, -4.65905909e-01,  1.69851185e+00,\n",
       "        -1.76584670e-01,  8.96321362e-01,  1.19587091e+00,\n",
       "         1.15290567e+00, -9.60753354e-01, -2.13512198e+00,\n",
       "         1.39626517e+00],\n",
       "       [ 6.54171052e-01,  3.94938971e-01,  1.47558958e+00,\n",
       "         1.73080686e+00, -6.68452778e-01, -8.66973054e-01,\n",
       "        -1.46468498e+00, -3.68344971e-01,  7.05874655e-01,\n",
       "        -5.85888455e-01],\n",
       "       [ 2.48161944e+00, -1.39903260e+00,  5.60182613e-01,\n",
       "         7.22656364e-01, -1.11076033e+00, -1.22375614e+00,\n",
       "         7.74816014e-01, -1.05111812e+00,  1.75477105e+00,\n",
       "        -2.52756576e-01],\n",
       "       [ 4.54376920e-01, -8.96138179e-01,  9.18197592e-01,\n",
       "        -1.84649044e+00,  1.25097013e+00, -7.47285154e-02,\n",
       "        -1.29913250e+00, -1.60544277e-01, -3.74733724e-02,\n",
       "         1.26396430e+00],\n",
       "       [ 1.53402478e+00, -5.81975466e-01, -7.09251799e-01,\n",
       "        -1.61142797e+00, -8.85378628e-01,  6.02845863e-02,\n",
       "         4.99784698e-01, -8.27562995e-01,  1.12264114e+00,\n",
       "        -4.69746707e-01],\n",
       "       [ 2.96866463e-01, -6.37505662e-01, -6.07756989e-01,\n",
       "         8.24089489e-01,  4.66630788e-03, -4.74375259e-01,\n",
       "        -6.98376830e-01, -8.49279541e-01,  1.07380135e+00,\n",
       "        -1.83276004e+00],\n",
       "       [ 1.30487885e-02,  3.19738164e-02,  3.20561166e-01,\n",
       "        -1.14090365e+00,  4.35124675e-01,  3.49953167e-01,\n",
       "         2.20093813e+00,  1.07320309e+00,  5.23599838e-02,\n",
       "         1.01951655e+00],\n",
       "       [ 5.68951834e-01, -1.11261916e+00,  1.50780463e+00,\n",
       "         1.04683574e+00,  2.48624816e-01,  3.69887594e-02,\n",
       "         4.64296655e-01,  4.41945868e-01,  6.27331653e-02,\n",
       "        -3.79580616e-01],\n",
       "       [-5.29881291e-02,  2.45552009e+00, -8.29697216e-01,\n",
       "         4.43197400e-01, -1.26853561e+00,  8.85591559e-01,\n",
       "        -3.07376827e-01,  9.41668665e-01,  2.73055137e-01,\n",
       "         1.02201079e+00],\n",
       "       [-9.64556319e-01, -6.09500656e-01, -2.19643409e-01,\n",
       "        -1.93159488e-01, -2.52707555e-01,  1.37744070e-02,\n",
       "        -1.06398596e-01,  2.27472844e-01, -6.06583716e-01,\n",
       "        -1.89238913e+00],\n",
       "       [-9.27050939e-01,  8.30280734e-01,  1.24693134e+00,\n",
       "         8.82303453e-01, -6.76979684e-01, -6.37583633e-01,\n",
       "         1.14224663e+00, -2.07778159e-01,  2.76722793e-01,\n",
       "         4.79879819e-02],\n",
       "       [-2.16724195e+00,  1.71272658e-01, -1.23716050e+00,\n",
       "         1.96968750e-01,  1.39201603e+00,  7.99387463e-01,\n",
       "        -4.84685326e-01, -2.20797656e+00, -1.59589233e+00,\n",
       "         4.67063719e-01],\n",
       "       [ 1.55706076e-01,  2.87160575e+00,  8.41184414e-01,\n",
       "         1.84379673e-01,  3.33572793e-01, -1.93541806e+00,\n",
       "         2.14491264e-01,  1.00564307e+00,  5.23129963e-01,\n",
       "         3.38826792e-02],\n",
       "       [ 1.13338285e+00, -1.32336816e+00,  9.96493299e-01,\n",
       "        -4.27226326e-01, -1.11533574e+00, -1.45253933e-02,\n",
       "        -3.23264769e-01, -9.37084853e-01,  1.29752329e+00,\n",
       "        -6.61321673e-01],\n",
       "       [ 1.26575765e+00,  3.99999340e-01, -3.71543106e-01,\n",
       "        -1.10134431e+00,  6.81125745e-01, -4.80228091e-01,\n",
       "         4.31600544e-01,  7.06759674e-01, -2.35959225e-01,\n",
       "         4.20309063e-01],\n",
       "       [ 1.07331533e+00,  1.57499331e+00,  3.62689688e-01,\n",
       "         1.09566569e+00,  1.72802665e+00,  6.18327522e-02,\n",
       "         7.58742965e-01, -2.03487478e+00,  4.21379564e-02,\n",
       "        -2.96575382e-01],\n",
       "       [ 3.74259804e-01,  8.31368669e-01, -7.89459494e-01,\n",
       "        -1.76419201e+00,  1.44502383e-01,  1.07493797e+00,\n",
       "        -6.70474389e-01, -2.09844702e+00,  4.39837899e-01,\n",
       "         3.26099883e-01],\n",
       "       [-1.46621904e-01, -2.41683794e+00, -9.91278236e-01,\n",
       "        -4.12577980e-01, -1.03684314e+00,  1.15140036e+00,\n",
       "         1.21035181e+00,  1.57058443e-01, -4.90771075e-01,\n",
       "        -1.33189311e+00],\n",
       "       [ 8.89391727e-01,  7.01847948e-01, -2.30551207e-01,\n",
       "         1.25558302e+00, -3.24202102e-01,  1.72295069e-01,\n",
       "        -1.95405926e-01,  2.42908747e+00, -6.34051148e-01,\n",
       "         7.89973753e-01],\n",
       "       [ 1.90347005e+00, -1.05777003e+00,  3.60342372e-01,\n",
       "        -3.57936988e-01,  6.82738827e-01,  1.10623921e+00,\n",
       "        -5.55432868e-01, -9.34368344e-01,  9.66530811e-01,\n",
       "        -2.11343518e-02],\n",
       "       [-3.03593703e-02,  3.70661923e-01,  1.59307145e-01,\n",
       "        -6.20490085e-01, -1.09522622e+00,  6.64022341e-01,\n",
       "         6.28559111e-02,  5.61202932e-01,  1.04130894e+00,\n",
       "         1.15476038e+00],\n",
       "       [ 3.50894495e-01,  2.47197418e-02,  1.15942352e-01,\n",
       "        -4.75205396e-01, -6.69097081e-01, -1.14630940e+00,\n",
       "         2.05762185e+00,  1.14631730e-01,  1.46702461e+00,\n",
       "         1.70811934e+00],\n",
       "       [ 1.15088713e+00, -1.38080601e+00,  4.26574478e-01,\n",
       "         1.05158569e+00, -4.52661300e-01,  6.08453187e-02,\n",
       "        -1.07930720e+00,  9.17630155e-01, -1.74424934e+00,\n",
       "        -4.64272480e-01],\n",
       "       [ 3.16495829e-01,  4.13966280e-01, -1.98344924e+00,\n",
       "        -1.23135247e-01,  1.09235909e+00,  4.97306718e-01,\n",
       "         1.28826923e+00, -1.02515338e-01,  3.08270167e-02,\n",
       "         1.67306203e+00],\n",
       "       [ 5.06602715e-01, -8.00823330e-01,  1.20411638e-01,\n",
       "         7.70969435e-01,  9.89523910e-01,  3.89430481e-01,\n",
       "         1.19769664e+00, -1.26472604e+00,  1.46995254e+00,\n",
       "         2.58120681e-01],\n",
       "       [ 9.02875975e-01, -4.19469007e-01, -1.57580572e+00,\n",
       "        -1.24526216e+00, -4.56298339e-03, -5.21887362e-01,\n",
       "        -1.32694684e+00, -1.16831752e+00,  1.10320436e+00,\n",
       "        -9.27409455e-01],\n",
       "       [ 1.99564153e-02, -5.84683635e-01, -6.69394830e-01,\n",
       "        -4.79812174e-01,  1.54004742e-01, -1.05364272e+00,\n",
       "         3.63536318e-01,  7.15143851e-02,  1.81573323e+00,\n",
       "         1.07140028e+00],\n",
       "       [ 8.73769761e-01,  1.13473456e+00, -6.82123412e-01,\n",
       "         7.30781559e-01, -1.76842851e+00,  4.01045123e-01,\n",
       "         7.37746387e-01, -4.23197714e-01, -8.68308590e-01,\n",
       "        -1.95757328e-01],\n",
       "       [-8.70107925e-01,  2.27488496e+00, -9.85288466e-01,\n",
       "        -7.09441580e-02,  1.05353404e+00, -1.10565263e+00,\n",
       "        -7.64605890e-01, -2.13426911e+00, -1.16108205e+00,\n",
       "        -9.03023188e-01],\n",
       "       [-1.00624380e+00, -5.04674239e-01,  9.75477943e-01,\n",
       "         6.27582575e-01, -6.61786053e-01,  1.00871525e+00,\n",
       "        -5.16381147e-01, -5.59434545e-01, -9.08304823e-02,\n",
       "         7.90317785e-01],\n",
       "       [-2.90843171e-01,  1.16469766e+00, -8.38788172e-01,\n",
       "         2.00532649e+00,  1.07867602e+00, -7.11300435e-01,\n",
       "        -4.96257231e-01,  6.96632953e-01,  5.53196522e-01,\n",
       "        -1.07342183e+00],\n",
       "       [-6.64981989e-01,  4.13043738e-01, -1.30234549e+00,\n",
       "         6.75495160e-01,  2.41513613e-01, -2.08955816e+00,\n",
       "         1.09867031e+00,  1.31585888e+00, -4.25431968e-01,\n",
       "         1.46382120e+00],\n",
       "       [-8.06429861e-01,  9.56469671e-01, -7.73169354e-01,\n",
       "         1.61291280e+00, -5.37535618e-01, -3.03252341e-01,\n",
       "        -3.24892700e-01, -2.01785606e+00, -4.37236876e-01,\n",
       "        -5.19131194e-01],\n",
       "       [ 4.67838294e-01, -1.82472624e+00,  5.89465125e-01,\n",
       "         1.31826082e+00, -7.50698675e-01,  1.43610975e-02,\n",
       "        -7.90797156e-01,  7.80456709e-02, -1.12946677e+00,\n",
       "        -5.15875100e-01],\n",
       "       [ 8.27397477e-01,  1.08542144e+00, -4.15237721e-02,\n",
       "         2.60605329e+00,  1.10967111e+00, -2.64999567e+00,\n",
       "         6.47009017e-01,  1.32834229e-02,  2.09914387e+00,\n",
       "        -9.22162496e-01],\n",
       "       [-2.94116444e+00,  8.59287548e-01, -6.97011270e-01,\n",
       "        -4.03882388e-01, -6.07558127e-01, -2.74109991e-01,\n",
       "         1.00274233e+00,  3.32741964e-01,  1.33613541e+00,\n",
       "        -1.54340964e-01],\n",
       "       [-9.78259381e-01,  1.46332137e-01,  4.62315402e-01,\n",
       "         4.31117875e-01, -1.15750898e+00,  1.37553229e+00,\n",
       "         1.82573296e+00,  6.50860192e-01, -2.15692143e-01,\n",
       "         1.24249568e+00],\n",
       "       [-2.02065683e-01,  1.73865631e+00,  1.36076852e+00,\n",
       "        -6.85311705e-01,  5.89137354e-01,  2.02273490e+00,\n",
       "        -1.28615342e-01, -5.71670874e-02, -7.31964727e-01,\n",
       "         1.19267592e+00],\n",
       "       [-1.80099925e-01,  1.04456187e+00,  1.69725909e-01,\n",
       "         1.37749632e+00, -7.11442015e-01, -3.38154709e-01,\n",
       "        -1.81316797e+00, -6.22260335e-01,  7.35605010e-01,\n",
       "         1.03559597e+00],\n",
       "       [-2.86832152e-01,  6.43678987e-01,  6.40405425e-01,\n",
       "        -1.75419047e+00,  4.01652132e-01,  1.32455524e+00,\n",
       "         4.19508684e-01, -1.23385426e-01, -1.66250858e-01,\n",
       "        -2.76909304e+00],\n",
       "       [-1.42704684e-01,  1.14529470e+00,  1.59344826e+00,\n",
       "         1.09294170e+00,  2.01193232e-01,  1.09090194e+00,\n",
       "         3.12147314e-01,  5.32709207e-01,  8.83118469e-02,\n",
       "         4.68407024e-01],\n",
       "       [ 6.05522493e-02,  8.56796948e-01, -1.18730400e+00,\n",
       "        -6.49209405e-01, -5.24587500e-01,  4.52601152e-01,\n",
       "         3.34092065e-01,  2.43909883e-01, -2.52863018e-01,\n",
       "        -1.05106836e+00],\n",
       "       [-6.70207323e-02, -9.82888268e-01, -7.33436577e-01,\n",
       "        -6.47044886e-01, -7.69718140e-01, -2.04162755e-01,\n",
       "         8.56799475e-01, -7.86481258e-01,  2.99936381e-01,\n",
       "        -1.18086474e+00],\n",
       "       [-5.14477642e-01,  1.05723198e+00, -1.42664480e+00,\n",
       "        -1.26795404e+00, -7.57609559e-01, -5.99600703e-01,\n",
       "        -3.90776483e-01, -1.29794015e+00, -3.07189909e-01,\n",
       "        -9.24221566e-01],\n",
       "       [ 1.61421981e-01, -6.61919369e-01, -4.00128578e-01,\n",
       "         9.37351968e-01,  6.42769132e-03,  8.28765568e-01,\n",
       "         1.62204289e-01,  1.34478645e+00, -2.17698056e-01,\n",
       "         4.19350855e-02],\n",
       "       [ 6.87046741e-01, -2.95951751e-01, -3.54875814e-01,\n",
       "        -1.03822948e+00,  3.07270369e-01, -9.43650187e-01,\n",
       "        -5.51436101e-01,  8.09397507e-01, -1.60240324e+00,\n",
       "         9.11400377e-02],\n",
       "       [ 3.64354924e-01, -2.33842629e-01, -2.22924804e-02,\n",
       "         7.20060834e-01, -2.28620768e+00,  2.54139920e+00,\n",
       "        -6.02056072e-01,  8.17107421e-02,  8.72402307e-01,\n",
       "        -1.14465698e+00],\n",
       "       [-1.48075650e+00, -1.06316485e+00,  1.57698166e+00,\n",
       "        -2.29238622e+00, -1.11499435e+00,  1.27159261e+00,\n",
       "         1.87877521e+00,  1.19185170e+00,  1.28924633e+00,\n",
       "         8.45448440e-01],\n",
       "       [ 3.86439425e-01,  1.25736484e-01,  9.99896017e-01,\n",
       "        -4.55180858e-01, -5.29655889e-01,  1.90535544e+00,\n",
       "        -3.96586512e-01,  2.18991150e+00,  1.13214868e-01,\n",
       "         8.56707663e-01],\n",
       "       [-7.20237289e-01, -9.33235222e-02,  2.73799425e-01,\n",
       "         1.79289151e-01, -9.87869284e-01, -1.44620340e+00,\n",
       "         2.28328136e+00, -6.81456951e-01,  5.65408445e-01,\n",
       "         1.12613836e+00],\n",
       "       [ 1.98343150e+00, -7.56375732e-01,  1.56746549e-01,\n",
       "         1.80917843e+00,  5.31274503e-01,  1.48694803e+00,\n",
       "         4.21836184e-01,  1.90090278e-01,  2.57486535e-01,\n",
       "        -5.72283888e-01],\n",
       "       [ 7.92228976e-01,  7.83686446e-01,  1.09285960e-01,\n",
       "        -1.59907413e+00,  1.33122008e+00,  1.89967575e+00,\n",
       "         3.62530977e-03,  1.32502045e-01,  1.04860141e+00,\n",
       "        -1.34472820e+00],\n",
       "       [-2.03916203e-01, -1.70105255e-02, -3.42003030e-01,\n",
       "        -9.69344570e-03,  2.08261993e-01,  2.36074630e-01,\n",
       "         2.96914303e-01,  4.42311662e-01,  1.22400059e+00,\n",
       "        -1.44800999e+00],\n",
       "       [-7.23713578e-01, -3.62270080e-01,  1.64174910e-02,\n",
       "         6.20343301e-01,  5.82409969e-01,  4.81048739e-01,\n",
       "        -1.06722754e+00, -1.29230529e+00,  8.88357807e-01,\n",
       "         3.98250013e-01],\n",
       "       [ 1.11140459e+00,  4.00410159e-03,  4.54451558e-01,\n",
       "        -1.43420211e+00, -9.86812111e-01,  7.65281916e-01,\n",
       "        -1.00450241e+00,  6.92870626e-01,  2.32812460e+00,\n",
       "        -5.65049595e-01],\n",
       "       [-8.28747406e-01,  1.08329913e+00, -3.28578739e-01,\n",
       "        -1.63075996e+00,  1.24791813e-02, -1.21749547e+00,\n",
       "        -9.89294563e-01,  6.48259782e-01, -1.80771911e+00,\n",
       "         3.10422272e-03],\n",
       "       [ 3.62090114e-01,  1.30401823e+00, -5.66657473e-01,\n",
       "         6.22738487e-01, -8.17235530e-01, -6.28957883e-01,\n",
       "        -6.88007327e-01,  6.79891868e-01, -2.62601863e-01,\n",
       "         6.11626609e-01],\n",
       "       [ 1.06404068e+00,  1.07611419e-01, -3.63880625e-01,\n",
       "        -4.31255584e-01,  1.17092974e+00, -1.32484664e+00,\n",
       "        -7.04415709e-03, -1.44716789e+00, -2.40204376e-01,\n",
       "         7.09246847e-01],\n",
       "       [ 7.13933822e-01,  7.37287182e-02, -1.07129394e+00,\n",
       "         4.31757360e-01, -1.09389782e+00,  2.34797805e-01,\n",
       "         8.24604226e-01, -7.51436811e-01, -2.80300573e-01,\n",
       "         1.63873127e-01],\n",
       "       [ 2.01833721e+00, -6.87838885e-01,  7.40176677e-01,\n",
       "        -3.90435464e-01,  1.05689225e+00,  3.66456193e-01,\n",
       "        -1.10137649e+00,  9.52009663e-01, -1.23388951e+00,\n",
       "         5.48907880e-01],\n",
       "       [-7.33424982e-01,  9.48298536e-01, -2.30734303e+00,\n",
       "         3.34182241e-01,  7.75030035e-01, -8.39702218e-01,\n",
       "        -3.93687533e-01,  5.24463117e-01,  5.31485830e-01,\n",
       "        -2.83611751e-01],\n",
       "       [ 5.61006754e-01, -2.78712262e-02, -1.91797274e-01,\n",
       "        -7.69131511e-01,  6.94117467e-01,  1.08522923e-01,\n",
       "        -2.19131780e-01, -2.92102842e-02, -1.47034905e+00,\n",
       "         1.02084102e+00],\n",
       "       [-1.35128259e+00,  3.44318321e-01, -7.03792298e-02,\n",
       "         3.15536751e-01, -5.10083757e-01, -5.46842832e-02,\n",
       "        -1.07073918e+00,  4.36454354e-01,  2.32296155e-02,\n",
       "        -2.70392065e-01],\n",
       "       [ 2.95751646e-01, -1.58786932e+00, -3.41287298e-01,\n",
       "        -1.51139432e-01,  2.27831572e+00, -4.62426978e-01,\n",
       "        -1.05845871e+00,  1.02025136e+00, -1.48834340e+00,\n",
       "         5.90776014e-01],\n",
       "       [-5.94171806e-02,  5.50694492e-01,  3.80712969e-01,\n",
       "        -2.25169763e-01, -7.46621841e-01,  6.67551511e-01,\n",
       "         8.20260599e-01,  2.21031416e-01,  6.29897697e-01,\n",
       "        -1.89200345e-01],\n",
       "       [-9.42780015e-01, -4.38547388e-01,  2.63325142e-01,\n",
       "        -5.09485518e-01, -7.34249566e-01, -2.23644211e-01,\n",
       "         2.91037950e-02, -1.69485704e-02,  1.80995294e+00,\n",
       "         7.99876345e-01],\n",
       "       [-1.11691018e-01,  1.14265164e+00,  1.02847771e+00,\n",
       "         4.53442612e-01,  2.25917750e+00, -2.68150300e-01,\n",
       "        -4.07943097e-01,  1.67155692e-02, -2.07454378e+00,\n",
       "         5.38126146e-01],\n",
       "       [-2.07002869e+00, -1.86696589e+00,  1.47488464e+00,\n",
       "        -2.01415778e+00, -6.49240888e-02,  1.27720402e+00,\n",
       "         1.40796036e+00, -1.17718293e+00, -7.17304852e-01,\n",
       "         1.29320301e+00],\n",
       "       [-1.46364700e+00, -2.47959299e-01,  6.82138189e-01,\n",
       "        -1.14752290e+00, -7.44429830e-01, -1.65153488e+00,\n",
       "         1.32683450e-01, -7.38414417e-01,  4.23223305e-01,\n",
       "        -9.79161385e-01],\n",
       "       [-3.29575663e-01,  2.34866002e+00, -8.38659161e-01,\n",
       "         2.55007303e+00,  3.24011724e-01, -1.77030021e-02,\n",
       "        -1.50844011e+00, -9.79945245e-01, -8.94815669e-02,\n",
       "         1.86207406e+00],\n",
       "       [-1.81515143e+00, -6.53676167e-01,  4.84805696e-01,\n",
       "         2.45359881e+00, -5.62405877e-01,  1.28135496e-01,\n",
       "         1.01776834e+00,  7.25833214e-01, -1.07372128e+00,\n",
       "         1.24931052e+00],\n",
       "       [-7.84101421e-01,  4.35619870e-01,  5.19731659e-01,\n",
       "         2.90545743e-01, -2.28038353e+00,  2.71010202e-01,\n",
       "         7.93831736e-01,  3.51370363e-01,  8.21170579e-01,\n",
       "        -6.85380193e-01],\n",
       "       [ 2.29924871e-01, -5.30768317e-01, -2.45759521e-01,\n",
       "         4.18200061e-02,  4.63565684e-01, -1.91694432e-01,\n",
       "         1.84677877e-01,  2.04733334e+00, -2.51727490e+00,\n",
       "         1.28846409e-01],\n",
       "       [-8.66193564e-01, -5.37740301e-01,  4.80634810e-01,\n",
       "        -6.66367032e-01, -4.61181005e-01, -3.84325818e-01,\n",
       "         4.80799218e-01,  7.49184035e-01, -2.97529373e-01,\n",
       "         2.90700248e-01]])"
      ]
     },
     "execution_count": 43,
     "metadata": {},
     "output_type": "execute_result"
    }
   ],
   "source": [
    "users_arr2"
   ]
  },
  {
   "cell_type": "code",
   "execution_count": 41,
   "metadata": {},
   "outputs": [],
   "source": [
    "items2 = []\n",
    "\n",
    "# Random generation of values for the item matrix\n",
    "for _ in range(100):\n",
    "    item = []\n",
    "    for _ in range(10):\n",
    "        item.append(gs(0, 1))\n",
    "    items2.append(item)\n",
    "items_arr2 = np.array(items2)"
   ]
  },
  {
   "cell_type": "code",
   "execution_count": 44,
   "metadata": {},
   "outputs": [
    {
     "data": {
      "text/plain": [
       "array([[ 1.55152282e+00,  8.79746156e-01,  1.24509006e+00,\n",
       "         6.64803857e-02, -4.39662187e-01,  2.03228916e-02,\n",
       "         1.78496004e+00, -3.39799513e-01, -1.85459029e+00,\n",
       "        -2.48532660e+00],\n",
       "       [ 6.25239182e-01,  8.20026293e-03,  1.91797629e+00,\n",
       "         2.13416913e+00, -1.01870863e+00,  1.12995740e+00,\n",
       "         4.36071762e-01, -8.32971695e-01, -2.58398762e-01,\n",
       "        -1.25577674e-01],\n",
       "       [ 6.99972657e-01, -5.58047093e-01,  1.28299039e+00,\n",
       "         3.20342348e-01,  1.37667558e+00, -1.02389697e-01,\n",
       "         2.83527086e-01, -5.88738615e-01,  4.80044076e-01,\n",
       "         8.72344918e-01],\n",
       "       [ 4.76615373e-01, -1.95327544e-02, -1.15133028e+00,\n",
       "        -7.65326035e-01, -1.86287306e+00, -3.08112624e-01,\n",
       "        -7.86933050e-02,  3.57913278e-01, -6.09647168e-01,\n",
       "        -4.80096311e-01],\n",
       "       [-9.62794289e-01, -1.21679537e+00,  1.12415183e+00,\n",
       "         7.75595047e-01, -9.53787381e-02, -2.36683302e-01,\n",
       "         8.85437887e-01, -1.18460983e+00, -6.18594037e-01,\n",
       "        -1.71512573e+00],\n",
       "       [-7.52915403e-01,  9.24789261e-01, -4.23611502e-01,\n",
       "         1.50551495e+00, -1.47466777e+00,  1.05599784e+00,\n",
       "         2.69622898e-01,  2.87643993e+00, -3.23870303e-01,\n",
       "         8.28231992e-01],\n",
       "       [ 3.32075252e-02,  5.66504878e-01,  2.28253158e-01,\n",
       "         3.36860818e-01, -4.26434340e-01, -2.61994581e-01,\n",
       "         8.51226423e-01,  6.83494587e-01,  2.30915317e-01,\n",
       "         3.15017016e-01],\n",
       "       [ 1.94707494e-01, -1.51322051e+00, -1.39907292e+00,\n",
       "        -7.60814660e-01, -4.69852895e-01,  2.02150973e-01,\n",
       "        -1.47334199e+00, -1.88253669e+00, -1.26037340e+00,\n",
       "        -4.28165061e-01],\n",
       "       [ 6.33858653e-01, -2.62850596e-01, -2.58677409e-01,\n",
       "         4.39276570e-02,  3.61281452e-01,  5.42767650e-01,\n",
       "         2.31078485e-01,  1.01821062e-01,  4.59906961e-01,\n",
       "        -6.08010498e-01],\n",
       "       [ 4.55405025e-01,  1.08138383e+00, -5.48269746e-01,\n",
       "        -8.44216269e-01, -2.24517013e-01, -8.55261987e-01,\n",
       "         5.97178252e-01,  6.59640203e-01,  1.02479715e+00,\n",
       "        -2.17622439e-01],\n",
       "       [-8.80156810e-01,  2.04136511e+00, -1.41770331e+00,\n",
       "        -6.30157238e-01,  1.74669605e+00,  8.16978921e-02,\n",
       "         9.94365202e-01, -2.93709319e-01, -2.97453639e+00,\n",
       "         2.45496746e-01],\n",
       "       [ 1.23983172e+00,  1.66581184e+00,  8.52575991e-02,\n",
       "         1.35831460e+00,  2.10214585e+00, -5.81296175e-01,\n",
       "        -1.89885353e-01, -1.02277426e+00,  1.84680030e-01,\n",
       "        -1.40097411e+00],\n",
       "       [-4.31397379e-01, -1.74208481e+00, -5.17010612e-02,\n",
       "         5.30011367e-02, -1.85411845e+00,  2.01179046e-01,\n",
       "        -6.88558474e-01, -4.65907915e-03, -7.26592170e-01,\n",
       "         1.27351849e+00],\n",
       "       [-1.00132044e-01, -1.18164817e+00, -2.05993282e+00,\n",
       "        -4.04623509e-01,  1.37581160e+00, -5.50854964e-02,\n",
       "        -8.13674570e-01, -6.92511470e-01,  1.70641390e+00,\n",
       "        -5.56618222e-01],\n",
       "       [-1.53019230e+00,  4.45057231e-01, -1.18997585e+00,\n",
       "        -3.63002551e-01,  1.09450155e-02, -3.01578894e-01,\n",
       "        -5.07376509e-01,  8.88158426e-01, -1.23659101e+00,\n",
       "        -1.26874848e+00],\n",
       "       [-2.02590095e+00,  3.27169216e-01,  1.99913618e+00,\n",
       "        -9.55363087e-01, -5.61969616e-01, -4.57576602e-01,\n",
       "        -5.32369364e-01,  1.22643516e+00, -8.02513140e-01,\n",
       "         2.64820457e-01],\n",
       "       [-1.62217318e-01, -2.29444591e-01,  2.78681859e-01,\n",
       "         2.14874195e+00, -2.04358186e-02,  7.85078256e-01,\n",
       "        -2.82360712e-01, -5.52302218e-02,  1.04294133e+00,\n",
       "        -3.24378993e-01],\n",
       "       [-8.45836689e-01,  6.39402755e-01,  1.74034034e+00,\n",
       "        -4.62760408e-01, -2.71554297e-01,  1.81517138e+00,\n",
       "        -9.94317885e-01, -2.99379397e-01, -2.46929369e+00,\n",
       "        -2.71809341e-02],\n",
       "       [ 3.95617319e-01, -1.37364429e+00, -4.68338974e-01,\n",
       "         1.27061612e+00,  2.84548124e+00,  9.48245458e-01,\n",
       "         3.35279527e-01,  1.43276002e+00, -1.16030391e-01,\n",
       "         4.82538122e-01],\n",
       "       [ 2.86570662e-01,  2.99810295e+00, -8.28355183e-01,\n",
       "        -3.32521428e-01, -6.41909192e-01, -1.86768546e-01,\n",
       "        -1.61642541e-01, -3.74075688e-01, -1.46132856e+00,\n",
       "        -1.92966448e+00],\n",
       "       [ 5.23035645e-01,  6.83827969e-02, -2.86389476e-03,\n",
       "        -7.72867868e-01, -8.19894681e-01, -1.24743863e+00,\n",
       "        -1.87557645e+00,  1.10007592e+00,  1.70207034e-01,\n",
       "         5.73638508e-01],\n",
       "       [ 1.89485285e+00,  1.33358106e+00, -4.56544378e-01,\n",
       "         1.16393096e+00, -3.59478857e-01, -1.13515996e-01,\n",
       "         2.02055505e+00, -2.19042316e-01,  4.92446076e-02,\n",
       "        -6.51345355e-02],\n",
       "       [ 1.13933650e-01,  1.73296674e+00,  6.62293452e-01,\n",
       "        -2.31067381e+00,  4.78849736e-01, -1.06581817e-01,\n",
       "        -4.85216154e-01,  1.53314242e-01,  1.74524881e-01,\n",
       "        -1.73020133e+00],\n",
       "       [-4.98249308e-01,  1.10395337e-01, -3.97956730e-01,\n",
       "        -7.02796905e-01,  1.52805438e+00,  8.81387744e-01,\n",
       "        -5.98565998e-01,  7.89540909e-01,  8.96297696e-01,\n",
       "         2.23502574e+00],\n",
       "       [-3.39726161e-01, -2.17279210e+00, -1.92132756e+00,\n",
       "        -1.81203115e+00,  3.21789698e-01, -3.09581366e+00,\n",
       "         4.79157174e-01,  7.79625989e-01, -1.51478421e+00,\n",
       "        -2.11573943e-01],\n",
       "       [ 1.05617240e+00,  2.88633883e+00,  4.27482334e-02,\n",
       "        -9.29514419e-01, -5.33076227e-01,  8.37888567e-01,\n",
       "         1.98450767e-02, -4.67199043e-01, -1.82216871e+00,\n",
       "        -1.42483362e-01],\n",
       "       [ 1.52168697e-01,  6.31380680e-01, -1.11927012e+00,\n",
       "        -1.31031742e+00, -5.29741320e-03, -3.72100734e-01,\n",
       "         7.16464154e-01, -3.14317355e-02, -1.21845276e+00,\n",
       "        -1.84292534e+00],\n",
       "       [-1.71551220e+00,  6.06545919e-02, -1.08938257e+00,\n",
       "         9.33080191e-01,  9.20355896e-02,  2.77975913e-01,\n",
       "        -8.26035547e-02,  2.51797502e-02, -1.82336146e+00,\n",
       "         2.33785365e+00],\n",
       "       [ 1.32359172e+00, -5.83463963e-01, -1.64417000e+00,\n",
       "         9.64932576e-01,  1.95401691e+00, -3.78048032e-01,\n",
       "         1.65502129e+00,  9.81941260e-01, -1.06347733e+00,\n",
       "        -7.19310003e-01],\n",
       "       [ 4.01850934e-01,  3.61039069e-01, -3.33135373e+00,\n",
       "         1.18408985e-01, -1.37668697e-01, -9.02336225e-01,\n",
       "        -1.81773104e-01, -1.81651049e-01,  4.45634838e-01,\n",
       "        -7.51083463e-01],\n",
       "       [-7.06424459e-01,  1.71894094e+00, -5.33379604e-01,\n",
       "         1.90489801e+00,  7.95151037e-01,  2.85781122e-01,\n",
       "         5.28909543e-01, -1.21446607e-01, -5.08189767e-02,\n",
       "         9.75775792e-01],\n",
       "       [ 5.21605662e-01,  7.47516042e-01, -3.34664910e-01,\n",
       "         2.06445304e-01, -3.87722086e-01, -7.63944453e-02,\n",
       "        -3.02825211e-01,  7.88119881e-01,  2.79148319e+00,\n",
       "         4.01443538e-01],\n",
       "       [-7.40336854e-01,  1.39287640e+00,  1.57946924e+00,\n",
       "        -1.69248433e+00, -1.55900398e+00, -1.17677048e+00,\n",
       "        -2.90502176e-01,  3.39995198e-01, -8.03048637e-02,\n",
       "         8.97684395e-01],\n",
       "       [ 4.85248707e-01, -4.09674863e-01,  4.21149933e-01,\n",
       "         1.74505813e+00,  9.32158653e-02,  7.99162969e-01,\n",
       "         6.87147413e-01, -1.06102319e+00, -1.91397564e+00,\n",
       "        -5.08206570e-01],\n",
       "       [ 4.76125171e-01, -1.16858852e+00, -1.35410478e+00,\n",
       "        -7.15457697e-01, -3.70576585e-01,  1.21253248e+00,\n",
       "        -6.25297439e-01,  2.03047004e+00,  4.17127468e-03,\n",
       "        -2.88380812e-01],\n",
       "       [ 9.11214160e-01, -5.09640451e-01, -4.33016487e-01,\n",
       "        -6.62806315e-01,  3.57418025e-01,  1.21252276e-01,\n",
       "         1.26440897e+00, -4.19775361e-01,  8.91541332e-01,\n",
       "         7.08105972e-01],\n",
       "       [-9.28982849e-01,  1.81917025e-01, -7.56388430e-01,\n",
       "        -2.04191073e-01, -1.07999210e+00, -6.93539271e-01,\n",
       "         1.13183900e-01, -3.97900144e-01,  7.09494901e-01,\n",
       "         1.26001075e+00],\n",
       "       [-1.82172430e+00, -8.43510260e-01, -1.25473369e-01,\n",
       "        -1.35034858e-01,  3.09391969e-01,  1.53863121e+00,\n",
       "         1.21854404e+00,  2.19587516e+00,  7.82912915e-01,\n",
       "        -9.01365414e-01],\n",
       "       [ 1.02743515e-01, -6.69298862e-03, -7.90764688e-01,\n",
       "        -1.14951989e-01,  4.79248077e-01, -1.66279379e+00,\n",
       "         4.81605820e-01,  1.16373225e+00,  6.41122890e-01,\n",
       "         2.50915151e-01],\n",
       "       [-3.26170815e-01, -5.66716143e-01, -9.04737432e-01,\n",
       "        -1.59549362e-01, -1.10334895e+00,  7.54703642e-01,\n",
       "         6.97496618e-01, -4.38070893e-01,  1.19933417e-02,\n",
       "         1.96918390e+00],\n",
       "       [ 7.39945588e-01,  7.36687231e-01, -6.99624879e-01,\n",
       "        -9.42098642e-01,  1.01002016e+00, -1.41702734e-01,\n",
       "         2.75925169e-01,  7.12091786e-01,  4.42278579e-01,\n",
       "         4.60379174e-01],\n",
       "       [-3.20258525e-01, -3.91215392e-01, -2.53797099e-01,\n",
       "        -4.68772877e-01,  3.43421528e+00,  8.86500758e-01,\n",
       "        -5.21401483e-02, -1.62026149e+00, -2.15013943e-01,\n",
       "        -4.88992959e-01],\n",
       "       [ 5.03430420e-01,  2.48083111e+00, -1.29609938e+00,\n",
       "        -6.56039121e-01, -3.84785575e-01, -1.84269074e+00,\n",
       "         4.73863681e-01,  4.10708045e-02,  1.51304114e-01,\n",
       "         5.37562617e-01],\n",
       "       [-2.81998718e-01, -1.73213075e+00,  6.02170361e-01,\n",
       "        -6.51004427e-01, -1.24494652e+00,  7.77757860e-01,\n",
       "        -4.58979870e-01, -9.80406365e-01,  4.25597730e-01,\n",
       "         1.35457190e+00],\n",
       "       [ 2.50380390e-01,  8.99265547e-01,  1.35237474e+00,\n",
       "        -1.44102028e+00, -6.07487742e-01, -9.88588847e-01,\n",
       "         1.01834028e+00, -3.36951781e-01, -1.41372750e-02,\n",
       "         1.06565813e+00],\n",
       "       [ 9.47261870e-01,  1.46412264e+00,  8.33768268e-01,\n",
       "        -1.43668314e+00, -6.67367775e-01, -1.02616596e-01,\n",
       "         6.32667590e-01,  5.26182865e-01, -1.30231128e-01,\n",
       "         6.10560409e-01],\n",
       "       [ 1.35226495e-01, -1.12414918e+00,  2.91398218e-02,\n",
       "        -3.66332568e-01, -8.15394423e-01,  2.40069304e-01,\n",
       "         1.07619054e-01,  6.61072306e-01,  1.25448901e+00,\n",
       "        -1.44387704e+00],\n",
       "       [ 7.71991704e-01, -1.80174504e-01, -1.06558969e+00,\n",
       "         1.32233235e-01,  1.16492857e+00,  1.29629467e+00,\n",
       "        -6.02846727e-01, -7.79411200e-01,  1.26224504e+00,\n",
       "        -1.07379913e-01],\n",
       "       [-3.51244190e-01, -4.34988730e-01, -1.06694001e-01,\n",
       "         9.56732425e-01, -1.37890945e-02,  4.56007441e-01,\n",
       "         7.80065931e-01, -9.19143362e-01, -3.75633257e-01,\n",
       "         9.44971882e-01],\n",
       "       [ 2.31613981e+00,  9.67361621e-01,  1.67354319e+00,\n",
       "         1.33419843e+00, -9.86973729e-03,  7.48404194e-01,\n",
       "         2.23340113e+00, -6.08290911e-01,  8.06651549e-01,\n",
       "        -1.02853692e+00],\n",
       "       [ 2.00803761e+00, -1.03221082e+00, -1.91626304e+00,\n",
       "        -1.97791082e+00,  2.52331757e+00,  5.34508406e-02,\n",
       "        -7.14751869e-01,  1.35246448e+00, -1.22203055e+00,\n",
       "        -4.30202478e-01],\n",
       "       [ 6.55641704e-01,  6.01680181e-03,  6.64244601e-01,\n",
       "         5.38813702e-01,  6.75899527e-02, -7.57569845e-01,\n",
       "         4.46791059e-01, -1.25103391e+00, -1.02694449e+00,\n",
       "        -1.07783036e+00],\n",
       "       [ 1.25142258e+00, -3.15835204e-01, -6.08333687e-01,\n",
       "         7.65342122e-01, -1.49002937e+00, -1.48291664e+00,\n",
       "        -8.93521213e-01,  1.76142309e+00, -1.04953086e+00,\n",
       "         1.32052718e+00],\n",
       "       [-1.14159577e+00, -2.36308296e-01, -1.16616497e+00,\n",
       "         5.41406082e-01, -1.72549067e-01, -4.33652764e-01,\n",
       "         5.75707312e-01, -4.41227412e-01,  4.52832463e-01,\n",
       "        -5.03653483e-01],\n",
       "       [-2.82906609e+00,  1.73708194e+00,  1.35700827e+00,\n",
       "         6.65891018e-01,  1.06667044e+00, -1.62579276e-01,\n",
       "         1.07683893e+00,  1.23265012e+00,  8.88379764e-02,\n",
       "         4.42554813e-01],\n",
       "       [-9.07509293e-02,  2.23580071e+00, -2.59238162e+00,\n",
       "         1.66493471e+00, -1.30779597e+00, -1.64335476e+00,\n",
       "         3.46814169e-01, -2.75700622e-01,  1.22001603e+00,\n",
       "        -6.35528392e-01],\n",
       "       [ 6.31790245e-01,  4.20772961e-01, -1.35035354e+00,\n",
       "        -9.59520347e-01,  6.87820227e-01, -2.81004932e-01,\n",
       "        -7.96422047e-01,  1.20952475e-01,  8.38038443e-01,\n",
       "         1.45937228e+00],\n",
       "       [-3.05173199e-01, -2.26283610e+00, -3.11128012e+00,\n",
       "         2.04589320e-01,  5.92257453e-01, -2.00456261e+00,\n",
       "         9.57226204e-01,  6.96325512e-01,  1.69584030e-01,\n",
       "         1.29836494e+00],\n",
       "       [ 1.54400449e+00,  9.01363405e-04,  1.53408425e+00,\n",
       "        -6.67811395e-01, -5.62051234e-01, -2.07499553e-01,\n",
       "        -1.95804057e-01, -2.80311774e+00, -1.33554559e+00,\n",
       "        -6.46016819e-01],\n",
       "       [ 6.56583536e-01,  1.73907246e+00,  3.01088727e-02,\n",
       "         3.02669714e-01,  8.04416811e-01,  1.69264621e+00,\n",
       "         2.70118206e-01,  7.91297047e-01,  1.01260256e+00,\n",
       "         4.10332610e-01],\n",
       "       [-1.85874928e-01, -1.71596365e-01, -2.43624608e-01,\n",
       "        -1.58612875e+00, -1.12466791e+00,  1.24945312e+00,\n",
       "         1.32143580e-01, -1.89290413e+00, -1.38820425e+00,\n",
       "         6.33925858e-01],\n",
       "       [ 2.95234096e-01, -5.09242434e-01, -4.41900895e-01,\n",
       "         4.25087191e-01,  6.05411137e-01,  1.35842761e-01,\n",
       "         5.75610820e-01, -8.71410785e-01,  5.04312903e-01,\n",
       "         2.97511705e-01],\n",
       "       [ 9.27946971e-01,  4.59762916e-01, -1.42203428e+00,\n",
       "         6.19420802e-01,  7.94897901e-01,  1.36731364e+00,\n",
       "        -4.68875881e-01, -2.02127020e+00, -2.10993008e+00,\n",
       "        -4.14398863e-01],\n",
       "       [-2.14374246e+00, -1.39247386e+00, -7.68619197e-01,\n",
       "        -4.58614004e-01, -1.79757609e+00,  5.46150261e-01,\n",
       "        -1.21952002e+00, -8.20628730e-01,  2.34255659e-01,\n",
       "         1.06647918e+00],\n",
       "       [ 8.94670774e-01,  1.68040907e+00, -8.19736681e-01,\n",
       "         2.94682485e-01, -1.79278264e+00, -1.41388787e+00,\n",
       "         5.67915726e-01, -1.81346787e+00,  2.77244587e-01,\n",
       "         7.89788883e-01],\n",
       "       [ 1.57966842e-01, -1.10703731e+00,  1.10970991e+00,\n",
       "         7.14307273e-01,  1.50296953e-01, -4.98541783e-01,\n",
       "         1.54192294e+00,  5.41944047e-01, -1.92923252e+00,\n",
       "        -4.12726775e-01],\n",
       "       [-9.31370181e-01, -3.69194591e-01, -9.30778444e-01,\n",
       "        -1.27528875e+00,  1.34082783e-01, -3.00963069e-01,\n",
       "         8.72051744e-01,  1.84695296e+00,  2.24512944e-01,\n",
       "        -7.06922097e-01],\n",
       "       [ 1.87721149e+00,  6.19845014e-01, -3.77914162e-01,\n",
       "        -1.06379088e-01, -4.05291191e-01, -1.01358836e-01,\n",
       "        -4.37691263e-01, -6.95373907e-02, -8.82494419e-02,\n",
       "         1.25872056e+00],\n",
       "       [ 1.41420628e-01, -2.64638946e-01, -1.90425146e+00,\n",
       "         1.13700141e-01,  1.12865523e+00,  1.35930160e+00,\n",
       "        -1.36887176e-01, -4.10521470e-01,  6.47158200e-01,\n",
       "         8.65578032e-01],\n",
       "       [-1.25120501e+00,  6.66284366e-01,  1.47997268e+00,\n",
       "         8.15522653e-01, -1.46695497e+00,  3.67828229e-01,\n",
       "         9.06812864e-01, -4.13259491e-02,  1.49010198e-01,\n",
       "         3.14508250e-02],\n",
       "       [ 1.45696231e+00,  2.52600020e-01,  1.80029978e+00,\n",
       "         2.75953957e-01,  8.66436039e-01,  1.67242435e-01,\n",
       "         8.62433465e-02, -1.81460511e+00, -3.56365762e-01,\n",
       "        -2.13302422e-01],\n",
       "       [ 9.04513039e-01,  2.30235697e+00,  1.42675334e+00,\n",
       "         1.01295982e+00, -9.34989005e-01, -2.34008016e-01,\n",
       "         3.87509352e-01, -1.61562260e+00, -1.26019333e+00,\n",
       "        -9.75868314e-01],\n",
       "       [ 8.63950677e-01, -6.30648833e-02, -8.35835069e-01,\n",
       "        -1.57093730e+00, -8.27136423e-01, -2.08970705e-02,\n",
       "        -1.54141481e-01,  5.68524783e-01, -5.42622812e-01,\n",
       "        -1.60516756e-01],\n",
       "       [-6.13078323e-01, -1.08501180e+00, -2.81383052e-01,\n",
       "         1.18238844e+00,  6.44301223e-02, -5.67666549e-01,\n",
       "         3.71972257e-01, -7.37386052e-01, -2.12628476e-01,\n",
       "        -2.03873365e-01],\n",
       "       [-2.08620837e-01,  1.97280898e-01, -2.11510620e-01,\n",
       "         9.20184839e-02, -6.07530447e-02, -4.36815331e-02,\n",
       "        -5.31927623e-02,  7.48912322e-01, -5.15462701e-01,\n",
       "         7.54881944e-01],\n",
       "       [-7.76315941e-01,  9.20990077e-01, -1.00121835e+00,\n",
       "        -1.91222259e-01, -6.76673289e-01, -2.82788600e-01,\n",
       "         4.68649141e-01,  6.38883179e-01,  1.22243934e-01,\n",
       "         8.72474627e-01],\n",
       "       [-5.05004071e-01, -8.10585056e-01,  7.62396175e-01,\n",
       "        -1.57933165e+00, -2.07244017e-01,  2.06397970e-01,\n",
       "        -3.11647707e-01, -1.36551250e+00,  6.45210648e-01,\n",
       "         2.23338719e-01],\n",
       "       [-1.66354202e+00,  1.05302790e+00, -1.29556108e+00,\n",
       "        -4.96656676e-01,  4.21168830e-02, -1.80297023e-01,\n",
       "        -1.00941718e+00, -1.00181149e+00,  2.10683893e+00,\n",
       "        -8.55715837e-01],\n",
       "       [ 1.45534642e-01,  3.34961152e-01, -3.46465482e-02,\n",
       "         3.08305448e-01,  7.16393906e-01,  6.93452888e-01,\n",
       "         2.61950400e-01, -4.43581148e-01, -1.15294655e+00,\n",
       "        -4.21590866e-01],\n",
       "       [ 1.40101003e+00,  4.37794113e-02, -1.07272263e-01,\n",
       "         1.96915095e+00,  1.07209648e+00,  2.18651087e+00,\n",
       "        -2.31168471e+00,  2.25543943e-02, -9.69918672e-01,\n",
       "        -9.57646331e-02],\n",
       "       [ 1.06570433e-01, -1.22129326e+00,  7.26253746e-01,\n",
       "         3.09769463e-01,  2.07210942e-01,  3.04329300e-01,\n",
       "        -4.57094522e-01, -1.31200933e+00, -1.71349727e-01,\n",
       "         5.87706262e-01],\n",
       "       [-1.34071226e+00, -6.45568496e-01, -1.24741526e-01,\n",
       "        -1.01573869e+00,  4.05104563e-01,  6.26038929e-01,\n",
       "        -1.39138574e+00,  7.67202533e-01, -1.08741742e+00,\n",
       "         1.18370375e+00],\n",
       "       [-6.82786770e-01, -1.22798311e-01, -6.34760697e-01,\n",
       "         1.61551621e+00,  1.76824905e+00,  1.00371266e+00,\n",
       "         3.63154185e-01, -7.46781944e-01,  9.87878672e-01,\n",
       "        -1.10895280e-01],\n",
       "       [-1.01830771e+00,  1.31832593e+00,  9.64833805e-02,\n",
       "        -2.00364855e+00,  9.80463218e-01,  2.67027558e-01,\n",
       "         1.96716492e-01,  1.48788075e+00, -8.11863579e-01,\n",
       "         1.28052409e+00],\n",
       "       [-6.87916215e-01,  2.43430096e+00,  1.84236998e-01,\n",
       "        -1.14606678e-01,  8.38970537e-01,  4.93372637e-01,\n",
       "        -6.87302695e-01,  4.28991081e-01, -3.30433522e-01,\n",
       "         1.26707817e+00],\n",
       "       [ 4.69227238e-01, -1.08953894e+00,  1.49667181e+00,\n",
       "        -8.46827300e-01, -1.15481300e-01, -9.51615862e-01,\n",
       "        -1.10659075e+00, -4.06982022e-01,  1.23431954e+00,\n",
       "         2.55828651e+00],\n",
       "       [-1.31420281e+00,  2.33629480e+00, -1.84430761e+00,\n",
       "         4.03953040e-01,  1.41412469e+00,  5.75678387e-01,\n",
       "         1.48161697e+00,  3.56108289e-01,  1.83159556e+00,\n",
       "         6.92410436e-01],\n",
       "       [ 1.56443426e-01,  2.22283720e+00,  4.34264225e-01,\n",
       "         1.64564556e+00, -1.15159160e+00,  1.48340120e+00,\n",
       "        -4.21676398e-02,  8.68970820e-01, -2.56038427e-01,\n",
       "        -9.68799548e-01],\n",
       "       [ 9.70643241e-02,  5.43617713e-01,  3.57011616e-01,\n",
       "         2.66915951e-01, -9.89505119e-01, -7.17542874e-01,\n",
       "        -3.16124554e-01, -1.73103948e+00, -1.31294911e+00,\n",
       "        -3.75888217e-01],\n",
       "       [ 4.25581229e-01,  1.27213467e+00, -4.52066587e-01,\n",
       "        -4.86728453e-01,  2.11138891e-01,  9.96889991e-01,\n",
       "        -3.16781016e-01,  6.41316636e-01,  1.45207106e+00,\n",
       "        -1.32323935e+00],\n",
       "       [-4.16720297e-01, -2.46638821e+00,  1.19776358e+00,\n",
       "        -6.76918703e-01, -1.68471151e+00, -5.17410079e-02,\n",
       "        -4.64419500e-01,  8.77921751e-01, -1.14463299e+00,\n",
       "         2.80794551e-01],\n",
       "       [-1.05866169e+00,  6.98294773e-01,  1.38491491e+00,\n",
       "        -1.59059745e+00,  6.37870966e-01,  4.28358873e-02,\n",
       "         1.46952552e+00, -3.10521507e+00,  4.67067731e-01,\n",
       "         8.72689595e-02],\n",
       "       [ 8.72217734e-02, -4.79575203e-01,  9.36000366e-01,\n",
       "         9.70833143e-01,  6.65591102e-01, -3.42691234e-01,\n",
       "        -8.10910748e-01,  7.87893490e-01, -2.28576459e-01,\n",
       "        -7.48663134e-01],\n",
       "       [-5.83323069e-01,  2.71778694e+00,  1.17304096e+00,\n",
       "         1.09741821e+00, -6.76711077e-02,  3.97279259e-02,\n",
       "        -5.02318121e-01, -4.78032169e-01, -1.19614509e+00,\n",
       "         1.30784750e+00],\n",
       "       [ 2.30239032e-01,  2.57630200e-01, -1.43938494e-01,\n",
       "         3.55509252e-01,  8.73840346e-01,  8.54011815e-01,\n",
       "         1.12619004e-01, -8.14496888e-01, -6.93890824e-01,\n",
       "        -1.74583788e-01],\n",
       "       [-9.08820903e-01,  6.86818138e-01,  6.98466154e-01,\n",
       "        -1.13075934e+00,  4.18951714e-02, -1.02191381e+00,\n",
       "         7.66575929e-01,  1.40694888e+00,  1.27497720e+00,\n",
       "        -4.90029480e-01],\n",
       "       [-3.90486158e-01, -1.43657839e-02, -8.61622893e-01,\n",
       "         2.72245825e-01, -3.83164434e-01,  2.16106232e-01,\n",
       "         1.41039186e+00, -6.23232423e-01,  5.20757216e-01,\n",
       "        -6.51878660e-01],\n",
       "       [-1.01491196e+00, -1.26142128e-01, -3.37408119e-02,\n",
       "        -1.88092430e+00, -1.18390475e+00, -1.26834203e+00,\n",
       "        -6.08390965e-01,  9.92918480e-01, -8.46868631e-01,\n",
       "         6.52676955e-01],\n",
       "       [ 7.79966423e-02, -2.98079266e-01, -1.72467107e-01,\n",
       "        -4.66917231e-01,  1.20143198e+00,  1.26000292e+00,\n",
       "         2.91637700e-01,  3.30669542e-02,  1.06793853e+00,\n",
       "         2.84994364e+00],\n",
       "       [-6.68535378e-01, -8.55507836e-02, -1.60594391e+00,\n",
       "         1.31855964e+00,  1.72049285e+00,  1.06744551e+00,\n",
       "         5.69850512e-01,  9.86046950e-02, -8.44949167e-01,\n",
       "         2.41864774e-01]])"
      ]
     },
     "execution_count": 44,
     "metadata": {},
     "output_type": "execute_result"
    }
   ],
   "source": [
    "items_arr2"
   ]
  },
  {
   "cell_type": "markdown",
   "metadata": {},
   "source": [
    "Our first guess at filling in the matrix will simply be the matrix product:"
   ]
  },
  {
   "cell_type": "code",
   "execution_count": 45,
   "metadata": {},
   "outputs": [],
   "source": [
    "guess = users_arr2.dot(items_arr2.T)"
   ]
  },
  {
   "cell_type": "code",
   "execution_count": 46,
   "metadata": {},
   "outputs": [
    {
     "data": {
      "text/plain": [
       "True"
      ]
     },
     "execution_count": 46,
     "metadata": {},
     "output_type": "execute_result"
    }
   ],
   "source": [
    "guess.shape == ratings_arr2.shape"
   ]
  },
  {
   "cell_type": "markdown",
   "metadata": {},
   "source": [
    "Let's get a measure of error:"
   ]
  },
  {
   "cell_type": "code",
   "execution_count": 47,
   "metadata": {},
   "outputs": [
    {
     "data": {
      "text/plain": [
       "array([[ 0.52571245,  3.72234761,  2.13774926, ..., -4.91599835,\n",
       "         3.56313166,  0.01902403],\n",
       "       [ 0.43865091, -2.74523879, -2.05217977, ...,  4.01784861,\n",
       "        -1.21227392,  0.14894549],\n",
       "       [ 1.95810768,  1.86653253, -0.61249156, ...,  1.4848292 ,\n",
       "        -0.33905578, -0.87590285],\n",
       "       ...,\n",
       "       [-2.31923919, -3.6868694 ,  3.38464046, ...,  3.74399696,\n",
       "         3.64776123,  5.97132554],\n",
       "       [-3.3611196 ,  3.9221067 ,  6.43595586, ..., -3.59392207,\n",
       "         1.68512129, -3.39969919],\n",
       "       [ 2.63496248,  3.38475465,  0.69257906, ...,  0.88937176,\n",
       "         0.04162701,  6.55957347]])"
      ]
     },
     "execution_count": 47,
     "metadata": {},
     "output_type": "execute_result"
    }
   ],
   "source": [
    "ratings_arr2 - guess"
   ]
  },
  {
   "cell_type": "code",
   "execution_count": 48,
   "metadata": {},
   "outputs": [
    {
     "data": {
      "text/plain": [
       "115792.62101436341"
      ]
     },
     "execution_count": 48,
     "metadata": {},
     "output_type": "execute_result"
    }
   ],
   "source": [
    "err = (ratings_arr2 - guess)**2\n",
    "\n",
    "np.sum(err)"
   ]
  },
  {
   "cell_type": "markdown",
   "metadata": {},
   "source": [
    "Pretty terrible! But we started with random numbers and have only done one iteration. Let's see if we can do better:"
   ]
  },
  {
   "cell_type": "code",
   "execution_count": 49,
   "metadata": {},
   "outputs": [],
   "source": [
    "def als(ratings, users, items, reps=10):\n",
    "    \n",
    "    ratings_cols = ratings.T\n",
    "    for _ in range(reps):\n",
    "        new_users = []\n",
    "        for i in range(len(ratings)):\n",
    "            \n",
    "            user = LinearRegression(fit_intercept=False)\\\n",
    "            .fit(items, ratings[i]).coef_\n",
    "            new_users.append(user)\n",
    "        new_users = np.asarray(new_users)\n",
    "        \n",
    "        new_items = []\n",
    "        for i in range(len(ratings)):\n",
    "            \n",
    "            item = LinearRegression(fit_intercept=False)\\\n",
    "            .fit(new_users, ratings_cols[i]).coef_\n",
    "            new_items.append(item)\n",
    "        new_items = np.asarray(new_items)\n",
    "        \n",
    "        guess = new_users.dot(new_items.T)\n",
    "        err = 0\n",
    "        for i in range(len(ratings)):\n",
    "            for j in range(len(ratings[i])):\n",
    "                if ratings[i, j] != 0:\n",
    "                    err += (ratings[i, j] - guess[i, j])**2\n",
    "        print(err)\n",
    "        \n",
    "        items = new_items\n",
    "        \n",
    "    return new_users.dot(new_items.T)"
   ]
  },
  {
   "cell_type": "markdown",
   "metadata": {},
   "source": [
    "We should see our error decrease with more iterations:"
   ]
  },
  {
   "cell_type": "code",
   "execution_count": 50,
   "metadata": {},
   "outputs": [
    {
     "name": "stdout",
     "output_type": "stream",
     "text": [
      "8447.205902300977\n",
      "6567.174519509627\n",
      "6300.416564404081\n",
      "6193.260494106864\n",
      "6138.461291808534\n",
      "6107.216830016897\n",
      "6088.933039778992\n",
      "6078.551821329418\n",
      "6073.09458783347\n",
      "6070.676388893394\n"
     ]
    },
    {
     "data": {
      "text/plain": [
       "array([[ 6.39680659e-01,  9.66323475e-01, -4.32963499e-01,\n",
       "        -7.01806452e-01,  2.36700602e-01,  3.64361546e+00,\n",
       "         6.21691722e-01,  4.01314024e-01,  6.58846915e-02,\n",
       "         2.33850990e-01,  2.65802362e-01,  3.30895952e-01,\n",
       "         4.87491177e-01,  1.42471726e+00,  8.73727046e-01,\n",
       "         5.28683179e-01,  1.02281209e-01, -5.16379126e-01,\n",
       "         1.79986795e-01,  1.66644403e-01, -2.45481827e-01,\n",
       "        -6.78917601e-01,  1.20680572e+00,  7.39236783e-01,\n",
       "         2.67342745e-01, -4.64412575e-01,  5.22958676e-01,\n",
       "         6.40781118e-01,  2.64918999e-01,  5.96151586e-01,\n",
       "         1.02490603e+00, -8.52946638e-02,  2.01195616e-01,\n",
       "         4.31664221e-02,  7.38210476e-01,  2.07233433e-01,\n",
       "         2.51748134e-01,  7.15876478e-01,  5.01881444e-01,\n",
       "         4.05729030e-01, -7.07448910e-02, -1.65711888e-01,\n",
       "         2.97758038e-01,  4.25816619e-01, -3.45557557e-01,\n",
       "         8.26643449e-01, -6.52703284e-01,  7.96705294e-01,\n",
       "        -4.29702256e-01, -8.50621380e-02,  5.40750300e-01,\n",
       "         8.07117229e-01,  7.58252887e-02,  1.27990901e+00,\n",
       "         3.58384253e-01,  5.61878840e-01,  5.81585512e-01,\n",
       "         5.95092488e-01, -3.66136138e-01, -9.53601562e-02,\n",
       "         3.26054056e-01,  1.93741320e-01, -3.81047951e-01,\n",
       "         1.86681459e+00,  1.87901725e-02,  1.60525835e+00,\n",
       "        -2.86567611e-01, -9.14396807e-01, -7.93779091e-01,\n",
       "        -7.50829195e-01,  2.59123617e-01,  1.93149475e-01,\n",
       "         3.13958221e-01,  9.11519954e-01, -1.90531496e-01,\n",
       "         1.96912850e-01,  2.80807169e-01, -1.07074226e+00,\n",
       "        -1.58765475e-01,  6.49938365e-01,  1.58639489e-01,\n",
       "         1.95692059e-01, -2.83526446e-02,  4.44521637e-01,\n",
       "        -7.33713212e-03,  1.01225480e+00,  5.30957526e-01,\n",
       "         9.89500159e-02, -1.04541878e-01,  3.30114560e-01,\n",
       "         4.10076199e-01,  6.24734858e-01,  1.80903602e-01,\n",
       "        -1.15510913e-01, -2.05320676e-02,  1.17246779e-01,\n",
       "         8.05318721e-02, -1.57363934e-01,  4.17322557e-02,\n",
       "        -1.41735611e-01],\n",
       "       [ 2.93579926e+00,  1.64468676e-01,  1.70681498e+00,\n",
       "         4.32996734e-01,  2.72946788e-01, -7.46084126e-01,\n",
       "         5.56979651e-01,  2.13851689e+00,  1.65021521e+00,\n",
       "         9.23716470e-01, -3.66812898e-03,  5.08187448e-01,\n",
       "         1.74951197e-01,  9.37864246e-01,  9.91533689e-02,\n",
       "         1.88913899e-01,  8.15525066e-01,  9.37617473e-01,\n",
       "         3.35828583e-01, -1.92642799e-01, -1.57062945e-01,\n",
       "         3.80465017e-01,  2.27289591e+00, -7.14536106e-02,\n",
       "        -1.74616587e-01,  3.91388636e-01,  6.04882902e-01,\n",
       "         1.40793639e+00, -3.89785793e-02,  5.89036187e-01,\n",
       "         1.15327142e+00,  9.09086580e-01,  6.51880717e-01,\n",
       "         3.16268515e-01, -2.13385887e-01,  2.45185897e-01,\n",
       "         2.25414127e-01,  3.47424939e-01,  2.31356071e-01,\n",
       "         3.91156886e-01,  2.78621907e-01,  3.82765653e-01,\n",
       "         2.78079739e-01,  7.34810986e-01,  3.10775671e-01,\n",
       "         5.70514750e-01,  6.13617069e-01, -3.28095044e-02,\n",
       "         2.44422039e-01,  6.58084243e-01, -2.00231570e-01,\n",
       "         4.26481812e-01,  4.02669931e-01,  6.15537173e-01,\n",
       "         4.69463430e-01,  3.29862264e-01,  3.58560109e-01,\n",
       "         6.23555444e-01,  6.55434311e-01,  7.24392042e-01,\n",
       "         4.85771264e-01,  1.32880340e+00, -5.70668783e-02,\n",
       "         1.37934681e+00,  2.13670315e-01,  4.55919858e-01,\n",
       "         2.84645294e+00,  9.58830277e-01,  1.41021735e+00,\n",
       "         3.11371186e-01,  8.38043659e-01,  1.07787444e-01,\n",
       "         2.65964708e-01,  4.25806531e-01,  4.20781166e-01,\n",
       "         4.67293721e-01,  2.16723049e-01, -2.79212397e-02,\n",
       "         1.63474307e-01,  2.94454001e-01, -1.67819046e-01,\n",
       "         3.00644055e-01,  7.70174578e-01, -2.20970261e-01,\n",
       "        -2.26036061e-01,  1.44209322e+00,  8.04870270e-01,\n",
       "         3.82857350e-01,  1.04260694e-01,  4.14861269e-01,\n",
       "        -5.70222486e-02,  1.03672361e+00, -5.64454655e-02,\n",
       "        -2.94131733e-01,  1.43589972e+00,  3.05693397e-02,\n",
       "         4.83123558e-01,  1.04915352e+00,  1.29117701e-01,\n",
       "         8.85082345e-01],\n",
       "       [ 6.70185671e+00,  2.90165402e+00,  5.60134025e-01,\n",
       "         2.22878632e+00,  5.46829782e-01, -3.46829699e-01,\n",
       "        -2.09917375e-01,  6.66283621e-01, -1.10911138e+00,\n",
       "         5.19217011e+00,  7.05317982e-01,  1.05013522e-01,\n",
       "         1.61302748e-01,  1.87726313e-01, -6.26365351e-01,\n",
       "         5.18897964e-02,  2.08922626e+00,  6.67328792e-01,\n",
       "         9.51074001e-01, -1.73603278e-01, -8.70905343e-02,\n",
       "         1.83566162e-02, -7.64280366e-02,  4.83861721e-02,\n",
       "         4.48285218e-02,  7.51959727e-01, -6.43645487e-01,\n",
       "        -3.56043322e-01, -9.87853625e-02, -1.08140478e-01,\n",
       "        -2.87903629e-01,  7.50224653e-01, -2.68353300e-01,\n",
       "         1.22858652e-02, -5.26968100e-01,  1.11008821e+00,\n",
       "         3.00786786e-01,  1.21093743e+00, -1.43555291e-01,\n",
       "         4.22081619e-01,  3.80989650e-01,  2.39962302e-01,\n",
       "         6.52595101e-01,  4.27051483e-01,  1.31215556e+00,\n",
       "         7.71373664e-02,  1.09329198e+00,  6.85781439e-01,\n",
       "         2.30839706e-01,  1.68819723e-01,  3.80965838e+00,\n",
       "        -5.84642101e-01,  4.46794832e-01,  7.81445846e-01,\n",
       "         3.53846755e-01,  6.27442511e-01, -3.69435324e-01,\n",
       "        -7.16122718e-01,  1.67236911e+00,  1.54589272e+00,\n",
       "         5.02019221e-01, -9.54193444e-01, -6.00756417e-01,\n",
       "        -5.32383979e-02, -2.23066865e-01,  7.71872600e-01,\n",
       "         1.06986004e+00,  5.17195156e-01,  1.37234105e+00,\n",
       "         2.38506491e+00, -1.96240877e-01,  4.23232909e-01,\n",
       "        -1.20628011e-01, -4.72991297e-01,  2.59255567e+00,\n",
       "         6.50857205e-01, -1.44914819e-01,  3.15893443e-01,\n",
       "         2.38687307e-01, -1.10402565e+00,  1.19277203e+00,\n",
       "         1.35682310e+00,  1.50608195e-01,  2.08661974e-01,\n",
       "         1.46890872e-01,  1.39155510e+00,  1.12368395e+00,\n",
       "         1.16510684e-01,  2.56382548e-01,  3.63268476e+00,\n",
       "         2.88558557e-01,  2.60100958e-01,  1.08316217e+00,\n",
       "         3.27315491e-01, -3.32468083e-02,  4.47519844e-01,\n",
       "         8.34677599e-01,  9.73760754e-03,  8.40863832e-01,\n",
       "         7.81240126e-01],\n",
       "       [ 3.77314112e-01,  5.84413971e-01,  2.85387342e+00,\n",
       "         3.66317630e+00,  2.49428987e+00, -2.93137971e-01,\n",
       "         3.91373261e+00,  3.19384652e+00,  1.87014018e+00,\n",
       "         8.27736895e-01,  7.82423980e-02,  3.10622606e-01,\n",
       "         7.61042066e-01, -2.46861387e-01,  6.71296346e-01,\n",
       "         1.83631004e-01, -2.96016106e-01,  2.46135347e-01,\n",
       "        -2.41119501e-01, -3.16843743e-01,  7.03422117e-01,\n",
       "        -1.50197507e-01,  5.66920458e-01, -1.46025598e-01,\n",
       "         6.01193989e-02, -3.60375002e-01,  9.01547192e-01,\n",
       "         3.79769259e-01, -2.48940615e-01,  2.56975834e-01,\n",
       "         2.58271626e-01,  3.76055057e-01, -9.28105056e-03,\n",
       "        -1.28106487e-01,  4.13229672e-01,  4.96822336e-02,\n",
       "        -8.59114735e-02,  2.39926329e-01,  2.04385403e-01,\n",
       "         2.03576078e-01, -2.97860566e-01,  3.05916527e-01,\n",
       "         1.83482048e-01, -1.87934960e-01, -1.59347328e-01,\n",
       "         5.48108876e-01, -1.44364575e-01,  3.46053295e-02,\n",
       "        -5.20252183e-03,  7.22509506e-01, -6.02675694e-01,\n",
       "        -1.06341085e-01,  3.03484900e-01,  1.14505729e+00,\n",
       "         4.38224828e-01,  7.14532928e-01,  2.75949886e-01,\n",
       "         9.30972100e-01,  7.50177964e-01, -3.77482962e-01,\n",
       "         3.68067081e-01,  3.53518004e-01,  8.54437331e-01,\n",
       "        -4.44803856e-03,  1.01699123e+00, -9.16053077e-02,\n",
       "        -3.08935017e-01,  5.79362772e-01,  5.23978402e-01,\n",
       "         6.39192015e-02, -3.76630501e-01,  5.76147554e-01,\n",
       "         1.37682838e+00, -6.37771923e-01,  1.61948464e-01,\n",
       "        -2.47778694e-01,  9.91692339e-01,  1.87704948e-01,\n",
       "         2.33670206e-01,  9.84541699e-01, -6.08225035e-01,\n",
       "         2.71997104e-01,  2.28824936e-01, -7.92117027e-02,\n",
       "         5.54437316e-01,  1.33974806e-01, -6.57625232e-02,\n",
       "         2.78399202e-01, -2.27768572e-01, -1.44287703e+00,\n",
       "         4.87645951e-01,  9.02192665e-01,  6.38210836e-01,\n",
       "         4.93480767e-01, -2.53133315e-01,  8.52947891e-02,\n",
       "         5.47085097e-01,  2.71876181e-01,  6.90497515e-01,\n",
       "        -2.13305701e-01],\n",
       "       [ 1.98515871e-01,  3.04647689e-01,  5.01947515e+00,\n",
       "         1.02641695e+00,  3.83702053e+00,  1.32857933e+00,\n",
       "         5.48868426e-01,  1.36157714e+00, -4.05982534e-01,\n",
       "        -1.59743530e-01,  1.59516376e-01,  1.03317739e-01,\n",
       "         7.03644672e-01,  3.97494603e-01, -1.68163133e-01,\n",
       "         2.47591939e-01, -1.10148130e-01, -2.74228114e-01,\n",
       "         4.95018103e-02,  5.40167212e-01,  3.63639262e-01,\n",
       "         9.42653874e-01,  3.77858385e-01,  4.64756804e-01,\n",
       "         2.21406458e-01,  1.57128492e-01,  3.61964022e-01,\n",
       "         4.08756590e-01,  1.01707209e-01, -2.30655857e-01,\n",
       "         5.89274093e-01,  2.63190313e-02,  1.05794585e-01,\n",
       "         4.01170560e-01,  7.34455228e-01,  2.87963187e-01,\n",
       "         3.01965240e-01,  6.77881987e-01,  2.22464821e-01,\n",
       "         2.77340822e-01,  2.72433809e-01,  1.66791883e-01,\n",
       "         1.48433999e-01,  1.87814390e-01, -1.55958859e-01,\n",
       "         6.15437932e-01,  6.50453053e-01,  5.22346716e-02,\n",
       "         2.98545735e-01,  2.58004888e-01,  7.94941732e-01,\n",
       "         4.48033821e-01, -3.50286647e-01,  8.29241694e-01,\n",
       "        -1.91346235e-01,  1.99018775e+00,  1.88931991e-01,\n",
       "         8.25870718e-01,  1.06186694e+00, -2.89081705e-01,\n",
       "         1.31118883e+00,  4.63571659e-01,  4.81087840e-01,\n",
       "        -1.21525626e-01,  5.41071740e-01,  5.58162817e-01,\n",
       "        -4.36383692e-02,  7.83796510e-01,  3.03565902e-01,\n",
       "         3.98599344e-01, -1.38974124e-01,  7.93441051e-02,\n",
       "         8.89328938e-01,  6.77764475e-01, -1.72594680e-01,\n",
       "         6.12919473e-03, -1.73356515e-01,  1.76919199e-01,\n",
       "         9.29253395e-02,  4.77680893e-01,  6.54382019e-02,\n",
       "         9.91148154e-02, -2.36890021e-01, -3.12856572e-01,\n",
       "         3.19175207e-01,  9.33089583e-01, -1.66795737e-01,\n",
       "         1.01778582e-01,  1.81819435e-01, -1.05141264e+00,\n",
       "         2.76809746e-01,  1.32232791e-01,  5.93340987e-01,\n",
       "         1.36600043e-01, -2.57811217e-01, -9.05514506e-02,\n",
       "        -4.98651120e-01, -5.53273126e-02,  7.86827976e-01,\n",
       "        -9.21893376e-02]])"
      ]
     },
     "execution_count": 50,
     "metadata": {},
     "output_type": "execute_result"
    }
   ],
   "source": [
    "als(ratings_arr2, users_arr2, items_arr2)[:5, :]"
   ]
  },
  {
   "cell_type": "markdown",
   "metadata": {},
   "source": [
    "#### ALS in `pyspark`\n",
    "\n",
    "We'll talk about Big Data and Spark soon, but I'll just note here that Spark has a recommendation submodule inside its ml (machine learning) module. Source code for `pyspark`'s version [here](https://spark.apache.org/docs/latest/api/python/_modules/pyspark/ml/recommendation.html)."
   ]
  }
 ],
 "metadata": {
  "kernelspec": {
   "display_name": "Python 3",
   "language": "python",
   "name": "python3"
  },
  "language_info": {
   "codemirror_mode": {
    "name": "ipython",
    "version": 3
   },
   "file_extension": ".py",
   "mimetype": "text/x-python",
   "name": "python",
   "nbconvert_exporter": "python",
   "pygments_lexer": "ipython3",
   "version": "3.8.5"
  },
  "toc": {
   "base_numbering": 1,
   "nav_menu": {},
   "number_sections": true,
   "sideBar": true,
   "skip_h1_title": false,
   "title_cell": "Table of Contents",
   "title_sidebar": "Contents",
   "toc_cell": false,
   "toc_position": {},
   "toc_section_display": true,
   "toc_window_display": false
  },
  "varInspector": {
   "cols": {
    "lenName": 16,
    "lenType": 16,
    "lenVar": 40
   },
   "kernels_config": {
    "python": {
     "delete_cmd_postfix": "",
     "delete_cmd_prefix": "del ",
     "library": "var_list.py",
     "varRefreshCmd": "print(var_dic_list())"
    },
    "r": {
     "delete_cmd_postfix": ") ",
     "delete_cmd_prefix": "rm(",
     "library": "var_list.r",
     "varRefreshCmd": "cat(var_dic_list()) "
    }
   },
   "types_to_exclude": [
    "module",
    "function",
    "builtin_function_or_method",
    "instance",
    "_Feature"
   ],
   "window_display": true
  }
 },
 "nbformat": 4,
 "nbformat_minor": 2
}
