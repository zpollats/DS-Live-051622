{
 "cells": [
  {
   "cell_type": "markdown",
   "metadata": {
    "toc": true
   },
   "source": [
    "<h1>Table of Contents<span class=\"tocSkip\"></span></h1>\n",
    "<div class=\"toc\"><ul class=\"toc-item\"><li><span><a href=\"#Objectives\" data-toc-modified-id=\"Objectives-1\"><span class=\"toc-item-num\">1&nbsp;&nbsp;</span>Objectives</a></span></li><li><span><a href=\"#Example-Together\" data-toc-modified-id=\"Example-Together-2\"><span class=\"toc-item-num\">2&nbsp;&nbsp;</span>Example Together</a></span><ul class=\"toc-item\"><li><span><a href=\"#Question\" data-toc-modified-id=\"Question-2.1\"><span class=\"toc-item-num\">2.1&nbsp;&nbsp;</span>Question</a></span></li><li><span><a href=\"#Considerations\" data-toc-modified-id=\"Considerations-2.2\"><span class=\"toc-item-num\">2.2&nbsp;&nbsp;</span>Considerations</a></span></li><li><span><a href=\"#Loading-the-Data\" data-toc-modified-id=\"Loading-the-Data-2.3\"><span class=\"toc-item-num\">2.3&nbsp;&nbsp;</span>Loading the Data</a></span></li><li><span><a href=\"#Some-Exploration-to-Better-Understand-our-Data\" data-toc-modified-id=\"Some-Exploration-to-Better-Understand-our-Data-2.4\"><span class=\"toc-item-num\">2.4&nbsp;&nbsp;</span>Some Exploration to Better Understand our Data</a></span></li><li><span><a href=\"#Experimental-Setup\" data-toc-modified-id=\"Experimental-Setup-2.5\"><span class=\"toc-item-num\">2.5&nbsp;&nbsp;</span>Experimental Setup</a></span><ul class=\"toc-item\"><li><span><a href=\"#What-Test-Would-Make-Sense?\" data-toc-modified-id=\"What-Test-Would-Make-Sense?-2.5.1\"><span class=\"toc-item-num\">2.5.1&nbsp;&nbsp;</span>What Test Would Make Sense?</a></span></li><li><span><a href=\"#The-Hypotheses\" data-toc-modified-id=\"The-Hypotheses-2.5.2\"><span class=\"toc-item-num\">2.5.2&nbsp;&nbsp;</span>The Hypotheses</a></span></li><li><span><a href=\"#Setting-a-Threshold\" data-toc-modified-id=\"Setting-a-Threshold-2.5.3\"><span class=\"toc-item-num\">2.5.3&nbsp;&nbsp;</span>Setting a Threshold</a></span></li></ul></li><li><span><a href=\"#$\\chi^2$-Test\" data-toc-modified-id=\"$\\chi^2$-Test-2.6\"><span class=\"toc-item-num\">2.6&nbsp;&nbsp;</span>$\\chi^2$ Test</a></span><ul class=\"toc-item\"><li><span><a href=\"#Setup-the-Data\" data-toc-modified-id=\"Setup-the-Data-2.6.1\"><span class=\"toc-item-num\">2.6.1&nbsp;&nbsp;</span>Setup the Data</a></span></li><li><span><a href=\"#Calculation\" data-toc-modified-id=\"Calculation-2.6.2\"><span class=\"toc-item-num\">2.6.2&nbsp;&nbsp;</span>Calculation</a></span></li></ul></li><li><span><a href=\"#Interpretation\" data-toc-modified-id=\"Interpretation-2.7\"><span class=\"toc-item-num\">2.7&nbsp;&nbsp;</span>Interpretation</a></span></li></ul></li><li><span><a href=\"#Exercise\" data-toc-modified-id=\"Exercise-3\"><span class=\"toc-item-num\">3&nbsp;&nbsp;</span>Exercise</a></span></li></ul></div>"
   ]
  },
  {
   "cell_type": "code",
   "execution_count": 1,
   "metadata": {
    "_cell_guid": "b1076dfc-b9ad-4769-8c92-a6c4dae69d19",
    "_uuid": "8f2839f25d086af736a60e9eeb907d3b93b6e0e5"
   },
   "outputs": [],
   "source": [
    "import numpy as np\n",
    "import pandas as pd\n",
    "\n",
    "from scipy import stats\n",
    "import seaborn as sns"
   ]
  },
  {
   "cell_type": "markdown",
   "metadata": {
    "heading_collapsed": true
   },
   "source": [
    "# Objectives"
   ]
  },
  {
   "cell_type": "markdown",
   "metadata": {
    "hidden": true
   },
   "source": [
    "- Conduct an A/B test in Python\n",
    "- Interpret the results of the A/B tests for a stakeholder"
   ]
  },
  {
   "cell_type": "markdown",
   "metadata": {
    "heading_collapsed": true
   },
   "source": [
    "# Example Together"
   ]
  },
  {
   "cell_type": "markdown",
   "metadata": {
    "heading_collapsed": true,
    "hidden": true
   },
   "source": [
    "## Question"
   ]
  },
  {
   "cell_type": "markdown",
   "metadata": {
    "hidden": true
   },
   "source": [
    "We have data about whether customers completed sales transactions, segregated by the type of ad banners to which the customers were exposed.\n",
    "\n",
    "The question we want to answer is whether there was any difference in sales \"conversions\" between desktop customers who saw the sneakers banner and desktop customers who saw the accessories banner in the month of May 2019."
   ]
  },
  {
   "cell_type": "markdown",
   "metadata": {
    "heading_collapsed": true,
    "hidden": true
   },
   "source": [
    "## Considerations"
   ]
  },
  {
   "cell_type": "markdown",
   "metadata": {
    "hidden": true
   },
   "source": [
    "What would we need to consider when designing our experiment?"
   ]
  },
  {
   "cell_type": "markdown",
   "metadata": {
    "hidden": true
   },
   "source": [
    "Might include:\n",
    "\n",
    "- Who is it that we're including in our test?\n",
    "- How big of an effect would make it \"worth\" us seeing?\n",
    "    - This can affect sample size\n",
    "    - This can give context of a statistically significant result\n",
    "- Other biases or \"gotchas\""
   ]
  },
  {
   "cell_type": "markdown",
   "metadata": {
    "heading_collapsed": true,
    "hidden": true
   },
   "source": [
    "## Loading the Data"
   ]
  },
  {
   "cell_type": "markdown",
   "metadata": {
    "hidden": true
   },
   "source": [
    "First let's download the data from [kaggle](https://www.kaggle.com/podsyp/how-to-do-product-analytics) via the release page of this repo: https://github.com/flatiron-school/ds-ab_testing/releases \n",
    "\n",
    "The code below will load it into our DataFrame:"
   ]
  },
  {
   "cell_type": "code",
   "execution_count": 2,
   "metadata": {
    "_cell_guid": "79c7e3d0-c299-4dcb-8224-4455121ee9b0",
    "_uuid": "d629ff2d2480ee46fbb7e2d37f6b5fab8052498a",
    "hidden": true
   },
   "outputs": [],
   "source": [
    "# This will download the data from online so it can take\n",
    "# some time (but relatively small download)\n",
    "\n",
    "df = pd.read_csv('https://github.com/flatiron-school/ds-ab_testing/\\\n",
    "releases/download/v1.2/products_small.csv')"
   ]
  },
  {
   "cell_type": "markdown",
   "metadata": {
    "hidden": true
   },
   "source": [
    "> Let's take a look while we're at it"
   ]
  },
  {
   "cell_type": "code",
   "execution_count": 3,
   "metadata": {
    "hidden": true
   },
   "outputs": [
    {
     "data": {
      "text/html": [
       "<div>\n",
       "<style scoped>\n",
       "    .dataframe tbody tr th:only-of-type {\n",
       "        vertical-align: middle;\n",
       "    }\n",
       "\n",
       "    .dataframe tbody tr th {\n",
       "        vertical-align: top;\n",
       "    }\n",
       "\n",
       "    .dataframe thead th {\n",
       "        text-align: right;\n",
       "    }\n",
       "</style>\n",
       "<table border=\"1\" class=\"dataframe\">\n",
       "  <thead>\n",
       "    <tr style=\"text-align: right;\">\n",
       "      <th></th>\n",
       "      <th>Unnamed: 0</th>\n",
       "      <th>order_id</th>\n",
       "      <th>user_id</th>\n",
       "      <th>page_id</th>\n",
       "      <th>product</th>\n",
       "      <th>site_version</th>\n",
       "      <th>time</th>\n",
       "      <th>title</th>\n",
       "      <th>target</th>\n",
       "    </tr>\n",
       "  </thead>\n",
       "  <tbody>\n",
       "    <tr>\n",
       "      <th>0</th>\n",
       "      <td>4122928</td>\n",
       "      <td>3e6c5e89fdddcaee0eed210ec2c9cadf</td>\n",
       "      <td>90d58d967eb72656e86059ec6f208092</td>\n",
       "      <td>2fdc16a09e0016555dd4da4a3fe84414</td>\n",
       "      <td>accessories</td>\n",
       "      <td>desktop</td>\n",
       "      <td>2019-03-06 08:42:47</td>\n",
       "      <td>banner_show</td>\n",
       "      <td>0</td>\n",
       "    </tr>\n",
       "    <tr>\n",
       "      <th>1</th>\n",
       "      <td>564306</td>\n",
       "      <td>feed6203517d3abf6aab13761633174b</td>\n",
       "      <td>08703dab1f004eabba25aacb7f0e5484</td>\n",
       "      <td>6b0a902b9b73d5a158d0119d6feb38ac</td>\n",
       "      <td>sneakers</td>\n",
       "      <td>mobile</td>\n",
       "      <td>2019-04-19 18:30:45</td>\n",
       "      <td>banner_show</td>\n",
       "      <td>0</td>\n",
       "    </tr>\n",
       "    <tr>\n",
       "      <th>2</th>\n",
       "      <td>1872289</td>\n",
       "      <td>e33d5d7941edc281646aa37763729771</td>\n",
       "      <td>bdf1d25697e21419901c94fabdafad15</td>\n",
       "      <td>9ddb7315c4357929931b48f2b3d11c62</td>\n",
       "      <td>company</td>\n",
       "      <td>mobile</td>\n",
       "      <td>2019-01-20 17:20:10</td>\n",
       "      <td>banner_show</td>\n",
       "      <td>0</td>\n",
       "    </tr>\n",
       "    <tr>\n",
       "      <th>3</th>\n",
       "      <td>3616779</td>\n",
       "      <td>7c4caa8d508fa7c3bbc25f35cdd9168a</td>\n",
       "      <td>8d2f23a732c9527d95678088a3bac122</td>\n",
       "      <td>1f86cd0bea31d54a5b511b42fd19401a</td>\n",
       "      <td>sneakers</td>\n",
       "      <td>mobile</td>\n",
       "      <td>2019-02-20 09:38:32</td>\n",
       "      <td>banner_show</td>\n",
       "      <td>0</td>\n",
       "    </tr>\n",
       "    <tr>\n",
       "      <th>4</th>\n",
       "      <td>5871482</td>\n",
       "      <td>12874b29bde8bbd43fb2b95735caf9e6</td>\n",
       "      <td>5a22604f8f31ae98ee1211ece3a02004</td>\n",
       "      <td>b533f7e2003418c63fd71471264c559a</td>\n",
       "      <td>sneakers</td>\n",
       "      <td>mobile</td>\n",
       "      <td>2019-04-24 09:19:02</td>\n",
       "      <td>banner_show</td>\n",
       "      <td>0</td>\n",
       "    </tr>\n",
       "  </tbody>\n",
       "</table>\n",
       "</div>"
      ],
      "text/plain": [
       "   Unnamed: 0                          order_id  \\\n",
       "0     4122928  3e6c5e89fdddcaee0eed210ec2c9cadf   \n",
       "1      564306  feed6203517d3abf6aab13761633174b   \n",
       "2     1872289  e33d5d7941edc281646aa37763729771   \n",
       "3     3616779  7c4caa8d508fa7c3bbc25f35cdd9168a   \n",
       "4     5871482  12874b29bde8bbd43fb2b95735caf9e6   \n",
       "\n",
       "                            user_id                           page_id  \\\n",
       "0  90d58d967eb72656e86059ec6f208092  2fdc16a09e0016555dd4da4a3fe84414   \n",
       "1  08703dab1f004eabba25aacb7f0e5484  6b0a902b9b73d5a158d0119d6feb38ac   \n",
       "2  bdf1d25697e21419901c94fabdafad15  9ddb7315c4357929931b48f2b3d11c62   \n",
       "3  8d2f23a732c9527d95678088a3bac122  1f86cd0bea31d54a5b511b42fd19401a   \n",
       "4  5a22604f8f31ae98ee1211ece3a02004  b533f7e2003418c63fd71471264c559a   \n",
       "\n",
       "       product site_version                 time        title  target  \n",
       "0  accessories      desktop  2019-03-06 08:42:47  banner_show       0  \n",
       "1     sneakers       mobile  2019-04-19 18:30:45  banner_show       0  \n",
       "2      company       mobile  2019-01-20 17:20:10  banner_show       0  \n",
       "3     sneakers       mobile  2019-02-20 09:38:32  banner_show       0  \n",
       "4     sneakers       mobile  2019-04-24 09:19:02  banner_show       0  "
      ]
     },
     "execution_count": 3,
     "metadata": {},
     "output_type": "execute_result"
    }
   ],
   "source": [
    "df.head()"
   ]
  },
  {
   "cell_type": "code",
   "execution_count": 4,
   "metadata": {
    "hidden": true,
    "scrolled": true
   },
   "outputs": [
    {
     "name": "stdout",
     "output_type": "stream",
     "text": [
      "<class 'pandas.core.frame.DataFrame'>\n",
      "RangeIndex: 1000000 entries, 0 to 999999\n",
      "Data columns (total 9 columns):\n",
      " #   Column        Non-Null Count    Dtype \n",
      "---  ------        --------------    ----- \n",
      " 0   Unnamed: 0    1000000 non-null  int64 \n",
      " 1   order_id      1000000 non-null  object\n",
      " 2   user_id       1000000 non-null  object\n",
      " 3   page_id       1000000 non-null  object\n",
      " 4   product       1000000 non-null  object\n",
      " 5   site_version  1000000 non-null  object\n",
      " 6   time          1000000 non-null  object\n",
      " 7   title         1000000 non-null  object\n",
      " 8   target        1000000 non-null  int64 \n",
      "dtypes: int64(2), object(7)\n",
      "memory usage: 68.7+ MB\n"
     ]
    }
   ],
   "source": [
    "df.info()"
   ]
  },
  {
   "cell_type": "markdown",
   "metadata": {
    "heading_collapsed": true,
    "hidden": true
   },
   "source": [
    "## Some Exploration to Better Understand our Data"
   ]
  },
  {
   "cell_type": "markdown",
   "metadata": {
    "hidden": true
   },
   "source": [
    "Lets's look at the different banner types:"
   ]
  },
  {
   "cell_type": "code",
   "execution_count": 5,
   "metadata": {
    "hidden": true,
    "scrolled": true
   },
   "outputs": [
    {
     "data": {
      "text/plain": [
       "clothes             210996\n",
       "company             203020\n",
       "sneakers            201298\n",
       "sports_nutrition    193200\n",
       "accessories         191486\n",
       "Name: product, dtype: int64"
      ]
     },
     "execution_count": 5,
     "metadata": {},
     "output_type": "execute_result"
    }
   ],
   "source": [
    "df['product'].value_counts()"
   ]
  },
  {
   "cell_type": "code",
   "execution_count": 6,
   "metadata": {
    "hidden": true
   },
   "outputs": [
    {
     "data": {
      "text/plain": [
       "product           target\n",
       "accessories       0         186127\n",
       "                  1           5359\n",
       "clothes           0         197720\n",
       "                  1          13276\n",
       "company           0         203020\n",
       "sneakers          0         193375\n",
       "                  1           7923\n",
       "sports_nutrition  0         190363\n",
       "                  1           2837\n",
       "Name: target, dtype: int64"
      ]
     },
     "execution_count": 6,
     "metadata": {},
     "output_type": "execute_result"
    }
   ],
   "source": [
    "df.groupby('product')['target'].value_counts()"
   ]
  },
  {
   "cell_type": "markdown",
   "metadata": {
    "hidden": true
   },
   "source": [
    "Let's look at the range of time-stamps on these data:"
   ]
  },
  {
   "cell_type": "code",
   "execution_count": 7,
   "metadata": {
    "hidden": true
   },
   "outputs": [
    {
     "data": {
      "text/plain": [
       "'2019-01-01 00:00:25'"
      ]
     },
     "execution_count": 7,
     "metadata": {},
     "output_type": "execute_result"
    }
   ],
   "source": [
    "df['time'].min()"
   ]
  },
  {
   "cell_type": "code",
   "execution_count": 8,
   "metadata": {
    "hidden": true
   },
   "outputs": [
    {
     "data": {
      "text/plain": [
       "'2019-05-31 23:59:21'"
      ]
     },
     "execution_count": 8,
     "metadata": {},
     "output_type": "execute_result"
    }
   ],
   "source": [
    "df['time'].max()"
   ]
  },
  {
   "cell_type": "markdown",
   "metadata": {
    "hidden": true
   },
   "source": [
    "Let's check the counts of the different site_version values:"
   ]
  },
  {
   "cell_type": "code",
   "execution_count": 9,
   "metadata": {
    "hidden": true,
    "scrolled": true
   },
   "outputs": [
    {
     "data": {
      "text/plain": [
       "mobile     718521\n",
       "desktop    281479\n",
       "Name: site_version, dtype: int64"
      ]
     },
     "execution_count": 9,
     "metadata": {},
     "output_type": "execute_result"
    }
   ],
   "source": [
    "df['site_version'].value_counts()"
   ]
  },
  {
   "cell_type": "code",
   "execution_count": 10,
   "metadata": {
    "hidden": true
   },
   "outputs": [
    {
     "data": {
      "text/plain": [
       "banner_show     872275\n",
       "banner_click     98330\n",
       "order            29395\n",
       "Name: title, dtype: int64"
      ]
     },
     "execution_count": 10,
     "metadata": {},
     "output_type": "execute_result"
    }
   ],
   "source": [
    "df['title'].value_counts()"
   ]
  },
  {
   "cell_type": "code",
   "execution_count": 11,
   "metadata": {},
   "outputs": [
    {
     "data": {
      "text/plain": [
       "(29395, 29395)"
      ]
     },
     "execution_count": 11,
     "metadata": {},
     "output_type": "execute_result"
    }
   ],
   "source": [
    "len(df[df['title'] == 'order']), sum(df['target'])"
   ]
  },
  {
   "cell_type": "code",
   "execution_count": 12,
   "metadata": {
    "hidden": true
   },
   "outputs": [
    {
     "data": {
      "text/html": [
       "<div>\n",
       "<style scoped>\n",
       "    .dataframe tbody tr th:only-of-type {\n",
       "        vertical-align: middle;\n",
       "    }\n",
       "\n",
       "    .dataframe tbody tr th {\n",
       "        vertical-align: top;\n",
       "    }\n",
       "\n",
       "    .dataframe thead th {\n",
       "        text-align: right;\n",
       "    }\n",
       "</style>\n",
       "<table border=\"1\" class=\"dataframe\">\n",
       "  <thead>\n",
       "    <tr style=\"text-align: right;\">\n",
       "      <th></th>\n",
       "      <th>target</th>\n",
       "    </tr>\n",
       "    <tr>\n",
       "      <th>title</th>\n",
       "      <th></th>\n",
       "    </tr>\n",
       "  </thead>\n",
       "  <tbody>\n",
       "    <tr>\n",
       "      <th>banner_click</th>\n",
       "      <td>0</td>\n",
       "    </tr>\n",
       "    <tr>\n",
       "      <th>banner_show</th>\n",
       "      <td>0</td>\n",
       "    </tr>\n",
       "    <tr>\n",
       "      <th>order</th>\n",
       "      <td>1</td>\n",
       "    </tr>\n",
       "  </tbody>\n",
       "</table>\n",
       "</div>"
      ],
      "text/plain": [
       "              target\n",
       "title               \n",
       "banner_click       0\n",
       "banner_show        0\n",
       "order              1"
      ]
     },
     "execution_count": 12,
     "metadata": {},
     "output_type": "execute_result"
    }
   ],
   "source": [
    "df.groupby('title').agg({'target': 'mean'})"
   ]
  },
  {
   "cell_type": "markdown",
   "metadata": {
    "heading_collapsed": true,
    "hidden": true
   },
   "source": [
    "## Experimental Setup"
   ]
  },
  {
   "cell_type": "markdown",
   "metadata": {
    "hidden": true
   },
   "source": [
    "We need to filter by site_version, time, and product:"
   ]
  },
  {
   "cell_type": "code",
   "execution_count": 13,
   "metadata": {
    "hidden": true
   },
   "outputs": [],
   "source": [
    "df_AB = df[(df['site_version'] == 'desktop') &\n",
    "           (df['time'] >= '2019-05-01') &\n",
    "           ((df['product'] == 'accessories') | (df['product'] == 'sneakers'))]\\\n",
    ".reset_index(drop=True)"
   ]
  },
  {
   "cell_type": "code",
   "execution_count": 14,
   "metadata": {
    "hidden": true,
    "scrolled": true
   },
   "outputs": [
    {
     "data": {
      "text/html": [
       "<div>\n",
       "<style scoped>\n",
       "    .dataframe tbody tr th:only-of-type {\n",
       "        vertical-align: middle;\n",
       "    }\n",
       "\n",
       "    .dataframe tbody tr th {\n",
       "        vertical-align: top;\n",
       "    }\n",
       "\n",
       "    .dataframe thead th {\n",
       "        text-align: right;\n",
       "    }\n",
       "</style>\n",
       "<table border=\"1\" class=\"dataframe\">\n",
       "  <thead>\n",
       "    <tr style=\"text-align: right;\">\n",
       "      <th></th>\n",
       "      <th>Unnamed: 0</th>\n",
       "      <th>order_id</th>\n",
       "      <th>user_id</th>\n",
       "      <th>page_id</th>\n",
       "      <th>product</th>\n",
       "      <th>site_version</th>\n",
       "      <th>time</th>\n",
       "      <th>title</th>\n",
       "      <th>target</th>\n",
       "    </tr>\n",
       "  </thead>\n",
       "  <tbody>\n",
       "    <tr>\n",
       "      <th>25967</th>\n",
       "      <td>5738290</td>\n",
       "      <td>ecfe9da2dbea255f05b2f526a4c663a7</td>\n",
       "      <td>cd7598ba5798ad6bd3f5a667ae4c217a</td>\n",
       "      <td>644ad50dd900d6735d8ceb15b71d50f8</td>\n",
       "      <td>accessories</td>\n",
       "      <td>desktop</td>\n",
       "      <td>2019-05-01 23:01:05</td>\n",
       "      <td>banner_show</td>\n",
       "      <td>0</td>\n",
       "    </tr>\n",
       "    <tr>\n",
       "      <th>25968</th>\n",
       "      <td>7885931</td>\n",
       "      <td>8c28b45ff7fbb5d5df0b7670183689db</td>\n",
       "      <td>2f28106a4db2babcfde1c4095c805632</td>\n",
       "      <td>a3d2de7675556553a5f08e4c88d2c228</td>\n",
       "      <td>sneakers</td>\n",
       "      <td>desktop</td>\n",
       "      <td>2019-05-26 11:19:09</td>\n",
       "      <td>order</td>\n",
       "      <td>1</td>\n",
       "    </tr>\n",
       "    <tr>\n",
       "      <th>25969</th>\n",
       "      <td>8099155</td>\n",
       "      <td>c613db2f19c7285f101196062c178490</td>\n",
       "      <td>97473368941b89c4716c4f389e9b8bd7</td>\n",
       "      <td>a3d2de7675556553a5f08e4c88d2c228</td>\n",
       "      <td>sneakers</td>\n",
       "      <td>desktop</td>\n",
       "      <td>2019-05-11 09:04:46</td>\n",
       "      <td>order</td>\n",
       "      <td>1</td>\n",
       "    </tr>\n",
       "    <tr>\n",
       "      <th>25970</th>\n",
       "      <td>6690689</td>\n",
       "      <td>6f7f32ecf6790e4eb06384b479f43162</td>\n",
       "      <td>73f403b4843c70c41c0db294ee479582</td>\n",
       "      <td>13f395d7c86ef276f7ce52a557fd3491</td>\n",
       "      <td>accessories</td>\n",
       "      <td>desktop</td>\n",
       "      <td>2019-05-09 09:17:24</td>\n",
       "      <td>banner_show</td>\n",
       "      <td>0</td>\n",
       "    </tr>\n",
       "    <tr>\n",
       "      <th>25971</th>\n",
       "      <td>7650805</td>\n",
       "      <td>af3a19fcceb477d2992f1771af3a9b34</td>\n",
       "      <td>515cb969971fb5e08ae0316f58e3f434</td>\n",
       "      <td>ef38d906f15db1efde867c68f1336946</td>\n",
       "      <td>sneakers</td>\n",
       "      <td>desktop</td>\n",
       "      <td>2019-05-20 17:58:16</td>\n",
       "      <td>banner_show</td>\n",
       "      <td>0</td>\n",
       "    </tr>\n",
       "  </tbody>\n",
       "</table>\n",
       "</div>"
      ],
      "text/plain": [
       "       Unnamed: 0                          order_id  \\\n",
       "25967     5738290  ecfe9da2dbea255f05b2f526a4c663a7   \n",
       "25968     7885931  8c28b45ff7fbb5d5df0b7670183689db   \n",
       "25969     8099155  c613db2f19c7285f101196062c178490   \n",
       "25970     6690689  6f7f32ecf6790e4eb06384b479f43162   \n",
       "25971     7650805  af3a19fcceb477d2992f1771af3a9b34   \n",
       "\n",
       "                                user_id                           page_id  \\\n",
       "25967  cd7598ba5798ad6bd3f5a667ae4c217a  644ad50dd900d6735d8ceb15b71d50f8   \n",
       "25968  2f28106a4db2babcfde1c4095c805632  a3d2de7675556553a5f08e4c88d2c228   \n",
       "25969  97473368941b89c4716c4f389e9b8bd7  a3d2de7675556553a5f08e4c88d2c228   \n",
       "25970  73f403b4843c70c41c0db294ee479582  13f395d7c86ef276f7ce52a557fd3491   \n",
       "25971  515cb969971fb5e08ae0316f58e3f434  ef38d906f15db1efde867c68f1336946   \n",
       "\n",
       "           product site_version                 time        title  target  \n",
       "25967  accessories      desktop  2019-05-01 23:01:05  banner_show       0  \n",
       "25968     sneakers      desktop  2019-05-26 11:19:09        order       1  \n",
       "25969     sneakers      desktop  2019-05-11 09:04:46        order       1  \n",
       "25970  accessories      desktop  2019-05-09 09:17:24  banner_show       0  \n",
       "25971     sneakers      desktop  2019-05-20 17:58:16  banner_show       0  "
      ]
     },
     "execution_count": 14,
     "metadata": {},
     "output_type": "execute_result"
    }
   ],
   "source": [
    "df_AB.tail()"
   ]
  },
  {
   "cell_type": "code",
   "execution_count": 15,
   "metadata": {},
   "outputs": [
    {
     "data": {
      "text/plain": [
       "25972"
      ]
     },
     "execution_count": 15,
     "metadata": {},
     "output_type": "execute_result"
    }
   ],
   "source": [
    "len(df_AB)"
   ]
  },
  {
   "cell_type": "markdown",
   "metadata": {
    "heading_collapsed": true,
    "hidden": true
   },
   "source": [
    "### What Test Would Make Sense?"
   ]
  },
  {
   "cell_type": "markdown",
   "metadata": {
    "hidden": true
   },
   "source": [
    "Since we're comparing the frequency of conversions of customers who saw the \"sneakers\" banner against those who saw the \"accessories\" banner, we can use a $\\chi^2$ test.\n",
    "\n",
    "Note there are other hypothesis tests we can use but this should be fine since it should fit our criteria."
   ]
  },
  {
   "cell_type": "markdown",
   "metadata": {
    "heading_collapsed": true,
    "hidden": true
   },
   "source": [
    "### The Hypotheses"
   ]
  },
  {
   "cell_type": "markdown",
   "metadata": {
    "hidden": true
   },
   "source": [
    "$H_0$: Customers who saw the sneakers banner were no more or less likely to buy than customers who saw the accessories banner.\n",
    "\n",
    "$H_1$: Customers who saw the sneakers banner were more or less likely to buy than customers who saw the accessories banner."
   ]
  },
  {
   "cell_type": "markdown",
   "metadata": {
    "heading_collapsed": true,
    "hidden": true
   },
   "source": [
    "### Setting a Threshold"
   ]
  },
  {
   "cell_type": "markdown",
   "metadata": {
    "hidden": true
   },
   "source": [
    "We'll set a false-positive rate of $\\alpha = 0.05$."
   ]
  },
  {
   "cell_type": "markdown",
   "metadata": {
    "heading_collapsed": true,
    "hidden": true
   },
   "source": [
    "## $\\chi^2$ Test"
   ]
  },
  {
   "cell_type": "markdown",
   "metadata": {
    "heading_collapsed": true,
    "hidden": true
   },
   "source": [
    "### Setup the Data"
   ]
  },
  {
   "cell_type": "markdown",
   "metadata": {
    "hidden": true
   },
   "source": [
    "We need our contingency table: the numbers of people who did or did not submit orders, both for the accessories banner and the sneakers banner. "
   ]
  },
  {
   "cell_type": "code",
   "execution_count": 17,
   "metadata": {
    "hidden": true
   },
   "outputs": [],
   "source": [
    "df_A = df_AB[df_AB['product'] == 'accessories']\n",
    "\n",
    "\n",
    "df_B = df_AB[df_AB['product'] == 'sneakers']"
   ]
  },
  {
   "cell_type": "code",
   "execution_count": 18,
   "metadata": {},
   "outputs": [
    {
     "data": {
      "text/html": [
       "<div>\n",
       "<style scoped>\n",
       "    .dataframe tbody tr th:only-of-type {\n",
       "        vertical-align: middle;\n",
       "    }\n",
       "\n",
       "    .dataframe tbody tr th {\n",
       "        vertical-align: top;\n",
       "    }\n",
       "\n",
       "    .dataframe thead th {\n",
       "        text-align: right;\n",
       "    }\n",
       "</style>\n",
       "<table border=\"1\" class=\"dataframe\">\n",
       "  <thead>\n",
       "    <tr style=\"text-align: right;\">\n",
       "      <th></th>\n",
       "      <th>Unnamed: 0</th>\n",
       "      <th>order_id</th>\n",
       "      <th>user_id</th>\n",
       "      <th>page_id</th>\n",
       "      <th>product</th>\n",
       "      <th>site_version</th>\n",
       "      <th>time</th>\n",
       "      <th>title</th>\n",
       "      <th>target</th>\n",
       "    </tr>\n",
       "  </thead>\n",
       "  <tbody>\n",
       "    <tr>\n",
       "      <th>0</th>\n",
       "      <td>8064199</td>\n",
       "      <td>f909eb9bbf2795337dd38323b7951705</td>\n",
       "      <td>5a96585c3db94eb2ae40e559cbd2e164</td>\n",
       "      <td>94b6ea2316b773afa20925d9b79d5bf8</td>\n",
       "      <td>accessories</td>\n",
       "      <td>desktop</td>\n",
       "      <td>2019-05-19 09:26:29</td>\n",
       "      <td>banner_show</td>\n",
       "      <td>0</td>\n",
       "    </tr>\n",
       "    <tr>\n",
       "      <th>5</th>\n",
       "      <td>6465757</td>\n",
       "      <td>d737056421a6d45ac53f65b0db9b4deb</td>\n",
       "      <td>cbc6feb75b2a19b256952a2428120c95</td>\n",
       "      <td>6eb917afede2b54810d348b941115862</td>\n",
       "      <td>accessories</td>\n",
       "      <td>desktop</td>\n",
       "      <td>2019-05-15 14:58:07</td>\n",
       "      <td>banner_show</td>\n",
       "      <td>0</td>\n",
       "    </tr>\n",
       "    <tr>\n",
       "      <th>6</th>\n",
       "      <td>8197222</td>\n",
       "      <td>6cf466aa5b446b410199c62e4850fea5</td>\n",
       "      <td>9b3391ea31e499df16d2a6aea1fce63c</td>\n",
       "      <td>ab8f97ddc4408f657ba05f0f9bd99e58</td>\n",
       "      <td>accessories</td>\n",
       "      <td>desktop</td>\n",
       "      <td>2019-05-13 06:45:36</td>\n",
       "      <td>banner_show</td>\n",
       "      <td>0</td>\n",
       "    </tr>\n",
       "    <tr>\n",
       "      <th>7</th>\n",
       "      <td>8254764</td>\n",
       "      <td>93476f224f144c30f86ad5863ed59150</td>\n",
       "      <td>ada08956317e42121981ee1fc46e510b</td>\n",
       "      <td>900af58da0d6a3a7098c55095145f929</td>\n",
       "      <td>accessories</td>\n",
       "      <td>desktop</td>\n",
       "      <td>2019-05-29 15:30:24</td>\n",
       "      <td>banner_show</td>\n",
       "      <td>0</td>\n",
       "    </tr>\n",
       "    <tr>\n",
       "      <th>10</th>\n",
       "      <td>163631</td>\n",
       "      <td>07fa341b076f99613b029a3c923f60be</td>\n",
       "      <td>7795154c23b1ae9465fe1d6986ec9af9</td>\n",
       "      <td>a3d2de7675556553a5f08e4c88d2c228</td>\n",
       "      <td>accessories</td>\n",
       "      <td>desktop</td>\n",
       "      <td>2019-05-20 23:51:33</td>\n",
       "      <td>order</td>\n",
       "      <td>1</td>\n",
       "    </tr>\n",
       "  </tbody>\n",
       "</table>\n",
       "</div>"
      ],
      "text/plain": [
       "    Unnamed: 0                          order_id  \\\n",
       "0      8064199  f909eb9bbf2795337dd38323b7951705   \n",
       "5      6465757  d737056421a6d45ac53f65b0db9b4deb   \n",
       "6      8197222  6cf466aa5b446b410199c62e4850fea5   \n",
       "7      8254764  93476f224f144c30f86ad5863ed59150   \n",
       "10      163631  07fa341b076f99613b029a3c923f60be   \n",
       "\n",
       "                             user_id                           page_id  \\\n",
       "0   5a96585c3db94eb2ae40e559cbd2e164  94b6ea2316b773afa20925d9b79d5bf8   \n",
       "5   cbc6feb75b2a19b256952a2428120c95  6eb917afede2b54810d348b941115862   \n",
       "6   9b3391ea31e499df16d2a6aea1fce63c  ab8f97ddc4408f657ba05f0f9bd99e58   \n",
       "7   ada08956317e42121981ee1fc46e510b  900af58da0d6a3a7098c55095145f929   \n",
       "10  7795154c23b1ae9465fe1d6986ec9af9  a3d2de7675556553a5f08e4c88d2c228   \n",
       "\n",
       "        product site_version                 time        title  target  \n",
       "0   accessories      desktop  2019-05-19 09:26:29  banner_show       0  \n",
       "5   accessories      desktop  2019-05-15 14:58:07  banner_show       0  \n",
       "6   accessories      desktop  2019-05-13 06:45:36  banner_show       0  \n",
       "7   accessories      desktop  2019-05-29 15:30:24  banner_show       0  \n",
       "10  accessories      desktop  2019-05-20 23:51:33        order       1  "
      ]
     },
     "execution_count": 18,
     "metadata": {},
     "output_type": "execute_result"
    }
   ],
   "source": [
    "df_A.head()"
   ]
  },
  {
   "cell_type": "code",
   "execution_count": 19,
   "metadata": {
    "hidden": true
   },
   "outputs": [
    {
     "data": {
      "text/plain": [
       "(496, 799)"
      ]
     },
     "execution_count": 19,
     "metadata": {},
     "output_type": "execute_result"
    }
   ],
   "source": [
    "accessories_orders = sum(df_A['target'])\n",
    "sneakers_orders = sum(df_B['target'])\n",
    "\n",
    "accessories_orders, sneakers_orders"
   ]
  },
  {
   "cell_type": "markdown",
   "metadata": {
    "hidden": true
   },
   "source": [
    "To get the numbers of people who didn't submit orders, we get the total number of people who were shown banners and then subtract the numbers of people who did make orders."
   ]
  },
  {
   "cell_type": "code",
   "execution_count": 20,
   "metadata": {
    "hidden": true
   },
   "outputs": [
    {
     "data": {
      "text/plain": [
       "(12207, 12470)"
      ]
     },
     "execution_count": 20,
     "metadata": {},
     "output_type": "execute_result"
    }
   ],
   "source": [
    "accessories_total = len(df_A) #the number of people who were shown accessories banners\n",
    "sneakers_total = len(df_B) #the number of people who were shown sneakers banners\n",
    "\n",
    "#the number of people who were shown accessories banners but did not place an order\n",
    "accessories_no_orders = accessories_total - accessories_orders \n",
    "#the number of people who were shown sneakers banners, but did not place an order\n",
    "sneakers_no_orders = sneakers_total - sneakers_orders\n",
    "\n",
    "accessories_no_orders, sneakers_no_orders"
   ]
  },
  {
   "cell_type": "code",
   "execution_count": 21,
   "metadata": {
    "hidden": true
   },
   "outputs": [
    {
     "data": {
      "text/plain": [
       "array([[  496, 12207],\n",
       "       [  799, 12470]])"
      ]
     },
     "execution_count": 21,
     "metadata": {},
     "output_type": "execute_result"
    }
   ],
   "source": [
    "contingency_table = np.array([\n",
    "    (accessories_orders, accessories_no_orders), \n",
    "    (sneakers_orders, sneakers_no_orders)\n",
    "])\n",
    "\n",
    "contingency_table"
   ]
  },
  {
   "cell_type": "markdown",
   "metadata": {
    "heading_collapsed": true,
    "hidden": true
   },
   "source": [
    "### Calculation\n"
   ]
  },
  {
   "cell_type": "code",
   "execution_count": 24,
   "metadata": {
    "hidden": true,
    "scrolled": true
   },
   "outputs": [
    {
     "data": {
      "text/plain": [
       "5.86498985882812e-15"
      ]
     },
     "execution_count": 24,
     "metadata": {},
     "output_type": "execute_result"
    }
   ],
   "source": [
    "chi2stat, p_value, df, expected_table = stats.chi2_contingency(contingency_table)\n",
    "p_value"
   ]
  },
  {
   "cell_type": "code",
   "execution_count": 25,
   "metadata": {},
   "outputs": [
    {
     "name": "stdout",
     "output_type": "stream",
     "text": [
      "0.039045894670550266 0.06021553998040546\n"
     ]
    }
   ],
   "source": [
    "accessories_conversion_rate = 496 / (496 + 12207)\n",
    "sneakers_conversion_rate = 799 / (799 + 12470)\n",
    "print(accessories_conversion_rate, sneakers_conversion_rate)"
   ]
  },
  {
   "cell_type": "markdown",
   "metadata": {
    "hidden": true
   },
   "source": [
    "This extremely low $p$-value suggests that these two groups are genuinely performing differently. In particular, the desktop customers who saw the sneakers banner in May 2019 bought at a higher rate than the desktop customers who saw the accessories banner in May 2019."
   ]
  },
  {
   "cell_type": "markdown",
   "metadata": {
    "heading_collapsed": true,
    "hidden": true
   },
   "source": [
    "## Interpretation"
   ]
  },
  {
   "cell_type": "code",
   "execution_count": 26,
   "metadata": {
    "hidden": true
   },
   "outputs": [
    {
     "data": {
      "text/plain": [
       "array([[  496, 12207],\n",
       "       [  799, 12470]])"
      ]
     },
     "execution_count": 26,
     "metadata": {},
     "output_type": "execute_result"
    }
   ],
   "source": [
    "contingency_table"
   ]
  },
  {
   "cell_type": "code",
   "execution_count": 27,
   "metadata": {
    "hidden": true
   },
   "outputs": [],
   "source": [
    "# Find the difference in conversion rate\n",
    "accessory_CR, sneaker_CR = contingency_table[:, 0] / contingency_table.sum(axis=1)"
   ]
  },
  {
   "cell_type": "code",
   "execution_count": 28,
   "metadata": {
    "hidden": true
   },
   "outputs": [
    {
     "name": "stdout",
     "output_type": "stream",
     "text": [
      "Conversion Rate for accessory banner:\n",
      "\t3.905%\n",
      "Conversion Rate for sneaker banner:\n",
      "\t6.022%\n",
      "\n",
      "Absolute difference of CR: 2.117%\n"
     ]
    }
   ],
   "source": [
    "print(f'Conversion Rate for accessory banner:\\n\\t{100*accessory_CR:.3f}%')\n",
    "print(f'Conversion Rate for sneaker banner:\\n\\t{100*sneaker_CR:.3f}%')\n",
    "print('')\n",
    "print(f'Absolute difference of CR: {100*(sneaker_CR-accessory_CR):.3f}%')"
   ]
  },
  {
   "cell_type": "markdown",
   "metadata": {
    "hidden": true
   },
   "source": [
    "So we can say:\n",
    "- There was a statistically significant difference at the $\\alpha$-level (confidence level)\n",
    "- The difference was about $2.1\\%$ in favor of the sneaker banner!"
   ]
  },
  {
   "cell_type": "markdown",
   "metadata": {
    "heading_collapsed": true
   },
   "source": [
    "# Exercise"
   ]
  },
  {
   "cell_type": "markdown",
   "metadata": {
    "hidden": true
   },
   "source": [
    "> The company is impressed with what you found and is now wondering if there is a difference in their other banner ads!\n",
    "\n",
    "With your group, look at the same month (May 2019) but compare different platforms ('mobile' vs 'desktop') and or different banner types ('accessories', 'sneakers', 'clothes', 'sports_nutrition'). Just don't repeat the same test we did above 😉"
   ]
  },
  {
   "cell_type": "markdown",
   "metadata": {
    "hidden": true
   },
   "source": [
    "Make sure you record what considerations you have for the experiment, what hypothesis test you performed ($H_0$ and $H_1$ too), and your overall conclusion/interpretation for the _business stakeholders_. Is there a follow-up you'd suggest? "
   ]
  }
 ],
 "metadata": {
  "kernelspec": {
   "display_name": "Python 3",
   "language": "python",
   "name": "python3"
  },
  "language_info": {
   "codemirror_mode": {
    "name": "ipython",
    "version": 3
   },
   "file_extension": ".py",
   "mimetype": "text/x-python",
   "name": "python",
   "nbconvert_exporter": "python",
   "pygments_lexer": "ipython3",
   "version": "3.8.5"
  },
  "toc": {
   "base_numbering": 1,
   "nav_menu": {},
   "number_sections": true,
   "sideBar": true,
   "skip_h1_title": false,
   "title_cell": "Table of Contents",
   "title_sidebar": "TOC",
   "toc_cell": true,
   "toc_position": {
    "height": "calc(100% - 180px)",
    "left": "10px",
    "top": "150px",
    "width": "288px"
   },
   "toc_section_display": true,
   "toc_window_display": true
  }
 },
 "nbformat": 4,
 "nbformat_minor": 4
}
